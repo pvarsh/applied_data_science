{
 "metadata": {
  "name": "",
  "signature": "sha256:cab2cbae08758925d675820ed62c7a4178c54ffb7df807c0335c88013a12ed34"
 },
 "nbformat": 3,
 "nbformat_minor": 0,
 "worksheets": [
  {
   "cells": [
    {
     "cell_type": "heading",
     "level": 1,
     "metadata": {},
     "source": [
      "Audio analytics in Python final project part one"
     ]
    },
    {
     "cell_type": "markdown",
     "metadata": {},
     "source": [
      "**Due date is December 19th at 10am**"
     ]
    },
    {
     "cell_type": "markdown",
     "metadata": {},
     "source": [
      "**Each person submits their own code and accompanying audio files**"
     ]
    },
    {
     "cell_type": "markdown",
     "metadata": {},
     "source": [
      "1.\tCreate 3 sine waves with a sample rate of 8000 Hz, 2 seconds each in length with frequencies and amplitudes:\n",
      "    * 110Hz at 100% amplitude\n",
      "    * 220Hz at 75% amplitude\n",
      "    * 440Hz at 50% amplitude\n",
      "<br><br>\n",
      "2.\tCreate a white noise signal with a sample rate of 8000 Hz, 2 seconds long, with an amplitude of 500%\n",
      "<br><br>\n",
      "3.\tPlot all 4 signals in the same window as subplots with these criteria: \n",
      "    * Time in milliseconds on the x-axis\n",
      "    * Only plot the first 500 samples\n",
      "    * Amplitude on the y-axis with fixed limits of -1.1 and +1.1\n",
      "    * Dashed grid lines\n",
      "    * Axis labels and titles\n",
      "<br><br>\n",
      "4.\tTake the Fourier transform of each signal and plot their magnitude spectrum in the same window as subplots with these criteria:\n",
      "    * Logarithmic scale on the x-axis\n",
      "    * Magnitude on the y-axis\n",
      "    * Correct frequency labels on the x-axis\n",
      "    * Axis labels and title\n",
      "    * Dashed grid lines\n",
      "<br><br>\n",
      "5.\tCombine all 4 signals into a single signal of the same length with max amplitude of 100%\n",
      "<br><br>\n",
      "6.\tPlot this new signal in its own window with the same criteria as in part 3\n",
      "<br><br>\n",
      "7.\tTake the Fourier transform of this new signal and plot its magnitude spectrum in its own window with the same criteria as in part 4\n",
      "<br><br>\n",
      "8.\tCreate an algorithm that detects the combined signals spectral peaks and returns their frequencies in Hz (I will be arbitrarily varying the amplitude and frequency parameters of your previously created signals to test this)\n",
      "<br><br>\n",
      "9.\tSave these 5 signals as 16 bit wave files named:\n",
      "    * 110.wav\n",
      "    * 220.wav\n",
      "    * 440.wav\n",
      "    * noise.wav\n",
      "    * comb.wav\n"
     ]
    },
    {
     "cell_type": "code",
     "collapsed": false,
     "input": [],
     "language": "python",
     "metadata": {},
     "outputs": []
    }
   ],
   "metadata": {}
  }
 ]
}