{
 "metadata": {
  "name": "",
  "signature": "sha256:74df8eb8f1132bef26291b6cb5271cf9b88f1201f9b4d0622298e41e546db30c"
 },
 "nbformat": 3,
 "nbformat_minor": 0,
 "worksheets": [
  {
   "cells": [
    {
     "cell_type": "code",
     "collapsed": false,
     "input": [
      "%matplotlib inline\n",
      "\n",
      "import numpy as np\n",
      "from scipy.io import wavfile\n",
      "import scipy.stats as sps\n",
      "import matplotlib.pyplot as plt\n",
      "import mpld3\n",
      "import matplotlib.pylab as pylab\n"
     ],
     "language": "python",
     "metadata": {},
     "outputs": [],
     "prompt_number": 1
    },
    {
     "cell_type": "code",
     "collapsed": false,
     "input": [
      "mpld3.enable_notebook()\n",
      "pylab.rcParams['figure.figsize'] = 12, 8"
     ],
     "language": "python",
     "metadata": {},
     "outputs": [],
     "prompt_number": 2
    },
    {
     "cell_type": "code",
     "collapsed": false,
     "input": [
      "fs, samples = wavfile.read('audio/1k.wav')"
     ],
     "language": "python",
     "metadata": {},
     "outputs": [
      {
       "output_type": "stream",
       "stream": "stderr",
       "text": [
        "/Users/petervarshavsky/Library/Enthought/Canopy_64bit/User/lib/python2.7/site-packages/scipy/io/wavfile.py:42: WavFileWarning: Unknown wave file format\n",
        "  warnings.warn(\"Unknown wave file format\", WavFileWarning)\n"
       ]
      }
     ],
     "prompt_number": 3
    },
    {
     "cell_type": "code",
     "collapsed": false,
     "input": [
      "print 'sample rate: ', fs, 'Hz'\n",
      "print 'Length in samples: ', len(samples)\n",
      "print 'Length in seconds: ', '%.3f' %(float(len(samples)) / fs)"
     ],
     "language": "python",
     "metadata": {},
     "outputs": [
      {
       "output_type": "stream",
       "stream": "stdout",
       "text": [
        "sample rate:  44100 Hz\n",
        "Length in samples:  132300\n",
        "Length in seconds:  3.000\n"
       ]
      }
     ],
     "prompt_number": 4
    },
    {
     "cell_type": "code",
     "collapsed": false,
     "input": [],
     "language": "python",
     "metadata": {},
     "outputs": []
    }
   ],
   "metadata": {}
  }
 ]
}