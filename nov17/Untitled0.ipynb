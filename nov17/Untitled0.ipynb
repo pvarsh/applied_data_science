{
 "metadata": {
  "name": "",
  "signature": "sha256:cae7a190fec2fe57be65c225e2c2056171caf089316326b26d0efcc378acfbba"
 },
 "nbformat": 3,
 "nbformat_minor": 0,
 "worksheets": [
  {
   "cells": [
    {
     "cell_type": "code",
     "collapsed": false,
     "input": [
      "import numpy as np\n",
      "from matplotlib import pyplot as plt\n",
      "import os.path\n",
      "import scipy.ndimage as nd"
     ],
     "language": "python",
     "metadata": {},
     "outputs": [],
     "prompt_number": 1
    },
    {
     "cell_type": "code",
     "collapsed": false,
     "input": [
      "dpath = 'images'\n",
      "fname = 'ml.jpg'\n",
      "infile = os.path.join(dpath, fname)\n",
      "img_ml = nd.imread(infile)\n",
      "\n",
      "nrow, ncol = img_ml.shape[:2]\n",
      "rind = np.arange(nrow*ncol).reshape(nrow, ncol) / ncol\n",
      "cind = np.arange(nrow*ncol).reshape(nrow, ncol) % ncol\n"
     ],
     "language": "python",
     "metadata": {},
     "outputs": [],
     "prompt_number": 2
    },
    {
     "cell_type": "code",
     "collapsed": false,
     "input": [
      "mask = np.dstack([(cind > 100).astype(np.uint8) for i in range(3)])"
     ],
     "language": "python",
     "metadata": {},
     "outputs": [],
     "prompt_number": 9
    },
    {
     "cell_type": "code",
     "collapsed": false,
     "input": [
      "mask.shape"
     ],
     "language": "python",
     "metadata": {},
     "outputs": [
      {
       "metadata": {},
       "output_type": "pyout",
       "prompt_number": 10,
       "text": [
        "(954, 640, 3)"
       ]
      }
     ],
     "prompt_number": 10
    },
    {
     "cell_type": "code",
     "collapsed": false,
     "input": [
      "ysize = 10.\n",
      "xsize = ysize * float(img_ml.shape[1]) / float(img_ml.shape[0])\n",
      "    \n",
      "fig9, ax9 = plt.subplots(num = 9, figsize = [xsize, ysize])\n",
      "fig9.subplots_adjust(0,0,1,1)\n",
      "ax9.axis('off')\n",
      "im9 = ax9.imshow(img_ml*mask)\n",
      "fig9.canvas.draw()\n",
      "fig9.show()"
     ],
     "language": "python",
     "metadata": {},
     "outputs": [],
     "prompt_number": 11
    },
    {
     "cell_type": "code",
     "collapsed": false,
     "input": [
      "mask = np.zeros(img_ml.shape, dtype = np.uint8)\n"
     ],
     "language": "python",
     "metadata": {},
     "outputs": [],
     "prompt_number": 12
    },
    {
     "cell_type": "code",
     "collapsed": false,
     "input": [
      "xpos, ypos = fig9.ginput()[0]\n",
      "print xpos, ypos"
     ],
     "language": "python",
     "metadata": {},
     "outputs": [
      {
       "output_type": "stream",
       "stream": "stdout",
       "text": [
        "294.425373134 236.5\n"
       ]
      }
     ],
     "prompt_number": 13
    },
    {
     "cell_type": "code",
     "collapsed": false,
     "input": [
      "dist = "
     ],
     "language": "python",
     "metadata": {},
     "outputs": []
    }
   ],
   "metadata": {}
  }
 ]
}