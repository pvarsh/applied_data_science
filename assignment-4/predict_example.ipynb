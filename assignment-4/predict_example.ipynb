{
 "metadata": {
  "name": "",
  "signature": "sha256:a580b1d009d20be53266cddae05b034cdedb2c2b72365f02b470e646cf385c2b"
 },
 "nbformat": 3,
 "nbformat_minor": 0,
 "worksheets": [
  {
   "cells": [
    {
     "cell_type": "code",
     "collapsed": false,
     "input": [
      "# Example from http://statsmodels.sourceforge.net/devel/examples/notebooks/generated/predict.html\n",
      "\n",
      "import numpy as np\n",
      "import statsmodels.api as sm"
     ],
     "language": "python",
     "metadata": {},
     "outputs": [],
     "prompt_number": 14
    },
    {
     "cell_type": "code",
     "collapsed": false,
     "input": [
      "nsample = 50\n",
      "sig = .25\n",
      "x1 = np.linspace(0, 20, nsample)\n",
      "X = np.column_stack((x1, np.sin(x1), (x1-5)**2))\n",
      "X = sm.add_constant(X)\n",
      "beta = [5, 0.5, 0.5, -0.02]\n",
      "y_true = np.dot(X, beta)\n",
      "y = y_true + sig*np.random.normal(size = nsample)\n",
      "\n",
      "olsmod = sm.OLS(y, X)\n",
      "olsres = olsmod.fit()\n",
      "print olsres.summary()"
     ],
     "language": "python",
     "metadata": {},
     "outputs": [
      {
       "output_type": "stream",
       "stream": "stdout",
       "text": [
        "                            OLS Regression Results                            \n",
        "==============================================================================\n",
        "Dep. Variable:                      y   R-squared:                       0.988\n",
        "Model:                            OLS   Adj. R-squared:                  0.987\n",
        "Method:                 Least Squares   F-statistic:                     1239.\n",
        "Date:                Sat, 25 Oct 2014   Prob (F-statistic):           5.53e-44\n",
        "Time:                        16:28:21   Log-Likelihood:                 7.0441\n",
        "No. Observations:                  50   AIC:                            -6.088\n",
        "Df Residuals:                      46   BIC:                             1.560\n",
        "Df Model:                           3                                         \n",
        "==============================================================================\n",
        "                 coef    std err          t      P>|t|      [95.0% Conf. Int.]\n",
        "------------------------------------------------------------------------------\n",
        "const          4.8455      0.075     64.879      0.000         4.695     4.996\n",
        "x1             0.5187      0.012     45.032      0.000         0.496     0.542\n",
        "x2             0.5688      0.045     12.561      0.000         0.478     0.660\n",
        "x3            -0.0213      0.001    -21.047      0.000        -0.023    -0.019\n",
        "==============================================================================\n",
        "Omnibus:                        0.148   Durbin-Watson:                   2.569\n",
        "Prob(Omnibus):                  0.929   Jarque-Bera (JB):                0.348\n",
        "Skew:                           0.059   Prob(JB):                        0.840\n",
        "Kurtosis:                       2.608   Cond. No.                         221.\n",
        "==============================================================================\n"
       ]
      }
     ],
     "prompt_number": 16
    },
    {
     "cell_type": "code",
     "collapsed": false,
     "input": [
      "ypred = olsres.predict(X)\n",
      "print ypred"
     ],
     "language": "python",
     "metadata": {},
     "outputs": [
      {
       "output_type": "stream",
       "stream": "stdout",
       "text": [
        "[  4.31338119   4.8341833    5.31080235   5.71224138   6.01869008\n",
        "   6.22477955   6.34046441   6.38938727   6.40499432   6.42504022\n",
        "   6.48538511   6.61410292   6.82686885   7.12438401   7.49226023\n",
        "   7.903384     8.32237113   8.71138027   9.03633015   9.27249902\n",
        "   9.4085864    9.44856966   9.4110506    9.32619919   9.23079676\n",
        "   9.16219292   9.15216911   9.22171701   9.37758968   9.61119204\n",
        "   9.89999301  10.2112273   10.50727869  10.75186021  10.91597606\n",
        "  10.98268545  10.949886    10.83065912  10.65112078  10.44613072\n",
        "  10.2535651   10.10809356  10.03548309  10.04836459  10.14415763\n",
        "  10.30549445  10.50307338  10.70047307  10.86013638  10.94954094]\n"
       ]
      }
     ],
     "prompt_number": 19
    },
    {
     "cell_type": "code",
     "collapsed": false,
     "input": [],
     "language": "python",
     "metadata": {},
     "outputs": []
    }
   ],
   "metadata": {}
  }
 ]
}