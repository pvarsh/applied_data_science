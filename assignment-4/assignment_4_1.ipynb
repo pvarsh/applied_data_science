{
 "metadata": {
  "name": "",
  "signature": "sha256:ccc5b6f1f3a3bdde2e5ba7fbcb5a86a2a90f139cfb74e38e09a71c85f1b0e963"
 },
 "nbformat": 3,
 "nbformat_minor": 0,
 "worksheets": [
  {
   "cells": [
    {
     "cell_type": "code",
     "collapsed": false,
     "input": [
      "### Assignment 4 Problem 1\n",
      "### Peter Varshavsky\n",
      "\n",
      "import numpy as np\n",
      "import scipy as sp\n",
      "from matplotlib import pyplot as plt\n",
      "\n",
      "np.set_printoptions(precision=5, suppress = True)"
     ],
     "language": "python",
     "metadata": {},
     "outputs": [],
     "prompt_number": 3
    },
    {
     "cell_type": "heading",
     "level": 6,
     "metadata": {},
     "source": [
      "Problem 1.a."
     ]
    },
    {
     "cell_type": "code",
     "collapsed": false,
     "input": [
      "maze = [[.5, .5, 0], [.25, .5, .25], [0, .5, .5]]\n",
      "maze = np.array(maze)\n",
      "\n",
      "print \"Transition probability matrix:\"\n",
      "print maze\n",
      "for power in [2, 5, 10, 25]:\n",
      "    print \"Transition probabilities after %d steps\" %power\n",
      "    print np.linalg.matrix_power(maze, power)"
     ],
     "language": "python",
     "metadata": {},
     "outputs": [
      {
       "output_type": "stream",
       "stream": "stdout",
       "text": [
        "Transition probability matrix:\n",
        "[[ 0.5   0.5   0.  ]\n",
        " [ 0.25  0.5   0.25]\n",
        " [ 0.    0.5   0.5 ]]\n",
        "Transition probabilities after 2 steps\n",
        "[[ 0.375  0.5    0.125]\n",
        " [ 0.25   0.5    0.25 ]\n",
        " [ 0.125  0.5    0.375]]\n",
        "Transition probabilities after 5 steps\n",
        "[[ 0.26562  0.5      0.23438]\n",
        " [ 0.25     0.5      0.25   ]\n",
        " [ 0.23438  0.5      0.26562]]\n",
        "Transition probabilities after 10 steps\n",
        "[[ 0.25049  0.5      0.24951]\n",
        " [ 0.25     0.5      0.25   ]\n",
        " [ 0.24951  0.5      0.25049]]\n",
        "Transition probabilities after 25 steps\n",
        "[[ 0.25  0.5   0.25]\n",
        " [ 0.25  0.5   0.25]\n",
        " [ 0.25  0.5   0.25]]\n"
       ]
      }
     ],
     "prompt_number": 4
    },
    {
     "cell_type": "heading",
     "level": 6,
     "metadata": {},
     "source": [
      "Problem 1.b."
     ]
    },
    {
     "cell_type": "code",
     "collapsed": false,
     "input": [
      "maze = [[1, 0, 0], [.25, .5, .25], [0, 0, 1]]\n",
      "maze = np.array(maze)\n",
      "\n",
      "print \"Transition probability matrix with absorbing states:\"\n",
      "print maze\n",
      "for power in [2, 5, 10, 25]:\n",
      "    print \"Transition probabilities after %d steps\" %power\n",
      "    print np.linalg.matrix_power(maze, power)"
     ],
     "language": "python",
     "metadata": {},
     "outputs": [
      {
       "output_type": "stream",
       "stream": "stdout",
       "text": [
        "Transition probability matrix with absorbing states:\n",
        "[[ 1.    0.    0.  ]\n",
        " [ 0.25  0.5   0.25]\n",
        " [ 0.    0.    1.  ]]\n",
        "Transition probabilities after 2 steps\n",
        "[[ 1.     0.     0.   ]\n",
        " [ 0.375  0.25   0.375]\n",
        " [ 0.     0.     1.   ]]\n",
        "Transition probabilities after 5 steps\n",
        "[[ 1.       0.       0.     ]\n",
        " [ 0.48438  0.03125  0.48438]\n",
        " [ 0.       0.       1.     ]]\n",
        "Transition probabilities after 10 steps\n",
        "[[ 1.       0.       0.     ]\n",
        " [ 0.49951  0.00098  0.49951]\n",
        " [ 0.       0.       1.     ]]\n",
        "Transition probabilities after 25 steps\n",
        "[[ 1.   0.   0. ]\n",
        " [ 0.5  0.   0.5]\n",
        " [ 0.   0.   1. ]]\n"
       ]
      }
     ],
     "prompt_number": 5
    },
    {
     "cell_type": "heading",
     "level": 6,
     "metadata": {},
     "source": [
      "Problem 1.c."
     ]
    },
    {
     "cell_type": "code",
     "collapsed": false,
     "input": [
      "maze = [[  1,   0,   0,   0,   0],\n",
      "        [.25,  .5, .25,   0,   0],\n",
      "        [  0, .25,  .5, .25,   0],\n",
      "        [  0,   0, .25,  .5, .25],\n",
      "        [  0,   0,   0,  .5,  .5]]\n",
      "maze = np.array(maze)\n",
      "\n",
      "print \"Transition probability matrix:\"\n",
      "print maze\n",
      "\n",
      "for power in [84, 125]:\n",
      "    print \"Transition probabilities after %d iterations:\" %power\n",
      "    print np.linalg.matrix_power(maze, power)\n"
     ],
     "language": "python",
     "metadata": {},
     "outputs": [
      {
       "output_type": "stream",
       "stream": "stdout",
       "text": [
        "Transition probability matrix:\n",
        "[[ 1.    0.    0.    0.    0.  ]\n",
        " [ 0.25  0.5   0.25  0.    0.  ]\n",
        " [ 0.    0.25  0.5   0.25  0.  ]\n",
        " [ 0.    0.    0.25  0.5   0.25]\n",
        " [ 0.    0.    0.    0.5   0.5 ]]\n",
        "Transition probabilities after 84 iterations:\n",
        "[[ 1.       0.       0.       0.       0.     ]\n",
        " [ 0.98153  0.00281  0.0052   0.00679  0.00367]\n",
        " [ 0.96587  0.0052   0.0096   0.01255  0.00679]\n",
        " [ 0.9554   0.00679  0.01255  0.01639  0.00887]\n",
        " [ 0.95173  0.00735  0.01358  0.01774  0.0096 ]]\n",
        "Transition probabilities after 125 iterations:\n",
        "[[ 1.       0.       0.       0.       0.     ]\n",
        " [ 0.99624  0.00057  0.00106  0.00138  0.00075]\n",
        " [ 0.99305  0.00106  0.00196  0.00256  0.00138]\n",
        " [ 0.99091  0.00138  0.00256  0.00334  0.00181]\n",
        " [ 0.99017  0.0015   0.00277  0.00361  0.00196]]\n"
       ]
      }
     ],
     "prompt_number": 16
    },
    {
     "cell_type": "code",
     "collapsed": false,
     "input": [],
     "language": "python",
     "metadata": {},
     "outputs": []
    }
   ],
   "metadata": {}
  }
 ]
}