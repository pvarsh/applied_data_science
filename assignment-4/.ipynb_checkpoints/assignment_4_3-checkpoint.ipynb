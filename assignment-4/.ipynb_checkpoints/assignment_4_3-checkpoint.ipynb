{
 "metadata": {
  "name": "",
  "signature": "sha256:81e87060326f55d04ff9fe5ad6ad2065baa2e09315974cdf47860cf5ba941767"
 },
 "nbformat": 3,
 "nbformat_minor": 0,
 "worksheets": [
  {
   "cells": [
    {
     "cell_type": "code",
     "collapsed": false,
     "input": [
      "### imports\n",
      "import random\n",
      "import numpy as np\n",
      "import scipy as sp\n",
      "import pandas as pd\n",
      "import statsmodels.api as sm\n",
      "import patsy\n",
      "\n",
      "from matplotlib import pyplot as plt\n",
      "\n",
      "### settings\n",
      "%matplotlib inline\n",
      "np.set_printoptions(precision=5, suppress = True)"
     ],
     "language": "python",
     "metadata": {},
     "outputs": [],
     "prompt_number": 1
    },
    {
     "cell_type": "code",
     "collapsed": false,
     "input": [],
     "language": "python",
     "metadata": {},
     "outputs": []
    }
   ],
   "metadata": {}
  }
 ]
}