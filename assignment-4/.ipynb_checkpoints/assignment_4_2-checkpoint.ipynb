{
 "metadata": {
  "name": "",
  "signature": "sha256:e7953126ff8d790691d94c7eaf8e7956ee4c2449206034c5e554b84e591daf1d"
 },
 "nbformat": 3,
 "nbformat_minor": 0,
 "worksheets": [
  {
   "cells": [
    {
     "cell_type": "code",
     "collapsed": false,
     "input": [
      "import numpy as np\n",
      "import scipy as sp\n",
      "import pandas as pd\n",
      "\n",
      "from matplotlib import pyplot as plt\n",
      "\n",
      "np.set_printoptions(precision=5, suppress = True)"
     ],
     "language": "python",
     "metadata": {},
     "outputs": [],
     "prompt_number": 3
    },
    {
     "cell_type": "code",
     "collapsed": false,
     "input": [
      "path = \"data/\"\n",
      "data_file = \"union_pred.dta\"\n",
      "df = pd.read_stata(path + data_file)"
     ],
     "language": "python",
     "metadata": {},
     "outputs": [],
     "prompt_number": 5
    },
    {
     "cell_type": "code",
     "collapsed": false,
     "input": [
      "tdf = pd.DataFrame([[1,1],[2,2]])\n",
      "print tdf\n",
      "print tdf.sum(axis = 1)"
     ],
     "language": "python",
     "metadata": {},
     "outputs": [
      {
       "output_type": "stream",
       "stream": "stdout",
       "text": [
        "   0  1\n",
        "0  1  1\n",
        "1  2  2\n",
        "0    2\n",
        "1    4\n",
        "dtype: int64\n"
       ]
      }
     ],
     "prompt_number": 29
    },
    {
     "cell_type": "code",
     "collapsed": false,
     "input": [
      "### Cross tabulation\n",
      "union_tbl = pd.crosstab(df.prior_union, df.union)\n",
      "union_sum = union_tbl.sum(axis = 1)\n",
      "\n",
      "union_mm = union_tbl.div(union_sum, axis = 0) # mm stands for Markov matrix\n",
      "print union_mm"
     ],
     "language": "python",
     "metadata": {},
     "outputs": [
      {
       "output_type": "stream",
       "stream": "stdout",
       "text": [
        "union            0     1\n",
        "prior_union             \n",
        "0            14758  2086\n",
        "1             2110  2812\n",
        "prior_union\n",
        "0              16844\n",
        "1               4922\n",
        "dtype: int64\n",
        "prior_union\n",
        "0              16844\n",
        "1               4922\n",
        "dtype: int64\n",
        "<class 'pandas.core.series.Series'>\n",
        "union               0         1\n",
        "prior_union                    \n",
        "0            0.876158  0.123842\n",
        "1            0.428688  0.571312\n"
       ]
      }
     ],
     "prompt_number": 39
    },
    {
     "cell_type": "code",
     "collapsed": false,
     "input": [],
     "language": "python",
     "metadata": {},
     "outputs": []
    }
   ],
   "metadata": {}
  }
 ]
}