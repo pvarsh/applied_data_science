{
 "metadata": {
  "name": "",
  "signature": "sha256:d42a73e208350733b2c1a6be2ffbf89511c144d6ebb365340248ac8c48586fde"
 },
 "nbformat": 3,
 "nbformat_minor": 0,
 "worksheets": [
  {
   "cells": [
    {
     "cell_type": "code",
     "collapsed": false,
     "input": [
      "### imports\n",
      "import random\n",
      "import numpy as np\n",
      "import scipy as sp\n",
      "import pandas as pd\n",
      "import statsmodels.api as sm\n",
      "import patsy\n",
      "\n",
      "from matplotlib import pyplot as plt\n",
      "\n",
      "### settings\n",
      "%matplotlib inline\n",
      "np.set_printoptions(precision=5, suppress = True)"
     ],
     "language": "python",
     "metadata": {},
     "outputs": [],
     "prompt_number": 127
    },
    {
     "cell_type": "code",
     "collapsed": false,
     "input": [
      "path = \"data/\"\n",
      "data_file = \"union_pred.dta\"\n",
      "df = pd.read_stata(path + data_file)\n",
      "df.drop('idcode', axis = 1, inplace = True)\n",
      "df.columns"
     ],
     "language": "python",
     "metadata": {},
     "outputs": [
      {
       "metadata": {},
       "output_type": "pyout",
       "prompt_number": 98,
       "text": [
        "Index([u'year', u'age', u'grade', u'south', u'union', u'black', u'smsa', u'prior_union'], dtype='object')"
       ]
      }
     ],
     "prompt_number": 98
    },
    {
     "cell_type": "heading",
     "level": 6,
     "metadata": {},
     "source": [
      "Problem 2.a."
     ]
    },
    {
     "cell_type": "code",
     "collapsed": false,
     "input": [
      "### Cross tabulation\n",
      "union_tbl = pd.crosstab(df.prior_union, df.union)\n",
      "union_sum = union_tbl.sum(axis = 1) # computing row sums\n",
      "union_mm = union_tbl.div(union_sum, axis = 0) # mm stands for Markov matrix\n",
      "print \"Transition probability matrix:\"\n",
      "print union_mm\n"
     ],
     "language": "python",
     "metadata": {},
     "outputs": [
      {
       "output_type": "stream",
       "stream": "stdout",
       "text": [
        "Transition probability matrix:\n",
        "union               0         1\n",
        "prior_union                    \n",
        "0            0.876158  0.123842\n",
        "1            0.428688  0.571312\n"
       ]
      }
     ],
     "prompt_number": 99
    },
    {
     "cell_type": "code",
     "collapsed": false,
     "input": [
      "print df.columns\n",
      "y, X = patsy.dmatrices('union ~ prior_union + year + age + grade + south + black + smsa', data = df, return_type='dataframe')\n",
      "result = sm.Logit(y, X).fit()\n",
      "print result.summary()"
     ],
     "language": "python",
     "metadata": {},
     "outputs": [
      {
       "output_type": "stream",
       "stream": "stdout",
       "text": [
        "Index([u'year', u'age', u'grade', u'south', u'union', u'black', u'smsa', u'prior_union'], dtype='object')\n",
        "Optimization terminated successfully."
       ]
      },
      {
       "output_type": "stream",
       "stream": "stdout",
       "text": [
        "\n",
        "         Current function value: 0.434740\n",
        "         Iterations 6\n",
        "                           Logit Regression Results                           \n",
        "==============================================================================\n",
        "Dep. Variable:                  union   No. Observations:                21766\n",
        "Model:                          Logit   Df Residuals:                    21758\n",
        "Method:                           MLE   Df Model:                            7\n",
        "Date:                Sat, 25 Oct 2014   Pseudo R-squ.:                  0.1847\n",
        "Time:                        15:46:57   Log-Likelihood:                -9462.5\n",
        "converged:                       True   LL-Null:                       -11606.\n",
        "                                        LLR p-value:                     0.000\n",
        "===============================================================================\n",
        "                  coef    std err          z      P>|z|      [95.0% Conf. Int.]\n",
        "-------------------------------------------------------------------------------\n",
        "Intercept      -2.2960      0.385     -5.959      0.000        -3.051    -1.541\n",
        "prior_union     2.1210      0.038     56.117      0.000         2.047     2.195\n",
        "year           -0.0114      0.007     -1.700      0.089        -0.024     0.002\n",
        "age             0.0237      0.006      3.846      0.000         0.012     0.036\n",
        "grade           0.0464      0.008      5.911      0.000         0.031     0.062\n",
        "south          -0.6630      0.042    -15.734      0.000        -0.746    -0.580\n",
        "black           0.5797      0.043     13.404      0.000         0.495     0.664\n",
        "smsa            0.0476      0.043      1.099      0.272        -0.037     0.132\n",
        "==============================================================================="
       ]
      },
      {
       "output_type": "stream",
       "stream": "stdout",
       "text": [
        "\n"
       ]
      }
     ],
     "prompt_number": 102
    },
    {
     "cell_type": "code",
     "collapsed": false,
     "input": [
      "### Keep copy of prior_union (unnecessary since I'm not actually changing df, only its copies)\n",
      "prior_union = df.prior_union\n",
      "\n",
      "nrows = df.shape[0]\n",
      "\n",
      "### Create a copy with all 0s in prior_union\n",
      "df_pu_0 = df.copy()\n",
      "df_pu_0.prior_union = np.zeros(nrows)\n",
      "\n",
      "### Create a copy with all 1s in prior_union\n",
      "df_pu_1 = df.copy()\n",
      "df_pu_1.prior_union = np.ones(nrows)\n"
     ],
     "language": "python",
     "metadata": {},
     "outputs": [],
     "prompt_number": 101
    },
    {
     "cell_type": "code",
     "collapsed": false,
     "input": [
      "result.predict(df_pu_0)"
     ],
     "language": "python",
     "metadata": {},
     "outputs": [
      {
       "metadata": {},
       "output_type": "pyout",
       "prompt_number": 106,
       "text": [
        "4.0440067482790814e-43"
       ]
      }
     ],
     "prompt_number": 106
    },
    {
     "cell_type": "code",
     "collapsed": false,
     "input": [],
     "language": "python",
     "metadata": {},
     "outputs": [],
     "prompt_number": 84
    },
    {
     "cell_type": "code",
     "collapsed": false,
     "input": [],
     "language": "python",
     "metadata": {},
     "outputs": [],
     "prompt_number": 84
    },
    {
     "cell_type": "code",
     "collapsed": false,
     "input": [],
     "language": "python",
     "metadata": {},
     "outputs": [],
     "prompt_number": 84
    },
    {
     "cell_type": "code",
     "collapsed": false,
     "input": [],
     "language": "python",
     "metadata": {},
     "outputs": [],
     "prompt_number": 84
    },
    {
     "cell_type": "code",
     "collapsed": false,
     "input": [
      "x = np.linspace(0,10, 20)\n",
      "y = (x + np.random.normal(0, 2, 20) > 5).astype(int)\n",
      "y\n",
      "# plt.xlim((-.5, 10.5))\n",
      "# plt.ylim((-.1, 1.1))\n",
      "# plt.plot(x, y, 'co')\n",
      "# plt.show()\n",
      "\n",
      "x = pd.Series(x)\n",
      "y = pd.Series(y)\n",
      "tdf = pd.concat([x, y], axis = 1)\n",
      "tdf.columns = ['x', 'y']\n",
      "\n",
      "y, X = patsy.dmatrices('y~x', data = tdf, return_type = 'dataframe')\n",
      "result = sm.Logit(y, X).fit()\n",
      "print result.summary()\n",
      "\n"
     ],
     "language": "python",
     "metadata": {},
     "outputs": [
      {
       "output_type": "stream",
       "stream": "stdout",
       "text": [
        "Optimization terminated successfully.\n",
        "         Current function value: 0.399383\n",
        "         Iterations 7\n",
        "                           Logit Regression Results                           \n",
        "==============================================================================\n",
        "Dep. Variable:                      y   No. Observations:                   20\n",
        "Model:                          Logit   Df Residuals:                       18\n",
        "Method:                           MLE   Df Model:                            1\n",
        "Date:                Sat, 25 Oct 2014   Pseudo R-squ.:                  0.4196\n",
        "Time:                        16:20:24   Log-Likelihood:                -7.9877\n",
        "converged:                       True   LL-Null:                       -13.763\n",
        "                                        LLR p-value:                 0.0006774\n",
        "==============================================================================\n",
        "                 coef    std err          z      P>|z|      [95.0% Conf. Int.]\n",
        "------------------------------------------------------------------------------\n",
        "Intercept     -3.1908      1.492     -2.139      0.032        -6.115    -0.267\n",
        "x              0.7173      0.298      2.410      0.016         0.134     1.300\n",
        "==============================================================================\n"
       ]
      }
     ],
     "prompt_number": 189
    },
    {
     "cell_type": "code",
     "collapsed": false,
     "input": [
      "tdf1 = pd.Series([0,0,0,1,1,1])\n",
      "tdf1 = pd.DataFrame(tdf1)\n",
      "tdf1.columns = ['x']\n",
      "print tdf1\n",
      "#tdf1.x\n",
      "print result.predict(tdf1)"
     ],
     "language": "python",
     "metadata": {},
     "outputs": [
      {
       "output_type": "stream",
       "stream": "stdout",
       "text": [
        "   x\n",
        "0  0\n",
        "1  0\n",
        "2  0\n",
        "3  1\n",
        "4  1\n",
        "5  1\n"
       ]
      },
      {
       "ename": "ValueError",
       "evalue": "matrices are not aligned",
       "output_type": "pyerr",
       "traceback": [
        "\u001b[0;31m---------------------------------------------------------------------------\u001b[0m\n\u001b[0;31mValueError\u001b[0m                                Traceback (most recent call last)",
        "\u001b[0;32m<ipython-input-193-a7a7cbda954f>\u001b[0m in \u001b[0;36m<module>\u001b[0;34m()\u001b[0m\n\u001b[1;32m      4\u001b[0m \u001b[0;32mprint\u001b[0m \u001b[0mtdf1\u001b[0m\u001b[0;34m\u001b[0m\u001b[0m\n\u001b[1;32m      5\u001b[0m \u001b[0;31m#tdf1.x\u001b[0m\u001b[0;34m\u001b[0m\u001b[0;34m\u001b[0m\u001b[0m\n\u001b[0;32m----> 6\u001b[0;31m \u001b[0;32mprint\u001b[0m \u001b[0mresult\u001b[0m\u001b[0;34m.\u001b[0m\u001b[0mpredict\u001b[0m\u001b[0;34m(\u001b[0m\u001b[0mtdf1\u001b[0m\u001b[0;34m)\u001b[0m\u001b[0;34m\u001b[0m\u001b[0m\n\u001b[0m",
        "\u001b[0;32m/Users/petervarshavsky/Library/Enthought/Canopy_64bit/User/lib/python2.7/site-packages/statsmodels/base/model.pyc\u001b[0m in \u001b[0;36mpredict\u001b[0;34m(self, exog, transform, *args, **kwargs)\u001b[0m\n\u001b[1;32m    878\u001b[0m             exog = dmatrix(self.model.data.orig_exog.design_info.builder,\n\u001b[1;32m    879\u001b[0m                     exog)\n\u001b[0;32m--> 880\u001b[0;31m         \u001b[0;32mreturn\u001b[0m \u001b[0mself\u001b[0m\u001b[0;34m.\u001b[0m\u001b[0mmodel\u001b[0m\u001b[0;34m.\u001b[0m\u001b[0mpredict\u001b[0m\u001b[0;34m(\u001b[0m\u001b[0mself\u001b[0m\u001b[0;34m.\u001b[0m\u001b[0mparams\u001b[0m\u001b[0;34m,\u001b[0m \u001b[0mexog\u001b[0m\u001b[0;34m,\u001b[0m \u001b[0;34m*\u001b[0m\u001b[0margs\u001b[0m\u001b[0;34m,\u001b[0m \u001b[0;34m**\u001b[0m\u001b[0mkwargs\u001b[0m\u001b[0;34m)\u001b[0m\u001b[0;34m\u001b[0m\u001b[0m\n\u001b[0m\u001b[1;32m    881\u001b[0m \u001b[0;34m\u001b[0m\u001b[0m\n\u001b[1;32m    882\u001b[0m \u001b[0;34m\u001b[0m\u001b[0m\n",
        "\u001b[0;32m/Users/petervarshavsky/Library/Enthought/Canopy_64bit/User/lib/python2.7/site-packages/statsmodels/discrete/discrete_model.pyc\u001b[0m in \u001b[0;36mpredict\u001b[0;34m(self, params, exog, linear)\u001b[0m\n\u001b[1;32m    376\u001b[0m             \u001b[0mexog\u001b[0m \u001b[0;34m=\u001b[0m \u001b[0mself\u001b[0m\u001b[0;34m.\u001b[0m\u001b[0mexog\u001b[0m\u001b[0;34m\u001b[0m\u001b[0m\n\u001b[1;32m    377\u001b[0m         \u001b[0;32mif\u001b[0m \u001b[0;32mnot\u001b[0m \u001b[0mlinear\u001b[0m\u001b[0;34m:\u001b[0m\u001b[0;34m\u001b[0m\u001b[0m\n\u001b[0;32m--> 378\u001b[0;31m             \u001b[0;32mreturn\u001b[0m \u001b[0mself\u001b[0m\u001b[0;34m.\u001b[0m\u001b[0mcdf\u001b[0m\u001b[0;34m(\u001b[0m\u001b[0mnp\u001b[0m\u001b[0;34m.\u001b[0m\u001b[0mdot\u001b[0m\u001b[0;34m(\u001b[0m\u001b[0mexog\u001b[0m\u001b[0;34m,\u001b[0m \u001b[0mparams\u001b[0m\u001b[0;34m)\u001b[0m\u001b[0;34m)\u001b[0m\u001b[0;34m\u001b[0m\u001b[0m\n\u001b[0m\u001b[1;32m    379\u001b[0m         \u001b[0;32melse\u001b[0m\u001b[0;34m:\u001b[0m\u001b[0;34m\u001b[0m\u001b[0m\n\u001b[1;32m    380\u001b[0m             \u001b[0;32mreturn\u001b[0m \u001b[0mnp\u001b[0m\u001b[0;34m.\u001b[0m\u001b[0mdot\u001b[0m\u001b[0;34m(\u001b[0m\u001b[0mexog\u001b[0m\u001b[0;34m,\u001b[0m \u001b[0mparams\u001b[0m\u001b[0;34m)\u001b[0m\u001b[0;34m\u001b[0m\u001b[0m\n",
        "\u001b[0;31mValueError\u001b[0m: matrices are not aligned"
       ]
      }
     ],
     "prompt_number": 193
    },
    {
     "cell_type": "code",
     "collapsed": false,
     "input": [],
     "language": "python",
     "metadata": {},
     "outputs": [],
     "prompt_number": 184
    },
    {
     "cell_type": "code",
     "collapsed": false,
     "input": [],
     "language": "python",
     "metadata": {},
     "outputs": []
    }
   ],
   "metadata": {}
  }
 ]
}