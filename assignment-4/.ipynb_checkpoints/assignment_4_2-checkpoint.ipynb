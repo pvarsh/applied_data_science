{
 "metadata": {
  "name": "",
  "signature": "sha256:fe9e3d7d694123a1039404b9494f8e6d56d35f5418cc98a6f819c19a7f11fe54"
 },
 "nbformat": 3,
 "nbformat_minor": 0,
 "worksheets": [
  {
   "cells": [
    {
     "cell_type": "code",
     "collapsed": false,
     "input": [
      "### imports\n",
      "import random\n",
      "import numpy as np\n",
      "import scipy as sp\n",
      "import pandas as pd\n",
      "import statsmodels.api as sm\n",
      "import patsy\n",
      "\n",
      "from matplotlib import pyplot as plt\n",
      "\n",
      "### settings\n",
      "%matplotlib inline\n",
      "np.set_printoptions(precision=5, suppress = True)"
     ],
     "language": "python",
     "metadata": {},
     "outputs": [],
     "prompt_number": 252
    },
    {
     "cell_type": "code",
     "collapsed": false,
     "input": [
      "path = \"data/\"\n",
      "data_file = \"union_pred.dta\"\n",
      "df = pd.read_stata(path + data_file)\n",
      "df.drop('idcode', axis = 1, inplace = True)\n",
      "df.columns"
     ],
     "language": "python",
     "metadata": {},
     "outputs": [
      {
       "metadata": {},
       "output_type": "pyout",
       "prompt_number": 253,
       "text": [
        "Index([u'year', u'age', u'grade', u'south', u'union', u'black', u'smsa', u'prior_union'], dtype='object')"
       ]
      }
     ],
     "prompt_number": 253
    },
    {
     "cell_type": "heading",
     "level": 6,
     "metadata": {},
     "source": [
      "Problem 2.a."
     ]
    },
    {
     "cell_type": "code",
     "collapsed": false,
     "input": [
      "### Cross tabulation\n",
      "union_tbl = pd.crosstab(df.prior_union, df.union)\n",
      "union_sum = union_tbl.sum(axis = 1) # computing row sums\n",
      "union_mm = union_tbl.div(union_sum, axis = 0) # mm stands for Markov matrix\n",
      "print \"Transition probability matrix:\"\n",
      "print union_mm\n"
     ],
     "language": "python",
     "metadata": {},
     "outputs": [
      {
       "output_type": "stream",
       "stream": "stdout",
       "text": [
        "Transition probability matrix:\n",
        "union               0         1\n",
        "prior_union                    \n",
        "0            0.876158  0.123842\n",
        "1            0.428688  0.571312\n"
       ]
      }
     ],
     "prompt_number": 254
    },
    {
     "cell_type": "code",
     "collapsed": false,
     "input": [
      "print df.columns\n",
      "y, X = patsy.dmatrices('union ~ prior_union + year + age + grade + south + black + smsa', data = df, return_type='dataframe')\n",
      "result = sm.Logit(y, X).fit()\n",
      "print result.summary()"
     ],
     "language": "python",
     "metadata": {},
     "outputs": [
      {
       "output_type": "stream",
       "stream": "stdout",
       "text": [
        "Index([u'year', u'age', u'grade', u'south', u'union', u'black', u'smsa', u'prior_union'], dtype='object')\n",
        "Optimization terminated successfully."
       ]
      },
      {
       "output_type": "stream",
       "stream": "stdout",
       "text": [
        "\n",
        "         Current function value: 0.434740\n",
        "         Iterations 6\n",
        "                           Logit Regression Results                           \n",
        "==============================================================================\n",
        "Dep. Variable:                  union   No. Observations:                21766\n",
        "Model:                          Logit   Df Residuals:                    21758\n",
        "Method:                           MLE   Df Model:                            7\n",
        "Date:                Sat, 25 Oct 2014   Pseudo R-squ.:                  0.1847\n",
        "Time:                        17:27:04   Log-Likelihood:                -9462.5\n",
        "converged:                       True   LL-Null:                       -11606.\n",
        "                                        LLR p-value:                     0.000\n",
        "===============================================================================\n",
        "                  coef    std err          z      P>|z|      [95.0% Conf. Int.]\n",
        "-------------------------------------------------------------------------------\n",
        "Intercept      -2.2960      0.385     -5.959      0.000        -3.051    -1.541\n",
        "prior_union     2.1210      0.038     56.117      0.000         2.047     2.195\n",
        "year           -0.0114      0.007     -1.700      0.089        -0.024     0.002\n",
        "age             0.0237      0.006      3.846      0.000         0.012     0.036\n",
        "grade           0.0464      0.008      5.911      0.000         0.031     0.062\n",
        "south          -0.6630      0.042    -15.734      0.000        -0.746    -0.580\n",
        "black           0.5797      0.043     13.404      0.000         0.495     0.664\n",
        "smsa            0.0476      0.043      1.099      0.272        -0.037     0.132\n",
        "==============================================================================="
       ]
      },
      {
       "output_type": "stream",
       "stream": "stdout",
       "text": [
        "\n"
       ]
      }
     ],
     "prompt_number": 255
    },
    {
     "cell_type": "heading",
     "level": 6,
     "metadata": {},
     "source": [
      "Problem 2.c., 2.d."
     ]
    },
    {
     "cell_type": "code",
     "collapsed": false,
     "input": [
      "### Keep copy of prior_union (unnecessary since I'm not actually changing df, only its copies)\n",
      "prior_union = df.prior_union\n",
      "\n",
      "nrows = df.shape[0]\n",
      "\n",
      "### Create a copy with all 0s in prior_union\n",
      "df_pu_0 = df.copy()\n",
      "df_pu_0.prior_union = np.zeros(nrows)\n",
      "# df_pu_0 = sm.add_constant(df_pu_0) # doesn't work for some reason\n",
      "\n",
      "### Create a copy with all 1s in prior_union\n",
      "df_pu_1 = df.copy()\n",
      "df_pu_1.prior_union = np.ones(nrows)\n",
      "# df_pu_1 = sm.add_constant(df_pu_1) # doesn't work for some reason\n",
      "\n",
      "trash, X_0 = patsy.dmatrices('union ~ prior_union + year + age + grade + south + black + smsa', data = df_pu_0, return_type='dataframe')\n",
      "trash, X_1 = patsy.dmatrices('union ~ prior_union + year + age + grade + south + black + smsa', data = df_pu_1, return_type='dataframe')\n"
     ],
     "language": "python",
     "metadata": {},
     "outputs": [],
     "prompt_number": 256
    },
    {
     "cell_type": "code",
     "collapsed": false,
     "input": [
      "pred_01 = result.predict(X_0)\n",
      "pred_00 = 1 - pred_01\n",
      "pred_11 = result.predict(X_1)\n",
      "pred_10 = 1 - pred_11\n"
     ],
     "language": "python",
     "metadata": {},
     "outputs": [],
     "prompt_number": 257
    },
    {
     "cell_type": "heading",
     "level": 6,
     "metadata": {},
     "source": [
      "Problem 2.e."
     ]
    },
    {
     "cell_type": "code",
     "collapsed": false,
     "input": [
      "model_mm = np.array([[np.mean(pred_00), np.mean(pred_01)],\n",
      "                     [np.mean(pred_10), np.mean(pred_11)]])\n",
      "print \"Markov transition matrix using the logistic model:\"\n",
      "print model_mm"
     ],
     "language": "python",
     "metadata": {},
     "outputs": [
      {
       "metadata": {},
       "output_type": "pyout",
       "prompt_number": 258,
       "text": [
        "array([[ 0.87142,  0.12858],\n",
        "       [ 0.46298,  0.53702]])"
       ]
      }
     ],
     "prompt_number": 258
    },
    {
     "cell_type": "heading",
     "level": 6,
     "metadata": {},
     "source": [
      "Problem 2.f."
     ]
    },
    {
     "cell_type": "code",
     "collapsed": false,
     "input": [
      "print \"Steady state distribution:\"\n",
      "print np.linalg.matrix_power(model_mm, 15)"
     ],
     "language": "python",
     "metadata": {},
     "outputs": [
      {
       "output_type": "stream",
       "stream": "stdout",
       "text": [
        "Steady state distribution:\n",
        "[[ 0.78264  0.21736]\n",
        " [ 0.78264  0.21736]]\n"
       ]
      }
     ],
     "prompt_number": 261
    },
    {
     "cell_type": "code",
     "collapsed": false,
     "input": [],
     "language": "python",
     "metadata": {},
     "outputs": [],
     "prompt_number": 259
    },
    {
     "cell_type": "code",
     "collapsed": false,
     "input": [],
     "language": "python",
     "metadata": {},
     "outputs": [],
     "prompt_number": 259
    },
    {
     "cell_type": "code",
     "collapsed": false,
     "input": [],
     "language": "python",
     "metadata": {},
     "outputs": [],
     "prompt_number": 259
    },
    {
     "cell_type": "code",
     "collapsed": false,
     "input": [],
     "language": "python",
     "metadata": {},
     "outputs": [],
     "prompt_number": 259
    },
    {
     "cell_type": "code",
     "collapsed": false,
     "input": [],
     "language": "python",
     "metadata": {},
     "outputs": [],
     "prompt_number": 259
    }
   ],
   "metadata": {}
  }
 ]
}