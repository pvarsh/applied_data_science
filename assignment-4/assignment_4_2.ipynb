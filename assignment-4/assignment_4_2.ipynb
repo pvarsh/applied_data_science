{
 "metadata": {
  "name": "",
  "signature": "sha256:3bc62eb1beea4561f40bfe020a6c2a8939808eaa3f9b7b21145e7211e92d6b34"
 },
 "nbformat": 3,
 "nbformat_minor": 0,
 "worksheets": [
  {
   "cells": [
    {
     "cell_type": "code",
     "collapsed": false,
     "input": [
      "import numpy as np\n",
      "import scipy as sp\n",
      "import pandas as pd\n",
      "import statsmodels.api as sm\n",
      "import patsy\n",
      "\n",
      "from matplotlib import pyplot as plt\n",
      "\n",
      "np.set_printoptions(precision=5, suppress = True)"
     ],
     "language": "python",
     "metadata": {},
     "outputs": [],
     "prompt_number": 47
    },
    {
     "cell_type": "code",
     "collapsed": false,
     "input": [
      "path = \"data/\"\n",
      "data_file = \"union_pred.dta\"\n",
      "df = pd.read_stata(path + data_file)"
     ],
     "language": "python",
     "metadata": {},
     "outputs": [],
     "prompt_number": 45
    },
    {
     "cell_type": "code",
     "collapsed": false,
     "input": [
      "tdf = pd.DataFrame([[1,1],[2,2]])\n",
      "print tdf\n",
      "print tdf.sum(axis = 1)"
     ],
     "language": "python",
     "metadata": {},
     "outputs": [
      {
       "output_type": "stream",
       "stream": "stdout",
       "text": [
        "   0  1\n",
        "0  1  1\n",
        "1  2  2\n",
        "0    2\n",
        "1    4\n",
        "dtype: int64\n"
       ]
      }
     ],
     "prompt_number": 29
    },
    {
     "cell_type": "heading",
     "level": 6,
     "metadata": {},
     "source": [
      "Problem 2.a."
     ]
    },
    {
     "cell_type": "code",
     "collapsed": false,
     "input": [
      "### Cross tabulation\n",
      "union_tbl = pd.crosstab(df.prior_union, df.union)\n",
      "union_sum = union_tbl.sum(axis = 1) # computing row sums\n",
      "union_mm = union_tbl.div(union_sum, axis = 0) # mm stands for Markov matrix\n",
      "print \"Transition probability matrix:\"\n",
      "print union_mm\n"
     ],
     "language": "python",
     "metadata": {},
     "outputs": [
      {
       "output_type": "stream",
       "stream": "stdout",
       "text": [
        "Transition probability matrix:\n",
        "union               0         1\n",
        "prior_union                    \n",
        "0            0.876158  0.123842\n",
        "1            0.428688  0.571312\n"
       ]
      },
      {
       "metadata": {},
       "output_type": "pyout",
       "prompt_number": 52,
       "text": [
        "Int64Index([0, 1], dtype='int64')"
       ]
      }
     ],
     "prompt_number": 52
    },
    {
     "cell_type": "code",
     "collapsed": false,
     "input": [
      "print df.columns\n",
      "y, X = patsy.dmatrices('union ~ prior_union + year + age + grade + south + black + smsa', data = df, return_type='dataframe')\n",
      "fit1 = sm.OLS(y, X).fit()\n",
      "print fit1.summary()\n"
     ],
     "language": "python",
     "metadata": {},
     "outputs": [
      {
       "output_type": "stream",
       "stream": "stdout",
       "text": [
        "Index([u'idcode', u'year', u'age', u'grade', u'south', u'union', u'black', u'smsa', u'prior_union'], dtype='object')\n",
        "                            OLS Regression Results                            \n",
        "==============================================================================\n",
        "Dep. Variable:                  union   R-squared:                       0.216\n",
        "Model:                            OLS   Adj. R-squared:                  0.216\n",
        "Method:                 Least Squares   F-statistic:                     855.7\n",
        "Date:                Sat, 25 Oct 2014   Prob (F-statistic):               0.00\n",
        "Time:                        14:31:02   Log-Likelihood:                -9231.5\n",
        "No. Observations:               21766   AIC:                         1.848e+04\n",
        "Df Residuals:                   21758   BIC:                         1.854e+04\n",
        "Df Model:                           7                                         \n",
        "===============================================================================\n",
        "                  coef    std err          t      P>|t|      [95.0% Conf. Int.]\n",
        "-------------------------------------------------------------------------------\n",
        "Intercept       0.0773      0.052      1.473      0.141        -0.026     0.180\n",
        "prior_union     0.4225      0.006     68.980      0.000         0.410     0.434\n",
        "year           -0.0015      0.001     -1.704      0.088        -0.003     0.000\n",
        "age             0.0032      0.001      3.869      0.000         0.002     0.005\n",
        "grade           0.0067      0.001      6.176      0.000         0.005     0.009\n",
        "south          -0.0865      0.005    -15.797      0.000        -0.097    -0.076\n",
        "black           0.0811      0.006     13.436      0.000         0.069     0.093\n",
        "smsa            0.0069      0.006      1.210      0.226        -0.004     0.018\n",
        "==============================================================================\n",
        "Omnibus:                     2891.283   Durbin-Watson:                   2.195\n",
        "Prob(Omnibus):                  0.000   Jarque-Bera (JB):             4180.139\n",
        "Skew:                           1.025   Prob(JB):                         0.00\n",
        "Kurtosis:                       3.637   Cond. No.                     1.81e+03\n",
        "==============================================================================\n",
        "\n",
        "Warnings:\n",
        "[1] The condition number is large, 1.81e+03. This might indicate that there are\n",
        "strong multicollinearity or other numerical problems."
       ]
      },
      {
       "output_type": "stream",
       "stream": "stdout",
       "text": [
        "\n"
       ]
      }
     ],
     "prompt_number": 64
    },
    {
     "cell_type": "code",
     "collapsed": false,
     "input": [],
     "language": "python",
     "metadata": {},
     "outputs": []
    }
   ],
   "metadata": {}
  }
 ]
}