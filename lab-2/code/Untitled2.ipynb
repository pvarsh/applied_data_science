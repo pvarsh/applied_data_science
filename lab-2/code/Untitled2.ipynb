{
 "metadata": {
  "name": "",
  "signature": "sha256:9ce525ac4e845c407ba32704d252ba9b5c100200c42d58b572b5dab92dc4328e"
 },
 "nbformat": 3,
 "nbformat_minor": 0,
 "worksheets": [
  {
   "cells": [
    {
     "cell_type": "code",
     "collapsed": false,
     "input": [
      "import numpy as np\n",
      "import scipy\n",
      "import scipy.stats\n",
      "import matplotlib.pyplot as plt\n",
      "import pybrain\n",
      "from pybrain.structure import SigmoidLayer\n",
      "\n",
      "from pybrain.datasets import *\n",
      "from pybrain.tools.shortcuts import buildNetwork\n",
      "from pybrain.supervised.trainers import BackpropTrainer\n",
      "import pickle\n",
      "import random\n",
      "import math"
     ],
     "language": "python",
     "metadata": {},
     "outputs": [],
     "prompt_number": 1
    },
    {
     "cell_type": "code",
     "collapsed": false,
     "input": [
      "net = buildNetwork(2,2,1, bias = True, outclass = SigmoidLayer)\n",
      "print net"
     ],
     "language": "python",
     "metadata": {},
     "outputs": [
      {
       "output_type": "stream",
       "stream": "stdout",
       "text": [
        "FeedForwardNetwork-35\n",
        "   Modules:\n",
        "    [<BiasUnit 'bias'>, <LinearLayer 'in'>, <SigmoidLayer 'hidden0'>, <SigmoidLayer 'out'>]\n",
        "   Connections:\n",
        "    [<FullConnection 'FullConnection-31': 'hidden0' -> 'out'>, <FullConnection 'FullConnection-32': 'in' -> 'hidden0'>, <FullConnection 'FullConnection-33': 'bias' -> 'out'>, <FullConnection 'FullConnection-34': 'bias' -> 'hidden0'>]\n",
        "\n"
       ]
      }
     ],
     "prompt_number": 6
    },
    {
     "cell_type": "code",
     "collapsed": false,
     "input": [],
     "language": "python",
     "metadata": {},
     "outputs": []
    }
   ],
   "metadata": {}
  }
 ]
}