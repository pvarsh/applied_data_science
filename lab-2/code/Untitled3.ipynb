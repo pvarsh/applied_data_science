{
 "metadata": {
  "name": "",
  "signature": "sha256:50066c7f1e372331d0fa49b4701af439321023dd9c4ffdece56f1032629fa81c"
 },
 "nbformat": 3,
 "nbformat_minor": 0,
 "worksheets": [
  {
   "cells": [
    {
     "cell_type": "code",
     "collapsed": false,
     "input": [
      "#learn XOR with a nerual network with saving of the learned paramaters\n",
      "\n",
      "import pybrain\n",
      "from pybrain.datasets import *\n",
      "from pybrain.tools.shortcuts import buildNetwork\n",
      "from pybrain.supervised.trainers import BackpropTrainer\n",
      "import pickle\n",
      "import random\n",
      "\n",
      "if __name__ == \"__main__\":\n",
      "  ds = SupervisedDataSet(2, 1)\n",
      "  ds.addSample( (0,0) , (0,))\n",
      "  ds.addSample( (0,1) , (1,))\n",
      "  ds.addSample( (1,0) , (1,))\n",
      "  ds.addSample( (1,1) , (1,))\n",
      "\n",
      "  net = buildNetwork(2, 4, 1, bias=True)\n",
      "\n",
      "  # try:\n",
      "        #         f = open('_learned', 'r')\n",
      "  #   net = pickle.load(f)\n",
      "  #   f.close()\n",
      "  # except:\n",
      "  trainer = BackpropTrainer(net, learningrate = 0.01, momentum = 0.99)\n",
      "  trainer.trainOnDataset(ds, 500)\n",
      "  trainer.testOnData()\n",
      "  # f = open('_learned', 'w')\n",
      "  # pickle.dump(net, f)\n",
      "  # f.close()\n",
      "  \n",
      "\n",
      "  print net.activate((1,1))\n",
      "  print net.activate((1,0))\n",
      "  print net.activate((0,1))\n",
      "  print net.activate((0,0))\n",
      "        \n",
      "  testUnif = [(random.unif(0,1), random.unif(0,1)) for i in range(30)]\n",
      "\n",
      "  "
     ],
     "language": "python",
     "metadata": {},
     "outputs": [
      {
       "output_type": "stream",
       "stream": "stdout",
       "text": [
        "[ 1.]\n",
        "[ 1.]\n",
        "[ 1.]\n",
        "[  7.77156117e-16]\n"
       ]
      },
      {
       "ename": "AttributeError",
       "evalue": "'module' object has no attribute 'unif'",
       "output_type": "pyerr",
       "traceback": [
        "\u001b[0;31m---------------------------------------------------------------------------\u001b[0m\n\u001b[0;31mAttributeError\u001b[0m                            Traceback (most recent call last)",
        "\u001b[0;32m<ipython-input-1-a1a24ca92e79>\u001b[0m in \u001b[0;36m<module>\u001b[0;34m()\u001b[0m\n\u001b[1;32m     35\u001b[0m   \u001b[0;32mprint\u001b[0m \u001b[0mnet\u001b[0m\u001b[0;34m.\u001b[0m\u001b[0mactivate\u001b[0m\u001b[0;34m(\u001b[0m\u001b[0;34m(\u001b[0m\u001b[0;36m0\u001b[0m\u001b[0;34m,\u001b[0m\u001b[0;36m0\u001b[0m\u001b[0;34m)\u001b[0m\u001b[0;34m)\u001b[0m\u001b[0;34m\u001b[0m\u001b[0m\n\u001b[1;32m     36\u001b[0m \u001b[0;34m\u001b[0m\u001b[0m\n\u001b[0;32m---> 37\u001b[0;31m   \u001b[0mtestUnif\u001b[0m \u001b[0;34m=\u001b[0m \u001b[0;34m[\u001b[0m\u001b[0;34m(\u001b[0m\u001b[0mrandom\u001b[0m\u001b[0;34m.\u001b[0m\u001b[0munif\u001b[0m\u001b[0;34m(\u001b[0m\u001b[0;36m0\u001b[0m\u001b[0;34m,\u001b[0m\u001b[0;36m1\u001b[0m\u001b[0;34m)\u001b[0m\u001b[0;34m,\u001b[0m \u001b[0mrandom\u001b[0m\u001b[0;34m.\u001b[0m\u001b[0munif\u001b[0m\u001b[0;34m(\u001b[0m\u001b[0;36m0\u001b[0m\u001b[0;34m,\u001b[0m\u001b[0;36m1\u001b[0m\u001b[0;34m)\u001b[0m\u001b[0;34m)\u001b[0m \u001b[0;32mfor\u001b[0m \u001b[0mi\u001b[0m \u001b[0;32min\u001b[0m \u001b[0mrange\u001b[0m\u001b[0;34m(\u001b[0m\u001b[0;36m30\u001b[0m\u001b[0;34m)\u001b[0m\u001b[0;34m]\u001b[0m\u001b[0;34m\u001b[0m\u001b[0m\n\u001b[0m\u001b[1;32m     38\u001b[0m \u001b[0;34m\u001b[0m\u001b[0m\n\u001b[1;32m     39\u001b[0m \u001b[0;34m\u001b[0m\u001b[0m\n",
        "\u001b[0;31mAttributeError\u001b[0m: 'module' object has no attribute 'unif'"
       ]
      }
     ],
     "prompt_number": 1
    },
    {
     "cell_type": "code",
     "collapsed": false,
     "input": [],
     "language": "python",
     "metadata": {},
     "outputs": []
    }
   ],
   "metadata": {}
  }
 ]
}