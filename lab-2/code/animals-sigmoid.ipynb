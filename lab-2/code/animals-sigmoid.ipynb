{
 "metadata": {
  "name": "",
  "signature": "sha256:8fb60dd14d1998eed608cadfee57dbb7ad475f97a3089c256fcce8642a34a4d0"
 },
 "nbformat": 3,
 "nbformat_minor": 0,
 "worksheets": [
  {
   "cells": [
    {
     "cell_type": "heading",
     "level": 6,
     "metadata": {},
     "source": [
      "Setting up and training the network."
     ]
    },
    {
     "cell_type": "code",
     "collapsed": false,
     "input": [
      "from pybrain.datasets.supervised import SupervisedDataSet \n",
      "from pybrain.tools.shortcuts import buildNetwork\n",
      "from pybrain.supervised.trainers import BackpropTrainer\n",
      "from pybrain.structure import SigmoidLayer\n",
      "from pybrain.structure import SoftmaxLayer\n",
      "\n",
      "import cv2\n",
      "import glob\n",
      "import os\n",
      "import random\n",
      "\n",
      " \n",
      "def loadImage(path):\n",
      "    im = cv2.imread(path)\n",
      "    return flatten(im)\n",
      " \n",
      "def flatten(x):\n",
      "    result = []\n",
      "    for el in x:\n",
      "        if hasattr(el, \"__iter__\") and not isinstance(el, basestring):\n",
      "            result.extend(flatten(el))\n",
      "        else:\n",
      "            result.append(el)\n",
      "    return result\n",
      "\n",
      "def print_f_list(flist, name = \"\"):\n",
      "    print \"\\n### \", name\n",
      "    for f, g1, g2 in flist:\n",
      "        print \"\\n\", f.split('/')[-1]\n",
      "        print truth_dict[g1]\n",
      " \n",
      "def make_test_training(paths, truths, fraction_training):\n",
      "    train = []\n",
      "    test = []\n",
      "    for i in range(len(paths)):\n",
      "        print \"\\n#####\\n\",paths[i]\n",
      "        print truths[i]\n",
      "        files = [(f, truths[i], f.split('/')[-1]) for f in glob.glob(paths[i] + \"*.png\")]\n",
      "        random.shuffle(files)\n",
      "        split = int(len(files) * fraction_training)\n",
      "        train = train + files[:split]\n",
      "        test  = test + files[split:]\n",
      "    random.shuffle(train)\n",
      "    random.shuffle(test)\n",
      "    \n",
      "    return train, test\n",
      "    \n",
      "if __name__ == \"__main__\":\n",
      "    path_1 = \"/Users/petervarshavsky/Documents/Git_NYU/applied_data_science/lab-2/images/animals/alligator_proc/\"\n",
      "    path_2 = \"/Users/petervarshavsky/Documents/Git_NYU/applied_data_science/lab-2/images/animals/cat_proc/\"\n",
      "    path_3 = \"/Users/petervarshavsky/Documents/Git_NYU/applied_data_science/lab-2/images/animals/dog_proc/\"\n",
      "    path_4 = \"/Users/petervarshavsky/Documents/Git_NYU/applied_data_science/lab-2/images/animals/giraffe_proc/\"\n",
      "    path_5 = \"/Users/petervarshavsky/Documents/Git_NYU/applied_data_science/lab-2/images/animals/gorilla_proc/\"\n",
      "    paths = [path_1, path_2, path_3, path_4, path_5]\n",
      "   \n",
      "    # truth:positive\n",
      "    alligator = (1,0,0,0,0)\n",
      "    cat       = (0,1,0,0,0)\n",
      "    dog       = (0,0,1,0,0)\n",
      "    giraffe   = (0,0,0,1,0)\n",
      "    gorilla   = (0,0,0,0,1)\n",
      "    truths = [alligator, cat, dog, giraffe, gorilla]\n",
      "    truth_dict = {(1,0,0,0,0): \"alligator\",\n",
      "                  (0,1,0,0,0): \"cat\",\n",
      "                  (0,0,1,0,0): \"dog\",\n",
      "                  (0,0,0,1,0): \"giraffe\",\n",
      "                  (0,0,0,0,1): \"gorilla\"}\n",
      "    \n",
      "    train, test = make_test_training(paths, truths, 0.75)\n",
      "    #print_f_list(train, \"train:\")\n",
      "    #print_f_list(test, \"test:\")\n",
      "    # first image to start the training set\n",
      "    \n",
      "    f, truth, _ = train.pop()\n",
      "    t = loadImage(f)\n",
      "    \n",
      "    # build network\n",
      "    net = buildNetwork(len(t), int(.03*len(t)), int(0.03 * len(t)), int(0.01 * len(t)), 5, bias = True, outclass = SoftmaxLayer)\n",
      "   \n",
      "    # initialize data set\n",
      "    ds = SupervisedDataSet(len(t), 5)\n",
      "    ds.addSample(t, truth)\n",
      "    # add the rest of elements to data set\n",
      "    for img, truth, imgname in train:\n",
      "        #print truth, imgname\n",
      "        ds.addSample(loadImage(img), truth)# where truth is a tuple (1, 0) or (0,1)\n",
      "    \n",
      "    # train the network\n",
      "    trainer = BackpropTrainer(net, ds)\n",
      "    error = 10 # was 10\n",
      "    iteration = 0\n",
      "    while error > 0.001: # was 0.0001 \n",
      "        error = trainer.train()\n",
      "        iteration += 1\n",
      "        print \"Iteration: {0} Error {1}\".format(iteration, error)\n",
      "    \n",
      "    "
     ],
     "language": "python",
     "metadata": {},
     "outputs": [
      {
       "output_type": "stream",
       "stream": "stdout",
       "text": [
        "\n",
        "#####\n",
        "/Users/petervarshavsky/Documents/Git_NYU/applied_data_science/lab-2/images/animals/alligator_proc/\n",
        "(1, 0, 0, 0, 0)\n",
        "\n",
        "#####\n",
        "/Users/petervarshavsky/Documents/Git_NYU/applied_data_science/lab-2/images/animals/cat_proc/\n",
        "(0, 1, 0, 0, 0)\n",
        "\n",
        "#####\n",
        "/Users/petervarshavsky/Documents/Git_NYU/applied_data_science/lab-2/images/animals/dog_proc/\n",
        "(0, 0, 1, 0, 0)\n",
        "\n",
        "#####\n",
        "/Users/petervarshavsky/Documents/Git_NYU/applied_data_science/lab-2/images/animals/giraffe_proc/\n",
        "(0, 0, 0, 1, 0)\n",
        "\n",
        "#####\n",
        "/Users/petervarshavsky/Documents/Git_NYU/applied_data_science/lab-2/images/animals/gorilla_proc/\n",
        "(0, 0, 0, 0, 1)\n",
        "Iteration: 1 Error 0.118663718753"
       ]
      },
      {
       "output_type": "stream",
       "stream": "stdout",
       "text": [
        "\n",
        "Iteration: 2 Error 0.0977721881108"
       ]
      },
      {
       "output_type": "stream",
       "stream": "stdout",
       "text": [
        "\n",
        "Iteration: 3 Error 0.0834546744352"
       ]
      },
      {
       "output_type": "stream",
       "stream": "stdout",
       "text": [
        "\n",
        "Iteration: 4 Error 0.0742134468701"
       ]
      },
      {
       "output_type": "stream",
       "stream": "stdout",
       "text": [
        "\n",
        "Iteration: 5 Error 0.0663499279066"
       ]
      },
      {
       "output_type": "stream",
       "stream": "stdout",
       "text": [
        "\n",
        "Iteration: 6 Error 0.0615749535929"
       ]
      },
      {
       "output_type": "stream",
       "stream": "stdout",
       "text": [
        "\n",
        "Iteration: 7 Error 0.0567869206244"
       ]
      },
      {
       "output_type": "stream",
       "stream": "stdout",
       "text": [
        "\n",
        "Iteration: 8 Error 0.05437191828"
       ]
      },
      {
       "output_type": "stream",
       "stream": "stdout",
       "text": [
        "\n",
        "Iteration: 9 Error 0.049265183228"
       ]
      },
      {
       "output_type": "stream",
       "stream": "stdout",
       "text": [
        "\n",
        "Iteration: 10 Error 0.0470683374282"
       ]
      },
      {
       "output_type": "stream",
       "stream": "stdout",
       "text": [
        "\n",
        "Iteration: 11 Error 0.0432143509491"
       ]
      },
      {
       "output_type": "stream",
       "stream": "stdout",
       "text": [
        "\n",
        "Iteration: 12 Error 0.0410799036216"
       ]
      },
      {
       "output_type": "stream",
       "stream": "stdout",
       "text": [
        "\n",
        "Iteration: 13 Error 0.038395866587"
       ]
      },
      {
       "output_type": "stream",
       "stream": "stdout",
       "text": [
        "\n",
        "Iteration: 14 Error 0.0360650567437"
       ]
      },
      {
       "output_type": "stream",
       "stream": "stdout",
       "text": [
        "\n",
        "Iteration: 15 Error 0.0337863265415"
       ]
      },
      {
       "output_type": "stream",
       "stream": "stdout",
       "text": [
        "\n",
        "Iteration: 16 Error 0.0318340584198"
       ]
      },
      {
       "output_type": "stream",
       "stream": "stdout",
       "text": [
        "\n",
        "Iteration: 17 Error 0.0295881488735"
       ]
      },
      {
       "output_type": "stream",
       "stream": "stdout",
       "text": [
        "\n",
        "Iteration: 18 Error 0.0284912450806"
       ]
      },
      {
       "output_type": "stream",
       "stream": "stdout",
       "text": [
        "\n",
        "Iteration: 19 Error 0.0267764445718"
       ]
      },
      {
       "output_type": "stream",
       "stream": "stdout",
       "text": [
        "\n",
        "Iteration: 20 Error 0.0252287339874"
       ]
      },
      {
       "output_type": "stream",
       "stream": "stdout",
       "text": [
        "\n",
        "Iteration: 21 Error 0.0235222419202"
       ]
      },
      {
       "output_type": "stream",
       "stream": "stdout",
       "text": [
        "\n",
        "Iteration: 22 Error 0.0223038547544"
       ]
      },
      {
       "output_type": "stream",
       "stream": "stdout",
       "text": [
        "\n",
        "Iteration: 23 Error 0.0209494420596"
       ]
      },
      {
       "output_type": "stream",
       "stream": "stdout",
       "text": [
        "\n",
        "Iteration: 24 Error 0.0204564890291"
       ]
      },
      {
       "output_type": "stream",
       "stream": "stdout",
       "text": [
        "\n",
        "Iteration: 25 Error 0.0189966314697"
       ]
      },
      {
       "output_type": "stream",
       "stream": "stdout",
       "text": [
        "\n",
        "Iteration: 26 Error 0.0183648580305"
       ]
      },
      {
       "output_type": "stream",
       "stream": "stdout",
       "text": [
        "\n",
        "Iteration: 27 Error 0.0169590600313"
       ]
      },
      {
       "output_type": "stream",
       "stream": "stdout",
       "text": [
        "\n",
        "Iteration: 28 Error 0.016670672315"
       ]
      },
      {
       "output_type": "stream",
       "stream": "stdout",
       "text": [
        "\n",
        "Iteration: 29 Error 0.0154344189624"
       ]
      },
      {
       "output_type": "stream",
       "stream": "stdout",
       "text": [
        "\n",
        "Iteration: 30 Error 0.0147403542696"
       ]
      },
      {
       "output_type": "stream",
       "stream": "stdout",
       "text": [
        "\n",
        "Iteration: 31 Error 0.0140054398562"
       ]
      },
      {
       "output_type": "stream",
       "stream": "stdout",
       "text": [
        "\n",
        "Iteration: 32 Error 0.0133433145279"
       ]
      },
      {
       "output_type": "stream",
       "stream": "stdout",
       "text": [
        "\n",
        "Iteration: 33 Error 0.0129922204489"
       ]
      },
      {
       "output_type": "stream",
       "stream": "stdout",
       "text": [
        "\n",
        "Iteration: 34 Error 0.0121937593744"
       ]
      },
      {
       "output_type": "stream",
       "stream": "stdout",
       "text": [
        "\n",
        "Iteration: 35 Error 0.0118690921233"
       ]
      },
      {
       "output_type": "stream",
       "stream": "stdout",
       "text": [
        "\n",
        "Iteration: 36 Error 0.0110560562458"
       ]
      },
      {
       "output_type": "stream",
       "stream": "stdout",
       "text": [
        "\n",
        "Iteration: 37 Error 0.0105226582607"
       ]
      },
      {
       "output_type": "stream",
       "stream": "stdout",
       "text": [
        "\n",
        "Iteration: 38 Error 0.0103140797505"
       ]
      },
      {
       "output_type": "stream",
       "stream": "stdout",
       "text": [
        "\n",
        "Iteration: 39 Error 0.00951773007063"
       ]
      },
      {
       "output_type": "stream",
       "stream": "stdout",
       "text": [
        "\n",
        "Iteration: 40 Error 0.00921470296821"
       ]
      },
      {
       "output_type": "stream",
       "stream": "stdout",
       "text": [
        "\n",
        "Iteration: 41 Error 0.00874741393197"
       ]
      },
      {
       "output_type": "stream",
       "stream": "stdout",
       "text": [
        "\n",
        "Iteration: 42 Error 0.00818899951879"
       ]
      },
      {
       "output_type": "stream",
       "stream": "stdout",
       "text": [
        "\n",
        "Iteration: 43 Error 0.00817945596755"
       ]
      },
      {
       "output_type": "stream",
       "stream": "stdout",
       "text": [
        "\n",
        "Iteration: 44 Error 0.00779363739293"
       ]
      },
      {
       "output_type": "stream",
       "stream": "stdout",
       "text": [
        "\n",
        "Iteration: 45 Error 0.00745708197519"
       ]
      },
      {
       "output_type": "stream",
       "stream": "stdout",
       "text": [
        "\n",
        "Iteration: 46 Error 0.00706764163161"
       ]
      },
      {
       "output_type": "stream",
       "stream": "stdout",
       "text": [
        "\n",
        "Iteration: 47 Error 0.00684358134823"
       ]
      },
      {
       "output_type": "stream",
       "stream": "stdout",
       "text": [
        "\n",
        "Iteration: 48 Error 0.00665163495173"
       ]
      },
      {
       "output_type": "stream",
       "stream": "stdout",
       "text": [
        "\n",
        "Iteration: 49 Error 0.00634024328383"
       ]
      },
      {
       "output_type": "stream",
       "stream": "stdout",
       "text": [
        "\n",
        "Iteration: 50 Error 0.00580896642073"
       ]
      },
      {
       "output_type": "stream",
       "stream": "stdout",
       "text": [
        "\n",
        "Iteration: 51 Error 0.00564839938389"
       ]
      },
      {
       "output_type": "stream",
       "stream": "stdout",
       "text": [
        "\n",
        "Iteration: 52 Error 0.00548345981043"
       ]
      },
      {
       "output_type": "stream",
       "stream": "stdout",
       "text": [
        "\n",
        "Iteration: 53 Error 0.0052667302391"
       ]
      },
      {
       "output_type": "stream",
       "stream": "stdout",
       "text": [
        "\n",
        "Iteration: 54 Error 0.00502997406924"
       ]
      },
      {
       "output_type": "stream",
       "stream": "stdout",
       "text": [
        "\n",
        "Iteration: 55 Error 0.00493373101551"
       ]
      },
      {
       "output_type": "stream",
       "stream": "stdout",
       "text": [
        "\n",
        "Iteration: 56 Error 0.00467005591335"
       ]
      },
      {
       "output_type": "stream",
       "stream": "stdout",
       "text": [
        "\n",
        "Iteration: 57 Error 0.00448099219225"
       ]
      },
      {
       "output_type": "stream",
       "stream": "stdout",
       "text": [
        "\n",
        "Iteration: 58 Error 0.0044727076544"
       ]
      },
      {
       "output_type": "stream",
       "stream": "stdout",
       "text": [
        "\n",
        "Iteration: 59 Error 0.00417100386287"
       ]
      },
      {
       "output_type": "stream",
       "stream": "stdout",
       "text": [
        "\n",
        "Iteration: 60 Error 0.00402893027886"
       ]
      },
      {
       "output_type": "stream",
       "stream": "stdout",
       "text": [
        "\n",
        "Iteration: 61 Error 0.00393060308442"
       ]
      },
      {
       "output_type": "stream",
       "stream": "stdout",
       "text": [
        "\n",
        "Iteration: 62 Error 0.00380324319401"
       ]
      },
      {
       "output_type": "stream",
       "stream": "stdout",
       "text": [
        "\n",
        "Iteration: 63 Error 0.00363070036614"
       ]
      },
      {
       "output_type": "stream",
       "stream": "stdout",
       "text": [
        "\n",
        "Iteration: 64 Error 0.00348970308669"
       ]
      },
      {
       "output_type": "stream",
       "stream": "stdout",
       "text": [
        "\n",
        "Iteration: 65 Error 0.00339830490992"
       ]
      },
      {
       "output_type": "stream",
       "stream": "stdout",
       "text": [
        "\n",
        "Iteration: 66 Error 0.00319589511298"
       ]
      },
      {
       "output_type": "stream",
       "stream": "stdout",
       "text": [
        "\n",
        "Iteration: 67 Error 0.00321443872795"
       ]
      },
      {
       "output_type": "stream",
       "stream": "stdout",
       "text": [
        "\n",
        "Iteration: 68 Error 0.00307340418054"
       ]
      },
      {
       "output_type": "stream",
       "stream": "stdout",
       "text": [
        "\n",
        "Iteration: 69 Error 0.00296884627268"
       ]
      },
      {
       "output_type": "stream",
       "stream": "stdout",
       "text": [
        "\n",
        "Iteration: 70 Error 0.0028592511177"
       ]
      },
      {
       "output_type": "stream",
       "stream": "stdout",
       "text": [
        "\n",
        "Iteration: 71 Error 0.00279236435946"
       ]
      },
      {
       "output_type": "stream",
       "stream": "stdout",
       "text": [
        "\n",
        "Iteration: 72 Error 0.00270883023842"
       ]
      },
      {
       "output_type": "stream",
       "stream": "stdout",
       "text": [
        "\n",
        "Iteration: 73 Error 0.00262208508952"
       ]
      },
      {
       "output_type": "stream",
       "stream": "stdout",
       "text": [
        "\n",
        "Iteration: 74 Error 0.00248796492151"
       ]
      },
      {
       "output_type": "stream",
       "stream": "stdout",
       "text": [
        "\n",
        "Iteration: 75 Error 0.00243399204446"
       ]
      },
      {
       "output_type": "stream",
       "stream": "stdout",
       "text": [
        "\n",
        "Iteration: 76 Error 0.00236005598961"
       ]
      },
      {
       "output_type": "stream",
       "stream": "stdout",
       "text": [
        "\n",
        "Iteration: 77 Error 0.00229043425452"
       ]
      },
      {
       "output_type": "stream",
       "stream": "stdout",
       "text": [
        "\n",
        "Iteration: 78 Error 0.00228168444741"
       ]
      },
      {
       "output_type": "stream",
       "stream": "stdout",
       "text": [
        "\n",
        "Iteration: 79 Error 0.00217840911357"
       ]
      },
      {
       "output_type": "stream",
       "stream": "stdout",
       "text": [
        "\n",
        "Iteration: 80 Error 0.00206515630497"
       ]
      },
      {
       "output_type": "stream",
       "stream": "stdout",
       "text": [
        "\n",
        "Iteration: 81 Error 0.00207212862725"
       ]
      },
      {
       "output_type": "stream",
       "stream": "stdout",
       "text": [
        "\n",
        "Iteration: 82 Error 0.00198057064444"
       ]
      },
      {
       "output_type": "stream",
       "stream": "stdout",
       "text": [
        "\n",
        "Iteration: 83 Error 0.00193083736357"
       ]
      },
      {
       "output_type": "stream",
       "stream": "stdout",
       "text": [
        "\n",
        "Iteration: 84 Error 0.00186481206936"
       ]
      },
      {
       "output_type": "stream",
       "stream": "stdout",
       "text": [
        "\n",
        "Iteration: 85 Error 0.00184681870464"
       ]
      },
      {
       "output_type": "stream",
       "stream": "stdout",
       "text": [
        "\n",
        "Iteration: 86 Error 0.00177582392761"
       ]
      },
      {
       "output_type": "stream",
       "stream": "stdout",
       "text": [
        "\n",
        "Iteration: 87 Error 0.00177958490777"
       ]
      },
      {
       "output_type": "stream",
       "stream": "stdout",
       "text": [
        "\n",
        "Iteration: 88 Error 0.00170289851272"
       ]
      },
      {
       "output_type": "stream",
       "stream": "stdout",
       "text": [
        "\n",
        "Iteration: 89 Error 0.00168038421476"
       ]
      },
      {
       "output_type": "stream",
       "stream": "stdout",
       "text": [
        "\n",
        "Iteration: 90 Error 0.00162892451748"
       ]
      },
      {
       "output_type": "stream",
       "stream": "stdout",
       "text": [
        "\n",
        "Iteration: 91 Error 0.00155172067951"
       ]
      },
      {
       "output_type": "stream",
       "stream": "stdout",
       "text": [
        "\n",
        "Iteration: 92 Error 0.00154765675071"
       ]
      },
      {
       "output_type": "stream",
       "stream": "stdout",
       "text": [
        "\n",
        "Iteration: 93 Error 0.00145481212346"
       ]
      },
      {
       "output_type": "stream",
       "stream": "stdout",
       "text": [
        "\n",
        "Iteration: 94 Error 0.00145886359095"
       ]
      },
      {
       "output_type": "stream",
       "stream": "stdout",
       "text": [
        "\n",
        "Iteration: 95 Error 0.00143323210477"
       ]
      },
      {
       "output_type": "stream",
       "stream": "stdout",
       "text": [
        "\n",
        "Iteration: 96 Error 0.00139887050912"
       ]
      },
      {
       "output_type": "stream",
       "stream": "stdout",
       "text": [
        "\n",
        "Iteration: 97 Error 0.00135521902018"
       ]
      },
      {
       "output_type": "stream",
       "stream": "stdout",
       "text": [
        "\n",
        "Iteration: 98 Error 0.00133532056179"
       ]
      },
      {
       "output_type": "stream",
       "stream": "stdout",
       "text": [
        "\n",
        "Iteration: 99 Error 0.00129028835199"
       ]
      },
      {
       "output_type": "stream",
       "stream": "stdout",
       "text": [
        "\n",
        "Iteration: 100 Error 0.00124446966509"
       ]
      },
      {
       "output_type": "stream",
       "stream": "stdout",
       "text": [
        "\n",
        "Iteration: 101 Error 0.00126337969865"
       ]
      },
      {
       "output_type": "stream",
       "stream": "stdout",
       "text": [
        "\n",
        "Iteration: 102 Error 0.00120798135429"
       ]
      },
      {
       "output_type": "stream",
       "stream": "stdout",
       "text": [
        "\n",
        "Iteration: 103 Error 0.00119900668641"
       ]
      },
      {
       "output_type": "stream",
       "stream": "stdout",
       "text": [
        "\n",
        "Iteration: 104 Error 0.00112905698887"
       ]
      },
      {
       "output_type": "stream",
       "stream": "stdout",
       "text": [
        "\n",
        "Iteration: 105 Error 0.00112161847125"
       ]
      },
      {
       "output_type": "stream",
       "stream": "stdout",
       "text": [
        "\n",
        "Iteration: 106 Error 0.00111270994237"
       ]
      },
      {
       "output_type": "stream",
       "stream": "stdout",
       "text": [
        "\n",
        "Iteration: 107 Error 0.00108695834564"
       ]
      },
      {
       "output_type": "stream",
       "stream": "stdout",
       "text": [
        "\n",
        "Iteration: 108 Error 0.0010517911764"
       ]
      },
      {
       "output_type": "stream",
       "stream": "stdout",
       "text": [
        "\n",
        "Iteration: 109 Error 0.00103479230924"
       ]
      },
      {
       "output_type": "stream",
       "stream": "stdout",
       "text": [
        "\n",
        "Iteration: 110 Error 0.00100878656932"
       ]
      },
      {
       "output_type": "stream",
       "stream": "stdout",
       "text": [
        "\n",
        "Iteration: 111 Error 0.00098632984206"
       ]
      },
      {
       "output_type": "stream",
       "stream": "stdout",
       "text": [
        "\n"
       ]
      }
     ],
     "prompt_number": 5
    },
    {
     "cell_type": "heading",
     "level": 6,
     "metadata": {},
     "source": [
      "Testing the network predictions"
     ]
    },
    {
     "cell_type": "code",
     "collapsed": false,
     "input": [
      "    print \"#####\\nTEST SET PREDICTIONS\\n#####\"\n",
      "    for img, truth, imgname in test:\n",
      "        result = net.activate(loadImage(img))\n",
      "        prediction = tuple([int(round(r)) for r in result])\n",
      "        #print prediction\n",
      "        #print truth\n",
      "        #print \"Result (%2.4f, %2.4f): (%2.4f, %2.4f)\" %(truth[0], truth[1], result[0], result[1]), imgname\n",
      "        print \"\\n\",imgname\n",
      "        #print \"true:     \", truth\n",
      "        #print \"predicted: (%d, %d, %d, %d, %d)\" %( round(result[0]), round(result[1]), round(result[2]), round(result[3]),  round(result[4]))\n",
      "        if prediction in truth_dict:\n",
      "            print \"true:     \", truth_dict[truth]\n",
      "            print \"predicted:\", truth_dict[prediction]\n",
      "        else:\n",
      "            print \"Predicted value not allowed\"\n",
      "            \n",
      "    for img, truth, imgname in test:\n",
      "        result = net.activate(loadImage(img))\n",
      "        prediction = tuple([int(round(r)) for r in result])\n",
      "        if prediction in truth_dict:\n",
      "            print \"Picture %s has a %s\" %(img.split('/')[-1], truth_dict[prediction])\n",
      "        else:\n",
      "            print \"Picture %s was misclassified\" %img.split('/')[-1]\n",
      "        \n",
      "#     print \"#####\\nTRAINING SET PREDICTIONS\\n#####\"\n",
      "#     for img, truth, imgname in train:\n",
      "#         result = net.activate(loadImage(img))\n",
      "#         #print \"Result (%2.4f, %2.4f): (%2.4f, %2.4f)\" %(truth[0], truth[1], result[0], result[1]), imgname"
     ],
     "language": "python",
     "metadata": {},
     "outputs": [
      {
       "output_type": "stream",
       "stream": "stdout",
       "text": [
        "#####\n",
        "TEST SET PREDICTIONS\n",
        "#####\n",
        "\n",
        "giraffe_9.png\n",
        "true:      giraffe\n",
        "predicted: giraffe\n",
        "\n",
        "croc_10.png\n",
        "Predicted value not allowed\n",
        "\n",
        "giraffe_13.png\n",
        "true:      giraffe\n",
        "predicted: dog\n",
        "\n",
        "giraffe_2.png\n",
        "true:      giraffe\n",
        "predicted: dog\n",
        "\n"
       ]
      },
      {
       "output_type": "stream",
       "stream": "stdout",
       "text": [
        "croc_12.png\n",
        "true:      alligator\n",
        "predicted: alligator\n",
        "\n",
        "dog_8.png\n",
        "true:      dog\n",
        "predicted: dog\n",
        "\n",
        "gorilla_8.png\n",
        "true:      gorilla\n",
        "predicted: dog\n",
        "\n"
       ]
      },
      {
       "output_type": "stream",
       "stream": "stdout",
       "text": [
        "gorilla_4.png\n",
        "true:      gorilla\n",
        "predicted: gorilla\n",
        "\n",
        "cat_7.png\n",
        "true:      cat\n",
        "predicted: giraffe\n",
        "\n",
        "cat_2.png\n",
        "true:      cat\n",
        "predicted: giraffe\n",
        "\n",
        "dog_13.png\n",
        "Predicted value not allowed\n",
        "\n"
       ]
      },
      {
       "output_type": "stream",
       "stream": "stdout",
       "text": [
        "croc_3.png\n",
        "true:      alligator\n",
        "predicted: giraffe\n",
        "\n",
        "dog_3.png\n",
        "Predicted value not allowed\n",
        "\n",
        "dog_11.png\n",
        "true:      dog\n",
        "predicted: giraffe\n",
        "\n"
       ]
      },
      {
       "output_type": "stream",
       "stream": "stdout",
       "text": [
        "croc_6.png\n",
        "Predicted value not allowed\n",
        "\n",
        "giraffe_11.png\n",
        "true:      giraffe\n",
        "predicted: dog\n",
        "\n",
        "gorilla_2.png\n",
        "true:      gorilla\n",
        "predicted: alligator\n",
        "\n"
       ]
      },
      {
       "output_type": "stream",
       "stream": "stdout",
       "text": [
        "cat_8.png\n",
        "true:      cat\n",
        "predicted: gorilla\n",
        "\n",
        "cat_10.png\n",
        "Predicted value not allowed\n",
        "\n",
        "gorilla_1.png\n",
        "Predicted value not allowed\n",
        "Picture giraffe_9.png has a giraffe\n",
        "Picture croc_10.png was misclassified"
       ]
      },
      {
       "output_type": "stream",
       "stream": "stdout",
       "text": [
        "\n",
        "Picture giraffe_13.png has a dog\n",
        "Picture giraffe_2.png has a dog\n",
        "Picture croc_12.png has a alligator\n",
        "Picture dog_8.png has a dog"
       ]
      },
      {
       "output_type": "stream",
       "stream": "stdout",
       "text": [
        "\n",
        "Picture gorilla_8.png has a dog\n",
        "Picture gorilla_4.png has a gorilla\n",
        "Picture cat_7.png has a giraffe\n",
        "Picture cat_2.png has a giraffe"
       ]
      },
      {
       "output_type": "stream",
       "stream": "stdout",
       "text": [
        "\n",
        "Picture dog_13.png was misclassified\n",
        "Picture croc_3.png has a giraffe\n",
        "Picture dog_3.png was misclassified\n",
        "Picture dog_11.png has a giraffe"
       ]
      },
      {
       "output_type": "stream",
       "stream": "stdout",
       "text": [
        "\n",
        "Picture croc_6.png was misclassified\n",
        "Picture giraffe_11.png has a dog\n",
        "Picture gorilla_2.png has a alligator\n",
        "Picture cat_8.png has a gorilla"
       ]
      },
      {
       "output_type": "stream",
       "stream": "stdout",
       "text": [
        "\n",
        "Picture cat_10.png was misclassified\n",
        "Picture gorilla_1.png was misclassified\n"
       ]
      }
     ],
     "prompt_number": 7
    },
    {
     "cell_type": "code",
     "collapsed": false,
     "input": [
      "print \"%d\" %round(.6)"
     ],
     "language": "python",
     "metadata": {},
     "outputs": [
      {
       "output_type": "stream",
       "stream": "stdout",
       "text": [
        "1\n"
       ]
      }
     ],
     "prompt_number": 7
    },
    {
     "cell_type": "code",
     "collapsed": false,
     "input": [
      "tuple([1,2,3])"
     ],
     "language": "python",
     "metadata": {},
     "outputs": [
      {
       "metadata": {},
       "output_type": "pyout",
       "prompt_number": 28,
       "text": [
        "(1, 2, 3)"
       ]
      },
      {
       "output_type": "stream",
       "stream": "stdout",
       "text": [
        "\n"
       ]
      }
     ],
     "prompt_number": 28
    },
    {
     "cell_type": "code",
     "collapsed": false,
     "input": [],
     "language": "python",
     "metadata": {},
     "outputs": []
    }
   ],
   "metadata": {}
  }
 ]
}