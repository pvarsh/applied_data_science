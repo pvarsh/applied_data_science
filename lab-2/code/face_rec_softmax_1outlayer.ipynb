{
 "metadata": {
  "name": "",
  "signature": "sha256:b098ec2455dfd27c1b5db76a0a30bee7b7d899b65f83fbb410ad726945336f9e"
 },
 "nbformat": 3,
 "nbformat_minor": 0,
 "worksheets": [
  {
   "cells": [
    {
     "cell_type": "code",
     "collapsed": false,
     "input": [
      "from pybrain.datasets.supervised import SupervisedDataSet \n",
      "from pybrain.tools.shortcuts import buildNetwork\n",
      "from pybrain.supervised.trainers import BackpropTrainer\n",
      "from pybrain.structure import SigmoidLayer\n",
      "from pybrain.structure import SoftmaxLayer\n",
      "\n",
      "import cv2\n",
      "import glob\n",
      "import os\n",
      "import random\n",
      "\n",
      " \n",
      "def loadImage(path):\n",
      "    im = cv2.imread(path)\n",
      "    return flatten(im)\n",
      " \n",
      "def flatten(x):\n",
      "    result = []\n",
      "    for el in x:\n",
      "        if hasattr(el, \"__iter__\") and not isinstance(el, basestring):\n",
      "            result.extend(flatten(el))\n",
      "        else:\n",
      "            result.append(el)\n",
      "    return result\n",
      "\n",
      "def print_f_list(flist, name = \"\"):\n",
      "    print \"\\n### \", name\n",
      "    for f, g1, g2 in flist:\n",
      "        print f.split('/')[-1] \n",
      " \n",
      "if __name__ == \"__main__\":\n",
      "    path_pos = \"/Users/petervarshavsky/Documents/Git_NYU/applied_data_science/lab-2/images/faces/my-face/resized/\"\n",
      "    path_neg = \"/Users/petervarshavsky/Documents/Git_NYU/applied_data_science/lab-2/images/other_faces_resized/\"\n",
      "   \n",
      "    # truth:positive\n",
      "    true_val = 1\n",
      "    false_val = 0\n",
      " \n",
      "    # making training set of positive images\n",
      "    files_pos = [(f, true_val, f.split('/')[-1]) for f in glob.glob(path_pos + \"*.png\")]\n",
      "    random.shuffle(files_pos)\n",
      "    splt = int(len(files_pos) * 2.0/3)\n",
      "    files_pos_train = files_pos[:splt]\n",
      "    files_pos_test  = files_pos[splt:]\n",
      "\n",
      "    # making training set of negative images\n",
      "    files_neg = [(f, false_val, f.split('/')[-1]) for f in glob.glob(path_neg + \"*.png\")]\n",
      "    random.shuffle(files_neg)\n",
      "    splt = int(len(files_neg) * 2.0/3)\n",
      "    files_neg_train = files_neg[:splt]\n",
      "    files_neg_test  = files_neg[splt:]\n",
      "   \n",
      "    print_f_list(files_neg_train, \"files_neg_train\")\n",
      "    print_f_list(files_neg_test, \"files_neg_test\")\n",
      "    print_f_list(files_pos_train, \"files_pos_train\")\n",
      "    print_f_list(files_pos_test, \"files_pos_test\")\n",
      " \n",
      "    # putting together training and test sets\n",
      "    train = files_pos_train + files_neg_train\n",
      "    test = files_pos_test + files_neg_test\n",
      "    random.shuffle(train)\n",
      "    random.shuffle(test)\n",
      "    \n",
      "    # first image to start the training set\n",
      "    f, truth, _ = train.pop()\n",
      "    t = loadImage(f)\n",
      "    \n",
      "    # build network\n",
      "    net = buildNetwork(len(t), int(.05*len(t)), int(0.05*len(t)), 1, bias = True, outclass = SoftmaxLayer)\n",
      "   \n",
      "    # initialize data set\n",
      "    ds = SupervisedDataSet(len(t), 1)\n",
      "    ds.addSample(t, truth)\n",
      "    # add the rest of elements to data set\n",
      "    for img, truth, imgname in train:\n",
      "        print truth, imgname\n",
      "        ds.addSample(loadImage(img), truth)\n",
      "    \n",
      "    # train the network\n",
      "    trainer = BackpropTrainer(net, ds)\n",
      "    error = 10 # was 10\n",
      "    iteration = 0\n",
      "    while error > 0.01: # was 0.0001 \n",
      "        error = trainer.train()\n",
      "        iteration += 1\n",
      "        print \"Iteration: {0} Error {1}\".format(iteration, error)\n",
      "    \n",
      "    for img, truth, imgname in test:\n",
      "        result = net.activate(loadImage(img))\n",
      "        print \"Result (%2.4f): (%2.4f)\" %(truth, result), imgname\n",
      " "
     ],
     "language": "python",
     "metadata": {},
     "outputs": [
      {
       "output_type": "stream",
       "stream": "stdout",
       "text": [
        "\n",
        "###  files_neg_train\n",
        "grouchocopy.png\n",
        "janejacobscopy.png\n",
        "groucho_old.png\n",
        "stvincentcopy.png\n",
        "garbuscopy.png\n",
        "harpocopy.png\n",
        "coltranecopy.png\n",
        "matissecopy.png\n",
        "caetanocopy.png\n",
        "einsteincopy.png\n",
        "chaplincopy.png\n",
        "\n",
        "###  files_neg_test\n",
        "oldgrouchocopy.png\n",
        "frank-zappacopy.png\n",
        "picassocopy.png\n",
        "thelonious.png\n",
        "milescopy.png\n",
        "turingcopy.png\n",
        "\n",
        "###  files_pos_train\n",
        "pv6copy.png\n",
        "pv8copy.png\n",
        "pv21copy.png\n",
        "pv9copy.png\n",
        "pv10copy.png\n",
        "pv14copy.png\n",
        "pv1copy.png\n",
        "pv11copy.png\n",
        "pv12copy.png\n",
        "pv23copy.png\n",
        "pv22copy.png\n",
        "pv7copy.png\n",
        "pv13copy.png\n",
        "\n",
        "###  files_pos_test\n",
        "pv2copy.png\n",
        "pv5copy.png\n",
        "pv24copy.png\n",
        "pv20copy.png\n",
        "pv16copy.png\n",
        "pv4copy.png\n",
        "pv3copy.png\n",
        "1"
       ]
      },
      {
       "output_type": "stream",
       "stream": "stdout",
       "text": [
        " pv9copy.png\n",
        "0 stvincentcopy.png\n",
        "1 pv11copy.png\n",
        "1 pv10copy.png\n",
        "0"
       ]
      },
      {
       "output_type": "stream",
       "stream": "stdout",
       "text": [
        " einsteincopy.png\n",
        "0 garbuscopy.png\n",
        "1 pv22copy.png\n",
        "1"
       ]
      },
      {
       "output_type": "stream",
       "stream": "stdout",
       "text": [
        " pv13copy.png\n",
        "0 grouchocopy.png\n",
        "1 pv8copy.png\n",
        "0 harpocopy.png\n",
        "0"
       ]
      },
      {
       "output_type": "stream",
       "stream": "stdout",
       "text": [
        " caetanocopy.png\n",
        "0 coltranecopy.png\n",
        "0 matissecopy.png\n",
        "1 pv7copy.png\n",
        "1 pv6copy.png\n",
        "0"
       ]
      },
      {
       "output_type": "stream",
       "stream": "stdout",
       "text": [
        " groucho_old.png\n",
        "0 chaplincopy.png\n",
        "0 janejacobscopy.png\n",
        "1 pv12copy.png\n",
        "1"
       ]
      },
      {
       "output_type": "stream",
       "stream": "stdout",
       "text": [
        " pv21copy.png\n",
        "1 pv14copy.png\n",
        "1 pv1copy.png\n",
        "Iteration: 1 Error 0.229166666667"
       ]
      },
      {
       "output_type": "stream",
       "stream": "stdout",
       "text": [
        "\n",
        "Iteration: 2 Error 0.229166666667"
       ]
      },
      {
       "output_type": "stream",
       "stream": "stdout",
       "text": [
        "\n",
        "Iteration: 3 Error 0.229166666667"
       ]
      },
      {
       "output_type": "stream",
       "stream": "stdout",
       "text": [
        "\n",
        "Iteration: 4 Error 0.229166666667"
       ]
      },
      {
       "output_type": "stream",
       "stream": "stdout",
       "text": [
        "\n",
        "Iteration: 5 Error 0.229166666667"
       ]
      },
      {
       "output_type": "stream",
       "stream": "stdout",
       "text": [
        "\n",
        "Iteration: 6 Error 0.229166666667"
       ]
      },
      {
       "output_type": "stream",
       "stream": "stdout",
       "text": [
        "\n",
        "Iteration: 7 Error 0.229166666667"
       ]
      },
      {
       "output_type": "stream",
       "stream": "stdout",
       "text": [
        "\n"
       ]
      },
      {
       "ename": "KeyboardInterrupt",
       "evalue": "",
       "output_type": "pyerr",
       "traceback": [
        "\u001b[0;31m---------------------------------------------------------------------------\u001b[0m\n\u001b[0;31mKeyboardInterrupt\u001b[0m                         Traceback (most recent call last)",
        "\u001b[0;32m<ipython-input-4-0b587888744b>\u001b[0m in \u001b[0;36m<module>\u001b[0;34m()\u001b[0m\n\u001b[1;32m     82\u001b[0m     \u001b[0miteration\u001b[0m \u001b[0;34m=\u001b[0m \u001b[0;36m0\u001b[0m\u001b[0;34m\u001b[0m\u001b[0m\n\u001b[1;32m     83\u001b[0m     \u001b[0;32mwhile\u001b[0m \u001b[0merror\u001b[0m \u001b[0;34m>\u001b[0m \u001b[0;36m0.01\u001b[0m\u001b[0;34m:\u001b[0m \u001b[0;31m# was 0.0001\u001b[0m\u001b[0;34m\u001b[0m\u001b[0m\n\u001b[0;32m---> 84\u001b[0;31m         \u001b[0merror\u001b[0m \u001b[0;34m=\u001b[0m \u001b[0mtrainer\u001b[0m\u001b[0;34m.\u001b[0m\u001b[0mtrain\u001b[0m\u001b[0;34m(\u001b[0m\u001b[0;34m)\u001b[0m\u001b[0;34m\u001b[0m\u001b[0m\n\u001b[0m\u001b[1;32m     85\u001b[0m         \u001b[0miteration\u001b[0m \u001b[0;34m+=\u001b[0m \u001b[0;36m1\u001b[0m\u001b[0;34m\u001b[0m\u001b[0m\n\u001b[1;32m     86\u001b[0m         \u001b[0;32mprint\u001b[0m \u001b[0;34m\"Iteration: {0} Error {1}\"\u001b[0m\u001b[0;34m.\u001b[0m\u001b[0mformat\u001b[0m\u001b[0;34m(\u001b[0m\u001b[0miteration\u001b[0m\u001b[0;34m,\u001b[0m \u001b[0merror\u001b[0m\u001b[0;34m)\u001b[0m\u001b[0;34m\u001b[0m\u001b[0m\n",
        "\u001b[0;32m/Users/petervarshavsky/Library/Enthought/Canopy_64bit/User/lib/python2.7/site-packages/pybrain/supervised/trainers/backprop.pyc\u001b[0m in \u001b[0;36mtrain\u001b[0;34m(self)\u001b[0m\n\u001b[1;32m     57\u001b[0m         \u001b[0mshuffle\u001b[0m\u001b[0;34m(\u001b[0m\u001b[0mshuffledSequences\u001b[0m\u001b[0;34m)\u001b[0m\u001b[0;34m\u001b[0m\u001b[0m\n\u001b[1;32m     58\u001b[0m         \u001b[0;32mfor\u001b[0m \u001b[0mseq\u001b[0m \u001b[0;32min\u001b[0m \u001b[0mshuffledSequences\u001b[0m\u001b[0;34m:\u001b[0m\u001b[0;34m\u001b[0m\u001b[0m\n\u001b[0;32m---> 59\u001b[0;31m             \u001b[0me\u001b[0m\u001b[0;34m,\u001b[0m \u001b[0mp\u001b[0m \u001b[0;34m=\u001b[0m \u001b[0mself\u001b[0m\u001b[0;34m.\u001b[0m\u001b[0m_calcDerivs\u001b[0m\u001b[0;34m(\u001b[0m\u001b[0mseq\u001b[0m\u001b[0;34m)\u001b[0m\u001b[0;34m\u001b[0m\u001b[0m\n\u001b[0m\u001b[1;32m     60\u001b[0m             \u001b[0merrors\u001b[0m \u001b[0;34m+=\u001b[0m \u001b[0me\u001b[0m\u001b[0;34m\u001b[0m\u001b[0m\n\u001b[1;32m     61\u001b[0m             \u001b[0mponderation\u001b[0m \u001b[0;34m+=\u001b[0m \u001b[0mp\u001b[0m\u001b[0;34m\u001b[0m\u001b[0m\n",
        "\u001b[0;32m/Users/petervarshavsky/Library/Enthought/Canopy_64bit/User/lib/python2.7/site-packages/pybrain/supervised/trainers/backprop.pyc\u001b[0m in \u001b[0;36m_calcDerivs\u001b[0;34m(self, seq)\u001b[0m\n\u001b[1;32m    101\u001b[0m                 \u001b[0;31m# ndarray class fixes something,\u001b[0m\u001b[0;34m\u001b[0m\u001b[0;34m\u001b[0m\u001b[0m\n\u001b[1;32m    102\u001b[0m                 \u001b[0mstr\u001b[0m\u001b[0;34m(\u001b[0m\u001b[0mouterr\u001b[0m\u001b[0;34m)\u001b[0m\u001b[0;34m\u001b[0m\u001b[0m\n\u001b[0;32m--> 103\u001b[0;31m                 \u001b[0mself\u001b[0m\u001b[0;34m.\u001b[0m\u001b[0mmodule\u001b[0m\u001b[0;34m.\u001b[0m\u001b[0mbackActivate\u001b[0m\u001b[0;34m(\u001b[0m\u001b[0mouterr\u001b[0m\u001b[0;34m)\u001b[0m\u001b[0;34m\u001b[0m\u001b[0m\n\u001b[0m\u001b[1;32m    104\u001b[0m \u001b[0;34m\u001b[0m\u001b[0m\n\u001b[1;32m    105\u001b[0m         \u001b[0;32mreturn\u001b[0m \u001b[0merror\u001b[0m\u001b[0;34m,\u001b[0m \u001b[0mponderation\u001b[0m\u001b[0;34m\u001b[0m\u001b[0m\n",
        "\u001b[0;32m/Users/petervarshavsky/Library/Enthought/Canopy_64bit/User/lib/python2.7/site-packages/pybrain/structure/modules/module.pyc\u001b[0m in \u001b[0;36mbackActivate\u001b[0;34m(self, outerr)\u001b[0m\n\u001b[1;32m    111\u001b[0m         the error on the input.\"\"\"\n\u001b[1;32m    112\u001b[0m         \u001b[0mself\u001b[0m\u001b[0;34m.\u001b[0m\u001b[0moutputerror\u001b[0m\u001b[0;34m[\u001b[0m\u001b[0mself\u001b[0m\u001b[0;34m.\u001b[0m\u001b[0moffset\u001b[0m\u001b[0;34m]\u001b[0m \u001b[0;34m=\u001b[0m \u001b[0mouterr\u001b[0m\u001b[0;34m\u001b[0m\u001b[0m\n\u001b[0;32m--> 113\u001b[0;31m         \u001b[0mself\u001b[0m\u001b[0;34m.\u001b[0m\u001b[0mbackward\u001b[0m\u001b[0;34m(\u001b[0m\u001b[0;34m)\u001b[0m\u001b[0;34m\u001b[0m\u001b[0m\n\u001b[0m\u001b[1;32m    114\u001b[0m         \u001b[0;32mreturn\u001b[0m \u001b[0mself\u001b[0m\u001b[0;34m.\u001b[0m\u001b[0minputerror\u001b[0m\u001b[0;34m[\u001b[0m\u001b[0mself\u001b[0m\u001b[0;34m.\u001b[0m\u001b[0moffset\u001b[0m\u001b[0;34m]\u001b[0m\u001b[0;34m.\u001b[0m\u001b[0mcopy\u001b[0m\u001b[0;34m(\u001b[0m\u001b[0;34m)\u001b[0m\u001b[0;34m\u001b[0m\u001b[0m\n\u001b[1;32m    115\u001b[0m \u001b[0;34m\u001b[0m\u001b[0m\n",
        "\u001b[0;32m/Users/petervarshavsky/Library/Enthought/Canopy_64bit/User/lib/python2.7/site-packages/pybrain/structure/modules/module.pyc\u001b[0m in \u001b[0;36mbackward\u001b[0;34m(self)\u001b[0m\n\u001b[1;32m     78\u001b[0m                                      \u001b[0mself\u001b[0m\u001b[0;34m.\u001b[0m\u001b[0minputerror\u001b[0m\u001b[0;34m[\u001b[0m\u001b[0mself\u001b[0m\u001b[0;34m.\u001b[0m\u001b[0moffset\u001b[0m\u001b[0;34m]\u001b[0m\u001b[0;34m,\u001b[0m\u001b[0;34m\u001b[0m\u001b[0m\n\u001b[1;32m     79\u001b[0m                                      \u001b[0mself\u001b[0m\u001b[0;34m.\u001b[0m\u001b[0moutputbuffer\u001b[0m\u001b[0;34m[\u001b[0m\u001b[0mself\u001b[0m\u001b[0;34m.\u001b[0m\u001b[0moffset\u001b[0m\u001b[0;34m]\u001b[0m\u001b[0;34m,\u001b[0m\u001b[0;34m\u001b[0m\u001b[0m\n\u001b[0;32m---> 80\u001b[0;31m                                      self.inputbuffer[self.offset])        \n\u001b[0m\u001b[1;32m     81\u001b[0m \u001b[0;34m\u001b[0m\u001b[0m\n\u001b[1;32m     82\u001b[0m     \u001b[0;32mdef\u001b[0m \u001b[0mreset\u001b[0m\u001b[0;34m(\u001b[0m\u001b[0mself\u001b[0m\u001b[0;34m)\u001b[0m\u001b[0;34m:\u001b[0m\u001b[0;34m\u001b[0m\u001b[0m\n",
        "\u001b[0;32m/Users/petervarshavsky/Library/Enthought/Canopy_64bit/User/lib/python2.7/site-packages/pybrain/structure/networks/feedforward.pyc\u001b[0m in \u001b[0;36m_backwardImplementation\u001b[0;34m(self, outerr, inerr, outbuf, inbuf)\u001b[0m\n\u001b[1;32m     48\u001b[0m         \u001b[0;32mfor\u001b[0m \u001b[0mm\u001b[0m \u001b[0;32min\u001b[0m \u001b[0mreversed\u001b[0m\u001b[0;34m(\u001b[0m\u001b[0mself\u001b[0m\u001b[0;34m.\u001b[0m\u001b[0mmodulesSorted\u001b[0m\u001b[0;34m)\u001b[0m\u001b[0;34m:\u001b[0m\u001b[0;34m\u001b[0m\u001b[0m\n\u001b[1;32m     49\u001b[0m             \u001b[0;32mfor\u001b[0m \u001b[0mc\u001b[0m \u001b[0;32min\u001b[0m \u001b[0mself\u001b[0m\u001b[0;34m.\u001b[0m\u001b[0mconnections\u001b[0m\u001b[0;34m[\u001b[0m\u001b[0mm\u001b[0m\u001b[0;34m]\u001b[0m\u001b[0;34m:\u001b[0m\u001b[0;34m\u001b[0m\u001b[0m\n\u001b[0;32m---> 50\u001b[0;31m                 \u001b[0mc\u001b[0m\u001b[0;34m.\u001b[0m\u001b[0mbackward\u001b[0m\u001b[0;34m(\u001b[0m\u001b[0;34m)\u001b[0m\u001b[0;34m\u001b[0m\u001b[0m\n\u001b[0m\u001b[1;32m     51\u001b[0m             \u001b[0mm\u001b[0m\u001b[0;34m.\u001b[0m\u001b[0mbackward\u001b[0m\u001b[0;34m(\u001b[0m\u001b[0;34m)\u001b[0m\u001b[0;34m\u001b[0m\u001b[0m\n\u001b[1;32m     52\u001b[0m \u001b[0;34m\u001b[0m\u001b[0m\n",
        "\u001b[0;32m/Users/petervarshavsky/Library/Enthought/Canopy_64bit/User/lib/python2.7/site-packages/pybrain/structure/connections/connection.pyc\u001b[0m in \u001b[0;36mbackward\u001b[0;34m(self, inmodOffset, outmodOffset)\u001b[0m\n\u001b[1;32m     91\u001b[0m             \u001b[0mself\u001b[0m\u001b[0;34m.\u001b[0m\u001b[0moutmod\u001b[0m\u001b[0;34m.\u001b[0m\u001b[0minputerror\u001b[0m\u001b[0;34m[\u001b[0m\u001b[0moutmodOffset\u001b[0m\u001b[0;34m,\u001b[0m \u001b[0mself\u001b[0m\u001b[0;34m.\u001b[0m\u001b[0moutSliceFrom\u001b[0m\u001b[0;34m:\u001b[0m\u001b[0mself\u001b[0m\u001b[0;34m.\u001b[0m\u001b[0moutSliceTo\u001b[0m\u001b[0;34m]\u001b[0m\u001b[0;34m,\u001b[0m\u001b[0;34m\u001b[0m\u001b[0m\n\u001b[1;32m     92\u001b[0m             \u001b[0mself\u001b[0m\u001b[0;34m.\u001b[0m\u001b[0minmod\u001b[0m\u001b[0;34m.\u001b[0m\u001b[0moutputerror\u001b[0m\u001b[0;34m[\u001b[0m\u001b[0minmodOffset\u001b[0m\u001b[0;34m,\u001b[0m \u001b[0mself\u001b[0m\u001b[0;34m.\u001b[0m\u001b[0minSliceFrom\u001b[0m\u001b[0;34m:\u001b[0m\u001b[0mself\u001b[0m\u001b[0;34m.\u001b[0m\u001b[0minSliceTo\u001b[0m\u001b[0;34m]\u001b[0m\u001b[0;34m,\u001b[0m\u001b[0;34m\u001b[0m\u001b[0m\n\u001b[0;32m---> 93\u001b[0;31m             self.inmod.outputbuffer[inmodOffset, self.inSliceFrom:self.inSliceTo])\n\u001b[0m\u001b[1;32m     94\u001b[0m \u001b[0;34m\u001b[0m\u001b[0m\n\u001b[1;32m     95\u001b[0m     \u001b[0;32mdef\u001b[0m \u001b[0m_forwardImplementation\u001b[0m\u001b[0;34m(\u001b[0m\u001b[0mself\u001b[0m\u001b[0;34m,\u001b[0m \u001b[0minbuf\u001b[0m\u001b[0;34m,\u001b[0m \u001b[0moutbuf\u001b[0m\u001b[0;34m)\u001b[0m\u001b[0;34m:\u001b[0m\u001b[0;34m\u001b[0m\u001b[0m\n",
        "\u001b[0;32m/Users/petervarshavsky/Library/Enthought/Canopy_64bit/User/lib/python2.7/site-packages/pybrain/structure/connections/full.pyc\u001b[0m in \u001b[0;36m_backwardImplementation\u001b[0;34m(self, outerr, inerr, inbuf)\u001b[0m\n\u001b[1;32m     22\u001b[0m         \u001b[0minerr\u001b[0m \u001b[0;34m+=\u001b[0m \u001b[0mdot\u001b[0m\u001b[0;34m(\u001b[0m\u001b[0mreshape\u001b[0m\u001b[0;34m(\u001b[0m\u001b[0mself\u001b[0m\u001b[0;34m.\u001b[0m\u001b[0mparams\u001b[0m\u001b[0;34m,\u001b[0m \u001b[0;34m(\u001b[0m\u001b[0mself\u001b[0m\u001b[0;34m.\u001b[0m\u001b[0moutdim\u001b[0m\u001b[0;34m,\u001b[0m \u001b[0mself\u001b[0m\u001b[0;34m.\u001b[0m\u001b[0mindim\u001b[0m\u001b[0;34m)\u001b[0m\u001b[0;34m)\u001b[0m\u001b[0;34m.\u001b[0m\u001b[0mT\u001b[0m\u001b[0;34m,\u001b[0m \u001b[0mouterr\u001b[0m\u001b[0;34m)\u001b[0m\u001b[0;34m\u001b[0m\u001b[0m\n\u001b[1;32m     23\u001b[0m         \u001b[0mds\u001b[0m \u001b[0;34m=\u001b[0m \u001b[0mself\u001b[0m\u001b[0;34m.\u001b[0m\u001b[0mderivs\u001b[0m\u001b[0;34m\u001b[0m\u001b[0m\n\u001b[0;32m---> 24\u001b[0;31m         \u001b[0mds\u001b[0m \u001b[0;34m+=\u001b[0m \u001b[0mouter\u001b[0m\u001b[0;34m(\u001b[0m\u001b[0minbuf\u001b[0m\u001b[0;34m,\u001b[0m \u001b[0mouterr\u001b[0m\u001b[0;34m)\u001b[0m\u001b[0;34m.\u001b[0m\u001b[0mT\u001b[0m\u001b[0;34m.\u001b[0m\u001b[0mflatten\u001b[0m\u001b[0;34m(\u001b[0m\u001b[0;34m)\u001b[0m\u001b[0;34m\u001b[0m\u001b[0m\n\u001b[0m\u001b[1;32m     25\u001b[0m \u001b[0;34m\u001b[0m\u001b[0m\n\u001b[1;32m     26\u001b[0m     \u001b[0;32mdef\u001b[0m \u001b[0mwhichBuffers\u001b[0m\u001b[0;34m(\u001b[0m\u001b[0mself\u001b[0m\u001b[0;34m,\u001b[0m \u001b[0mparamIndex\u001b[0m\u001b[0;34m)\u001b[0m\u001b[0;34m:\u001b[0m\u001b[0;34m\u001b[0m\u001b[0m\n",
        "\u001b[0;31mKeyboardInterrupt\u001b[0m: "
       ]
      }
     ],
     "prompt_number": 4
    },
    {
     "cell_type": "code",
     "collapsed": false,
     "input": [],
     "language": "python",
     "metadata": {},
     "outputs": []
    }
   ],
   "metadata": {}
  }
 ]
}