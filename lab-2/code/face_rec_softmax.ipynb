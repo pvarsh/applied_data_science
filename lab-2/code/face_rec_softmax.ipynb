{
 "metadata": {
  "name": "",
  "signature": "sha256:16751944a2abd1d7202446accc4b6bf76ea187df1c2c966bdac98b82d56adbde"
 },
 "nbformat": 3,
 "nbformat_minor": 0,
 "worksheets": [
  {
   "cells": [
    {
     "cell_type": "heading",
     "level": 6,
     "metadata": {},
     "source": [
      "Setting up and training the network."
     ]
    },
    {
     "cell_type": "code",
     "collapsed": false,
     "input": [
      "from pybrain.datasets.supervised import SupervisedDataSet \n",
      "from pybrain.tools.shortcuts import buildNetwork\n",
      "from pybrain.supervised.trainers import BackpropTrainer\n",
      "from pybrain.structure import SigmoidLayer\n",
      "from pybrain.structure import SoftmaxLayer\n",
      "\n",
      "import cv2\n",
      "import glob\n",
      "import os\n",
      "import random\n",
      "\n",
      " \n",
      "def loadImage(path):\n",
      "    im = cv2.imread(path)\n",
      "    return flatten(im)\n",
      " \n",
      "def flatten(x):\n",
      "    result = []\n",
      "    for el in x:\n",
      "        if hasattr(el, \"__iter__\") and not isinstance(el, basestring):\n",
      "            result.extend(flatten(el))\n",
      "        else:\n",
      "            result.append(el)\n",
      "    return result\n",
      "\n",
      "def print_f_list(flist, name = \"\"):\n",
      "    print \"\\n### \", name\n",
      "    for f, g1, g2 in flist:\n",
      "        print f.split('/')[-1] \n",
      " \n",
      "if __name__ == \"__main__\":\n",
      "    path_pos = \"/Users/petervarshavsky/Documents/Git_NYU/applied_data_science/lab-2/images/faces/my-face/resized/\"\n",
      "    path_neg = \"/Users/petervarshavsky/Documents/Git_NYU/applied_data_science/lab-2/images/other_faces_resized/\"\n",
      "   \n",
      "    # truth:positive\n",
      "    true_val = (1,0)\n",
      "    false_val = (0,1)\n",
      " \n",
      "    # making training set of positive images\n",
      "    files_pos = [(f, true_val, f.split('/')[-1]) for f in glob.glob(path_pos + \"*.png\")]\n",
      "    random.shuffle(files_pos)\n",
      "    splt = int(len(files_pos) * 2.0/3)\n",
      "    files_pos_train = files_pos[:splt]\n",
      "    files_pos_test  = files_pos[splt:]\n",
      "\n",
      "    # making training set of negative images\n",
      "    files_neg = [(f, false_val, f.split('/')[-1]) for f in glob.glob(path_neg + \"*.png\")]\n",
      "    random.shuffle(files_neg)\n",
      "    splt = int(len(files_neg) * 2.0/3)\n",
      "    files_neg_train = files_neg[:splt]\n",
      "    files_neg_test  = files_neg[splt:]\n",
      "   \n",
      "    print_f_list(files_neg_train, \"files_neg_train\")\n",
      "    print_f_list(files_neg_test, \"files_neg_test\")\n",
      "    print_f_list(files_pos_train, \"files_pos_train\")\n",
      "    print_f_list(files_pos_test, \"files_pos_test\")\n",
      " \n",
      "    # putting together training and test sets\n",
      "    train = files_pos_train + files_neg_train\n",
      "    test = files_pos_test + files_neg_test\n",
      "    random.shuffle(train)\n",
      "    random.shuffle(test)\n",
      "    \n",
      "    # first image to start the training set\n",
      "    f, truth, _ = train.pop()\n",
      "    t = loadImage(f)\n",
      "    \n",
      "    # build network\n",
      "    net = buildNetwork(len(t), int(.03*len(t)), 2, bias = True, outclass = SoftmaxLayer)\n",
      "   \n",
      "    # initialize data set\n",
      "    ds = SupervisedDataSet(len(t), 2)\n",
      "    ds.addSample(t, truth)\n",
      "    # add the rest of elements to data set\n",
      "    for img, truth, imgname in train:\n",
      "        #print truth, imgname\n",
      "        ds.addSample(loadImage(img), truth)\n",
      "    \n",
      "    # train the network\n",
      "    trainer = BackpropTrainer(net, ds)\n",
      "    error = 10 # was 10\n",
      "    iteration = 0\n",
      "    while error > 0.001: # was 0.0001 \n",
      "        error = trainer.train()\n",
      "        iteration += 1\n",
      "        print \"Iteration: {0} Error {1}\".format(iteration, error)\n",
      "    \n",
      "    "
     ],
     "language": "python",
     "metadata": {},
     "outputs": [
      {
       "output_type": "stream",
       "stream": "stdout",
       "text": [
        "\n",
        "###  files_neg_train\n",
        "frank-zappacopy.png\n",
        "milescopy.png\n",
        "caetanocopy.png\n",
        "coltranecopy.png\n",
        "chaplincopy.png\n",
        "groucho_old.png\n",
        "garbuscopy.png\n",
        "janejacobscopy.png\n",
        "grouchocopy.png\n",
        "stvincentcopy.png\n",
        "einsteincopy.png\n",
        "\n",
        "###  files_neg_test\n",
        "oldgrouchocopy.png\n",
        "thelonious.png\n",
        "picassocopy.png\n",
        "matissecopy.png\n",
        "turingcopy.png\n",
        "harpocopy.png\n",
        "\n",
        "###  files_pos_train\n",
        "pv2copy.png\n",
        "pv7copy.png\n",
        "pv4copy.png\n",
        "pv24copy.png\n",
        "pv22copy.png\n",
        "pv8copy.png\n",
        "pv14copy.png\n",
        "pv16copy.png\n",
        "pv10copy.png\n",
        "pv9copy.png\n",
        "pv13copy.png\n",
        "pv21copy.png\n",
        "pv20copy.png\n",
        "\n",
        "###  files_pos_test\n",
        "pv5copy.png\n",
        "pv11copy.png\n",
        "pv3copy.png\n",
        "pv12copy.png\n",
        "pv1copy.png\n",
        "pv6copy.png\n",
        "pv23copy.png\n",
        "Iteration: 1 Error 0.174237770319"
       ]
      },
      {
       "output_type": "stream",
       "stream": "stdout",
       "text": [
        "\n",
        "Iteration: 2 Error 0.136385622148"
       ]
      },
      {
       "output_type": "stream",
       "stream": "stdout",
       "text": [
        "\n",
        "Iteration: 3 Error 0.152974974116"
       ]
      },
      {
       "output_type": "stream",
       "stream": "stdout",
       "text": [
        "\n",
        "Iteration: 4 Error 0.138297244199"
       ]
      },
      {
       "output_type": "stream",
       "stream": "stdout",
       "text": [
        "\n",
        "Iteration: 5 Error 0.122494846354"
       ]
      },
      {
       "output_type": "stream",
       "stream": "stdout",
       "text": [
        "\n",
        "Iteration: 6 Error 0.118963437264"
       ]
      },
      {
       "output_type": "stream",
       "stream": "stdout",
       "text": [
        "\n",
        "Iteration: 7 Error 0.122019631121"
       ]
      },
      {
       "output_type": "stream",
       "stream": "stdout",
       "text": [
        "\n",
        "Iteration: 8 Error 0.111219156527"
       ]
      },
      {
       "output_type": "stream",
       "stream": "stdout",
       "text": [
        "\n",
        "Iteration: 9 Error 0.0963177565552"
       ]
      },
      {
       "output_type": "stream",
       "stream": "stdout",
       "text": [
        "\n",
        "Iteration: 10 Error 0.107725465628"
       ]
      },
      {
       "output_type": "stream",
       "stream": "stdout",
       "text": [
        "\n",
        "Iteration: 11 Error 0.101284299637"
       ]
      },
      {
       "output_type": "stream",
       "stream": "stdout",
       "text": [
        "\n",
        "Iteration: 12 Error 0.0894112850275"
       ]
      },
      {
       "output_type": "stream",
       "stream": "stdout",
       "text": [
        "\n",
        "Iteration: 13 Error 0.0762890929127"
       ]
      },
      {
       "output_type": "stream",
       "stream": "stdout",
       "text": [
        "\n",
        "Iteration: 14 Error 0.0831354568292"
       ]
      },
      {
       "output_type": "stream",
       "stream": "stdout",
       "text": [
        "\n",
        "Iteration: 15 Error 0.0727973295973"
       ]
      },
      {
       "output_type": "stream",
       "stream": "stdout",
       "text": [
        "\n",
        "Iteration: 16 Error 0.0686654816537"
       ]
      },
      {
       "output_type": "stream",
       "stream": "stdout",
       "text": [
        "\n",
        "Iteration: 17 Error 0.061416419458"
       ]
      },
      {
       "output_type": "stream",
       "stream": "stdout",
       "text": [
        "\n",
        "Iteration: 18 Error 0.0587140680503"
       ]
      },
      {
       "output_type": "stream",
       "stream": "stdout",
       "text": [
        "\n",
        "Iteration: 19 Error 0.0537912280823"
       ]
      },
      {
       "output_type": "stream",
       "stream": "stdout",
       "text": [
        "\n",
        "Iteration: 20 Error 0.0498337943499"
       ]
      },
      {
       "output_type": "stream",
       "stream": "stdout",
       "text": [
        "\n",
        "Iteration: 21 Error 0.0558495526727"
       ]
      },
      {
       "output_type": "stream",
       "stream": "stdout",
       "text": [
        "\n",
        "Iteration: 22 Error 0.0508811992212"
       ]
      },
      {
       "output_type": "stream",
       "stream": "stdout",
       "text": [
        "\n",
        "Iteration: 23 Error 0.0413192550601"
       ]
      },
      {
       "output_type": "stream",
       "stream": "stdout",
       "text": [
        "\n",
        "Iteration: 24 Error 0.043297594014"
       ]
      },
      {
       "output_type": "stream",
       "stream": "stdout",
       "text": [
        "\n",
        "Iteration: 25 Error 0.0397246335081"
       ]
      },
      {
       "output_type": "stream",
       "stream": "stdout",
       "text": [
        "\n",
        "Iteration: 26 Error 0.040267169683"
       ]
      },
      {
       "output_type": "stream",
       "stream": "stdout",
       "text": [
        "\n",
        "Iteration: 27 Error 0.0332280373518"
       ]
      },
      {
       "output_type": "stream",
       "stream": "stdout",
       "text": [
        "\n",
        "Iteration: 28 Error 0.0327329577316"
       ]
      },
      {
       "output_type": "stream",
       "stream": "stdout",
       "text": [
        "\n",
        "Iteration: 29 Error 0.0365210753423"
       ]
      },
      {
       "output_type": "stream",
       "stream": "stdout",
       "text": [
        "\n",
        "Iteration: 30 Error 0.0351412151895"
       ]
      },
      {
       "output_type": "stream",
       "stream": "stdout",
       "text": [
        "\n",
        "Iteration: 31 Error 0.0311274262102"
       ]
      },
      {
       "output_type": "stream",
       "stream": "stdout",
       "text": [
        "\n",
        "Iteration: 32 Error 0.0305353336072"
       ]
      },
      {
       "output_type": "stream",
       "stream": "stdout",
       "text": [
        "\n",
        "Iteration: 33 Error 0.0305352399412"
       ]
      },
      {
       "output_type": "stream",
       "stream": "stdout",
       "text": [
        "\n",
        "Iteration: 34 Error 0.0279727893412"
       ]
      },
      {
       "output_type": "stream",
       "stream": "stdout",
       "text": [
        "\n",
        "Iteration: 35 Error 0.0290558206251"
       ]
      },
      {
       "output_type": "stream",
       "stream": "stdout",
       "text": [
        "\n",
        "Iteration: 36 Error 0.0280720630668"
       ]
      },
      {
       "output_type": "stream",
       "stream": "stdout",
       "text": [
        "\n",
        "Iteration: 37 Error 0.0248839630379"
       ]
      },
      {
       "output_type": "stream",
       "stream": "stdout",
       "text": [
        "\n",
        "Iteration: 38 Error 0.0242749106679"
       ]
      },
      {
       "output_type": "stream",
       "stream": "stdout",
       "text": [
        "\n",
        "Iteration: 39 Error 0.0226167951545"
       ]
      },
      {
       "output_type": "stream",
       "stream": "stdout",
       "text": [
        "\n",
        "Iteration: 40 Error 0.0218924935149"
       ]
      },
      {
       "output_type": "stream",
       "stream": "stdout",
       "text": [
        "\n",
        "Iteration: 41 Error 0.0206212761426"
       ]
      },
      {
       "output_type": "stream",
       "stream": "stdout",
       "text": [
        "\n",
        "Iteration: 42 Error 0.0191291396694"
       ]
      },
      {
       "output_type": "stream",
       "stream": "stdout",
       "text": [
        "\n",
        "Iteration: 43 Error 0.0193345646376"
       ]
      },
      {
       "output_type": "stream",
       "stream": "stdout",
       "text": [
        "\n",
        "Iteration: 44 Error 0.0180571574761"
       ]
      },
      {
       "output_type": "stream",
       "stream": "stdout",
       "text": [
        "\n",
        "Iteration: 45 Error 0.0168856068132"
       ]
      },
      {
       "output_type": "stream",
       "stream": "stdout",
       "text": [
        "\n",
        "Iteration: 46 Error 0.0163590778561"
       ]
      },
      {
       "output_type": "stream",
       "stream": "stdout",
       "text": [
        "\n",
        "Iteration: 47 Error 0.0144658812087"
       ]
      },
      {
       "output_type": "stream",
       "stream": "stdout",
       "text": [
        "\n",
        "Iteration: 48 Error 0.0138416922254"
       ]
      },
      {
       "output_type": "stream",
       "stream": "stdout",
       "text": [
        "\n",
        "Iteration: 49 Error 0.0127268743201"
       ]
      },
      {
       "output_type": "stream",
       "stream": "stdout",
       "text": [
        "\n",
        "Iteration: 50 Error 0.0118240317593"
       ]
      },
      {
       "output_type": "stream",
       "stream": "stdout",
       "text": [
        "\n",
        "Iteration: 51 Error 0.0118179374692"
       ]
      },
      {
       "output_type": "stream",
       "stream": "stdout",
       "text": [
        "\n",
        "Iteration: 52 Error 0.0111641873444"
       ]
      },
      {
       "output_type": "stream",
       "stream": "stdout",
       "text": [
        "\n",
        "Iteration: 53 Error 0.00942468555751"
       ]
      },
      {
       "output_type": "stream",
       "stream": "stdout",
       "text": [
        "\n",
        "Iteration: 54 Error 0.00975853134044"
       ]
      },
      {
       "output_type": "stream",
       "stream": "stdout",
       "text": [
        "\n",
        "Iteration: 55 Error 0.0087956208975"
       ]
      },
      {
       "output_type": "stream",
       "stream": "stdout",
       "text": [
        "\n",
        "Iteration: 56 Error 0.00831956347092"
       ]
      },
      {
       "output_type": "stream",
       "stream": "stdout",
       "text": [
        "\n",
        "Iteration: 57 Error 0.00627296941432"
       ]
      },
      {
       "output_type": "stream",
       "stream": "stdout",
       "text": [
        "\n",
        "Iteration: 58 Error 0.0073782639324"
       ]
      },
      {
       "output_type": "stream",
       "stream": "stdout",
       "text": [
        "\n",
        "Iteration: 59 Error 0.00709667742519"
       ]
      },
      {
       "output_type": "stream",
       "stream": "stdout",
       "text": [
        "\n",
        "Iteration: 60 Error 0.00659664620656"
       ]
      },
      {
       "output_type": "stream",
       "stream": "stdout",
       "text": [
        "\n",
        "Iteration: 61 Error 0.00636166635078"
       ]
      },
      {
       "output_type": "stream",
       "stream": "stdout",
       "text": [
        "\n",
        "Iteration: 62 Error 0.00569271453617"
       ]
      },
      {
       "output_type": "stream",
       "stream": "stdout",
       "text": [
        "\n",
        "Iteration: 63 Error 0.00486895891074"
       ]
      },
      {
       "output_type": "stream",
       "stream": "stdout",
       "text": [
        "\n",
        "Iteration: 64 Error 0.00534849803913"
       ]
      },
      {
       "output_type": "stream",
       "stream": "stdout",
       "text": [
        "\n",
        "Iteration: 65 Error 0.00508067932816"
       ]
      },
      {
       "output_type": "stream",
       "stream": "stdout",
       "text": [
        "\n",
        "Iteration: 66 Error 0.00461673744812"
       ]
      },
      {
       "output_type": "stream",
       "stream": "stdout",
       "text": [
        "\n",
        "Iteration: 67 Error 0.00454987085134"
       ]
      },
      {
       "output_type": "stream",
       "stream": "stdout",
       "text": [
        "\n",
        "Iteration: 68 Error 0.00420614572135"
       ]
      },
      {
       "output_type": "stream",
       "stream": "stdout",
       "text": [
        "\n",
        "Iteration: 69 Error 0.00389836993037"
       ]
      },
      {
       "output_type": "stream",
       "stream": "stdout",
       "text": [
        "\n",
        "Iteration: 70 Error 0.00405882705857"
       ]
      },
      {
       "output_type": "stream",
       "stream": "stdout",
       "text": [
        "\n",
        "Iteration: 71 Error 0.00317647499951"
       ]
      },
      {
       "output_type": "stream",
       "stream": "stdout",
       "text": [
        "\n",
        "Iteration: 72 Error 0.00334972156155"
       ]
      },
      {
       "output_type": "stream",
       "stream": "stdout",
       "text": [
        "\n",
        "Iteration: 73 Error 0.0034291617662"
       ]
      },
      {
       "output_type": "stream",
       "stream": "stdout",
       "text": [
        "\n",
        "Iteration: 74 Error 0.0030977607465"
       ]
      },
      {
       "output_type": "stream",
       "stream": "stdout",
       "text": [
        "\n",
        "Iteration: 75 Error 0.00310895147987"
       ]
      },
      {
       "output_type": "stream",
       "stream": "stdout",
       "text": [
        "\n",
        "Iteration: 76 Error 0.00322944261951"
       ]
      },
      {
       "output_type": "stream",
       "stream": "stdout",
       "text": [
        "\n",
        "Iteration: 77 Error 0.003033101341"
       ]
      },
      {
       "output_type": "stream",
       "stream": "stdout",
       "text": [
        "\n",
        "Iteration: 78 Error 0.00283114220832"
       ]
      },
      {
       "output_type": "stream",
       "stream": "stdout",
       "text": [
        "\n",
        "Iteration: 79 Error 0.00262586556705"
       ]
      },
      {
       "output_type": "stream",
       "stream": "stdout",
       "text": [
        "\n",
        "Iteration: 80 Error 0.00245478734335"
       ]
      },
      {
       "output_type": "stream",
       "stream": "stdout",
       "text": [
        "\n",
        "Iteration: 81 Error 0.00249945714859"
       ]
      },
      {
       "output_type": "stream",
       "stream": "stdout",
       "text": [
        "\n",
        "Iteration: 82 Error 0.00237983375203"
       ]
      },
      {
       "output_type": "stream",
       "stream": "stdout",
       "text": [
        "\n",
        "Iteration: 83 Error 0.00230886318899"
       ]
      },
      {
       "output_type": "stream",
       "stream": "stdout",
       "text": [
        "\n",
        "Iteration: 84 Error 0.00227411087189"
       ]
      },
      {
       "output_type": "stream",
       "stream": "stdout",
       "text": [
        "\n",
        "Iteration: 85 Error 0.00197149158564"
       ]
      },
      {
       "output_type": "stream",
       "stream": "stdout",
       "text": [
        "\n",
        "Iteration: 86 Error 0.00203714829102"
       ]
      },
      {
       "output_type": "stream",
       "stream": "stdout",
       "text": [
        "\n",
        "Iteration: 87 Error 0.00218909209367"
       ]
      },
      {
       "output_type": "stream",
       "stream": "stdout",
       "text": [
        "\n",
        "Iteration: 88 Error 0.00177224430492"
       ]
      },
      {
       "output_type": "stream",
       "stream": "stdout",
       "text": [
        "\n",
        "Iteration: 89 Error 0.00178112041297"
       ]
      },
      {
       "output_type": "stream",
       "stream": "stdout",
       "text": [
        "\n",
        "Iteration: 90 Error 0.00189027588674"
       ]
      },
      {
       "output_type": "stream",
       "stream": "stdout",
       "text": [
        "\n",
        "Iteration: 91 Error 0.00173668258743"
       ]
      },
      {
       "output_type": "stream",
       "stream": "stdout",
       "text": [
        "\n",
        "Iteration: 92 Error 0.00172176455705"
       ]
      },
      {
       "output_type": "stream",
       "stream": "stdout",
       "text": [
        "\n",
        "Iteration: 93 Error 0.00165464399434"
       ]
      },
      {
       "output_type": "stream",
       "stream": "stdout",
       "text": [
        "\n",
        "Iteration: 94 Error 0.00150826577158"
       ]
      },
      {
       "output_type": "stream",
       "stream": "stdout",
       "text": [
        "\n",
        "Iteration: 95 Error 0.00155228580164"
       ]
      },
      {
       "output_type": "stream",
       "stream": "stdout",
       "text": [
        "\n",
        "Iteration: 96 Error 0.00157822949806"
       ]
      },
      {
       "output_type": "stream",
       "stream": "stdout",
       "text": [
        "\n",
        "Iteration: 97 Error 0.00149986678751"
       ]
      },
      {
       "output_type": "stream",
       "stream": "stdout",
       "text": [
        "\n",
        "Iteration: 98 Error 0.0013592163169"
       ]
      },
      {
       "output_type": "stream",
       "stream": "stdout",
       "text": [
        "\n",
        "Iteration: 99 Error 0.00137820180004"
       ]
      },
      {
       "output_type": "stream",
       "stream": "stdout",
       "text": [
        "\n",
        "Iteration: 100 Error 0.00135889457731"
       ]
      },
      {
       "output_type": "stream",
       "stream": "stdout",
       "text": [
        "\n",
        "Iteration: 101 Error 0.00138081512639"
       ]
      },
      {
       "output_type": "stream",
       "stream": "stdout",
       "text": [
        "\n",
        "Iteration: 102 Error 0.00129380213062"
       ]
      },
      {
       "output_type": "stream",
       "stream": "stdout",
       "text": [
        "\n",
        "Iteration: 103 Error 0.00125646354504"
       ]
      },
      {
       "output_type": "stream",
       "stream": "stdout",
       "text": [
        "\n",
        "Iteration: 104 Error 0.00123547499843"
       ]
      },
      {
       "output_type": "stream",
       "stream": "stdout",
       "text": [
        "\n",
        "Iteration: 105 Error 0.00110760613336"
       ]
      },
      {
       "output_type": "stream",
       "stream": "stdout",
       "text": [
        "\n",
        "Iteration: 106 Error 0.00114723816212"
       ]
      },
      {
       "output_type": "stream",
       "stream": "stdout",
       "text": [
        "\n",
        "Iteration: 107 Error 0.00112032006063"
       ]
      },
      {
       "output_type": "stream",
       "stream": "stdout",
       "text": [
        "\n",
        "Iteration: 108 Error 0.00109042067491"
       ]
      },
      {
       "output_type": "stream",
       "stream": "stdout",
       "text": [
        "\n",
        "Iteration: 109 Error 0.00103383910067"
       ]
      },
      {
       "output_type": "stream",
       "stream": "stdout",
       "text": [
        "\n",
        "Iteration: 110 Error 0.00104004485523"
       ]
      },
      {
       "output_type": "stream",
       "stream": "stdout",
       "text": [
        "\n",
        "Iteration: 111 Error 0.00105268372576"
       ]
      },
      {
       "output_type": "stream",
       "stream": "stdout",
       "text": [
        "\n",
        "Iteration: 112 Error 0.00100967074246"
       ]
      },
      {
       "output_type": "stream",
       "stream": "stdout",
       "text": [
        "\n",
        "Iteration: 113 Error 0.000974149304192"
       ]
      },
      {
       "output_type": "stream",
       "stream": "stdout",
       "text": [
        "\n"
       ]
      }
     ],
     "prompt_number": 17
    },
    {
     "cell_type": "heading",
     "level": 6,
     "metadata": {},
     "source": [
      "Testing the network predictions"
     ]
    },
    {
     "cell_type": "code",
     "collapsed": false,
     "input": [
      "    print \"#####\\nTEST SET PREDICTIONS\\n#####\"\n",
      "    for img, truth, imgname in test:\n",
      "        result = net.activate(loadImage(img))\n",
      "        print \"Result (%2.4f, %2.4f): (%2.4f, %2.4f)\" %(truth[0], truth[1], result[0], result[1]), imgname\n",
      "    print \"#####\\nTRAINING SET PREDICTIONS\\n#####\"\n",
      "    for img, truth, imgname in train:\n",
      "        result = net.activate(loadImage(img))\n",
      "        print \"Result (%2.4f, %2.4f): (%2.4f, %2.4f)\" %(truth[0], truth[1], result[0], result[1]), imgname"
     ],
     "language": "python",
     "metadata": {},
     "outputs": [
      {
       "output_type": "stream",
       "stream": "stdout",
       "text": [
        "#####\n",
        "TEST SET PREDICTIONS\n",
        "#####\n",
        "Result (1.0000, 0.0000): (0.9980, 0.0020) pv23copy.png\n",
        "Result (1.0000, 0.0000): (0.7003, 0.2997) pv12copy.png\n",
        "Result (0.0000, 1.0000): (0.9666, 0.0334) harpocopy.png\n",
        "Result (0.0000, 1.0000): (0.6620, 0.3380)"
       ]
      },
      {
       "output_type": "stream",
       "stream": "stdout",
       "text": [
        " matissecopy.png\n",
        "Result (0.0000, 1.0000): (0.9771, 0.0229) turingcopy.png\n",
        "Result (0.0000, 1.0000): (0.1294, 0.8706) oldgrouchocopy.png\n",
        "Result (0.0000, 1.0000): (0.8736, 0.1264) picassocopy.png\n",
        "Result (1.0000, 0.0000): (0.1783, 0.8217)"
       ]
      },
      {
       "output_type": "stream",
       "stream": "stdout",
       "text": [
        " pv3copy.png\n",
        "Result (0.0000, 1.0000): (0.0011, 0.9989) thelonious.png\n",
        "Result (1.0000, 0.0000): (0.0278, 0.9722) pv11copy.png\n",
        "Result (1.0000, 0.0000): (0.9999, 0.0001)"
       ]
      },
      {
       "output_type": "stream",
       "stream": "stdout",
       "text": [
        " pv1copy.png\n",
        "Result (1.0000, 0.0000): (0.9999, 0.0001) pv5copy.png\n",
        "Result (1.0000, 0.0000): (1.0000, 0.0000) pv6copy.png\n",
        "#####\n",
        "TRAINING SET PREDICTIONS\n",
        "#####\n",
        "Result (0.0000, 1.0000): (0.0112, 0.9888)"
       ]
      },
      {
       "output_type": "stream",
       "stream": "stdout",
       "text": [
        " garbuscopy.png\n",
        "Result (0.0000, 1.0000): (0.0004, 0.9996) stvincentcopy.png\n",
        "Result (0.0000, 1.0000): (0.0328, 0.9672) grouchocopy.png\n",
        "Result (0.0000, 1.0000): (0.0006, 0.9994) janejacobscopy.png\n",
        "Result (1.0000, 0.0000): (0.9523, 0.0477)"
       ]
      },
      {
       "output_type": "stream",
       "stream": "stdout",
       "text": [
        " pv7copy.png\n",
        "Result (0.0000, 1.0000): (0.0048, 0.9952) coltranecopy.png\n",
        "Result (0.0000, 1.0000): (0.0469, 0.9531) chaplincopy.png\n",
        "Result (1.0000, 0.0000): (0.9921, 0.0079) pv13copy.png\n",
        "Result (1.0000, 0.0000): (0.9469, 0.0531)"
       ]
      },
      {
       "output_type": "stream",
       "stream": "stdout",
       "text": [
        " pv10copy.png\n",
        "Result (1.0000, 0.0000): (0.9409, 0.0591) pv4copy.png\n",
        "Result (1.0000, 0.0000): (0.9466, 0.0534) pv24copy.png\n",
        "Result (0.0000, 1.0000): (0.0000, 1.0000) frank-zappacopy.png\n",
        "Result (1.0000, 0.0000): (0.9369, 0.0631) pv2copy.png\n",
        "Result (0.0000, 1.0000): (0.0541, 0.9459)"
       ]
      },
      {
       "output_type": "stream",
       "stream": "stdout",
       "text": [
        " einsteincopy.png\n",
        "Result (1.0000, 0.0000): (1.0000, 0.0000) pv21copy.png\n",
        "Result (1.0000, 0.0000): (0.9676, 0.0324) pv14copy.png\n",
        "Result (0.0000, 1.0000): (0.0474, 0.9526) caetanocopy.png\n",
        "Result (1.0000, 0.0000): (1.0000, 0.0000) pv9copy.png\n",
        "Result (0.0000, 1.0000): (0.0000, 1.0000)"
       ]
      },
      {
       "output_type": "stream",
       "stream": "stdout",
       "text": [
        " milescopy.png\n",
        "Result (0.0000, 1.0000): (0.1294, 0.8706) groucho_old.png\n",
        "Result (1.0000, 0.0000): (0.9985, 0.0015) pv16copy.png\n",
        "Result (1.0000, 0.0000): (1.0000, 0.0000) pv20copy.png\n",
        "Result (1.0000, 0.0000): (0.9991, 0.0009) pv8copy.png\n"
       ]
      }
     ],
     "prompt_number": 18
    },
    {
     "cell_type": "code",
     "collapsed": false,
     "input": [],
     "language": "python",
     "metadata": {},
     "outputs": []
    }
   ],
   "metadata": {}
  }
 ]
}