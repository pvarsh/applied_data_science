{
 "metadata": {
  "name": "",
  "signature": "sha256:8e027ac263dc20427047815165d233d446eb1ce74781776bfacd129b57782805"
 },
 "nbformat": 3,
 "nbformat_minor": 0,
 "worksheets": [
  {
   "cells": [
    {
     "cell_type": "code",
     "collapsed": false,
     "input": [
      "from pybrain.datasets.supervised import SupervisedDataSet \n",
      "from pybrain.tools.shortcuts import buildNetwork\n",
      "from pybrain.supervised.trainers import BackpropTrainer\n",
      "from pybrain.structure import SigmoidLayer\n",
      "from pybrain.structure import SoftmaxLayer\n",
      "\n",
      "import cv2\n",
      "import glob\n",
      "import os\n",
      "import random\n",
      "\n",
      " \n",
      "def loadImage(path):\n",
      "    im = cv2.imread(path)\n",
      "    return flatten(im)\n",
      " \n",
      "def flatten(x):\n",
      "    result = []\n",
      "    for el in x:\n",
      "        if hasattr(el, \"__iter__\") and not isinstance(el, basestring):\n",
      "            result.extend(flatten(el))\n",
      "        else:\n",
      "            result.append(el)\n",
      "    return result\n",
      "\n",
      "def print_f_list(flist, name = \"\"):\n",
      "    print \"\\n### \", name\n",
      "    for f, g1, g2 in flist:\n",
      "        print f.split('/')[-1] \n",
      " \n",
      "if __name__ == \"__main__\":\n",
      "    path_pos = \"/Users/petervarshavsky/Documents/Git_NYU/applied_data_science/lab-2/images/faces/my-face/resized/\"\n",
      "    path_neg = \"/Users/petervarshavsky/Documents/Git_NYU/applied_data_science/lab-2/images/other_faces_resized/\"\n",
      "   \n",
      "    # truth:positive\n",
      "    true_val = (1,0)\n",
      "    false_val = (0,1)\n",
      " \n",
      "    # making training set of positive images\n",
      "    files_pos = [(f, true_val, f.split('/')[-1]) for f in glob.glob(path_pos + \"*.png\")]\n",
      "    random.shuffle(files_pos)\n",
      "    splt = int(len(files_pos) * 2.0/3)\n",
      "    files_pos_train = files_pos[:splt]\n",
      "    files_pos_test  = files_pos[splt:]\n",
      "\n",
      "    # making training set of negative images\n",
      "    files_neg = [(f, false_val, f.split('/')[-1]) for f in glob.glob(path_neg + \"*.png\")]\n",
      "    random.shuffle(files_neg)\n",
      "    splt = int(len(files_neg) * 2.0/3)\n",
      "    files_neg_train = files_neg[:splt]\n",
      "    files_neg_test  = files_neg[splt:]\n",
      "   \n",
      "    print_f_list(files_neg_train, \"files_neg_train\")\n",
      "    print_f_list(files_neg_test, \"files_neg_test\")\n",
      "    print_f_list(files_neg, \"files_neg\")\n",
      " \n",
      "    # putting together training and test sets\n",
      "    train = files_pos_train + files_neg_train\n",
      "    test = files_pos_test + files_neg_test\n",
      "    random.shuffle(train)\n",
      "    random.shuffle(test)\n",
      "    \n",
      "    # first image to start the training set\n",
      "    f, truth, _ = train.pop()\n",
      "    t = loadImage(f)\n",
      "    \n",
      "    # build network\n",
      "    net = buildNetwork(len(t), int(.05*len(t)), int(0.05*len(t)), 2, bias = True, outclass = SoftmaxLayer)\n",
      "   \n",
      "    # initialize data set\n",
      "    ds = SupervisedDataSet(len(t), 2)\n",
      "    ds.addSample(t, truth)\n",
      "    # add the rest of elements to data set\n",
      "    for img, truth, imgname in train:\n",
      "        print truth, imgname\n",
      "        ds.addSample(loadImage(img), truth)\n",
      "    \n",
      "    # train the network\n",
      "    trainer = BackpropTrainer(net, ds)\n",
      "    error = 10 # was 10\n",
      "    iteration = 0\n",
      "    while error > 0.00001: # was 0.0001 \n",
      "        error = trainer.train()\n",
      "        iteration += 1\n",
      "        print \"Iteration: {0} Error {1}\".format(iteration, error)\n",
      "    \n",
      "    for img, truth, imgname in test:\n",
      "        result = net.activate(loadImage(img))\n",
      "        print \"Result (%2.4f, %2.4f): (%2.4f, %2.4f)\" %(truth[0], truth[1], result[0], result[1]), imgname\n",
      " "
     ],
     "language": "python",
     "metadata": {},
     "outputs": [
      {
       "output_type": "stream",
       "stream": "stdout",
       "text": [
        "\n",
        "###  files_neg_train\n",
        "groucho_old.png\n",
        "harpo.png\n",
        "thelonious.png\n",
        "groucho_young.png\n",
        "tune_yards.png\n",
        "st_vincent.png\n",
        "\n",
        "###  files_neg_test\n",
        "jane_jacobs.png\n",
        "einstein.png\n",
        "frank_zappa.png\n",
        "chaplin.png\n",
        "\n",
        "###  files_neg\n",
        "groucho_old.png\n",
        "harpo.png\n",
        "thelonious.png\n",
        "groucho_young.png\n",
        "tune_yards.png\n",
        "st_vincent.png\n",
        "jane_jacobs.png\n",
        "einstein.png\n",
        "frank_zappa.png\n",
        "chaplin.png\n",
        "(1, 0)"
       ]
      },
      {
       "output_type": "stream",
       "stream": "stdout",
       "text": [
        " IMG_6161copy.png\n",
        "(1, 0) pv10copy.png\n",
        "(0, 1) groucho_young.png\n",
        "(1, 0) IMG_6150copy.png\n",
        "(1, 0) pv13copy.png\n",
        "(1, 0)"
       ]
      },
      {
       "output_type": "stream",
       "stream": "stdout",
       "text": [
        " IMG_6144copy.png\n",
        "(1, 0) IMG_6135copy.png\n",
        "(1, 0) pv14copy.png\n",
        "(0, 1) harpo.png\n",
        "(0, 1)"
       ]
      },
      {
       "output_type": "stream",
       "stream": "stdout",
       "text": [
        " st_vincent.png\n",
        "(0, 1) thelonious.png\n",
        "(1, 0) IMG_6145copy.png\n",
        "(1, 0) IMG_6156copy.png\n",
        "(1, 0) pv11copy.png\n",
        "(0, 1)"
       ]
      },
      {
       "output_type": "stream",
       "stream": "stdout",
       "text": [
        " groucho_old.png\n",
        "Iteration: 1 Error 0.183710236438"
       ]
      },
      {
       "output_type": "stream",
       "stream": "stdout",
       "text": [
        "\n",
        "Iteration: 2 Error 0.146125767337"
       ]
      },
      {
       "output_type": "stream",
       "stream": "stdout",
       "text": [
        "\n",
        "Iteration: 3 Error 0.134037588584"
       ]
      },
      {
       "output_type": "stream",
       "stream": "stdout",
       "text": [
        "\n",
        "Iteration: 4 Error 0.133544350992"
       ]
      },
      {
       "output_type": "stream",
       "stream": "stdout",
       "text": [
        "\n",
        "Iteration: 5 Error 0.0634393841037"
       ]
      },
      {
       "output_type": "stream",
       "stream": "stdout",
       "text": [
        "\n",
        "Iteration: 6 Error 0.0398028251689"
       ]
      },
      {
       "output_type": "stream",
       "stream": "stdout",
       "text": [
        "\n",
        "Iteration: 7 Error 0.0598648663947"
       ]
      },
      {
       "output_type": "stream",
       "stream": "stdout",
       "text": [
        "\n",
        "Iteration: 8 Error 0.0474656493104"
       ]
      },
      {
       "output_type": "stream",
       "stream": "stdout",
       "text": [
        "\n",
        "Iteration: 9 Error 0.0247336977989"
       ]
      },
      {
       "output_type": "stream",
       "stream": "stdout",
       "text": [
        "\n",
        "Iteration: 10 Error 0.0171082826143"
       ]
      },
      {
       "output_type": "stream",
       "stream": "stdout",
       "text": [
        "\n",
        "Iteration: 11 Error 0.0100724819207"
       ]
      },
      {
       "output_type": "stream",
       "stream": "stdout",
       "text": [
        "\n",
        "Iteration: 12 Error 0.00449517926816"
       ]
      },
      {
       "output_type": "stream",
       "stream": "stdout",
       "text": [
        "\n",
        "Iteration: 13 Error 0.00279937556362"
       ]
      },
      {
       "output_type": "stream",
       "stream": "stdout",
       "text": [
        "\n",
        "Iteration: 14 Error 0.00171765567916"
       ]
      },
      {
       "output_type": "stream",
       "stream": "stdout",
       "text": [
        "\n",
        "Iteration: 15 Error 0.00183752101556"
       ]
      },
      {
       "output_type": "stream",
       "stream": "stdout",
       "text": [
        "\n",
        "Iteration: 16 Error 0.00111819741801"
       ]
      },
      {
       "output_type": "stream",
       "stream": "stdout",
       "text": [
        "\n",
        "Iteration: 17 Error 0.000808512242098"
       ]
      },
      {
       "output_type": "stream",
       "stream": "stdout",
       "text": [
        "\n",
        "Iteration: 18 Error 0.000744582353249"
       ]
      },
      {
       "output_type": "stream",
       "stream": "stdout",
       "text": [
        "\n",
        "Iteration: 19 Error 0.000735441924279"
       ]
      },
      {
       "output_type": "stream",
       "stream": "stdout",
       "text": [
        "\n",
        "Iteration: 20 Error 0.000512535138678"
       ]
      },
      {
       "output_type": "stream",
       "stream": "stdout",
       "text": [
        "\n",
        "Iteration: 21 Error 0.000482525591612"
       ]
      },
      {
       "output_type": "stream",
       "stream": "stdout",
       "text": [
        "\n",
        "Iteration: 22 Error 0.000487273380731"
       ]
      },
      {
       "output_type": "stream",
       "stream": "stdout",
       "text": [
        "\n",
        "Iteration: 23 Error 0.000375556284952"
       ]
      },
      {
       "output_type": "stream",
       "stream": "stdout",
       "text": [
        "\n",
        "Iteration: 24 Error 0.000302691811353"
       ]
      },
      {
       "output_type": "stream",
       "stream": "stdout",
       "text": [
        "\n",
        "Iteration: 25 Error 0.00027686961813"
       ]
      },
      {
       "output_type": "stream",
       "stream": "stdout",
       "text": [
        "\n",
        "Iteration: 26 Error 0.000293297573195"
       ]
      },
      {
       "output_type": "stream",
       "stream": "stdout",
       "text": [
        "\n",
        "Iteration: 27 Error 0.000270457228208"
       ]
      },
      {
       "output_type": "stream",
       "stream": "stdout",
       "text": [
        "\n",
        "Iteration: 28 Error 0.000228999769469"
       ]
      },
      {
       "output_type": "stream",
       "stream": "stdout",
       "text": [
        "\n",
        "Iteration: 29 Error 0.000193348124506"
       ]
      },
      {
       "output_type": "stream",
       "stream": "stdout",
       "text": [
        "\n",
        "Iteration: 30 Error 0.000198427569561"
       ]
      },
      {
       "output_type": "stream",
       "stream": "stdout",
       "text": [
        "\n",
        "Iteration: 31 Error 0.000168526078751"
       ]
      },
      {
       "output_type": "stream",
       "stream": "stdout",
       "text": [
        "\n",
        "Iteration: 32 Error 0.000157894595516"
       ]
      },
      {
       "output_type": "stream",
       "stream": "stdout",
       "text": [
        "\n",
        "Iteration: 33 Error 0.000151127014965"
       ]
      },
      {
       "output_type": "stream",
       "stream": "stdout",
       "text": [
        "\n",
        "Iteration: 34 Error 0.000153277007429"
       ]
      },
      {
       "output_type": "stream",
       "stream": "stdout",
       "text": [
        "\n",
        "Iteration: 35 Error 0.000129216840125"
       ]
      },
      {
       "output_type": "stream",
       "stream": "stdout",
       "text": [
        "\n",
        "Iteration: 36 Error 0.00012508646709"
       ]
      },
      {
       "output_type": "stream",
       "stream": "stdout",
       "text": [
        "\n",
        "Iteration: 37 Error 0.000120006025562"
       ]
      },
      {
       "output_type": "stream",
       "stream": "stdout",
       "text": [
        "\n",
        "Iteration: 38 Error 0.000111642624956"
       ]
      },
      {
       "output_type": "stream",
       "stream": "stdout",
       "text": [
        "\n",
        "Iteration: 39 Error 0.000106606227178"
       ]
      },
      {
       "output_type": "stream",
       "stream": "stdout",
       "text": [
        "\n",
        "Iteration: 40 Error 9.79594906855e-05"
       ]
      },
      {
       "output_type": "stream",
       "stream": "stdout",
       "text": [
        "\n",
        "Iteration: 41 Error 9.93584897109e-05"
       ]
      },
      {
       "output_type": "stream",
       "stream": "stdout",
       "text": [
        "\n",
        "Iteration: 42 Error 9.37160986218e-05"
       ]
      },
      {
       "output_type": "stream",
       "stream": "stdout",
       "text": [
        "\n",
        "Iteration: 43 Error 8.36072028767e-05"
       ]
      },
      {
       "output_type": "stream",
       "stream": "stdout",
       "text": [
        "\n",
        "Iteration: 44 Error 8.15723960535e-05"
       ]
      },
      {
       "output_type": "stream",
       "stream": "stdout",
       "text": [
        "\n",
        "Iteration: 45 Error 7.84844880658e-05"
       ]
      },
      {
       "output_type": "stream",
       "stream": "stdout",
       "text": [
        "\n",
        "Iteration: 46 Error 7.45978001701e-05"
       ]
      },
      {
       "output_type": "stream",
       "stream": "stdout",
       "text": [
        "\n",
        "Iteration: 47 Error 6.95848006765e-05"
       ]
      },
      {
       "output_type": "stream",
       "stream": "stdout",
       "text": [
        "\n",
        "Iteration: 48 Error 6.8212995541e-05"
       ]
      },
      {
       "output_type": "stream",
       "stream": "stdout",
       "text": [
        "\n",
        "Iteration: 49 Error 6.38140856878e-05"
       ]
      },
      {
       "output_type": "stream",
       "stream": "stdout",
       "text": [
        "\n",
        "Iteration: 50 Error 6.22226582062e-05"
       ]
      },
      {
       "output_type": "stream",
       "stream": "stdout",
       "text": [
        "\n",
        "Iteration: 51 Error 6.28900730249e-05"
       ]
      },
      {
       "output_type": "stream",
       "stream": "stdout",
       "text": [
        "\n",
        "Iteration: 52 Error 5.77720774733e-05"
       ]
      },
      {
       "output_type": "stream",
       "stream": "stdout",
       "text": [
        "\n",
        "Iteration: 53 Error 5.72487986022e-05"
       ]
      },
      {
       "output_type": "stream",
       "stream": "stdout",
       "text": [
        "\n",
        "Iteration: 54 Error 5.50386669381e-05"
       ]
      },
      {
       "output_type": "stream",
       "stream": "stdout",
       "text": [
        "\n",
        "Iteration: 55 Error 4.96122234332e-05"
       ]
      },
      {
       "output_type": "stream",
       "stream": "stdout",
       "text": [
        "\n",
        "Iteration: 56 Error 5.06719133069e-05"
       ]
      },
      {
       "output_type": "stream",
       "stream": "stdout",
       "text": [
        "\n",
        "Iteration: 57 Error 4.69275755483e-05"
       ]
      },
      {
       "output_type": "stream",
       "stream": "stdout",
       "text": [
        "\n",
        "Iteration: 58 Error 4.49600048861e-05"
       ]
      },
      {
       "output_type": "stream",
       "stream": "stdout",
       "text": [
        "\n",
        "Iteration: 59 Error 4.4243675636e-05"
       ]
      },
      {
       "output_type": "stream",
       "stream": "stdout",
       "text": [
        "\n",
        "Iteration: 60 Error 4.23537600186e-05"
       ]
      },
      {
       "output_type": "stream",
       "stream": "stdout",
       "text": [
        "\n",
        "Iteration: 61 Error 4.15231270313e-05"
       ]
      },
      {
       "output_type": "stream",
       "stream": "stdout",
       "text": [
        "\n",
        "Iteration: 62 Error 4.07072957612e-05"
       ]
      },
      {
       "output_type": "stream",
       "stream": "stdout",
       "text": [
        "\n",
        "Iteration: 63 Error 3.86249670002e-05"
       ]
      },
      {
       "output_type": "stream",
       "stream": "stdout",
       "text": [
        "\n",
        "Iteration: 64 Error 3.80496956806e-05"
       ]
      },
      {
       "output_type": "stream",
       "stream": "stdout",
       "text": [
        "\n",
        "Iteration: 65 Error 3.74342212791e-05"
       ]
      },
      {
       "output_type": "stream",
       "stream": "stdout",
       "text": [
        "\n",
        "Iteration: 66 Error 3.49561832866e-05"
       ]
      },
      {
       "output_type": "stream",
       "stream": "stdout",
       "text": [
        "\n",
        "Iteration: 67 Error 3.39155468667e-05"
       ]
      },
      {
       "output_type": "stream",
       "stream": "stdout",
       "text": [
        "\n",
        "Iteration: 68 Error 3.34693523002e-05"
       ]
      },
      {
       "output_type": "stream",
       "stream": "stdout",
       "text": [
        "\n",
        "Iteration: 69 Error 3.3393781067e-05"
       ]
      },
      {
       "output_type": "stream",
       "stream": "stdout",
       "text": [
        "\n",
        "Iteration: 70 Error 3.17374355849e-05"
       ]
      },
      {
       "output_type": "stream",
       "stream": "stdout",
       "text": [
        "\n",
        "Iteration: 71 Error 3.07772838341e-05"
       ]
      },
      {
       "output_type": "stream",
       "stream": "stdout",
       "text": [
        "\n",
        "Iteration: 72 Error 3.00003096719e-05"
       ]
      },
      {
       "output_type": "stream",
       "stream": "stdout",
       "text": [
        "\n",
        "Iteration: 73 Error 2.94870910691e-05"
       ]
      },
      {
       "output_type": "stream",
       "stream": "stdout",
       "text": [
        "\n",
        "Iteration: 74 Error 2.80703434431e-05"
       ]
      },
      {
       "output_type": "stream",
       "stream": "stdout",
       "text": [
        "\n",
        "Iteration: 75 Error 2.81438375821e-05"
       ]
      },
      {
       "output_type": "stream",
       "stream": "stdout",
       "text": [
        "\n",
        "Iteration: 76 Error 2.67407669199e-05"
       ]
      },
      {
       "output_type": "stream",
       "stream": "stdout",
       "text": [
        "\n",
        "Iteration: 77 Error 2.58372716563e-05"
       ]
      },
      {
       "output_type": "stream",
       "stream": "stdout",
       "text": [
        "\n",
        "Iteration: 78 Error 2.51456846667e-05"
       ]
      },
      {
       "output_type": "stream",
       "stream": "stdout",
       "text": [
        "\n",
        "Iteration: 79 Error 2.58258968584e-05"
       ]
      },
      {
       "output_type": "stream",
       "stream": "stdout",
       "text": [
        "\n",
        "Iteration: 80 Error 2.37043292615e-05"
       ]
      },
      {
       "output_type": "stream",
       "stream": "stdout",
       "text": [
        "\n",
        "Iteration: 81 Error 2.29122441389e-05"
       ]
      },
      {
       "output_type": "stream",
       "stream": "stdout",
       "text": [
        "\n",
        "Iteration: 82 Error 2.38575563134e-05"
       ]
      },
      {
       "output_type": "stream",
       "stream": "stdout",
       "text": [
        "\n",
        "Iteration: 83 Error 2.22132036914e-05"
       ]
      },
      {
       "output_type": "stream",
       "stream": "stdout",
       "text": [
        "\n",
        "Iteration: 84 Error 2.24486583573e-05"
       ]
      },
      {
       "output_type": "stream",
       "stream": "stdout",
       "text": [
        "\n",
        "Iteration: 85 Error 2.13191130858e-05"
       ]
      },
      {
       "output_type": "stream",
       "stream": "stdout",
       "text": [
        "\n",
        "Iteration: 86 Error 2.09603488791e-05"
       ]
      },
      {
       "output_type": "stream",
       "stream": "stdout",
       "text": [
        "\n",
        "Iteration: 87 Error 2.07056948887e-05"
       ]
      },
      {
       "output_type": "stream",
       "stream": "stdout",
       "text": [
        "\n",
        "Iteration: 88 Error 2.01778973248e-05"
       ]
      },
      {
       "output_type": "stream",
       "stream": "stdout",
       "text": [
        "\n",
        "Iteration: 89 Error 1.9618355763e-05"
       ]
      },
      {
       "output_type": "stream",
       "stream": "stdout",
       "text": [
        "\n",
        "Iteration: 90 Error 1.91996992079e-05"
       ]
      },
      {
       "output_type": "stream",
       "stream": "stdout",
       "text": [
        "\n",
        "Iteration: 91 Error 1.90902421542e-05"
       ]
      },
      {
       "output_type": "stream",
       "stream": "stdout",
       "text": [
        "\n",
        "Iteration: 92 Error 1.86445711044e-05"
       ]
      },
      {
       "output_type": "stream",
       "stream": "stdout",
       "text": [
        "\n",
        "Iteration: 93 Error 1.82027534573e-05"
       ]
      },
      {
       "output_type": "stream",
       "stream": "stdout",
       "text": [
        "\n",
        "Iteration: 94 Error 1.79189579081e-05"
       ]
      },
      {
       "output_type": "stream",
       "stream": "stdout",
       "text": [
        "\n",
        "Iteration: 95 Error 1.72173282534e-05"
       ]
      },
      {
       "output_type": "stream",
       "stream": "stdout",
       "text": [
        "\n",
        "Iteration: 96 Error 1.74986800291e-05"
       ]
      },
      {
       "output_type": "stream",
       "stream": "stdout",
       "text": [
        "\n",
        "Iteration: 97 Error 1.70051048912e-05"
       ]
      },
      {
       "output_type": "stream",
       "stream": "stdout",
       "text": [
        "\n",
        "Iteration: 98 Error 1.65160173161e-05"
       ]
      },
      {
       "output_type": "stream",
       "stream": "stdout",
       "text": [
        "\n",
        "Iteration: 99 Error 1.6381864671e-05"
       ]
      },
      {
       "output_type": "stream",
       "stream": "stdout",
       "text": [
        "\n",
        "Iteration: 100 Error 1.57316892346e-05"
       ]
      },
      {
       "output_type": "stream",
       "stream": "stdout",
       "text": [
        "\n",
        "Iteration: 101 Error 1.55529982446e-05"
       ]
      },
      {
       "output_type": "stream",
       "stream": "stdout",
       "text": [
        "\n",
        "Iteration: 102 Error 1.52512280686e-05"
       ]
      },
      {
       "output_type": "stream",
       "stream": "stdout",
       "text": [
        "\n",
        "Iteration: 103 Error 1.45116514734e-05"
       ]
      },
      {
       "output_type": "stream",
       "stream": "stdout",
       "text": [
        "\n",
        "Iteration: 104 Error 1.45918869992e-05"
       ]
      },
      {
       "output_type": "stream",
       "stream": "stdout",
       "text": [
        "\n",
        "Iteration: 105 Error 1.43137481007e-05"
       ]
      },
      {
       "output_type": "stream",
       "stream": "stdout",
       "text": [
        "\n",
        "Iteration: 106 Error 1.41177421527e-05"
       ]
      },
      {
       "output_type": "stream",
       "stream": "stdout",
       "text": [
        "\n",
        "Iteration: 107 Error 1.38850977405e-05"
       ]
      },
      {
       "output_type": "stream",
       "stream": "stdout",
       "text": [
        "\n",
        "Iteration: 108 Error 1.36253403664e-05"
       ]
      },
      {
       "output_type": "stream",
       "stream": "stdout",
       "text": [
        "\n",
        "Iteration: 109 Error 1.34793411043e-05"
       ]
      },
      {
       "output_type": "stream",
       "stream": "stdout",
       "text": [
        "\n",
        "Iteration: 110 Error 1.33966131835e-05"
       ]
      },
      {
       "output_type": "stream",
       "stream": "stdout",
       "text": [
        "\n",
        "Iteration: 111 Error 1.3070682715e-05"
       ]
      },
      {
       "output_type": "stream",
       "stream": "stdout",
       "text": [
        "\n",
        "Iteration: 112 Error 1.27657909874e-05"
       ]
      },
      {
       "output_type": "stream",
       "stream": "stdout",
       "text": [
        "\n",
        "Iteration: 113 Error 1.25136478212e-05"
       ]
      },
      {
       "output_type": "stream",
       "stream": "stdout",
       "text": [
        "\n",
        "Iteration: 114 Error 1.25493654119e-05"
       ]
      },
      {
       "output_type": "stream",
       "stream": "stdout",
       "text": [
        "\n",
        "Iteration: 115 Error 1.20405128552e-05"
       ]
      },
      {
       "output_type": "stream",
       "stream": "stdout",
       "text": [
        "\n",
        "Iteration: 116 Error 1.1844551394e-05"
       ]
      },
      {
       "output_type": "stream",
       "stream": "stdout",
       "text": [
        "\n",
        "Iteration: 117 Error 1.19817460734e-05"
       ]
      },
      {
       "output_type": "stream",
       "stream": "stdout",
       "text": [
        "\n",
        "Iteration: 118 Error 1.15392254348e-05"
       ]
      },
      {
       "output_type": "stream",
       "stream": "stdout",
       "text": [
        "\n",
        "Iteration: 119 Error 1.13289788098e-05"
       ]
      },
      {
       "output_type": "stream",
       "stream": "stdout",
       "text": [
        "\n",
        "Iteration: 120 Error 1.14104158679e-05"
       ]
      },
      {
       "output_type": "stream",
       "stream": "stdout",
       "text": [
        "\n",
        "Iteration: 121 Error 1.12718107439e-05"
       ]
      },
      {
       "output_type": "stream",
       "stream": "stdout",
       "text": [
        "\n",
        "Iteration: 122 Error 1.09676713566e-05"
       ]
      },
      {
       "output_type": "stream",
       "stream": "stdout",
       "text": [
        "\n",
        "Iteration: 123 Error 1.06818344792e-05"
       ]
      },
      {
       "output_type": "stream",
       "stream": "stdout",
       "text": [
        "\n",
        "Iteration: 124 Error 1.05585270577e-05"
       ]
      },
      {
       "output_type": "stream",
       "stream": "stdout",
       "text": [
        "\n",
        "Iteration: 125 Error 1.03701471512e-05"
       ]
      },
      {
       "output_type": "stream",
       "stream": "stdout",
       "text": [
        "\n",
        "Iteration: 126 Error 1.02987477422e-05"
       ]
      },
      {
       "output_type": "stream",
       "stream": "stdout",
       "text": [
        "\n",
        "Iteration: 127 Error 1.02009374176e-05"
       ]
      },
      {
       "output_type": "stream",
       "stream": "stdout",
       "text": [
        "\n",
        "Iteration: 128 Error 9.84683770678e-06"
       ]
      },
      {
       "output_type": "stream",
       "stream": "stdout",
       "text": [
        "\n",
        "Result (0.0000, 1.0000): (0.9531, 0.0469) chaplin.png\n",
        "Result (1.0000, 0.0000): (0.9911, 0.0089) IMG_6140copy.png\n",
        "Result (1.0000, 0.0000): (0.9998, 0.0002) jpgcopy.png\n",
        "Result (0.0000, 1.0000): (0.0021, 0.9979) jane_jacobs.png\n",
        "Result (0.0000, 1.0000): (0.9112, 0.0888)"
       ]
      },
      {
       "output_type": "stream",
       "stream": "stdout",
       "text": [
        " frank_zappa.png\n",
        "Result (1.0000, 0.0000): (0.1589, 0.8411) pv12copy.png\n",
        "Result (1.0000, 0.0000): (0.9875, 0.0125) IMG_6142copy.png\n",
        "Result (1.0000, 0.0000): (0.9200, 0.0800) IMG_6133copy.png\n",
        "Result (1.0000, 0.0000): (0.1165, 0.8835) IMG_6164copy.png\n",
        "Result (0.0000, 1.0000): (0.1007, 0.8993)"
       ]
      },
      {
       "output_type": "stream",
       "stream": "stdout",
       "text": [
        " einstein.png\n"
       ]
      }
     ],
     "prompt_number": 11
    },
    {
     "cell_type": "code",
     "collapsed": false,
     "input": [],
     "language": "python",
     "metadata": {},
     "outputs": []
    }
   ],
   "metadata": {}
  }
 ]
}