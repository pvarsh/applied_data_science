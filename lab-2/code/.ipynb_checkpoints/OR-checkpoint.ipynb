{
 "metadata": {
  "name": "",
  "signature": "sha256:de60e4e5e10b9d58fd21d6271f1809a8111939e0c1b02749d9a587172d99e025"
 },
 "nbformat": 3,
 "nbformat_minor": 0,
 "worksheets": [
  {
   "cells": [
    {
     "cell_type": "code",
     "collapsed": false,
     "input": [
      "%matplotlib\n",
      "\n",
      "#learn OR with a nerual network with saving of the learned paramaters\n",
      "\n",
      "import pybrain\n",
      "from pybrain.structure import SigmoidLayer\n",
      "from pybrain.datasets import *\n",
      "from pybrain.tools.shortcuts import buildNetwork\n",
      "from pybrain.supervised.trainers import BackpropTrainer\n",
      "import pickle\n",
      "import random\n",
      "import matplotlib.pyplot as plt\n",
      "\n",
      "if __name__ == \"__main__\":\n",
      "  ds = SupervisedDataSet(2, 1)\n",
      "  ds.addSample( (0,0) , (0,))\n",
      "  ds.addSample( (0,1) , (1,))\n",
      "  ds.addSample( (1,0) , (1,))\n",
      "  ds.addSample( (1,1) , (1,))\n",
      "\n",
      "  net = buildNetwork(2, 4, 1, bias=True, outclass = SigmoidLayer)\n",
      "\n",
      "  # try:\n",
      "        #         f = open('_learned', 'r')\n",
      "  #   net = pickle.load(f)\n",
      "  #   f.close()\n",
      "  # except:\n",
      "  trainer = BackpropTrainer(net, learningrate = 0.01, momentum = 0.99)\n",
      "  trainer.trainOnDataset(ds, 500)\n",
      "  trainer.testOnData()\n",
      "  # f = open('_learned', 'w')\n",
      "  # pickle.dump(net, f)\n",
      "  # f.close()\n",
      "  \n",
      "\n",
      "  print net.activate((1,1))\n",
      "  print net.activate((1,0))\n",
      "  print net.activate((0,1))\n",
      "  print net.activate((0,0))\n",
      "        \n",
      "  testUnif = [(random.uniform(0,1), random.uniform(0,1)) for i in range(1000)]\n",
      "  predictions = []\n",
      "  for i in range(len(testUnif)):\n",
      "    prediction = net.activate(testUnif[i])[0]\n",
      "    predictions.append(prediction)\n",
      "\n",
      "  #print predictions\n",
      "  x = [pair[0] for pair in testUnif]\n",
      "  y = [pair[1] for pair in testUnif]\n",
      "  \n",
      "  plt.scatter(x,y, c = predictions)\n",
      "  "
     ],
     "language": "python",
     "metadata": {},
     "outputs": [
      {
       "output_type": "stream",
       "stream": "stdout",
       "text": [
        "Using matplotlib backend: MacOSX\n",
        "[ 0.99701981]"
       ]
      },
      {
       "output_type": "stream",
       "stream": "stdout",
       "text": [
        "\n",
        "[ 0.97059806]\n",
        "[ 0.97141688]\n",
        "[ 0.04644476]\n"
       ]
      }
     ],
     "prompt_number": 2
    },
    {
     "cell_type": "code",
     "collapsed": false,
     "input": [
      "%matplotlib"
     ],
     "language": "python",
     "metadata": {},
     "outputs": [
      {
       "output_type": "stream",
       "stream": "stdout",
       "text": [
        "Using matplotlib backend: MacOSX\n"
       ]
      }
     ],
     "prompt_number": 3
    },
    {
     "cell_type": "code",
     "collapsed": false,
     "input": [],
     "language": "python",
     "metadata": {},
     "outputs": []
    }
   ],
   "metadata": {}
  }
 ]
}