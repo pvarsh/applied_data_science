{
 "metadata": {
  "name": "",
  "signature": "sha256:d753ec6b42b5403de7e95465510d65abfcd722bd40e1a21256999b4bbf21f21e"
 },
 "nbformat": 3,
 "nbformat_minor": 0,
 "worksheets": [
  {
   "cells": [
    {
     "cell_type": "heading",
     "level": 6,
     "metadata": {},
     "source": [
      "Setting up and training the network."
     ]
    },
    {
     "cell_type": "code",
     "collapsed": false,
     "input": [
      "from pybrain.datasets.supervised import SupervisedDataSet \n",
      "from pybrain.tools.shortcuts import buildNetwork\n",
      "from pybrain.supervised.trainers import BackpropTrainer\n",
      "from pybrain.structure import SigmoidLayer\n",
      "from pybrain.structure import SoftmaxLayer\n",
      "\n",
      "import cv2\n",
      "import glob\n",
      "import os\n",
      "import random\n",
      "\n",
      " \n",
      "def loadImage(path):\n",
      "    im = cv2.imread(path)\n",
      "    return flatten(im)\n",
      " \n",
      "def flatten(x):\n",
      "    result = []\n",
      "    for el in x:\n",
      "        if hasattr(el, \"__iter__\") and not isinstance(el, basestring):\n",
      "            result.extend(flatten(el))\n",
      "        else:\n",
      "            result.append(el)\n",
      "    return result\n",
      "\n",
      "def print_f_list(flist, name = \"\"):\n",
      "    print \"\\n### \", name\n",
      "    for f, g1, g2 in flist:\n",
      "        print \"\\n\", f.split('/')[-1]\n",
      "        print truth_dict[g1]\n",
      " \n",
      "def make_test_training(paths, truths, fraction_training):\n",
      "    train = []\n",
      "    test = []\n",
      "    for i in range(len(paths)):\n",
      "        print \"\\n#####\\n\",paths[i]\n",
      "        print truths[i]\n",
      "        files = [(f, truths[i], f.split('/')[-1]) for f in glob.glob(paths[i] + \"*.png\")]\n",
      "        random.shuffle(files)\n",
      "        split = int(len(files) * fraction_training)\n",
      "        train = train + files[:split]\n",
      "        test  = test + files[split:]\n",
      "    random.shuffle(train)\n",
      "    random.shuffle(test)\n",
      "    \n",
      "    return train, test\n",
      "    \n",
      "if __name__ == \"__main__\":\n",
      "    path_1 = \"/Users/petervarshavsky/Documents/Git_NYU/applied_data_science/lab-2/images/animals/alligator_proc/\"\n",
      "    path_2 = \"/Users/petervarshavsky/Documents/Git_NYU/applied_data_science/lab-2/images/animals/cat_proc/\"\n",
      "    path_3 = \"/Users/petervarshavsky/Documents/Git_NYU/applied_data_science/lab-2/images/animals/dog_proc/\"\n",
      "    path_4 = \"/Users/petervarshavsky/Documents/Git_NYU/applied_data_science/lab-2/images/animals/giraffe_proc/\"\n",
      "    path_5 = \"/Users/petervarshavsky/Documents/Git_NYU/applied_data_science/lab-2/images/animals/gorilla_proc/\"\n",
      "    paths = [path_1, path_2, path_3, path_4, path_5]\n",
      "   \n",
      "    # truth:positive\n",
      "    alligator = (1,0,0,0,0)\n",
      "    cat       = (0,1,0,0,0)\n",
      "    dog       = (0,0,1,0,0)\n",
      "    giraffe   = (0,0,0,1,0)\n",
      "    gorilla   = (0,0,0,0,1)\n",
      "    truths = [alligator, cat, dog, giraffe, gorilla]\n",
      "    truth_dict = {(1,0,0,0,0): \"alligator\",\n",
      "                  (0,1,0,0,0): \"cat\",\n",
      "                  (0,0,1,0,0): \"dog\",\n",
      "                  (0,0,0,1,0): \"giraffe\",\n",
      "                  (0,0,0,0,1): \"gorilla\"}\n",
      "    \n",
      "    train, test = make_test_training(paths, truths, 0.75)\n",
      "    #print_f_list(train, \"train:\")\n",
      "    #print_f_list(test, \"test:\")\n",
      "    # first image to start the training set\n",
      "    \n",
      "    f, truth, _ = train.pop()\n",
      "    t = loadImage(f)\n",
      "    \n",
      "    # build network\n",
      "    net = buildNetwork(len(t), int(.05*len(t)), int(0.05 * len(t)), 5, bias = True, outclass = SoftmaxLayer)\n",
      "   \n",
      "    # initialize data set\n",
      "    ds = SupervisedDataSet(len(t), 5)\n",
      "    ds.addSample(t, truth)\n",
      "    # add the rest of elements to data set\n",
      "    for img, truth, imgname in train:\n",
      "        #print truth, imgname\n",
      "        ds.addSample(loadImage(img), truth)# where truth is a tuple (1, 0) or (0,1)\n",
      "    \n",
      "    # train the network\n",
      "    trainer = BackpropTrainer(net, ds)\n",
      "    error = 10 # was 10\n",
      "    iteration = 0\n",
      "    while error > 0.0008: # was 0.0001 \n",
      "        error = trainer.train()\n",
      "        iteration += 1\n",
      "        print \"Iteration: {0} Error {1}\".format(iteration, error)\n",
      "    \n",
      "    "
     ],
     "language": "python",
     "metadata": {},
     "outputs": [
      {
       "output_type": "stream",
       "stream": "stdout",
       "text": [
        "\n",
        "#####\n",
        "/Users/petervarshavsky/Documents/Git_NYU/applied_data_science/lab-2/images/animals/alligator_proc/\n",
        "(1, 0, 0, 0, 0)\n",
        "\n",
        "#####\n",
        "/Users/petervarshavsky/Documents/Git_NYU/applied_data_science/lab-2/images/animals/cat_proc/\n",
        "(0, 1, 0, 0, 0)\n",
        "\n",
        "#####\n",
        "/Users/petervarshavsky/Documents/Git_NYU/applied_data_science/lab-2/images/animals/dog_proc/\n",
        "(0, 0, 1, 0, 0)\n",
        "\n",
        "#####\n",
        "/Users/petervarshavsky/Documents/Git_NYU/applied_data_science/lab-2/images/animals/giraffe_proc/\n",
        "(0, 0, 0, 1, 0)\n",
        "\n",
        "#####\n",
        "/Users/petervarshavsky/Documents/Git_NYU/applied_data_science/lab-2/images/animals/gorilla_proc/\n",
        "(0, 0, 0, 0, 1)\n",
        "Iteration: 1 Error 0.137603679188"
       ]
      },
      {
       "output_type": "stream",
       "stream": "stdout",
       "text": [
        "\n",
        "Iteration: 2 Error 0.113383116686"
       ]
      },
      {
       "output_type": "stream",
       "stream": "stdout",
       "text": [
        "\n",
        "Iteration: 3 Error 0.091201259532"
       ]
      },
      {
       "output_type": "stream",
       "stream": "stdout",
       "text": [
        "\n",
        "Iteration: 4 Error 0.0734854716787"
       ]
      },
      {
       "output_type": "stream",
       "stream": "stdout",
       "text": [
        "\n",
        "Iteration: 5 Error 0.0625362117265"
       ]
      },
      {
       "output_type": "stream",
       "stream": "stdout",
       "text": [
        "\n",
        "Iteration: 6 Error 0.0432812132466"
       ]
      },
      {
       "output_type": "stream",
       "stream": "stdout",
       "text": [
        "\n",
        "Iteration: 7 Error 0.0352042806877"
       ]
      },
      {
       "output_type": "stream",
       "stream": "stdout",
       "text": [
        "\n",
        "Iteration: 8 Error 0.0297447714204"
       ]
      },
      {
       "output_type": "stream",
       "stream": "stdout",
       "text": [
        "\n",
        "Iteration: 9 Error 0.0231427975448"
       ]
      },
      {
       "output_type": "stream",
       "stream": "stdout",
       "text": [
        "\n",
        "Iteration: 10 Error 0.0147851104535"
       ]
      },
      {
       "output_type": "stream",
       "stream": "stdout",
       "text": [
        "\n",
        "Iteration: 11 Error 0.0103336246434"
       ]
      },
      {
       "output_type": "stream",
       "stream": "stdout",
       "text": [
        "\n",
        "Iteration: 12 Error 0.00801479708347"
       ]
      },
      {
       "output_type": "stream",
       "stream": "stdout",
       "text": [
        "\n",
        "Iteration: 13 Error 0.00535200313028"
       ]
      },
      {
       "output_type": "stream",
       "stream": "stdout",
       "text": [
        "\n",
        "Iteration: 14 Error 0.00447044216034"
       ]
      },
      {
       "output_type": "stream",
       "stream": "stdout",
       "text": [
        "\n",
        "Iteration: 15 Error 0.00336821663939"
       ]
      },
      {
       "output_type": "stream",
       "stream": "stdout",
       "text": [
        "\n",
        "Iteration: 16 Error 0.00264960539818"
       ]
      },
      {
       "output_type": "stream",
       "stream": "stdout",
       "text": [
        "\n",
        "Iteration: 17 Error 0.00221678462695"
       ]
      },
      {
       "output_type": "stream",
       "stream": "stdout",
       "text": [
        "\n",
        "Iteration: 18 Error 0.00177479843398"
       ]
      },
      {
       "output_type": "stream",
       "stream": "stdout",
       "text": [
        "\n",
        "Iteration: 19 Error 0.00165313267847"
       ]
      },
      {
       "output_type": "stream",
       "stream": "stdout",
       "text": [
        "\n",
        "Iteration: 20 Error 0.00138872629193"
       ]
      },
      {
       "output_type": "stream",
       "stream": "stdout",
       "text": [
        "\n",
        "Iteration: 21 Error 0.00116882898447"
       ]
      },
      {
       "output_type": "stream",
       "stream": "stdout",
       "text": [
        "\n",
        "Iteration: 22 Error 0.00104422376953"
       ]
      },
      {
       "output_type": "stream",
       "stream": "stdout",
       "text": [
        "\n",
        "Iteration: 23 Error 0.000966273517843"
       ]
      },
      {
       "output_type": "stream",
       "stream": "stdout",
       "text": [
        "\n",
        "Iteration: 24 Error 0.000840186503704"
       ]
      },
      {
       "output_type": "stream",
       "stream": "stdout",
       "text": [
        "\n",
        "Iteration: 25 Error 0.000749595530019"
       ]
      },
      {
       "output_type": "stream",
       "stream": "stdout",
       "text": [
        "\n"
       ]
      }
     ],
     "prompt_number": 37
    },
    {
     "cell_type": "heading",
     "level": 6,
     "metadata": {},
     "source": [
      "Testing the network predictions"
     ]
    },
    {
     "cell_type": "code",
     "collapsed": false,
     "input": [
      "    print \"#####\\nTEST SET PREDICTIONS\\n#####\"\n",
      "    for img, truth, imgname in test:\n",
      "        result = net.activate(loadImage(img))\n",
      "        prediction = tuple([int(round(r)) for r in result])\n",
      "        #print prediction\n",
      "        #print truth\n",
      "        #print \"Result (%2.4f, %2.4f): (%2.4f, %2.4f)\" %(truth[0], truth[1], result[0], result[1]), imgname\n",
      "        print \"\\n\",imgname\n",
      "        #print \"true:     \", truth\n",
      "        #print \"predicted: (%d, %d, %d, %d, %d)\" %( round(result[0]), round(result[1]), round(result[2]), round(result[3]),  round(result[4]))\n",
      "        if prediction in truth_dict:\n",
      "            print \"true:     \", truth_dict[truth]\n",
      "            print \"predicted:\", truth_dict[prediction]\n",
      "        else:\n",
      "            print \"Predicted value not allowed\"\n",
      "            \n",
      "    for img, truth, imgname in test:\n",
      "        result = net.activate(loadImage(img))\n",
      "        prediction = tuple([int(round(r)) for r in result])\n",
      "        if prediction in truth_dict:\n",
      "            print \"Picture %s has a %s\" %(img.split('/')[-1], truth_dict[prediction])\n",
      "        else:\n",
      "            print \"Picture %s was misclassified\" %img.split('/')[-1]\n",
      "        \n",
      "#     print \"#####\\nTRAINING SET PREDICTIONS\\n#####\"\n",
      "#     for img, truth, imgname in train:\n",
      "#         result = net.activate(loadImage(img))\n",
      "#         #print \"Result (%2.4f, %2.4f): (%2.4f, %2.4f)\" %(truth[0], truth[1], result[0], result[1]), imgname"
     ],
     "language": "python",
     "metadata": {},
     "outputs": [
      {
       "output_type": "stream",
       "stream": "stdout",
       "text": [
        "#####\n",
        "TEST SET PREDICTIONS\n",
        "#####\n",
        "\n",
        "cat_7.png\n",
        "true:      cat\n",
        "predicted: cat\n",
        "\n",
        "croc_4.png\n",
        "Predicted value not allowed\n",
        "\n",
        "gorilla_1.png\n",
        "Predicted value not allowed\n",
        "\n"
       ]
      },
      {
       "output_type": "stream",
       "stream": "stdout",
       "text": [
        "dog_3.png\n",
        "true:      dog\n",
        "predicted: gorilla\n",
        "\n",
        "dog_12.png\n",
        "true:      dog\n",
        "predicted: alligator\n",
        "\n"
       ]
      },
      {
       "output_type": "stream",
       "stream": "stdout",
       "text": [
        "dog_8.png\n",
        "true:      dog\n",
        "predicted: alligator\n",
        "\n"
       ]
      },
      {
       "output_type": "stream",
       "stream": "stdout",
       "text": [
        "croc_5.png\n",
        "true:      alligator\n",
        "predicted: giraffe\n",
        "\n",
        "giraffe_13.png\n",
        "true:      giraffe\n",
        "predicted: giraffe\n",
        "\n",
        "giraffe_2.png\n",
        "true:      giraffe\n",
        "predicted: giraffe\n",
        "\n"
       ]
      },
      {
       "output_type": "stream",
       "stream": "stdout",
       "text": [
        "croc_3.png\n",
        "Predicted value not allowed\n",
        "\n",
        "gorilla_5.png\n",
        "true:      gorilla\n",
        "predicted: gorilla\n",
        "\n",
        "croc_9.png\n",
        "true:      alligator\n",
        "predicted: cat\n",
        "\n"
       ]
      },
      {
       "output_type": "stream",
       "stream": "stdout",
       "text": [
        "cat_8.png\n",
        "true:      cat\n",
        "predicted: giraffe\n",
        "\n",
        "gorilla_2.png\n",
        "true:      gorilla\n",
        "predicted: dog\n",
        "\n",
        "giraffe_9.png\n",
        "true:      giraffe\n",
        "predicted: giraffe\n",
        "\n"
       ]
      },
      {
       "output_type": "stream",
       "stream": "stdout",
       "text": [
        "cat_13.png\n",
        "true:      cat\n",
        "predicted: cat\n",
        "\n",
        "cat_5.png\n",
        "true:      cat\n",
        "predicted: giraffe\n",
        "\n",
        "giraffe_10.png\n",
        "true:      giraffe\n",
        "predicted: giraffe\n",
        "\n"
       ]
      },
      {
       "output_type": "stream",
       "stream": "stdout",
       "text": [
        "gorilla_11.png\n",
        "Predicted value not allowed\n",
        "\n",
        "dog_5.png\n",
        "true:      dog\n",
        "predicted: cat\n",
        "Picture cat_7.png has a cat"
       ]
      },
      {
       "output_type": "stream",
       "stream": "stdout",
       "text": [
        "\n",
        "Picture croc_4.png was misclassified\n",
        "Picture gorilla_1.png was misclassified"
       ]
      },
      {
       "output_type": "stream",
       "stream": "stdout",
       "text": [
        "\n",
        "Picture dog_3.png has a gorilla\n",
        "Picture dog_12.png has a alligator"
       ]
      },
      {
       "output_type": "stream",
       "stream": "stdout",
       "text": [
        "\n",
        "Picture dog_8.png has a alligator\n",
        "Picture croc_5.png has a giraffe"
       ]
      },
      {
       "output_type": "stream",
       "stream": "stdout",
       "text": [
        "\n",
        "Picture giraffe_13.png has a giraffe\n",
        "Picture giraffe_2.png has a giraffe"
       ]
      },
      {
       "output_type": "stream",
       "stream": "stdout",
       "text": [
        "\n",
        "Picture croc_3.png was misclassified\n",
        "Picture gorilla_5.png has a gorilla"
       ]
      },
      {
       "output_type": "stream",
       "stream": "stdout",
       "text": [
        "\n",
        "Picture croc_9.png has a cat\n",
        "Picture cat_8.png has a giraffe\n",
        "Picture gorilla_2.png has a dog"
       ]
      },
      {
       "output_type": "stream",
       "stream": "stdout",
       "text": [
        "\n",
        "Picture giraffe_9.png has a giraffe\n",
        "Picture cat_13.png has a cat\n",
        "Picture cat_5.png has a giraffe"
       ]
      },
      {
       "output_type": "stream",
       "stream": "stdout",
       "text": [
        "\n",
        "Picture giraffe_10.png has a giraffe\n",
        "Picture gorilla_11.png was misclassified"
       ]
      },
      {
       "output_type": "stream",
       "stream": "stdout",
       "text": [
        "\n",
        "Picture dog_5.png has a cat\n"
       ]
      }
     ],
     "prompt_number": 41
    },
    {
     "cell_type": "code",
     "collapsed": false,
     "input": [
      "print \"%d\" %round(.6)"
     ],
     "language": "python",
     "metadata": {},
     "outputs": [
      {
       "output_type": "stream",
       "stream": "stdout",
       "text": [
        "1\n"
       ]
      }
     ],
     "prompt_number": 7
    },
    {
     "cell_type": "code",
     "collapsed": false,
     "input": [
      "tuple([1,2,3])"
     ],
     "language": "python",
     "metadata": {},
     "outputs": [
      {
       "metadata": {},
       "output_type": "pyout",
       "prompt_number": 28,
       "text": [
        "(1, 2, 3)"
       ]
      },
      {
       "output_type": "stream",
       "stream": "stdout",
       "text": [
        "\n"
       ]
      }
     ],
     "prompt_number": 28
    },
    {
     "cell_type": "code",
     "collapsed": false,
     "input": [],
     "language": "python",
     "metadata": {},
     "outputs": []
    }
   ],
   "metadata": {}
  }
 ]
}