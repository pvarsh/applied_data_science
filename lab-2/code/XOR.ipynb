{
 "metadata": {
  "name": "",
  "signature": "sha256:cf305444c4d74206085933b910648899b90541170a4c12a6ccc7f030bfa95835"
 },
 "nbformat": 3,
 "nbformat_minor": 0,
 "worksheets": [
  {
   "cells": [
    {
     "cell_type": "code",
     "collapsed": false,
     "input": [
      "#learn XOR with a nerual network with saving of the learned paramaters\n",
      "\n",
      "import pybrain\n",
      "from pybrain.datasets import *\n",
      "from pybrain.tools.shortcuts import buildNetwork\n",
      "from pybrain.supervised.trainers import BackpropTrainer\n",
      "from pybrain.structure import SigmoidLayer\n",
      "import pickle\n",
      "import random\n",
      "from matplotlib import pyplot as plt\n",
      "\n",
      "if __name__ == \"__main__\":\n",
      "  ds = SupervisedDataSet(2, 1)\n",
      "  ds.addSample( (0,0) , (0,))\n",
      "  ds.addSample( (0,1) , (1,))\n",
      "  ds.addSample( (1,0) , (1,))\n",
      "  ds.addSample( (1,1) , (0,))\n",
      "\n",
      "  net = buildNetwork(2, 3, 1, bias=True, outclass = SigmoidLayer)\n",
      "\n",
      "  # try:\n",
      "        #         f = open('_learned', 'r')\n",
      "  #   net = pickle.load(f)\n",
      "  #   f.close()\n",
      "  # except:\n",
      "  trainer = BackpropTrainer(net, learningrate = 0.01, momentum = 0.99)\n",
      "  trainer.trainOnDataset(ds, 2000)\n",
      "  trainer.testOnData()\n",
      "  # f = open('_learned', 'w')\n",
      "  # pickle.dump(net, f)\n",
      "  # f.close()\n",
      "  \n",
      "\n",
      "  print net.activate((1,1))\n",
      "  print net.activate((1,0))\n",
      "  print net.activate((0,1))\n",
      "  print net.activate((0,0))\n",
      "\n",
      "  testUnif = [(random.uniform(0,1), random.uniform(0,1)) for i in range(1000)]\n",
      "  predictions = []\n",
      "  for i in range(len(testUnif)):\n",
      "    prediction = net.activate(testUnif[i])[0]\n",
      "    predictions.append(prediction)\n",
      "\n",
      "  #print predictions\n",
      "  x = [pair[0] for pair in testUnif]\n",
      "  y = [pair[1] for pair in testUnif]\n",
      "  \n",
      "  fig = plt.figure()\n",
      "  plt.scatter(x,y, c = predictions)\n",
      "  fig.savefig('xor.png', dpi = 300)\n",
      "  \n"
     ],
     "language": "python",
     "metadata": {},
     "outputs": [
      {
       "output_type": "stream",
       "stream": "stdout",
       "text": [
        "[ 0.04264968]\n",
        "[ 0.97131322]\n",
        "[ 0.97087464]\n",
        "[ 0.01475984]\n"
       ]
      }
     ],
     "prompt_number": 3
    },
    {
     "cell_type": "code",
     "collapsed": false,
     "input": [],
     "language": "python",
     "metadata": {},
     "outputs": [],
     "prompt_number": 12
    },
    {
     "cell_type": "code",
     "collapsed": false,
     "input": [],
     "language": "python",
     "metadata": {},
     "outputs": []
    }
   ],
   "metadata": {}
  }
 ]
}