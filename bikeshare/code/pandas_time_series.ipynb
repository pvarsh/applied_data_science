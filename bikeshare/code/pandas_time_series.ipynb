{
 "metadata": {
  "name": "",
  "signature": "sha256:e8b6ed5210b8efc63b6e6ec1ddba42cd986e99b97e69701d780b0e7cca09746b"
 },
 "nbformat": 3,
 "nbformat_minor": 0,
 "worksheets": [
  {
   "cells": [
    {
     "cell_type": "markdown",
     "metadata": {},
     "source": [
      "# Time series in Pandas\n",
      "These notes are mostly from Python for Data Analysis book: http://shop.oreilly.com/product/0636920023784.do and from stackoverflow.com"
     ]
    },
    {
     "cell_type": "code",
     "collapsed": false,
     "input": [
      "from datetime import datetime\n",
      "import pandas as pd\n",
      "import numpy as np\n",
      "import patsy\n",
      "import matplotlib.pyplot as plt\n",
      "\n",
      "from sklearn.linear_model import LinearRegression\n",
      "\n",
      "%matplotlib inline\n",
      "plt.style.use('ggplot')"
     ],
     "language": "python",
     "metadata": {},
     "outputs": [],
     "prompt_number": 114
    },
    {
     "cell_type": "markdown",
     "metadata": {},
     "source": [
      "Pandas converts datetime objects into timestamp"
     ]
    },
    {
     "cell_type": "code",
     "collapsed": false,
     "input": [
      "dates = [datetime(2011, 1, 2), datetime(2011, 1, 5), datetime(2011, 1, 7),\n",
      "         datetime(2011, 1, 8), datetime(2011, 1, 10), datetime(2011, 1, 12)]\n",
      "print type(dates[0])\n",
      "ts = pd.Series(np.random.randn(6), index = dates)\n",
      "print type(pd.Series(dates)[0])\n",
      "print type(ts)"
     ],
     "language": "python",
     "metadata": {},
     "outputs": [
      {
       "output_type": "stream",
       "stream": "stdout",
       "text": [
        "<type 'datetime.datetime'>\n",
        "<class 'pandas.tslib.Timestamp'>\n",
        "<class 'pandas.core.series.Series'>\n"
       ]
      }
     ],
     "prompt_number": 6
    },
    {
     "cell_type": "markdown",
     "metadata": {},
     "source": [
      "Addition of two time series is aligned by date. NaNs are produced on non-matching dates."
     ]
    },
    {
     "cell_type": "code",
     "collapsed": false,
     "input": [
      "ts1 = pd.Series(np.random.randn(2), index = [datetime(2011, 1, 2), datetime(2011, 1, 5)])\n",
      "print \"First time series:\"\n",
      "print ts\n",
      "print \"Second time series:\"\n",
      "print ts1\n",
      "print ts + ts1"
     ],
     "language": "python",
     "metadata": {},
     "outputs": [
      {
       "output_type": "stream",
       "stream": "stdout",
       "text": [
        "First time series:\n",
        "2011-01-02   -1.375501\n",
        "2011-01-05   -1.631158\n",
        "2011-01-07    0.006321\n",
        "2011-01-08    0.586690\n",
        "2011-01-10    2.846810\n",
        "2011-01-12   -0.990468\n",
        "dtype: float64\n",
        "Second time series:\n",
        "2011-01-02   -1.588436\n",
        "2011-01-05    1.133822\n",
        "dtype: float64\n",
        "2011-01-02   -2.963937\n",
        "2011-01-05   -0.497337\n",
        "2011-01-07         NaN\n",
        "2011-01-08         NaN\n",
        "2011-01-10         NaN\n",
        "2011-01-12         NaN\n",
        "dtype: float64\n"
       ]
      }
     ],
     "prompt_number": 7
    },
    {
     "cell_type": "markdown",
     "metadata": {},
     "source": [
      ".add() method can be used with the fill_value parameter to avoid NaNs"
     ]
    },
    {
     "cell_type": "code",
     "collapsed": false,
     "input": [
      "print ts1.add(ts, fill_value = 0)"
     ],
     "language": "python",
     "metadata": {},
     "outputs": [
      {
       "output_type": "stream",
       "stream": "stdout",
       "text": [
        "2011-01-02   -2.963937\n",
        "2011-01-05   -0.497337\n",
        "2011-01-07    0.006321\n",
        "2011-01-08    0.586690\n",
        "2011-01-10    2.846810\n",
        "2011-01-12   -0.990468\n",
        "dtype: float64\n"
       ]
      }
     ],
     "prompt_number": 8
    },
    {
     "cell_type": "markdown",
     "metadata": {},
     "source": [
      "pd.date_range() function. Note that default frequency is 'D' (daily). Also note that frequency 'D' is displayed when printing this time series."
     ]
    },
    {
     "cell_type": "code",
     "collapsed": false,
     "input": [
      "?pd.date_range()\n",
      "longer_ts = pd.Series(np.random.randn(1000), index = pd.date_range('1/1/2000', periods = 1000))\n",
      "print longer_ts"
     ],
     "language": "python",
     "metadata": {},
     "outputs": [
      {
       "output_type": "stream",
       "stream": "stdout",
       "text": [
        "2000-01-01   -0.255220\n",
        "2000-01-02    0.052314\n",
        "2000-01-03   -1.117936\n",
        "2000-01-04   -1.174694\n",
        "2000-01-05   -0.322427\n",
        "2000-01-06   -0.835359\n",
        "2000-01-07   -0.803569\n",
        "2000-01-08   -0.232361\n",
        "2000-01-09    0.238124\n",
        "2000-01-10    0.140133\n",
        "2000-01-11   -1.021846\n",
        "2000-01-12    2.129913\n",
        "2000-01-13    0.936332\n",
        "2000-01-14    1.232843\n",
        "2000-01-15   -0.550720\n",
        "...\n",
        "2002-09-12   -0.721811\n",
        "2002-09-13   -1.987410\n",
        "2002-09-14   -0.383265\n",
        "2002-09-15   -0.865295\n",
        "2002-09-16    0.963788\n",
        "2002-09-17   -0.023841\n",
        "2002-09-18   -1.900559\n",
        "2002-09-19   -1.639543\n",
        "2002-09-20    0.528180\n",
        "2002-09-21   -0.256377\n",
        "2002-09-22   -1.049020\n",
        "2002-09-23    0.660136\n",
        "2002-09-24   -0.266661\n",
        "2002-09-25   -1.374333\n",
        "2002-09-26    1.157518\n",
        "Freq: D, Length: 1000\n"
       ]
      }
     ],
     "prompt_number": 9
    },
    {
     "cell_type": "markdown",
     "metadata": {},
     "source": [
      "### Slicing.\n",
      "For non-time indexed series slicing works based on location (ordinal)."
     ]
    },
    {
     "cell_type": "code",
     "collapsed": false,
     "input": [
      "ts = pd.Series(np.random.randn(6), index = dates)\n",
      "s1 = pd.Series(np.random.randn(6), [3*i for i in range(6)])\n",
      "print s1\n",
      "# Subsetting works based on index (this will result in error, since there is no index 2)\n",
      "#print s1[2]\n",
      "# Slicing works based on location (this will execute)\n",
      "print s1[2:]"
     ],
     "language": "python",
     "metadata": {},
     "outputs": [
      {
       "output_type": "stream",
       "stream": "stdout",
       "text": [
        "0    -1.034528\n",
        "3     0.186247\n",
        "6    -0.563698\n",
        "9    -0.788925\n",
        "12   -0.281762\n",
        "15    2.006154\n",
        "dtype: float64\n",
        "6    -0.563698\n",
        "9    -0.788925\n",
        "12   -0.281762\n",
        "15    2.006154\n",
        "dtype: float64\n"
       ]
      }
     ],
     "prompt_number": 10
    },
    {
     "cell_type": "markdown",
     "metadata": {},
     "source": [
      "But a timeseries can be sliced using dates that are not in the index."
     ]
    },
    {
     "cell_type": "code",
     "collapsed": false,
     "input": [
      "ts = pd.Series(np.random.randn(6), index = dates)\n",
      "print ts\n",
      "print ts['1/6/2011':'1/11/2011']"
     ],
     "language": "python",
     "metadata": {},
     "outputs": [
      {
       "output_type": "stream",
       "stream": "stdout",
       "text": [
        "2011-01-02   -0.176994\n",
        "2011-01-05    1.129421\n",
        "2011-01-07   -1.728881\n",
        "2011-01-08   -2.138424\n",
        "2011-01-10   -0.689555\n",
        "2011-01-12   -0.861773\n",
        "dtype: float64\n",
        "2011-01-07   -1.728881\n",
        "2011-01-08   -2.138424\n",
        "2011-01-10   -0.689555\n",
        "dtype: float64\n"
       ]
      }
     ],
     "prompt_number": 11
    },
    {
     "cell_type": "markdown",
     "metadata": {},
     "source": [
      "**Note: ** slicing produces views (or pointers), so changes to slices change the original Series"
     ]
    },
    {
     "cell_type": "code",
     "collapsed": false,
     "input": [
      "ts = pd.Series(np.random.randn(6), index = dates)\n",
      "ts1 = ts['1/6/2011':'1/11/2011']\n",
      "ts1['2011-01-07'] = 200\n",
      "print ts"
     ],
     "language": "python",
     "metadata": {},
     "outputs": [
      {
       "output_type": "stream",
       "stream": "stdout",
       "text": [
        "2011-01-02     -0.014922\n",
        "2011-01-05      0.957035\n",
        "2011-01-07    200.000000\n",
        "2011-01-08      0.000933\n",
        "2011-01-10      0.007031\n",
        "2011-01-12     -0.599304\n",
        "dtype: float64\n"
       ]
      }
     ],
     "prompt_number": 12
    },
    {
     "cell_type": "markdown",
     "metadata": {},
     "source": [
      "**Note:** .truncate method copies the truncated series. Parameter copy can be set to False, then it will create a view or a pointer of the series."
     ]
    },
    {
     "cell_type": "code",
     "collapsed": false,
     "input": [
      "?ts.truncate\n",
      "ts = pd.Series(np.random.randn(6), index = dates)\n",
      "print ts\n",
      "truncated_ts = ts.truncate(after = '1/9/2011', copy = True)\n",
      "truncated_ts['2011-01-05'] = 100\n",
      "print truncated_ts\n",
      "print ts"
     ],
     "language": "python",
     "metadata": {},
     "outputs": [
      {
       "output_type": "stream",
       "stream": "stdout",
       "text": [
        "2011-01-02    1.395307\n",
        "2011-01-05   -0.163223\n",
        "2011-01-07   -0.199114\n",
        "2011-01-08   -0.709808\n",
        "2011-01-10   -0.915366\n",
        "2011-01-12   -1.084502\n",
        "dtype: float64\n",
        "2011-01-02      1.395307\n",
        "2011-01-05    100.000000\n",
        "2011-01-07     -0.199114\n",
        "2011-01-08     -0.709808\n",
        "dtype: float64\n",
        "2011-01-02    1.395307\n",
        "2011-01-05   -0.163223\n",
        "2011-01-07   -0.199114\n",
        "2011-01-08   -0.709808\n",
        "2011-01-10   -0.915366\n",
        "2011-01-12   -1.084502\n",
        "dtype: float64\n"
       ]
      }
     ],
     "prompt_number": 13
    },
    {
     "cell_type": "markdown",
     "metadata": {},
     "source": [
      "Duplicate indices"
     ]
    },
    {
     "cell_type": "code",
     "collapsed": false,
     "input": [
      "dates = pd.DatetimeIndex(['1/1/2000', '1/2/2000', '1-2-2000', '1/3/2000'])\n",
      "dup_ts = pd.Series(np.arange(4), index = dates)\n",
      "print dup_ts\n",
      "print dup_ts.index.is_unique"
     ],
     "language": "python",
     "metadata": {},
     "outputs": [
      {
       "output_type": "stream",
       "stream": "stdout",
       "text": [
        "2000-01-01    0\n",
        "2000-01-02    1\n",
        "2000-01-02    2\n",
        "2000-01-03    3\n",
        "dtype: int64\n",
        "False\n"
       ]
      }
     ],
     "prompt_number": 14
    },
    {
     "cell_type": "markdown",
     "metadata": {},
     "source": [
      "**Skiped: ** Frequencies and date offsets (page 299)"
     ]
    },
    {
     "cell_type": "markdown",
     "metadata": {},
     "source": [
      "Shifting (Leading and Lagging) Data"
     ]
    },
    {
     "cell_type": "code",
     "collapsed": false,
     "input": [
      "ts = pd.Series(np.random.randn(4),\n",
      "               index = pd.date_range('1/1/2000', periods = 4, freq = 'M'))\n",
      "print \"Series: \"\n",
      "print ts\n",
      "print \"Shifted series: \"\n",
      "print ts.shift(1)\n",
      "print \"Percent changes: \"\n",
      "ts / ts.shift(1) - 1"
     ],
     "language": "python",
     "metadata": {},
     "outputs": [
      {
       "output_type": "stream",
       "stream": "stdout",
       "text": [
        "Series: \n",
        "2000-01-31    1.067604\n",
        "2000-02-29   -0.496203\n",
        "2000-03-31    2.049171\n",
        "2000-04-30   -0.693914\n",
        "Freq: M, dtype: float64\n",
        "Shifted series: \n",
        "2000-01-31         NaN\n",
        "2000-02-29    1.067604\n",
        "2000-03-31   -0.496203\n",
        "2000-04-30    2.049171\n",
        "Freq: M, dtype: float64\n",
        "Percent changes: \n"
       ]
      },
      {
       "metadata": {},
       "output_type": "pyout",
       "prompt_number": 15,
       "text": [
        "2000-01-31         NaN\n",
        "2000-02-29   -1.464782\n",
        "2000-03-31   -5.129701\n",
        "2000-04-30   -1.338631\n",
        "Freq: M, dtype: float64"
       ]
      }
     ],
     "prompt_number": 15
    },
    {
     "cell_type": "markdown",
     "metadata": {},
     "source": [
      "Shift without discarding. This advances the index along with the shift."
     ]
    },
    {
     "cell_type": "code",
     "collapsed": false,
     "input": [
      "ts.shift(2, freq = 'M')"
     ],
     "language": "python",
     "metadata": {},
     "outputs": [
      {
       "metadata": {},
       "output_type": "pyout",
       "prompt_number": 16,
       "text": [
        "2000-03-31    1.067604\n",
        "2000-04-30   -0.496203\n",
        "2000-05-31    2.049171\n",
        "2000-06-30   -0.693914\n",
        "Freq: M, dtype: float64"
       ]
      }
     ],
     "prompt_number": 16
    },
    {
     "cell_type": "markdown",
     "metadata": {},
     "source": [
      "**Skipped: ** Time Zone Handling (p. 303)"
     ]
    },
    {
     "cell_type": "markdown",
     "metadata": {},
     "source": [
      "**Skipped: ** Periods and Period Arithmetic (p. 307)"
     ]
    },
    {
     "cell_type": "markdown",
     "metadata": {},
     "source": [
      "**Skipped: **Resampling "
     ]
    },
    {
     "cell_type": "heading",
     "level": 6,
     "metadata": {},
     "source": [
      "Time Series Plotting"
     ]
    },
    {
     "cell_type": "heading",
     "level": 6,
     "metadata": {},
     "source": [
      "Regression with periodic functions"
     ]
    },
    {
     "cell_type": "code",
     "collapsed": false,
     "input": [
      "t = np.linspace(0, 50, 400)"
     ],
     "language": "python",
     "metadata": {},
     "outputs": [],
     "prompt_number": 152
    },
    {
     "cell_type": "code",
     "collapsed": false,
     "input": [
      "pc1 = np.sin(t)\n",
      "pc2 = 0.7 * np.sin(2*t + 1)\n",
      "lc = 0.1 * t\n",
      "error = 0.07 * np.random.randn(len(t))\n",
      "ts = pd.DataFrame(pc1 + pc2 + lc, index = t)\n",
      "ts.columns = ['DGP']\n",
      "ts['noise'] = error\n",
      "ts['data'] = ts.DGP + ts.noise\n",
      "ts['ind'] = ts.index"
     ],
     "language": "python",
     "metadata": {},
     "outputs": [],
     "prompt_number": 169
    },
    {
     "cell_type": "code",
     "collapsed": false,
     "input": [
      "X = [[item] for item in ts.index]\n",
      "y = [[item] for item in ts.data]\n",
      "model = LinearRegression()\n",
      "model.fit(X, y)\n",
      "ts['pred'] = model.predict(X)"
     ],
     "language": "python",
     "metadata": {},
     "outputs": [],
     "prompt_number": 179
    },
    {
     "cell_type": "code",
     "collapsed": false,
     "input": [
      "y1, X1 = patsy.dmatrices('data ~ t + np.sin(t)', data = ts, return_type = \"matrix\")\n",
      "model1 = LinearRegression()\n",
      "model1.fit(X1, y1)\n",
      "\n",
      "ts['pred1'] = model1.predict(X1)\n",
      "\n",
      "y2, X2 = patsy.dmatrices('data ~ ind + np.sin(ind) + np.sin(2*ind + 1)', data = ts, return_type = \"matrix\")\n",
      "model2 = LinearRegression()\n",
      "model2.fit(X2, y2)\n",
      "ts['pred2'] = model2.predict(X2)"
     ],
     "language": "python",
     "metadata": {},
     "outputs": [],
     "prompt_number": 189
    },
    {
     "cell_type": "code",
     "collapsed": false,
     "input": [
      "fig, [ax1, ax2, ax3] = plt.subplots(ncols = 3, figsize = (18, 5))\n",
      "\n",
      "ax1.plot(ts.data)\n",
      "ax1.plot(ts.pred)\n",
      "\n",
      "ax2.plot(ts.data-ts.pred)\n",
      "\n",
      "ax1.plot(ts.pred1)\n",
      "ax1.plot(ts.pred2)\n",
      "ax3.plot(ts.pred2)\n",
      "\n",
      "\n",
      "plt.show()\n"
     ],
     "language": "python",
     "metadata": {},
     "outputs": [
      {
       "metadata": {},
       "output_type": "display_data",
       "png": "[encoded data removed]",
       "text": [
        "<matplotlib.figure.Figure at 0x1129cd510>"
       ]
      }
     ],
     "prompt_number": 191
    },
    {
     "cell_type": "code",
     "collapsed": false,
     "input": [
      "ts"
     ],
     "language": "python",
     "metadata": {},
     "outputs": [
      {
       "html": [
        "<div style=\"max-height:1000px;max-width:1500px;overflow:auto;\">\n",
        "<table border=\"1\" class=\"dataframe\">\n",
        "  <thead>\n",
        "    <tr style=\"text-align: right;\">\n",
        "      <th></th>\n",
        "      <th>DGP</th>\n",
        "      <th>noise</th>\n",
        "      <th>data</th>\n",
        "      <th>ind</th>\n",
        "    </tr>\n",
        "  </thead>\n",
        "  <tbody>\n",
        "    <tr>\n",
        "      <th>0.000000 </th>\n",
        "      <td> 0.589030</td>\n",
        "      <td>-0.080174</td>\n",
        "      <td> 0.508856</td>\n",
        "      <td>  0.000000</td>\n",
        "    </tr>\n",
        "    <tr>\n",
        "      <th>0.125313 </th>\n",
        "      <td> 0.801944</td>\n",
        "      <td> 0.143529</td>\n",
        "      <td> 0.945473</td>\n",
        "      <td>  0.125313</td>\n",
        "    </tr>\n",
        "    <tr>\n",
        "      <th>0.250627 </th>\n",
        "      <td> 0.971382</td>\n",
        "      <td>-0.072024</td>\n",
        "      <td> 0.899357</td>\n",
        "      <td>  0.250627</td>\n",
        "    </tr>\n",
        "    <tr>\n",
        "      <th>0.375940 </th>\n",
        "      <td> 1.093295</td>\n",
        "      <td>-0.198043</td>\n",
        "      <td> 0.895252</td>\n",
        "      <td>  0.375940</td>\n",
        "    </tr>\n",
        "    <tr>\n",
        "      <th>0.501253 </th>\n",
        "      <td> 1.166426</td>\n",
        "      <td> 0.050784</td>\n",
        "      <td> 1.217210</td>\n",
        "      <td>  0.501253</td>\n",
        "    </tr>\n",
        "    <tr>\n",
        "      <th>0.626566 </th>\n",
        "      <td> 1.192294</td>\n",
        "      <td>-0.050132</td>\n",
        "      <td> 1.142163</td>\n",
        "      <td>  0.626566</td>\n",
        "    </tr>\n",
        "    <tr>\n",
        "      <th>0.751880 </th>\n",
        "      <td> 1.175020</td>\n",
        "      <td>-0.020363</td>\n",
        "      <td> 1.154657</td>\n",
        "      <td>  0.751880</td>\n",
        "    </tr>\n",
        "    <tr>\n",
        "      <th>0.877193 </th>\n",
        "      <td> 1.120989</td>\n",
        "      <td>-0.004033</td>\n",
        "      <td> 1.116956</td>\n",
        "      <td>  0.877193</td>\n",
        "    </tr>\n",
        "    <tr>\n",
        "      <th>1.002506 </th>\n",
        "      <td> 1.038382</td>\n",
        "      <td> 0.074148</td>\n",
        "      <td> 1.112530</td>\n",
        "      <td>  1.002506</td>\n",
        "    </tr>\n",
        "    <tr>\n",
        "      <th>1.127820 </th>\n",
        "      <td> 0.936602</td>\n",
        "      <td>-0.038696</td>\n",
        "      <td> 0.897906</td>\n",
        "      <td>  1.127820</td>\n",
        "    </tr>\n",
        "    <tr>\n",
        "      <th>1.253133 </th>\n",
        "      <td> 0.825630</td>\n",
        "      <td>-0.084149</td>\n",
        "      <td> 0.741482</td>\n",
        "      <td>  1.253133</td>\n",
        "    </tr>\n",
        "    <tr>\n",
        "      <th>1.378446 </th>\n",
        "      <td> 0.715360</td>\n",
        "      <td> 0.074039</td>\n",
        "      <td> 0.789399</td>\n",
        "      <td>  1.378446</td>\n",
        "    </tr>\n",
        "    <tr>\n",
        "      <th>1.503759 </th>\n",
        "      <td> 0.614943</td>\n",
        "      <td>-0.025971</td>\n",
        "      <td> 0.588972</td>\n",
        "      <td>  1.503759</td>\n",
        "    </tr>\n",
        "    <tr>\n",
        "      <th>1.629073 </th>\n",
        "      <td> 0.532194</td>\n",
        "      <td>-0.025972</td>\n",
        "      <td> 0.506222</td>\n",
        "      <td>  1.629073</td>\n",
        "    </tr>\n",
        "    <tr>\n",
        "      <th>1.754386 </th>\n",
        "      <td> 0.473094</td>\n",
        "      <td> 0.034926</td>\n",
        "      <td> 0.508020</td>\n",
        "      <td>  1.754386</td>\n",
        "    </tr>\n",
        "    <tr>\n",
        "      <th>1.879699 </th>\n",
        "      <td> 0.441411</td>\n",
        "      <td> 0.048234</td>\n",
        "      <td> 0.489645</td>\n",
        "      <td>  1.879699</td>\n",
        "    </tr>\n",
        "    <tr>\n",
        "      <th>2.005013 </th>\n",
        "      <td> 0.438479</td>\n",
        "      <td>-0.004516</td>\n",
        "      <td> 0.433963</td>\n",
        "      <td>  2.005013</td>\n",
        "    </tr>\n",
        "    <tr>\n",
        "      <th>2.130326 </th>\n",
        "      <td> 0.463136</td>\n",
        "      <td> 0.010724</td>\n",
        "      <td> 0.473859</td>\n",
        "      <td>  2.130326</td>\n",
        "    </tr>\n",
        "    <tr>\n",
        "      <th>2.255639 </th>\n",
        "      <td> 0.511830</td>\n",
        "      <td>-0.081877</td>\n",
        "      <td> 0.429953</td>\n",
        "      <td>  2.255639</td>\n",
        "    </tr>\n",
        "    <tr>\n",
        "      <th>2.380952 </th>\n",
        "      <td> 0.578887</td>\n",
        "      <td> 0.076358</td>\n",
        "      <td> 0.655245</td>\n",
        "      <td>  2.380952</td>\n",
        "    </tr>\n",
        "    <tr>\n",
        "      <th>2.506266 </th>\n",
        "      <td> 0.656914</td>\n",
        "      <td> 0.228565</td>\n",
        "      <td> 0.885480</td>\n",
        "      <td>  2.506266</td>\n",
        "    </tr>\n",
        "    <tr>\n",
        "      <th>2.631579 </th>\n",
        "      <td> 0.737329</td>\n",
        "      <td>-0.029109</td>\n",
        "      <td> 0.708220</td>\n",
        "      <td>  2.631579</td>\n",
        "    </tr>\n",
        "    <tr>\n",
        "      <th>2.756892 </th>\n",
        "      <td> 0.810963</td>\n",
        "      <td> 0.019671</td>\n",
        "      <td> 0.830635</td>\n",
        "      <td>  2.756892</td>\n",
        "    </tr>\n",
        "    <tr>\n",
        "      <th>2.882206 </th>\n",
        "      <td> 0.868715</td>\n",
        "      <td>-0.013193</td>\n",
        "      <td> 0.855522</td>\n",
        "      <td>  2.882206</td>\n",
        "    </tr>\n",
        "    <tr>\n",
        "      <th>3.007519 </th>\n",
        "      <td> 0.902199</td>\n",
        "      <td> 0.005874</td>\n",
        "      <td> 0.908072</td>\n",
        "      <td>  3.007519</td>\n",
        "    </tr>\n",
        "    <tr>\n",
        "      <th>3.132832 </th>\n",
        "      <td> 0.904357</td>\n",
        "      <td>-0.001353</td>\n",
        "      <td> 0.903003</td>\n",
        "      <td>  3.132832</td>\n",
        "    </tr>\n",
        "    <tr>\n",
        "      <th>3.258145 </th>\n",
        "      <td> 0.869991</td>\n",
        "      <td> 0.051499</td>\n",
        "      <td> 0.921490</td>\n",
        "      <td>  3.258145</td>\n",
        "    </tr>\n",
        "    <tr>\n",
        "      <th>3.383459 </th>\n",
        "      <td> 0.796180</td>\n",
        "      <td>-0.097819</td>\n",
        "      <td> 0.698361</td>\n",
        "      <td>  3.383459</td>\n",
        "    </tr>\n",
        "    <tr>\n",
        "      <th>3.508772 </th>\n",
        "      <td> 0.682550</td>\n",
        "      <td> 0.004010</td>\n",
        "      <td> 0.686561</td>\n",
        "      <td>  3.508772</td>\n",
        "    </tr>\n",
        "    <tr>\n",
        "      <th>3.634085 </th>\n",
        "      <td> 0.531395</td>\n",
        "      <td>-0.053427</td>\n",
        "      <td> 0.477968</td>\n",
        "      <td>  3.634085</td>\n",
        "    </tr>\n",
        "    <tr>\n",
        "      <th>...</th>\n",
        "      <td>...</td>\n",
        "      <td>...</td>\n",
        "      <td>...</td>\n",
        "      <td>...</td>\n",
        "    </tr>\n",
        "    <tr>\n",
        "      <th>46.365915</th>\n",
        "      <td> 4.978691</td>\n",
        "      <td> 0.018253</td>\n",
        "      <td> 4.996944</td>\n",
        "      <td> 46.365915</td>\n",
        "    </tr>\n",
        "    <tr>\n",
        "      <th>46.491228</th>\n",
        "      <td> 5.056861</td>\n",
        "      <td> 0.087056</td>\n",
        "      <td> 5.143917</td>\n",
        "      <td> 46.491228</td>\n",
        "    </tr>\n",
        "    <tr>\n",
        "      <th>46.616541</th>\n",
        "      <td> 5.137228</td>\n",
        "      <td>-0.076650</td>\n",
        "      <td> 5.060578</td>\n",
        "      <td> 46.616541</td>\n",
        "    </tr>\n",
        "    <tr>\n",
        "      <th>46.741855</th>\n",
        "      <td> 5.210618</td>\n",
        "      <td> 0.047355</td>\n",
        "      <td> 5.257973</td>\n",
        "      <td> 46.741855</td>\n",
        "    </tr>\n",
        "    <tr>\n",
        "      <th>46.867168</th>\n",
        "      <td> 5.267937</td>\n",
        "      <td> 0.088032</td>\n",
        "      <td> 5.355969</td>\n",
        "      <td> 46.867168</td>\n",
        "    </tr>\n",
        "    <tr>\n",
        "      <th>46.992481</th>\n",
        "      <td> 5.300822</td>\n",
        "      <td>-0.056223</td>\n",
        "      <td> 5.244600</td>\n",
        "      <td> 46.992481</td>\n",
        "    </tr>\n",
        "    <tr>\n",
        "      <th>47.117794</th>\n",
        "      <td> 5.302250</td>\n",
        "      <td> 0.017342</td>\n",
        "      <td> 5.319592</td>\n",
        "      <td> 47.117794</td>\n",
        "    </tr>\n",
        "    <tr>\n",
        "      <th>47.243108</th>\n",
        "      <td> 5.267067</td>\n",
        "      <td>-0.091267</td>\n",
        "      <td> 5.175801</td>\n",
        "      <td> 47.243108</td>\n",
        "    </tr>\n",
        "    <tr>\n",
        "      <th>47.368421</th>\n",
        "      <td> 5.192404</td>\n",
        "      <td>-0.074508</td>\n",
        "      <td> 5.117896</td>\n",
        "      <td> 47.368421</td>\n",
        "    </tr>\n",
        "    <tr>\n",
        "      <th>47.493734</th>\n",
        "      <td> 5.077943</td>\n",
        "      <td> 0.059423</td>\n",
        "      <td> 5.137366</td>\n",
        "      <td> 47.493734</td>\n",
        "    </tr>\n",
        "    <tr>\n",
        "      <th>47.619048</th>\n",
        "      <td> 4.926034</td>\n",
        "      <td>-0.082179</td>\n",
        "      <td> 4.843855</td>\n",
        "      <td> 47.619048</td>\n",
        "    </tr>\n",
        "    <tr>\n",
        "      <th>47.744361</th>\n",
        "      <td> 4.741629</td>\n",
        "      <td>-0.060045</td>\n",
        "      <td> 4.681584</td>\n",
        "      <td> 47.744361</td>\n",
        "    </tr>\n",
        "    <tr>\n",
        "      <th>47.869674</th>\n",
        "      <td> 4.532063</td>\n",
        "      <td> 0.021753</td>\n",
        "      <td> 4.553816</td>\n",
        "      <td> 47.869674</td>\n",
        "    </tr>\n",
        "    <tr>\n",
        "      <th>47.994987</th>\n",
        "      <td> 4.306667</td>\n",
        "      <td>-0.072667</td>\n",
        "      <td> 4.234000</td>\n",
        "      <td> 47.994987</td>\n",
        "    </tr>\n",
        "    <tr>\n",
        "      <th>48.120301</th>\n",
        "      <td> 4.076259</td>\n",
        "      <td> 0.119036</td>\n",
        "      <td> 4.195296</td>\n",
        "      <td> 48.120301</td>\n",
        "    </tr>\n",
        "    <tr>\n",
        "      <th>48.245614</th>\n",
        "      <td> 3.852535</td>\n",
        "      <td>-0.000360</td>\n",
        "      <td> 3.852175</td>\n",
        "      <td> 48.245614</td>\n",
        "    </tr>\n",
        "    <tr>\n",
        "      <th>48.370927</th>\n",
        "      <td> 3.647386</td>\n",
        "      <td>-0.056116</td>\n",
        "      <td> 3.591271</td>\n",
        "      <td> 48.370927</td>\n",
        "    </tr>\n",
        "    <tr>\n",
        "      <th>48.496241</th>\n",
        "      <td> 3.472206</td>\n",
        "      <td>-0.117888</td>\n",
        "      <td> 3.354318</td>\n",
        "      <td> 48.496241</td>\n",
        "    </tr>\n",
        "    <tr>\n",
        "      <th>48.621554</th>\n",
        "      <td> 3.337210</td>\n",
        "      <td> 0.075610</td>\n",
        "      <td> 3.412820</td>\n",
        "      <td> 48.621554</td>\n",
        "    </tr>\n",
        "    <tr>\n",
        "      <th>48.746867</th>\n",
        "      <td> 3.250824</td>\n",
        "      <td>-0.085838</td>\n",
        "      <td> 3.164986</td>\n",
        "      <td> 48.746867</td>\n",
        "    </tr>\n",
        "    <tr>\n",
        "      <th>48.872180</th>\n",
        "      <td> 3.219166</td>\n",
        "      <td> 0.064120</td>\n",
        "      <td> 3.283287</td>\n",
        "      <td> 48.872180</td>\n",
        "    </tr>\n",
        "    <tr>\n",
        "      <th>48.997494</th>\n",
        "      <td> 3.245671</td>\n",
        "      <td> 0.031631</td>\n",
        "      <td> 3.277301</td>\n",
        "      <td> 48.997494</td>\n",
        "    </tr>\n",
        "    <tr>\n",
        "      <th>49.122807</th>\n",
        "      <td> 3.330858</td>\n",
        "      <td> 0.036713</td>\n",
        "      <td> 3.367571</td>\n",
        "      <td> 49.122807</td>\n",
        "    </tr>\n",
        "    <tr>\n",
        "      <th>49.248120</th>\n",
        "      <td> 3.472282</td>\n",
        "      <td> 0.027667</td>\n",
        "      <td> 3.499949</td>\n",
        "      <td> 49.248120</td>\n",
        "    </tr>\n",
        "    <tr>\n",
        "      <th>49.373434</th>\n",
        "      <td> 3.664653</td>\n",
        "      <td> 0.083587</td>\n",
        "      <td> 3.748240</td>\n",
        "      <td> 49.373434</td>\n",
        "    </tr>\n",
        "    <tr>\n",
        "      <th>49.498747</th>\n",
        "      <td> 3.900119</td>\n",
        "      <td>-0.100235</td>\n",
        "      <td> 3.799884</td>\n",
        "      <td> 49.498747</td>\n",
        "    </tr>\n",
        "    <tr>\n",
        "      <th>49.624060</th>\n",
        "      <td> 4.168709</td>\n",
        "      <td> 0.108316</td>\n",
        "      <td> 4.277025</td>\n",
        "      <td> 49.624060</td>\n",
        "    </tr>\n",
        "    <tr>\n",
        "      <th>49.749373</th>\n",
        "      <td> 4.458889</td>\n",
        "      <td> 0.062253</td>\n",
        "      <td> 4.521141</td>\n",
        "      <td> 49.749373</td>\n",
        "    </tr>\n",
        "    <tr>\n",
        "      <th>49.874687</th>\n",
        "      <td> 4.758218</td>\n",
        "      <td>-0.009410</td>\n",
        "      <td> 4.748808</td>\n",
        "      <td> 49.874687</td>\n",
        "    </tr>\n",
        "    <tr>\n",
        "      <th>50.000000</th>\n",
        "      <td> 5.054043</td>\n",
        "      <td>-0.124958</td>\n",
        "      <td> 4.929085</td>\n",
        "      <td> 50.000000</td>\n",
        "    </tr>\n",
        "  </tbody>\n",
        "</table>\n",
        "<p>400 rows \u00d7 4 columns</p>\n",
        "</div>"
       ],
       "metadata": {},
       "output_type": "pyout",
       "prompt_number": 170,
       "text": [
        "                DGP     noise      data        ind\n",
        "0.000000   0.589030 -0.080174  0.508856   0.000000\n",
        "0.125313   0.801944  0.143529  0.945473   0.125313\n",
        "0.250627   0.971382 -0.072024  0.899357   0.250627\n",
        "0.375940   1.093295 -0.198043  0.895252   0.375940\n",
        "0.501253   1.166426  0.050784  1.217210   0.501253\n",
        "0.626566   1.192294 -0.050132  1.142163   0.626566\n",
        "0.751880   1.175020 -0.020363  1.154657   0.751880\n",
        "0.877193   1.120989 -0.004033  1.116956   0.877193\n",
        "1.002506   1.038382  0.074148  1.112530   1.002506\n",
        "1.127820   0.936602 -0.038696  0.897906   1.127820\n",
        "1.253133   0.825630 -0.084149  0.741482   1.253133\n",
        "1.378446   0.715360  0.074039  0.789399   1.378446\n",
        "1.503759   0.614943 -0.025971  0.588972   1.503759\n",
        "1.629073   0.532194 -0.025972  0.506222   1.629073\n",
        "1.754386   0.473094  0.034926  0.508020   1.754386\n",
        "1.879699   0.441411  0.048234  0.489645   1.879699\n",
        "2.005013   0.438479 -0.004516  0.433963   2.005013\n",
        "2.130326   0.463136  0.010724  0.473859   2.130326\n",
        "2.255639   0.511830 -0.081877  0.429953   2.255639\n",
        "2.380952   0.578887  0.076358  0.655245   2.380952\n",
        "2.506266   0.656914  0.228565  0.885480   2.506266\n",
        "2.631579   0.737329 -0.029109  0.708220   2.631579\n",
        "2.756892   0.810963  0.019671  0.830635   2.756892\n",
        "2.882206   0.868715 -0.013193  0.855522   2.882206\n",
        "3.007519   0.902199  0.005874  0.908072   3.007519\n",
        "3.132832   0.904357 -0.001353  0.903003   3.132832\n",
        "3.258145   0.869991  0.051499  0.921490   3.258145\n",
        "3.383459   0.796180 -0.097819  0.698361   3.383459\n",
        "3.508772   0.682550  0.004010  0.686561   3.508772\n",
        "3.634085   0.531395 -0.053427  0.477968   3.634085\n",
        "...             ...       ...       ...        ...\n",
        "46.365915  4.978691  0.018253  4.996944  46.365915\n",
        "46.491228  5.056861  0.087056  5.143917  46.491228\n",
        "46.616541  5.137228 -0.076650  5.060578  46.616541\n",
        "46.741855  5.210618  0.047355  5.257973  46.741855\n",
        "46.867168  5.267937  0.088032  5.355969  46.867168\n",
        "46.992481  5.300822 -0.056223  5.244600  46.992481\n",
        "47.117794  5.302250  0.017342  5.319592  47.117794\n",
        "47.243108  5.267067 -0.091267  5.175801  47.243108\n",
        "47.368421  5.192404 -0.074508  5.117896  47.368421\n",
        "47.493734  5.077943  0.059423  5.137366  47.493734\n",
        "47.619048  4.926034 -0.082179  4.843855  47.619048\n",
        "47.744361  4.741629 -0.060045  4.681584  47.744361\n",
        "47.869674  4.532063  0.021753  4.553816  47.869674\n",
        "47.994987  4.306667 -0.072667  4.234000  47.994987\n",
        "48.120301  4.076259  0.119036  4.195296  48.120301\n",
        "48.245614  3.852535 -0.000360  3.852175  48.245614\n",
        "48.370927  3.647386 -0.056116  3.591271  48.370927\n",
        "48.496241  3.472206 -0.117888  3.354318  48.496241\n",
        "48.621554  3.337210  0.075610  3.412820  48.621554\n",
        "48.746867  3.250824 -0.085838  3.164986  48.746867\n",
        "48.872180  3.219166  0.064120  3.283287  48.872180\n",
        "48.997494  3.245671  0.031631  3.277301  48.997494\n",
        "49.122807  3.330858  0.036713  3.367571  49.122807\n",
        "49.248120  3.472282  0.027667  3.499949  49.248120\n",
        "49.373434  3.664653  0.083587  3.748240  49.373434\n",
        "49.498747  3.900119 -0.100235  3.799884  49.498747\n",
        "49.624060  4.168709  0.108316  4.277025  49.624060\n",
        "49.749373  4.458889  0.062253  4.521141  49.749373\n",
        "49.874687  4.758218 -0.009410  4.748808  49.874687\n",
        "50.000000  5.054043 -0.124958  4.929085  50.000000\n",
        "\n",
        "[400 rows x 4 columns]"
       ]
      }
     ],
     "prompt_number": 170
    },
    {
     "cell_type": "code",
     "collapsed": false,
     "input": [
      "a = np.array([[1],[2],[3]])"
     ],
     "language": "python",
     "metadata": {},
     "outputs": [],
     "prompt_number": 148
    },
    {
     "cell_type": "code",
     "collapsed": false,
     "input": [
      "np.ravel(a)"
     ],
     "language": "python",
     "metadata": {},
     "outputs": [
      {
       "metadata": {},
       "output_type": "pyout",
       "prompt_number": 149,
       "text": [
        "array([1, 2, 3])"
       ]
      }
     ],
     "prompt_number": 149
    },
    {
     "cell_type": "code",
     "collapsed": false,
     "input": [
      "a"
     ],
     "language": "python",
     "metadata": {},
     "outputs": [
      {
       "metadata": {},
       "output_type": "pyout",
       "prompt_number": 150,
       "text": [
        "array([[1],\n",
        "       [2],\n",
        "       [3]])"
       ]
      }
     ],
     "prompt_number": 150
    },
    {
     "cell_type": "code",
     "collapsed": false,
     "input": [],
     "language": "python",
     "metadata": {},
     "outputs": []
    }
   ],
   "metadata": {}
  }
 ]
}