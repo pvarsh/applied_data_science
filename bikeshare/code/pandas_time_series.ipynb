{
 "metadata": {
  "name": "",
  "signature": "sha256:1ecfcadfb7b18d0a8977249b740657431a1c7c7b32a9e5eb1183d8a7f022d709"
 },
 "nbformat": 3,
 "nbformat_minor": 0,
 "worksheets": [
  {
   "cells": [
    {
     "cell_type": "markdown",
     "metadata": {},
     "source": [
      "# Time series in Pandas\n",
      "These notes are mostly from Python for Data Analysis book: http://shop.oreilly.com/product/0636920023784.do and from stackoverflow.com"
     ]
    },
    {
     "cell_type": "code",
     "collapsed": false,
     "input": [
      "from datetime import datetime\n",
      "import pandas as pd\n",
      "%matplotlib inline"
     ],
     "language": "python",
     "metadata": {},
     "outputs": [],
     "prompt_number": 26
    },
    {
     "cell_type": "markdown",
     "metadata": {},
     "source": [
      "Pandas converts datetime objects into timestamp"
     ]
    },
    {
     "cell_type": "code",
     "collapsed": false,
     "input": [
      "dates = [datetime(2011, 1, 2), datetime(2011, 1, 5), datetime(2011, 1, 7),\n",
      "         datetime(2011, 1, 8), datetime(2011, 1, 10), datetime(2011, 1, 12)]\n",
      "print type(dates[0])\n",
      "ts = pd.Series(np.random.randn(6), index = dates)\n",
      "print type(pd.Series(dates)[0])\n",
      "print type(ts)"
     ],
     "language": "python",
     "metadata": {},
     "outputs": [
      {
       "output_type": "stream",
       "stream": "stdout",
       "text": [
        "<type 'datetime.datetime'>\n",
        "<class 'pandas.tslib.Timestamp'>\n",
        "<class 'pandas.core.series.Series'>\n"
       ]
      }
     ],
     "prompt_number": 36
    },
    {
     "cell_type": "markdown",
     "metadata": {},
     "source": [
      "Addition of two time series is aligned by date. NaNs are produced on non-matching dates."
     ]
    },
    {
     "cell_type": "code",
     "collapsed": false,
     "input": [
      "ts1 = pd.Series(np.random.randn(2), index = [datetime(2011, 1, 2), datetime(2011, 1, 5)])\n",
      "print \"First time series:\"\n",
      "print ts\n",
      "print \"Second time series:\"\n",
      "print ts1\n",
      "print ts + ts1"
     ],
     "language": "python",
     "metadata": {},
     "outputs": [
      {
       "output_type": "stream",
       "stream": "stdout",
       "text": [
        "First time series:\n",
        "2011-01-02    1.318552\n",
        "2011-01-05    1.290019\n",
        "2011-01-07   -0.042008\n",
        "2011-01-08   -1.169762\n",
        "2011-01-10   -1.818729\n",
        "2011-01-12    0.203499\n",
        "dtype: float64\n",
        "Second time series:\n",
        "2011-01-02    1.871422\n",
        "2011-01-05    0.745817\n",
        "dtype: float64\n",
        "2011-01-02    3.189974\n",
        "2011-01-05    2.035837\n",
        "2011-01-07         NaN\n",
        "2011-01-08         NaN\n",
        "2011-01-10         NaN\n",
        "2011-01-12         NaN\n",
        "dtype: float64\n"
       ]
      }
     ],
     "prompt_number": 37
    },
    {
     "cell_type": "markdown",
     "metadata": {},
     "source": [
      ".add() method can be used with the fill_value parameter to avoid NaNs"
     ]
    },
    {
     "cell_type": "code",
     "collapsed": false,
     "input": [
      "print ts1.add(ts, fill_value = 0)"
     ],
     "language": "python",
     "metadata": {},
     "outputs": [
      {
       "output_type": "stream",
       "stream": "stdout",
       "text": [
        "2011-01-02    3.189974\n",
        "2011-01-05    2.035837\n",
        "2011-01-07   -0.042008\n",
        "2011-01-08   -1.169762\n",
        "2011-01-10   -1.818729\n",
        "2011-01-12    0.203499\n",
        "dtype: float64\n"
       ]
      }
     ],
     "prompt_number": 38
    },
    {
     "cell_type": "markdown",
     "metadata": {},
     "source": [
      "pd.date_range() function. Note that default frequency is 'D' (daily). Also note that frequency 'D' is displayed when printing this time series."
     ]
    },
    {
     "cell_type": "code",
     "collapsed": false,
     "input": [
      "?pd.date_range()\n",
      "longer_ts = pd.Series(np.random.randn(1000), index = pd.date_range('1/1/2000', periods = 1000))\n",
      "print longer_ts"
     ],
     "language": "python",
     "metadata": {},
     "outputs": [
      {
       "output_type": "stream",
       "stream": "stdout",
       "text": [
        "2000-01-01   -0.199305\n",
        "2000-01-02    0.773169\n",
        "2000-01-03   -1.747640\n",
        "2000-01-04    0.537941\n",
        "2000-01-05   -0.416886\n",
        "2000-01-06   -1.076057\n",
        "2000-01-07   -0.618164\n",
        "2000-01-08    0.777154\n",
        "2000-01-09   -0.807849\n",
        "2000-01-10    0.688789\n",
        "2000-01-11   -0.034250\n",
        "2000-01-12   -0.640959\n",
        "2000-01-13   -0.615499\n",
        "2000-01-14   -1.705830\n",
        "2000-01-15   -0.446216\n",
        "...\n",
        "2002-09-12    0.663896\n",
        "2002-09-13    1.866453\n",
        "2002-09-14   -0.041670\n",
        "2002-09-15    0.828593\n",
        "2002-09-16   -0.099586\n",
        "2002-09-17    0.665983\n",
        "2002-09-18   -0.672010\n",
        "2002-09-19   -0.095828\n",
        "2002-09-20   -0.821825\n",
        "2002-09-21   -0.609897\n",
        "2002-09-22    0.329333\n",
        "2002-09-23    0.532602\n",
        "2002-09-24    0.857681\n",
        "2002-09-25   -0.490080\n",
        "2002-09-26    1.319969\n",
        "Freq: D, Length: 1000\n"
       ]
      }
     ],
     "prompt_number": 44
    },
    {
     "cell_type": "markdown",
     "metadata": {},
     "source": [
      "### Slicing.\n",
      "For non-time indexed series slicing works based on location (ordinal)."
     ]
    },
    {
     "cell_type": "code",
     "collapsed": false,
     "input": [
      "ts = pd.Series(np.random.randn(6), index = dates)\n",
      "s1 = pd.Series(np.random.randn(6), [3*i for i in range(6)])\n",
      "print s1\n",
      "# Subsetting works based on index (this will result in error, since there is no index 2)\n",
      "#print s1[2]\n",
      "# Slicing works based on location (this will execute)\n",
      "print s1[2:]"
     ],
     "language": "python",
     "metadata": {},
     "outputs": [
      {
       "output_type": "stream",
       "stream": "stdout",
       "text": [
        "0    -2.619698\n",
        "3     0.849682\n",
        "6    -0.128538\n",
        "9     0.364061\n",
        "12   -0.038796\n",
        "15   -0.207480\n",
        "dtype: float64\n",
        "6    -0.128538\n",
        "9     0.364061\n",
        "12   -0.038796\n",
        "15   -0.207480\n",
        "dtype: float64\n"
       ]
      }
     ],
     "prompt_number": 66
    },
    {
     "cell_type": "markdown",
     "metadata": {},
     "source": [
      "But a timeseries can be sliced using dates that are not in the index."
     ]
    },
    {
     "cell_type": "code",
     "collapsed": false,
     "input": [
      "ts = pd.Series(np.random.randn(6), index = dates)\n",
      "print ts\n",
      "print ts['1/6/2011':'1/11/2011']"
     ],
     "language": "python",
     "metadata": {},
     "outputs": [
      {
       "output_type": "stream",
       "stream": "stdout",
       "text": [
        "2011-01-02    0.930328\n",
        "2011-01-05   -0.185857\n",
        "2011-01-07   -0.227165\n",
        "2011-01-08    1.181896\n",
        "2011-01-10   -0.025391\n",
        "2011-01-12    0.862601\n",
        "dtype: float64\n",
        "2011-01-07   -0.227165\n",
        "2011-01-08    1.181896\n",
        "2011-01-10   -0.025391\n",
        "dtype: float64\n"
       ]
      }
     ],
     "prompt_number": 88
    },
    {
     "cell_type": "markdown",
     "metadata": {},
     "source": [
      "**Note: ** slicing produces views (or pointers), so changes to slices change the original Series"
     ]
    },
    {
     "cell_type": "code",
     "collapsed": false,
     "input": [
      "ts = pd.Series(np.random.randn(6), index = dates)\n",
      "ts1 = ts['1/6/2011':'1/11/2011']\n",
      "ts1['2011-01-07'] = 200\n",
      "print ts"
     ],
     "language": "python",
     "metadata": {},
     "outputs": [
      {
       "output_type": "stream",
       "stream": "stdout",
       "text": [
        "2011-01-02     -0.825704\n",
        "2011-01-05     -0.944213\n",
        "2011-01-07    200.000000\n",
        "2011-01-08      0.230519\n",
        "2011-01-10     -0.475184\n",
        "2011-01-12      0.052164\n",
        "dtype: float64\n"
       ]
      }
     ],
     "prompt_number": 89
    },
    {
     "cell_type": "markdown",
     "metadata": {},
     "source": [
      "**Note:** .truncate method copies the truncated series. Parameter copy can be set to False, then it will create a view or a pointer of the series."
     ]
    },
    {
     "cell_type": "code",
     "collapsed": false,
     "input": [
      "?ts.truncate\n",
      "ts = pd.Series(np.random.randn(6), index = dates)\n",
      "print ts\n",
      "truncated_ts = ts.truncate(after = '1/9/2011', copy = True)\n",
      "truncated_ts['2011-01-05'] = 100\n",
      "print truncated_ts\n",
      "print ts"
     ],
     "language": "python",
     "metadata": {},
     "outputs": [
      {
       "output_type": "stream",
       "stream": "stdout",
       "text": [
        "2011-01-02   -1.193988\n",
        "2011-01-05    2.282239\n",
        "2011-01-07    1.794534\n",
        "2011-01-08    0.895353\n",
        "2011-01-10   -0.972431\n",
        "2011-01-12    0.012528\n",
        "dtype: float64\n",
        "2011-01-02     -1.193988\n",
        "2011-01-05    100.000000\n",
        "2011-01-07      1.794534\n",
        "2011-01-08      0.895353\n",
        "dtype: float64\n",
        "2011-01-02   -1.193988\n",
        "2011-01-05    2.282239\n",
        "2011-01-07    1.794534\n",
        "2011-01-08    0.895353\n",
        "2011-01-10   -0.972431\n",
        "2011-01-12    0.012528\n",
        "dtype: float64\n"
       ]
      }
     ],
     "prompt_number": 90
    },
    {
     "cell_type": "markdown",
     "metadata": {},
     "source": [
      "Duplicate indices"
     ]
    },
    {
     "cell_type": "code",
     "collapsed": false,
     "input": [
      "dates = pd.DatetimeIndex(['1/1/2000', '1/2/2000', '1-2-2000', '1/3/2000'])\n",
      "dup_ts = pd.Series(np.arange(4), index = dates)\n",
      "print dup_ts\n",
      "print dup_ts.index.is_unique"
     ],
     "language": "python",
     "metadata": {},
     "outputs": [
      {
       "output_type": "stream",
       "stream": "stdout",
       "text": [
        "2000-01-01    0\n",
        "2000-01-02    1\n",
        "2000-01-02    2\n",
        "2000-01-03    3\n",
        "dtype: int64\n",
        "False\n"
       ]
      }
     ],
     "prompt_number": 98
    },
    {
     "cell_type": "markdown",
     "metadata": {},
     "source": [
      "**Skiped: ** Frequencies and date offsets (page 299)"
     ]
    },
    {
     "cell_type": "markdown",
     "metadata": {},
     "source": [
      "Shifting (Leading and Lagging) Data"
     ]
    },
    {
     "cell_type": "code",
     "collapsed": false,
     "input": [
      "ts = pd.Series(np.random.randn(4),\n",
      "               index = pd.date_range('1/1/2000', periods = 4, freq = 'M'))\n",
      "print \"Series: \"\n",
      "print ts\n",
      "print \"Shifted series: \"\n",
      "print ts.shift(1)\n",
      "print \"Percent changes: \"\n",
      "ts / ts.shift(1) - 1"
     ],
     "language": "python",
     "metadata": {},
     "outputs": [
      {
       "output_type": "stream",
       "stream": "stdout",
       "text": [
        "Series: \n",
        "2000-01-31    0.427669\n",
        "2000-02-29   -0.549805\n",
        "2000-03-31   -1.850959\n",
        "2000-04-30   -0.614875\n",
        "Freq: M, dtype: float64\n",
        "Shifted series: \n",
        "2000-01-31         NaN\n",
        "2000-02-29    0.427669\n",
        "2000-03-31   -0.549805\n",
        "2000-04-30   -1.850959\n",
        "Freq: M, dtype: float64\n",
        "Percent changes: \n"
       ]
      },
      {
       "metadata": {},
       "output_type": "pyout",
       "prompt_number": 103,
       "text": [
        "2000-01-31         NaN\n",
        "2000-02-29   -2.285585\n",
        "2000-03-31    2.366571\n",
        "2000-04-30   -0.667807\n",
        "Freq: M, dtype: float64"
       ]
      }
     ],
     "prompt_number": 103
    },
    {
     "cell_type": "markdown",
     "metadata": {},
     "source": [
      "Shift without discarding. This advances the index along with the shift."
     ]
    },
    {
     "cell_type": "code",
     "collapsed": false,
     "input": [
      "ts.shift(2, freq = 'M')"
     ],
     "language": "python",
     "metadata": {},
     "outputs": [
      {
       "metadata": {},
       "output_type": "pyout",
       "prompt_number": 104,
       "text": [
        "2000-03-31    0.427669\n",
        "2000-04-30   -0.549805\n",
        "2000-05-31   -1.850959\n",
        "2000-06-30   -0.614875\n",
        "Freq: M, dtype: float64"
       ]
      }
     ],
     "prompt_number": 104
    },
    {
     "cell_type": "markdown",
     "metadata": {},
     "source": [
      "**Skipped: ** Time Zone Handling (p. 303)"
     ]
    },
    {
     "cell_type": "markdown",
     "metadata": {},
     "source": [
      "**Skipped: ** Periods and Period Arithmetic (p. 307)"
     ]
    },
    {
     "cell_type": "markdown",
     "metadata": {},
     "source": [
      "**Skipped: **Resampling "
     ]
    },
    {
     "cell_type": "heading",
     "level": 6,
     "metadata": {},
     "source": [
      "Time Series Plotting"
     ]
    },
    {
     "cell_type": "code",
     "collapsed": false,
     "input": [],
     "language": "python",
     "metadata": {},
     "outputs": []
    }
   ],
   "metadata": {}
  }
 ]
}