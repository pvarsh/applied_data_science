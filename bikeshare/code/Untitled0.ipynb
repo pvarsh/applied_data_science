{
 "metadata": {
  "name": "",
  "signature": "sha256:74a543a896b79c07c832ff188405437fc2fa8547c0a0e18eba93b8b05261e96e"
 },
 "nbformat": 3,
 "nbformat_minor": 0,
 "worksheets": [
  {
   "cells": [
    {
     "cell_type": "code",
     "collapsed": false,
     "input": [
      "import patsy\n",
      "### sys, os, utilities\n",
      "import os\n",
      "import sys\n",
      "import csv\n",
      "import timeit\n",
      "from datetime import datetime\n",
      "### scikit-learn\n",
      "from sklearn.linear_model import LinearRegression\n",
      "### statsmodels\n",
      "import statsmodels.api as sm\n",
      "### numpy, scipy, matplotlib\n",
      "import numpy as np\n",
      "import pandas as pd\n",
      "import matplotlib.pyplot as plt\n",
      "import calendar\n",
      "\n",
      "\n",
      "%matplotlib inline\n",
      "plt.style.use('ggplot')"
     ],
     "language": "python",
     "metadata": {},
     "outputs": [],
     "prompt_number": 128
    },
    {
     "cell_type": "code",
     "collapsed": false,
     "input": [
      "def readData_noParse():\n",
      "    fileIn = \"../data/train.csv\"\n",
      "    train = pd.read_csv(fileIn, index_col = ['datetime'])\n",
      "    columns = list(train.columns)\n",
      "    columns[-1] = 'count_tot'\n",
      "    train.columns = columns\n",
      "    return train\n",
      "\n",
      "train = readData_noParse()\n",
      "train.head()\n",
      "train.index = pd.DatetimeIndex(train.index)\n",
      "### Season recording is better after resample\n",
      "# seasonsDict = {1: 'spring', 2: 'summer', 3: 'fall', 4: 'winter'}\n",
      "# train['season'] = train.season.apply(lambda s: seasonsDict[s])\n",
      "train.head(3)"
     ],
     "language": "python",
     "metadata": {},
     "outputs": [
      {
       "html": [
        "<div style=\"max-height:1000px;max-width:1500px;overflow:auto;\">\n",
        "<table border=\"1\" class=\"dataframe\">\n",
        "  <thead>\n",
        "    <tr style=\"text-align: right;\">\n",
        "      <th></th>\n",
        "      <th>season</th>\n",
        "      <th>holiday</th>\n",
        "      <th>workingday</th>\n",
        "      <th>weather</th>\n",
        "      <th>temp</th>\n",
        "      <th>atemp</th>\n",
        "      <th>humidity</th>\n",
        "      <th>windspeed</th>\n",
        "      <th>casual</th>\n",
        "      <th>registered</th>\n",
        "      <th>count_tot</th>\n",
        "    </tr>\n",
        "  </thead>\n",
        "  <tbody>\n",
        "    <tr>\n",
        "      <th>2011-01-01 00:00:00</th>\n",
        "      <td> 1</td>\n",
        "      <td> 0</td>\n",
        "      <td> 0</td>\n",
        "      <td> 1</td>\n",
        "      <td> 9.84</td>\n",
        "      <td> 14.395</td>\n",
        "      <td> 81</td>\n",
        "      <td> 0</td>\n",
        "      <td> 3</td>\n",
        "      <td> 13</td>\n",
        "      <td> 16</td>\n",
        "    </tr>\n",
        "    <tr>\n",
        "      <th>2011-01-01 01:00:00</th>\n",
        "      <td> 1</td>\n",
        "      <td> 0</td>\n",
        "      <td> 0</td>\n",
        "      <td> 1</td>\n",
        "      <td> 9.02</td>\n",
        "      <td> 13.635</td>\n",
        "      <td> 80</td>\n",
        "      <td> 0</td>\n",
        "      <td> 8</td>\n",
        "      <td> 32</td>\n",
        "      <td> 40</td>\n",
        "    </tr>\n",
        "    <tr>\n",
        "      <th>2011-01-01 02:00:00</th>\n",
        "      <td> 1</td>\n",
        "      <td> 0</td>\n",
        "      <td> 0</td>\n",
        "      <td> 1</td>\n",
        "      <td> 9.02</td>\n",
        "      <td> 13.635</td>\n",
        "      <td> 80</td>\n",
        "      <td> 0</td>\n",
        "      <td> 5</td>\n",
        "      <td> 27</td>\n",
        "      <td> 32</td>\n",
        "    </tr>\n",
        "  </tbody>\n",
        "</table>\n",
        "</div>"
       ],
       "metadata": {},
       "output_type": "pyout",
       "prompt_number": 22,
       "text": [
        "                     season  holiday  workingday  weather  temp   atemp  \\\n",
        "2011-01-01 00:00:00       1        0           0        1  9.84  14.395   \n",
        "2011-01-01 01:00:00       1        0           0        1  9.02  13.635   \n",
        "2011-01-01 02:00:00       1        0           0        1  9.02  13.635   \n",
        "\n",
        "                     humidity  windspeed  casual  registered  count_tot  \n",
        "2011-01-01 00:00:00        81          0       3          13         16  \n",
        "2011-01-01 01:00:00        80          0       8          32         40  \n",
        "2011-01-01 02:00:00        80          0       5          27         32  "
       ]
      }
     ],
     "prompt_number": 22
    },
    {
     "cell_type": "heading",
     "level": 4,
     "metadata": {},
     "source": [
      "Resample daily"
     ]
    },
    {
     "cell_type": "code",
     "collapsed": false,
     "input": [
      "train_daily = pd.DataFrame(train.resample('D', how = 'mean'))\n",
      "print \"Days without data (NaN):\", sum(train_daily.count_tot.isnull())"
     ],
     "language": "python",
     "metadata": {},
     "outputs": [
      {
       "output_type": "stream",
       "stream": "stdout",
       "text": [
        "Days without data (NaN): 263\n"
       ]
      }
     ],
     "prompt_number": 159
    },
    {
     "cell_type": "markdown",
     "metadata": {},
     "source": [
      "### Missing days:\n",
      "Fill in missing days (20th - EOM of each month) with an average of 10 days before and 10 days after."
     ]
    },
    {
     "cell_type": "code",
     "collapsed": false,
     "input": [
      "#print pd.concat([pd.DataFrame(train_daily.loc['2011-01-10':'2011-02-10'].mean()).transpose()]* 11, ignore_index = True)\n",
      "def fill_NA_days(df, sampleStart, sampleEnd, startNA, endNA):\n",
      "#     average_list = list(train_daily.loc['2011-01-15':'2011-02-5'].mean())\n",
      "#     average_list_of_lists = [average_list for x in range(12)]\n",
      "#     train_daily.loc['2011-01-20':'2011-01-31'] = average_list_of_lists\n",
      "    ndays = int(endNA[8:]) - 19\n",
      "    average_list = list(df.loc[sampleStart:sampleEnd].mean())\n",
      "    average_list_of_lists = [average_list for x in range(ndays)]\n",
      "    df.loc[startNA:endNA] = average_list_of_lists"
     ],
     "language": "python",
     "metadata": {},
     "outputs": [],
     "prompt_number": 160
    },
    {
     "cell_type": "code",
     "collapsed": false,
     "input": [
      "months = [str(month).zfill(2) for month in range(1,13)] * 2\n",
      "years = ['2011'] * 12 + ['2012'] * 12\n",
      "sampleStarts = [years[i] + '-' + months[i] + '-' + '15' for i in range(len(months))]\n",
      "sampleEnds = [years[i] + '-' + months[i] + '-' + '05' for i in range(1, len(months))]\n",
      "startNAs = [years[i] + '-' + months[i] + '-' + '20' for i in range(len(months))]\n",
      "monthEnds = [str(calendar.monthrange(2011, month)[1]).zfill(2) for month in range(1, 13)] + [str(calendar.monthrange(2012, month)[1]).zfill(2) for month in range(1, 13)]\n",
      "endNAs = [years[i] + '-' + months[i] + '-' + monthEnds[i] for i in range(len(months))]\n",
      "\n",
      "for i in range(len(sampleStarts) - 1):\n",
      "    fill_NA_days(train_daily, sampleStarts[i], sampleEnds[i], startNAs[i], endNAs[i])"
     ],
     "language": "python",
     "metadata": {},
     "outputs": [
      {
       "output_type": "stream",
       "stream": "stdout",
       "text": [
        "--- iteration 0\n",
        "sampleStart: 2011-01-15\n",
        "sampleEnd: 2011-02-05\n",
        "startNAs: 2011-01-20\n",
        "endNAs: 2011-01-31\n",
        "31\n",
        "--- iteration 1\n",
        "sampleStart: 2011-02-15\n",
        "sampleEnd: 2011-03-05\n",
        "startNAs: 2011-02-20\n",
        "endNAs: 2011-02-28\n",
        "28\n",
        "--- iteration 2\n",
        "sampleStart: 2011-03-15\n",
        "sampleEnd: 2011-04-05\n",
        "startNAs: 2011-03-20\n",
        "endNAs: 2011-03-31\n",
        "31\n",
        "--- iteration 3\n",
        "sampleStart: 2011-04-15\n",
        "sampleEnd: 2011-05-05\n",
        "startNAs: 2011-04-20\n",
        "endNAs: 2011-04-30\n",
        "30\n",
        "--- iteration 4\n",
        "sampleStart: 2011-05-15\n",
        "sampleEnd: 2011-06-05\n",
        "startNAs: 2011-05-20\n",
        "endNAs: 2011-05-31\n",
        "31\n",
        "--- iteration 5\n",
        "sampleStart: 2011-06-15\n",
        "sampleEnd: 2011-07-05\n",
        "startNAs: 2011-06-20\n",
        "endNAs: 2011-06-30\n",
        "30\n",
        "--- iteration 6\n",
        "sampleStart: 2011-07-15\n",
        "sampleEnd: 2011-08-05\n",
        "startNAs: 2011-07-20\n",
        "endNAs: 2011-07-31\n",
        "31\n",
        "--- iteration 7\n",
        "sampleStart: 2011-08-15\n",
        "sampleEnd: 2011-09-05\n",
        "startNAs: 2011-08-20\n",
        "endNAs: 2011-08-31\n",
        "31\n",
        "--- iteration 8"
       ]
      },
      {
       "output_type": "stream",
       "stream": "stdout",
       "text": [
        "\n",
        "sampleStart: 2011-09-15\n",
        "sampleEnd: 2011-10-05\n",
        "startNAs: 2011-09-20\n",
        "endNAs: 2011-09-30\n",
        "30\n",
        "--- iteration 9\n",
        "sampleStart: 2011-10-15\n",
        "sampleEnd: 2011-11-05\n",
        "startNAs: 2011-10-20\n",
        "endNAs: 2011-10-31\n",
        "31\n",
        "--- iteration 10\n",
        "sampleStart: 2011-11-15\n",
        "sampleEnd: 2011-12-05\n",
        "startNAs: 2011-11-20\n",
        "endNAs: 2011-11-30\n",
        "30\n",
        "--- iteration 11\n",
        "sampleStart: 2011-12-15\n",
        "sampleEnd: 2012-01-05\n",
        "startNAs: 2011-12-20\n",
        "endNAs: 2011-12-31\n",
        "31\n",
        "--- iteration 12\n",
        "sampleStart: 2012-01-15\n",
        "sampleEnd: 2012-02-05\n",
        "startNAs: 2012-01-20\n",
        "endNAs: 2012-01-31\n",
        "31\n",
        "--- iteration 13\n",
        "sampleStart: 2012-02-15\n",
        "sampleEnd: 2012-03-05\n",
        "startNAs: 2012-02-20\n",
        "endNAs: 2012-02-29\n",
        "29\n",
        "--- iteration 14\n",
        "sampleStart: 2012-03-15\n",
        "sampleEnd: 2012-04-05\n",
        "startNAs: 2012-03-20\n",
        "endNAs: 2012-03-31\n",
        "31\n",
        "--- iteration 15\n",
        "sampleStart: 2012-04-15\n",
        "sampleEnd: 2012-05-05\n",
        "startNAs: 2012-04-20\n",
        "endNAs: 2012-04-30\n",
        "30\n",
        "--- iteration 16"
       ]
      },
      {
       "output_type": "stream",
       "stream": "stdout",
       "text": [
        "\n",
        "sampleStart: 2012-05-15\n",
        "sampleEnd: 2012-06-05\n",
        "startNAs: 2012-05-20\n",
        "endNAs: 2012-05-31\n",
        "31\n",
        "--- iteration 17\n",
        "sampleStart: 2012-06-15\n",
        "sampleEnd: 2012-07-05\n",
        "startNAs: 2012-06-20\n",
        "endNAs: 2012-06-30\n",
        "30\n",
        "--- iteration 18\n",
        "sampleStart: 2012-07-15\n",
        "sampleEnd: 2012-08-05\n",
        "startNAs: 2012-07-20\n",
        "endNAs: 2012-07-31\n",
        "31\n",
        "--- iteration 19\n",
        "sampleStart: 2012-08-15\n",
        "sampleEnd: 2012-09-05\n",
        "startNAs: 2012-08-20\n",
        "endNAs: 2012-08-31\n",
        "31\n",
        "--- iteration 20\n",
        "sampleStart: 2012-09-15\n",
        "sampleEnd: 2012-10-05\n",
        "startNAs: 2012-09-20\n",
        "endNAs: 2012-09-30\n",
        "30\n",
        "--- iteration 21\n",
        "sampleStart: 2012-10-15\n",
        "sampleEnd: 2012-11-05\n",
        "startNAs: 2012-10-20\n",
        "endNAs: 2012-10-31\n",
        "31\n",
        "--- iteration 22"
       ]
      },
      {
       "output_type": "stream",
       "stream": "stdout",
       "text": [
        "\n",
        "sampleStart: 2012-11-15\n",
        "sampleEnd: 2012-12-05\n",
        "startNAs: 2012-11-20\n",
        "endNAs: 2012-11-30\n",
        "30\n"
       ]
      }
     ],
     "prompt_number": 161
    },
    {
     "cell_type": "code",
     "collapsed": false,
     "input": [
      "print sampleStarts"
     ],
     "language": "python",
     "metadata": {},
     "outputs": [
      {
       "output_type": "stream",
       "stream": "stdout",
       "text": [
        "['2011-01-15', '2011-02-15', '2011-03-15', '2011-04-15', '2011-05-15', '2011-06-15', '2011-07-15', '2011-08-15', '2011-09-15', '2011-10-15', '2011-11-15', '2011-12-15', '2012-01-15', '2012-02-15', '2012-03-15', '2012-04-15', '2012-05-15', '2012-06-15', '2012-07-15', '2012-08-15', '2012-09-15', '2012-10-15', '2012-11-15', '2012-12-15']\n"
       ]
      }
     ],
     "prompt_number": 147
    },
    {
     "cell_type": "code",
     "collapsed": false,
     "input": [],
     "language": "python",
     "metadata": {},
     "outputs": [],
     "prompt_number": 141
    },
    {
     "cell_type": "code",
     "collapsed": false,
     "input": [
      "df = pd.DataFrame({'x':[1,2,3], 'y': [3,4,5], 'z': [7,8,9]})\n",
      "df"
     ],
     "language": "python",
     "metadata": {},
     "outputs": [
      {
       "html": [
        "<div style=\"max-height:1000px;max-width:1500px;overflow:auto;\">\n",
        "<table border=\"1\" class=\"dataframe\">\n",
        "  <thead>\n",
        "    <tr style=\"text-align: right;\">\n",
        "      <th></th>\n",
        "      <th>x</th>\n",
        "      <th>y</th>\n",
        "      <th>z</th>\n",
        "    </tr>\n",
        "  </thead>\n",
        "  <tbody>\n",
        "    <tr>\n",
        "      <th>0</th>\n",
        "      <td> 1</td>\n",
        "      <td> 3</td>\n",
        "      <td> 7</td>\n",
        "    </tr>\n",
        "    <tr>\n",
        "      <th>1</th>\n",
        "      <td> 2</td>\n",
        "      <td> 4</td>\n",
        "      <td> 8</td>\n",
        "    </tr>\n",
        "    <tr>\n",
        "      <th>2</th>\n",
        "      <td> 3</td>\n",
        "      <td> 5</td>\n",
        "      <td> 9</td>\n",
        "    </tr>\n",
        "  </tbody>\n",
        "</table>\n",
        "</div>"
       ],
       "metadata": {},
       "output_type": "pyout",
       "prompt_number": 90,
       "text": [
        "   x  y  z\n",
        "0  1  3  7\n",
        "1  2  4  8\n",
        "2  3  5  9"
       ]
      }
     ],
     "prompt_number": 90
    },
    {
     "cell_type": "code",
     "collapsed": false,
     "input": [
      "df.loc[1:2] = [[6,6,6],[9,9,9]]"
     ],
     "language": "python",
     "metadata": {},
     "outputs": [],
     "prompt_number": 94
    },
    {
     "cell_type": "code",
     "collapsed": false,
     "input": [
      "df"
     ],
     "language": "python",
     "metadata": {},
     "outputs": [
      {
       "html": [
        "<div style=\"max-height:1000px;max-width:1500px;overflow:auto;\">\n",
        "<table border=\"1\" class=\"dataframe\">\n",
        "  <thead>\n",
        "    <tr style=\"text-align: right;\">\n",
        "      <th></th>\n",
        "      <th>x</th>\n",
        "      <th>y</th>\n",
        "      <th>z</th>\n",
        "    </tr>\n",
        "  </thead>\n",
        "  <tbody>\n",
        "    <tr>\n",
        "      <th>0</th>\n",
        "      <td> 1</td>\n",
        "      <td> 3</td>\n",
        "      <td> 7</td>\n",
        "    </tr>\n",
        "    <tr>\n",
        "      <th>1</th>\n",
        "      <td> 6</td>\n",
        "      <td> 6</td>\n",
        "      <td> 6</td>\n",
        "    </tr>\n",
        "    <tr>\n",
        "      <th>2</th>\n",
        "      <td> 9</td>\n",
        "      <td> 9</td>\n",
        "      <td> 9</td>\n",
        "    </tr>\n",
        "  </tbody>\n",
        "</table>\n",
        "</div>"
       ],
       "metadata": {},
       "output_type": "pyout",
       "prompt_number": 95,
       "text": [
        "   x  y  z\n",
        "0  1  3  7\n",
        "1  6  6  6\n",
        "2  9  9  9"
       ]
      }
     ],
     "prompt_number": 95
    },
    {
     "cell_type": "code",
     "collapsed": false,
     "input": [
      "train_daily.loc['2011-01-20':'2011-01-31'].shape"
     ],
     "language": "python",
     "metadata": {},
     "outputs": [
      {
       "metadata": {},
       "output_type": "pyout",
       "prompt_number": 87,
       "text": [
        "(12, 11)"
       ]
      }
     ],
     "prompt_number": 87
    },
    {
     "cell_type": "code",
     "collapsed": false,
     "input": [
      "df.loc[1] = np.nan"
     ],
     "language": "python",
     "metadata": {},
     "outputs": [],
     "prompt_number": 106
    },
    {
     "cell_type": "code",
     "collapsed": false,
     "input": [
      "df"
     ],
     "language": "python",
     "metadata": {},
     "outputs": [
      {
       "html": [
        "<div style=\"max-height:1000px;max-width:1500px;overflow:auto;\">\n",
        "<table border=\"1\" class=\"dataframe\">\n",
        "  <thead>\n",
        "    <tr style=\"text-align: right;\">\n",
        "      <th></th>\n",
        "      <th>x</th>\n",
        "      <th>y</th>\n",
        "      <th>z</th>\n",
        "    </tr>\n",
        "  </thead>\n",
        "  <tbody>\n",
        "    <tr>\n",
        "      <th>0</th>\n",
        "      <td>  1</td>\n",
        "      <td>  3</td>\n",
        "      <td>  7</td>\n",
        "    </tr>\n",
        "    <tr>\n",
        "      <th>1</th>\n",
        "      <td>NaN</td>\n",
        "      <td>NaN</td>\n",
        "      <td>NaN</td>\n",
        "    </tr>\n",
        "    <tr>\n",
        "      <th>2</th>\n",
        "      <td>  9</td>\n",
        "      <td>  9</td>\n",
        "      <td>  9</td>\n",
        "    </tr>\n",
        "  </tbody>\n",
        "</table>\n",
        "</div>"
       ],
       "metadata": {},
       "output_type": "pyout",
       "prompt_number": 107,
       "text": [
        "    x   y   z\n",
        "0   1   3   7\n",
        "1 NaN NaN NaN\n",
        "2   9   9   9"
       ]
      }
     ],
     "prompt_number": 107
    },
    {
     "cell_type": "code",
     "collapsed": false,
     "input": [
      "df.mean()"
     ],
     "language": "python",
     "metadata": {},
     "outputs": [
      {
       "metadata": {},
       "output_type": "pyout",
       "prompt_number": 108,
       "text": [
        "x    5\n",
        "y    6\n",
        "z    8\n",
        "dtype: float64"
       ]
      }
     ],
     "prompt_number": 108
    },
    {
     "cell_type": "code",
     "collapsed": false,
     "input": [],
     "language": "python",
     "metadata": {},
     "outputs": [
      {
       "metadata": {},
       "output_type": "pyout",
       "prompt_number": 109,
       "text": [
        "5"
       ]
      }
     ],
     "prompt_number": 109
    },
    {
     "cell_type": "code",
     "collapsed": false,
     "input": [
      "str(1).zfill(2)"
     ],
     "language": "python",
     "metadata": {},
     "outputs": [
      {
       "metadata": {},
       "output_type": "pyout",
       "prompt_number": 114,
       "text": [
        "'01'"
       ]
      }
     ],
     "prompt_number": 114
    },
    {
     "cell_type": "code",
     "collapsed": false,
     "input": [],
     "language": "python",
     "metadata": {},
     "outputs": []
    }
   ],
   "metadata": {}
  }
 ]
}