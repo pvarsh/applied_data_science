{
 "metadata": {
  "name": "",
  "signature": "sha256:110d2434dfc477ea948bc0dea4096a80eaec5a9c8dc026db13767e9741b9790a"
 },
 "nbformat": 3,
 "nbformat_minor": 0,
 "worksheets": [
  {
   "cells": [
    {
     "cell_type": "code",
     "collapsed": false,
     "input": [
      "import datetime\n",
      "import pandas as pd\n",
      "import numpy as np\n",
      "import patsy\n",
      "import matplotlib.pyplot as plt\n",
      "\n",
      "from sklearn.linear_model import LinearRegression\n",
      "\n",
      "%matplotlib inline\n",
      "plt.style.use('ggplot')"
     ],
     "language": "python",
     "metadata": {},
     "outputs": [],
     "prompt_number": 2
    },
    {
     "cell_type": "code",
     "collapsed": false,
     "input": [
      "ind = pd.date_range(start = 'August 1, 2014', end = 'August 31, 2014', freq = '12H')\n",
      "x = np.random.randn(len(ind)) + np.linspace(0, 10, len(ind))\n",
      "ts = pd.Series(x, index = ind)\n",
      "ts.plot()"
     ],
     "language": "python",
     "metadata": {},
     "outputs": [
      {
       "metadata": {},
       "output_type": "pyout",
       "prompt_number": 16,
       "text": [
        "<matplotlib.axes._subplots.AxesSubplot at 0x11051fe10>"
       ]
      },
      {
       "metadata": {},
       "output_type": "display_data",
       "png": "[encoded data removed]",
       "text": [
        "<matplotlib.figure.Figure at 0x11051f750>"
       ]
      }
     ],
     "prompt_number": 16
    },
    {
     "cell_type": "code",
     "collapsed": false,
     "input": [
      "mod1 = LinearRegression()\n",
      "y, X = patsy.dmatrices('ts ~ ts.index')\n",
      "X"
     ],
     "language": "python",
     "metadata": {},
     "outputs": [
      {
       "metadata": {},
       "output_type": "pyout",
       "prompt_number": 32,
       "text": [
        "DesignMatrix with shape (61, 61)\n",
        "  Columns:\n",
        "    ['Intercept',\n",
        "     \"ts.index[T.Timestamp('2014-08-01 12:00:00', offset='12H')]\",\n",
        "     \"ts.index[T.Timestamp('2014-08-02 00:00:00', offset='12H')]\",\n",
        "     \"ts.index[T.Timestamp('2014-08-02 12:00:00', offset='12H')]\",\n",
        "     \"ts.index[T.Timestamp('2014-08-03 00:00:00', offset='12H')]\",\n",
        "     \"ts.index[T.Timestamp('2014-08-03 12:00:00', offset='12H')]\",\n",
        "     \"ts.index[T.Timestamp('2014-08-04 00:00:00', offset='12H')]\",\n",
        "     \"ts.index[T.Timestamp('2014-08-04 12:00:00', offset='12H')]\",\n",
        "     \"ts.index[T.Timestamp('2014-08-05 00:00:00', offset='12H')]\",\n",
        "     \"ts.index[T.Timestamp('2014-08-05 12:00:00', offset='12H')]\",\n",
        "     \"ts.index[T.Timestamp('2014-08-06 00:00:00', offset='12H')]\",\n",
        "     \"ts.index[T.Timestamp('2014-08-06 12:00:00', offset='12H')]\",\n",
        "     \"ts.index[T.Timestamp('2014-08-07 00:00:00', offset='12H')]\",\n",
        "     \"ts.index[T.Timestamp('2014-08-07 12:00:00', offset='12H')]\",\n",
        "     \"ts.index[T.Timestamp('2014-08-08 00:00:00', offset='12H')]\",\n",
        "     \"ts.index[T.Timestamp('2014-08-08 12:00:00', offset='12H')]\",\n",
        "     \"ts.index[T.Timestamp('2014-08-09 00:00:00', offset='12H')]\",\n",
        "     \"ts.index[T.Timestamp('2014-08-09 12:00:00', offset='12H')]\",\n",
        "     \"ts.index[T.Timestamp('2014-08-10 00:00:00', offset='12H')]\",\n",
        "     \"ts.index[T.Timestamp('2014-08-10 12:00:00', offset='12H')]\",\n",
        "     \"ts.index[T.Timestamp('2014-08-11 00:00:00', offset='12H')]\",\n",
        "     \"ts.index[T.Timestamp('2014-08-11 12:00:00', offset='12H')]\",\n",
        "     \"ts.index[T.Timestamp('2014-08-12 00:00:00', offset='12H')]\",\n",
        "     \"ts.index[T.Timestamp('2014-08-12 12:00:00', offset='12H')]\",\n",
        "     \"ts.index[T.Timestamp('2014-08-13 00:00:00', offset='12H')]\",\n",
        "     \"ts.index[T.Timestamp('2014-08-13 12:00:00', offset='12H')]\",\n",
        "     \"ts.index[T.Timestamp('2014-08-14 00:00:00', offset='12H')]\",\n",
        "     \"ts.index[T.Timestamp('2014-08-14 12:00:00', offset='12H')]\",\n",
        "     \"ts.index[T.Timestamp('2014-08-15 00:00:00', offset='12H')]\",\n",
        "     \"ts.index[T.Timestamp('2014-08-15 12:00:00', offset='12H')]\",\n",
        "     \"ts.index[T.Timestamp('2014-08-16 00:00:00', offset='12H')]\",\n",
        "     \"ts.index[T.Timestamp('2014-08-16 12:00:00', offset='12H')]\",\n",
        "     \"ts.index[T.Timestamp('2014-08-17 00:00:00', offset='12H')]\",\n",
        "     \"ts.index[T.Timestamp('2014-08-17 12:00:00', offset='12H')]\",\n",
        "     \"ts.index[T.Timestamp('2014-08-18 00:00:00', offset='12H')]\",\n",
        "     \"ts.index[T.Timestamp('2014-08-18 12:00:00', offset='12H')]\",\n",
        "     \"ts.index[T.Timestamp('2014-08-19 00:00:00', offset='12H')]\",\n",
        "     \"ts.index[T.Timestamp('2014-08-19 12:00:00', offset='12H')]\",\n",
        "     \"ts.index[T.Timestamp('2014-08-20 00:00:00', offset='12H')]\",\n",
        "     \"ts.index[T.Timestamp('2014-08-20 12:00:00', offset='12H')]\",\n",
        "     \"ts.index[T.Timestamp('2014-08-21 00:00:00', offset='12H')]\",\n",
        "     \"ts.index[T.Timestamp('2014-08-21 12:00:00', offset='12H')]\",\n",
        "     \"ts.index[T.Timestamp('2014-08-22 00:00:00', offset='12H')]\",\n",
        "     \"ts.index[T.Timestamp('2014-08-22 12:00:00', offset='12H')]\",\n",
        "     \"ts.index[T.Timestamp('2014-08-23 00:00:00', offset='12H')]\",\n",
        "     \"ts.index[T.Timestamp('2014-08-23 12:00:00', offset='12H')]\",\n",
        "     \"ts.index[T.Timestamp('2014-08-24 00:00:00', offset='12H')]\",\n",
        "     \"ts.index[T.Timestamp('2014-08-24 12:00:00', offset='12H')]\",\n",
        "     \"ts.index[T.Timestamp('2014-08-25 00:00:00', offset='12H')]\",\n",
        "     \"ts.index[T.Timestamp('2014-08-25 12:00:00', offset='12H')]\",\n",
        "     \"ts.index[T.Timestamp('2014-08-26 00:00:00', offset='12H')]\",\n",
        "     \"ts.index[T.Timestamp('2014-08-26 12:00:00', offset='12H')]\",\n",
        "     \"ts.index[T.Timestamp('2014-08-27 00:00:00', offset='12H')]\",\n",
        "     \"ts.index[T.Timestamp('2014-08-27 12:00:00', offset='12H')]\",\n",
        "     \"ts.index[T.Timestamp('2014-08-28 00:00:00', offset='12H')]\",\n",
        "     \"ts.index[T.Timestamp('2014-08-28 12:00:00', offset='12H')]\",\n",
        "     \"ts.index[T.Timestamp('2014-08-29 00:00:00', offset='12H')]\",\n",
        "     \"ts.index[T.Timestamp('2014-08-29 12:00:00', offset='12H')]\",\n",
        "     \"ts.index[T.Timestamp('2014-08-30 00:00:00', offset='12H')]\",\n",
        "     \"ts.index[T.Timestamp('2014-08-30 12:00:00', offset='12H')]\",\n",
        "     \"ts.index[T.Timestamp('2014-08-31 00:00:00', offset='12H')]\"]\n",
        "  Terms:\n",
        "    'Intercept' (column 0), 'ts.index' (columns 1:61)\n",
        "  (to view full data, use np.asarray(this_obj))"
       ]
      }
     ],
     "prompt_number": 32
    },
    {
     "cell_type": "code",
     "collapsed": false,
     "input": [
      "np.array(ts.index)"
     ],
     "language": "python",
     "metadata": {},
     "outputs": [
      {
       "metadata": {},
       "output_type": "pyout",
       "prompt_number": 28,
       "text": [
        "array(['2014-07-31T17:00:00.000000000-0700',\n",
        "       '2014-08-01T05:00:00.000000000-0700',\n",
        "       '2014-08-01T17:00:00.000000000-0700',\n",
        "       '2014-08-02T05:00:00.000000000-0700',\n",
        "       '2014-08-02T17:00:00.000000000-0700',\n",
        "       '2014-08-03T05:00:00.000000000-0700',\n",
        "       '2014-08-03T17:00:00.000000000-0700',\n",
        "       '2014-08-04T05:00:00.000000000-0700',\n",
        "       '2014-08-04T17:00:00.000000000-0700',\n",
        "       '2014-08-05T05:00:00.000000000-0700',\n",
        "       '2014-08-05T17:00:00.000000000-0700',\n",
        "       '2014-08-06T05:00:00.000000000-0700',\n",
        "       '2014-08-06T17:00:00.000000000-0700',\n",
        "       '2014-08-07T05:00:00.000000000-0700',\n",
        "       '2014-08-07T17:00:00.000000000-0700',\n",
        "       '2014-08-08T05:00:00.000000000-0700',\n",
        "       '2014-08-08T17:00:00.000000000-0700',\n",
        "       '2014-08-09T05:00:00.000000000-0700',\n",
        "       '2014-08-09T17:00:00.000000000-0700',\n",
        "       '2014-08-10T05:00:00.000000000-0700',\n",
        "       '2014-08-10T17:00:00.000000000-0700',\n",
        "       '2014-08-11T05:00:00.000000000-0700',\n",
        "       '2014-08-11T17:00:00.000000000-0700',\n",
        "       '2014-08-12T05:00:00.000000000-0700',\n",
        "       '2014-08-12T17:00:00.000000000-0700',\n",
        "       '2014-08-13T05:00:00.000000000-0700',\n",
        "       '2014-08-13T17:00:00.000000000-0700',\n",
        "       '2014-08-14T05:00:00.000000000-0700',\n",
        "       '2014-08-14T17:00:00.000000000-0700',\n",
        "       '2014-08-15T05:00:00.000000000-0700',\n",
        "       '2014-08-15T17:00:00.000000000-0700',\n",
        "       '2014-08-16T05:00:00.000000000-0700',\n",
        "       '2014-08-16T17:00:00.000000000-0700',\n",
        "       '2014-08-17T05:00:00.000000000-0700',\n",
        "       '2014-08-17T17:00:00.000000000-0700',\n",
        "       '2014-08-18T05:00:00.000000000-0700',\n",
        "       '2014-08-18T17:00:00.000000000-0700',\n",
        "       '2014-08-19T05:00:00.000000000-0700',\n",
        "       '2014-08-19T17:00:00.000000000-0700',\n",
        "       '2014-08-20T05:00:00.000000000-0700',\n",
        "       '2014-08-20T17:00:00.000000000-0700',\n",
        "       '2014-08-21T05:00:00.000000000-0700',\n",
        "       '2014-08-21T17:00:00.000000000-0700',\n",
        "       '2014-08-22T05:00:00.000000000-0700',\n",
        "       '2014-08-22T17:00:00.000000000-0700',\n",
        "       '2014-08-23T05:00:00.000000000-0700',\n",
        "       '2014-08-23T17:00:00.000000000-0700',\n",
        "       '2014-08-24T05:00:00.000000000-0700',\n",
        "       '2014-08-24T17:00:00.000000000-0700',\n",
        "       '2014-08-25T05:00:00.000000000-0700',\n",
        "       '2014-08-25T17:00:00.000000000-0700',\n",
        "       '2014-08-26T05:00:00.000000000-0700',\n",
        "       '2014-08-26T17:00:00.000000000-0700',\n",
        "       '2014-08-27T05:00:00.000000000-0700',\n",
        "       '2014-08-27T17:00:00.000000000-0700',\n",
        "       '2014-08-28T05:00:00.000000000-0700',\n",
        "       '2014-08-28T17:00:00.000000000-0700',\n",
        "       '2014-08-29T05:00:00.000000000-0700',\n",
        "       '2014-08-29T17:00:00.000000000-0700',\n",
        "       '2014-08-30T05:00:00.000000000-0700',\n",
        "       '2014-08-30T17:00:00.000000000-0700'], dtype='datetime64[ns]')"
       ]
      }
     ],
     "prompt_number": 28
    },
    {
     "cell_type": "code",
     "collapsed": false,
     "input": [
      "ts.head()"
     ],
     "language": "python",
     "metadata": {},
     "outputs": [
      {
       "metadata": {},
       "output_type": "pyout",
       "prompt_number": 24,
       "text": [
        "2014-08-01 00:00:00   -1.623252\n",
        "2014-08-01 12:00:00    0.727314\n",
        "2014-08-02 00:00:00    0.714498\n",
        "2014-08-02 12:00:00    0.436974\n",
        "2014-08-03 00:00:00    0.138049\n",
        "Freq: 12H, dtype: float64"
       ]
      }
     ],
     "prompt_number": 24
    },
    {
     "cell_type": "code",
     "collapsed": false,
     "input": [],
     "language": "python",
     "metadata": {},
     "outputs": []
    }
   ],
   "metadata": {}
  }
 ]
}