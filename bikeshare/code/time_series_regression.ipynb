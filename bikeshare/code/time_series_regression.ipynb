{
 "metadata": {
  "name": "",
  "signature": "sha256:f7baa17e012a42534f788770e79735b7f2d998c83d551a5eed06fbcae8cf80aa"
 },
 "nbformat": 3,
 "nbformat_minor": 0,
 "worksheets": [
  {
   "cells": [
    {
     "cell_type": "code",
     "collapsed": false,
     "input": [
      "import datetime\n",
      "import pandas as pd\n",
      "import numpy as np\n",
      "import patsy\n",
      "import matplotlib.pyplot as plt\n",
      "\n",
      "from sklearn.linear_model import LinearRegression\n",
      "\n",
      "%matplotlib inline\n",
      "plt.style.use('ggplot')"
     ],
     "language": "python",
     "metadata": {},
     "outputs": [],
     "prompt_number": 2
    },
    {
     "cell_type": "code",
     "collapsed": false,
     "input": [
      "ind = pd.date_range(start = 'August 1, 2014', end = 'August 31, 2014', freq = '12H')\n",
      "x = np.random.randn(len(ind)) + np.linspace(0, 10, len(ind))\n",
      "ts = pd.Series(x, index = ind)\n",
      "ts.plot()"
     ],
     "language": "python",
     "metadata": {},
     "outputs": [
      {
       "metadata": {},
       "output_type": "pyout",
       "prompt_number": 3,
       "text": [
        "<matplotlib.axes._subplots.AxesSubplot at 0x1048e71d0>"
       ]
      },
      {
       "metadata": {},
       "output_type": "display_data",
       "png": "[encoded data removed]",
       "text": [
        "<matplotlib.figure.Figure at 0x1103d8050>"
       ]
      }
     ],
     "prompt_number": 3
    },
    {
     "cell_type": "code",
     "collapsed": false,
     "input": [
      "mod1 = LinearRegression()\n",
      "y, X = patsy.dmatrices('ts ~ ts.index')\n",
      "X"
     ],
     "language": "python",
     "metadata": {},
     "outputs": [
      {
       "metadata": {},
       "output_type": "pyout",
       "prompt_number": 4,
       "text": [
        "DesignMatrix with shape (61, 61)\n",
        "  Columns:\n",
        "    ['Intercept',\n",
        "     \"ts.index[T.Timestamp('2014-08-01 12:00:00', offset='12H')]\",\n",
        "     \"ts.index[T.Timestamp('2014-08-02 00:00:00', offset='12H')]\",\n",
        "     \"ts.index[T.Timestamp('2014-08-02 12:00:00', offset='12H')]\",\n",
        "     \"ts.index[T.Timestamp('2014-08-03 00:00:00', offset='12H')]\",\n",
        "     \"ts.index[T.Timestamp('2014-08-03 12:00:00', offset='12H')]\",\n",
        "     \"ts.index[T.Timestamp('2014-08-04 00:00:00', offset='12H')]\",\n",
        "     \"ts.index[T.Timestamp('2014-08-04 12:00:00', offset='12H')]\",\n",
        "     \"ts.index[T.Timestamp('2014-08-05 00:00:00', offset='12H')]\",\n",
        "     \"ts.index[T.Timestamp('2014-08-05 12:00:00', offset='12H')]\",\n",
        "     \"ts.index[T.Timestamp('2014-08-06 00:00:00', offset='12H')]\",\n",
        "     \"ts.index[T.Timestamp('2014-08-06 12:00:00', offset='12H')]\",\n",
        "     \"ts.index[T.Timestamp('2014-08-07 00:00:00', offset='12H')]\",\n",
        "     \"ts.index[T.Timestamp('2014-08-07 12:00:00', offset='12H')]\",\n",
        "     \"ts.index[T.Timestamp('2014-08-08 00:00:00', offset='12H')]\",\n",
        "     \"ts.index[T.Timestamp('2014-08-08 12:00:00', offset='12H')]\",\n",
        "     \"ts.index[T.Timestamp('2014-08-09 00:00:00', offset='12H')]\",\n",
        "     \"ts.index[T.Timestamp('2014-08-09 12:00:00', offset='12H')]\",\n",
        "     \"ts.index[T.Timestamp('2014-08-10 00:00:00', offset='12H')]\",\n",
        "     \"ts.index[T.Timestamp('2014-08-10 12:00:00', offset='12H')]\",\n",
        "     \"ts.index[T.Timestamp('2014-08-11 00:00:00', offset='12H')]\",\n",
        "     \"ts.index[T.Timestamp('2014-08-11 12:00:00', offset='12H')]\",\n",
        "     \"ts.index[T.Timestamp('2014-08-12 00:00:00', offset='12H')]\",\n",
        "     \"ts.index[T.Timestamp('2014-08-12 12:00:00', offset='12H')]\",\n",
        "     \"ts.index[T.Timestamp('2014-08-13 00:00:00', offset='12H')]\",\n",
        "     \"ts.index[T.Timestamp('2014-08-13 12:00:00', offset='12H')]\",\n",
        "     \"ts.index[T.Timestamp('2014-08-14 00:00:00', offset='12H')]\",\n",
        "     \"ts.index[T.Timestamp('2014-08-14 12:00:00', offset='12H')]\",\n",
        "     \"ts.index[T.Timestamp('2014-08-15 00:00:00', offset='12H')]\",\n",
        "     \"ts.index[T.Timestamp('2014-08-15 12:00:00', offset='12H')]\",\n",
        "     \"ts.index[T.Timestamp('2014-08-16 00:00:00', offset='12H')]\",\n",
        "     \"ts.index[T.Timestamp('2014-08-16 12:00:00', offset='12H')]\",\n",
        "     \"ts.index[T.Timestamp('2014-08-17 00:00:00', offset='12H')]\",\n",
        "     \"ts.index[T.Timestamp('2014-08-17 12:00:00', offset='12H')]\",\n",
        "     \"ts.index[T.Timestamp('2014-08-18 00:00:00', offset='12H')]\",\n",
        "     \"ts.index[T.Timestamp('2014-08-18 12:00:00', offset='12H')]\",\n",
        "     \"ts.index[T.Timestamp('2014-08-19 00:00:00', offset='12H')]\",\n",
        "     \"ts.index[T.Timestamp('2014-08-19 12:00:00', offset='12H')]\",\n",
        "     \"ts.index[T.Timestamp('2014-08-20 00:00:00', offset='12H')]\",\n",
        "     \"ts.index[T.Timestamp('2014-08-20 12:00:00', offset='12H')]\",\n",
        "     \"ts.index[T.Timestamp('2014-08-21 00:00:00', offset='12H')]\",\n",
        "     \"ts.index[T.Timestamp('2014-08-21 12:00:00', offset='12H')]\",\n",
        "     \"ts.index[T.Timestamp('2014-08-22 00:00:00', offset='12H')]\",\n",
        "     \"ts.index[T.Timestamp('2014-08-22 12:00:00', offset='12H')]\",\n",
        "     \"ts.index[T.Timestamp('2014-08-23 00:00:00', offset='12H')]\",\n",
        "     \"ts.index[T.Timestamp('2014-08-23 12:00:00', offset='12H')]\",\n",
        "     \"ts.index[T.Timestamp('2014-08-24 00:00:00', offset='12H')]\",\n",
        "     \"ts.index[T.Timestamp('2014-08-24 12:00:00', offset='12H')]\",\n",
        "     \"ts.index[T.Timestamp('2014-08-25 00:00:00', offset='12H')]\",\n",
        "     \"ts.index[T.Timestamp('2014-08-25 12:00:00', offset='12H')]\",\n",
        "     \"ts.index[T.Timestamp('2014-08-26 00:00:00', offset='12H')]\",\n",
        "     \"ts.index[T.Timestamp('2014-08-26 12:00:00', offset='12H')]\",\n",
        "     \"ts.index[T.Timestamp('2014-08-27 00:00:00', offset='12H')]\",\n",
        "     \"ts.index[T.Timestamp('2014-08-27 12:00:00', offset='12H')]\",\n",
        "     \"ts.index[T.Timestamp('2014-08-28 00:00:00', offset='12H')]\",\n",
        "     \"ts.index[T.Timestamp('2014-08-28 12:00:00', offset='12H')]\",\n",
        "     \"ts.index[T.Timestamp('2014-08-29 00:00:00', offset='12H')]\",\n",
        "     \"ts.index[T.Timestamp('2014-08-29 12:00:00', offset='12H')]\",\n",
        "     \"ts.index[T.Timestamp('2014-08-30 00:00:00', offset='12H')]\",\n",
        "     \"ts.index[T.Timestamp('2014-08-30 12:00:00', offset='12H')]\",\n",
        "     \"ts.index[T.Timestamp('2014-08-31 00:00:00', offset='12H')]\"]\n",
        "  Terms:\n",
        "    'Intercept' (column 0), 'ts.index' (columns 1:61)\n",
        "  (to view full data, use np.asarray(this_obj))"
       ]
      }
     ],
     "prompt_number": 4
    },
    {
     "cell_type": "code",
     "collapsed": false,
     "input": [
      "np.array(ts.index)"
     ],
     "language": "python",
     "metadata": {},
     "outputs": [
      {
       "metadata": {},
       "output_type": "pyout",
       "prompt_number": 5,
       "text": [
        "array(['2014-07-31T20:00:00.000000000-0400',\n",
        "       '2014-08-01T08:00:00.000000000-0400',\n",
        "       '2014-08-01T20:00:00.000000000-0400',\n",
        "       '2014-08-02T08:00:00.000000000-0400',\n",
        "       '2014-08-02T20:00:00.000000000-0400',\n",
        "       '2014-08-03T08:00:00.000000000-0400',\n",
        "       '2014-08-03T20:00:00.000000000-0400',\n",
        "       '2014-08-04T08:00:00.000000000-0400',\n",
        "       '2014-08-04T20:00:00.000000000-0400',\n",
        "       '2014-08-05T08:00:00.000000000-0400',\n",
        "       '2014-08-05T20:00:00.000000000-0400',\n",
        "       '2014-08-06T08:00:00.000000000-0400',\n",
        "       '2014-08-06T20:00:00.000000000-0400',\n",
        "       '2014-08-07T08:00:00.000000000-0400',\n",
        "       '2014-08-07T20:00:00.000000000-0400',\n",
        "       '2014-08-08T08:00:00.000000000-0400',\n",
        "       '2014-08-08T20:00:00.000000000-0400',\n",
        "       '2014-08-09T08:00:00.000000000-0400',\n",
        "       '2014-08-09T20:00:00.000000000-0400',\n",
        "       '2014-08-10T08:00:00.000000000-0400',\n",
        "       '2014-08-10T20:00:00.000000000-0400',\n",
        "       '2014-08-11T08:00:00.000000000-0400',\n",
        "       '2014-08-11T20:00:00.000000000-0400',\n",
        "       '2014-08-12T08:00:00.000000000-0400',\n",
        "       '2014-08-12T20:00:00.000000000-0400',\n",
        "       '2014-08-13T08:00:00.000000000-0400',\n",
        "       '2014-08-13T20:00:00.000000000-0400',\n",
        "       '2014-08-14T08:00:00.000000000-0400',\n",
        "       '2014-08-14T20:00:00.000000000-0400',\n",
        "       '2014-08-15T08:00:00.000000000-0400',\n",
        "       '2014-08-15T20:00:00.000000000-0400',\n",
        "       '2014-08-16T08:00:00.000000000-0400',\n",
        "       '2014-08-16T20:00:00.000000000-0400',\n",
        "       '2014-08-17T08:00:00.000000000-0400',\n",
        "       '2014-08-17T20:00:00.000000000-0400',\n",
        "       '2014-08-18T08:00:00.000000000-0400',\n",
        "       '2014-08-18T20:00:00.000000000-0400',\n",
        "       '2014-08-19T08:00:00.000000000-0400',\n",
        "       '2014-08-19T20:00:00.000000000-0400',\n",
        "       '2014-08-20T08:00:00.000000000-0400',\n",
        "       '2014-08-20T20:00:00.000000000-0400',\n",
        "       '2014-08-21T08:00:00.000000000-0400',\n",
        "       '2014-08-21T20:00:00.000000000-0400',\n",
        "       '2014-08-22T08:00:00.000000000-0400',\n",
        "       '2014-08-22T20:00:00.000000000-0400',\n",
        "       '2014-08-23T08:00:00.000000000-0400',\n",
        "       '2014-08-23T20:00:00.000000000-0400',\n",
        "       '2014-08-24T08:00:00.000000000-0400',\n",
        "       '2014-08-24T20:00:00.000000000-0400',\n",
        "       '2014-08-25T08:00:00.000000000-0400',\n",
        "       '2014-08-25T20:00:00.000000000-0400',\n",
        "       '2014-08-26T08:00:00.000000000-0400',\n",
        "       '2014-08-26T20:00:00.000000000-0400',\n",
        "       '2014-08-27T08:00:00.000000000-0400',\n",
        "       '2014-08-27T20:00:00.000000000-0400',\n",
        "       '2014-08-28T08:00:00.000000000-0400',\n",
        "       '2014-08-28T20:00:00.000000000-0400',\n",
        "       '2014-08-29T08:00:00.000000000-0400',\n",
        "       '2014-08-29T20:00:00.000000000-0400',\n",
        "       '2014-08-30T08:00:00.000000000-0400',\n",
        "       '2014-08-30T20:00:00.000000000-0400'], dtype='datetime64[ns]')"
       ]
      }
     ],
     "prompt_number": 5
    },
    {
     "cell_type": "code",
     "collapsed": false,
     "input": [
      "ts.head()"
     ],
     "language": "python",
     "metadata": {},
     "outputs": [
      {
       "metadata": {},
       "output_type": "pyout",
       "prompt_number": 6,
       "text": [
        "2014-08-01 00:00:00    0.358129\n",
        "2014-08-01 12:00:00   -0.433275\n",
        "2014-08-02 00:00:00   -0.041003\n",
        "2014-08-02 12:00:00    0.246756\n",
        "2014-08-03 00:00:00   -0.523635\n",
        "Freq: 12H, dtype: float64"
       ]
      }
     ],
     "prompt_number": 6
    },
    {
     "cell_type": "code",
     "collapsed": false,
     "input": [
      "ts['2014-08-02']"
     ],
     "language": "python",
     "metadata": {},
     "outputs": [
      {
       "metadata": {},
       "output_type": "pyout",
       "prompt_number": 7,
       "text": [
        "2014-08-02 00:00:00   -0.041003\n",
        "2014-08-02 12:00:00    0.246756\n",
        "Freq: 12H, dtype: float64"
       ]
      }
     ],
     "prompt_number": 7
    },
    {
     "cell_type": "code",
     "collapsed": false,
     "input": [
      "ts['2014-08-02']"
     ],
     "language": "python",
     "metadata": {},
     "outputs": []
    }
   ],
   "metadata": {}
  }
 ]
}