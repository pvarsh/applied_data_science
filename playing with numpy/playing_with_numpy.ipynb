{
 "metadata": {
  "name": "",
  "signature": "sha256:8972f571c06ffdf3b396fcda68d92f1a8a7e052d2c75205be4a6849d499799a1"
 },
 "nbformat": 3,
 "nbformat_minor": 0,
 "worksheets": [
  {
   "cells": [
    {
     "cell_type": "code",
     "collapsed": false,
     "input": [
      "import numpy as np\n",
      "import scipy as sp"
     ],
     "language": "python",
     "metadata": {},
     "outputs": [],
     "prompt_number": 3
    },
    {
     "cell_type": "code",
     "collapsed": false,
     "input": [
      "data1 = [6, 7.5, 8, 0, 1]\n",
      "arr1 = np.array(data1)\n",
      "print arr1\n",
      "data2 = [[1,2,3,4],[5,6,7,8]]\n",
      "arr2 = np.array(data2)\n",
      "print arr2\n",
      "print arr1.shape\n",
      "print arr2.shape\n",
      "print arr1.dtype\n",
      "print arr2.dtype\n",
      "np.zeros((3,5))\n",
      "np.empty((2,3))\n",
      "# for x in np.arange(15):\n",
      "#     print x\n",
      "\n",
      "print \"2d array:\"\n",
      "for x in arr2:\n",
      "    print x\n",
      "    \n",
      "data3 = [ [ [1,2],[3,4] ] , [ [5,6],[7,8] ] ]\n",
      "arr3 = np.array(data3)\n",
      "print arr3"
     ],
     "language": "python",
     "metadata": {},
     "outputs": [
      {
       "output_type": "stream",
       "stream": "stdout",
       "text": [
        "[ 6.   7.5  8.   0.   1. ]\n",
        "[[1 2 3 4]\n",
        " [5 6 7 8]]\n",
        "(5,)\n",
        "(2, 4)\n",
        "float64\n",
        "int64\n",
        "2d array:\n",
        "[1 2 3 4]\n",
        "[5 6 7 8]\n",
        "[[[1 2]\n",
        "  [3 4]]\n",
        "\n",
        " [[5 6]\n",
        "  [7 8]]]\n"
       ]
      }
     ],
     "prompt_number": 33
    },
    {
     "cell_type": "code",
     "collapsed": false,
     "input": [
      "arr3 = np.asarray(arr2)\n",
      "arr3[1][1] = 9\n",
      "print arr3[1][1]\n",
      "print arr2\n",
      "print arr3"
     ],
     "language": "python",
     "metadata": {},
     "outputs": [
      {
       "output_type": "stream",
       "stream": "stdout",
       "text": [
        "9\n",
        "[[1 2 3 4]\n",
        " [5 9 7 8]]\n",
        "[[1 2 3 4]\n",
        " [5 9 7 8]]\n"
       ]
      }
     ],
     "prompt_number": 43
    },
    {
     "cell_type": "code",
     "collapsed": false,
     "input": [
      "np.ones_like(arr3)"
     ],
     "language": "python",
     "metadata": {},
     "outputs": [
      {
       "metadata": {},
       "output_type": "pyout",
       "prompt_number": 44,
       "text": [
        "array([[1, 1, 1, 1],\n",
        "       [1, 1, 1, 1]])"
       ]
      }
     ],
     "prompt_number": 44
    },
    {
     "cell_type": "code",
     "collapsed": false,
     "input": [
      "np.eye(3)"
     ],
     "language": "python",
     "metadata": {},
     "outputs": [
      {
       "metadata": {},
       "output_type": "pyout",
       "prompt_number": 45,
       "text": [
        "array([[ 1.,  0.,  0.],\n",
        "       [ 0.,  1.,  0.],\n",
        "       [ 0.,  0.,  1.]])"
       ]
      }
     ],
     "prompt_number": 45
    },
    {
     "cell_type": "code",
     "collapsed": false,
     "input": [
      "m1 = np.array([[1,2],[3,4]])\n",
      "m2 = np.ones((2,2))\n",
      "m3 = np.eye(2)\n",
      "print np.dot(m1, m2)\n",
      "print np.dot(m1, m3)"
     ],
     "language": "python",
     "metadata": {},
     "outputs": [
      {
       "output_type": "stream",
       "stream": "stdout",
       "text": [
        "[[ 3.  3.]\n",
        " [ 7.  7.]]\n",
        "[[ 1.  2.]\n",
        " [ 3.  4.]]\n"
       ]
      },
      {
       "metadata": {},
       "output_type": "pyout",
       "prompt_number": 53,
       "text": [
        "array([[ 1.,  0.],\n",
        "       [ 0.,  1.]])"
       ]
      }
     ],
     "prompt_number": 53
    },
    {
     "cell_type": "code",
     "collapsed": false,
     "input": [
      "m1.astype(np.int8)\n",
      "m1.dtype\n",
      "\n",
      "arrstr = np.array([1.2, 3], dtype = np.string_)\n",
      "print arrstr.astype(np.float64)"
     ],
     "language": "python",
     "metadata": {},
     "outputs": [
      {
       "output_type": "stream",
       "stream": "stdout",
       "text": [
        "[ 1.2  3. ]\n"
       ]
      }
     ],
     "prompt_number": 61
    },
    {
     "cell_type": "code",
     "collapsed": false,
     "input": [],
     "language": "python",
     "metadata": {},
     "outputs": [],
     "prompt_number": 77
    },
    {
     "cell_type": "code",
     "collapsed": false,
     "input": [],
     "language": "python",
     "metadata": {},
     "outputs": []
    }
   ],
   "metadata": {}
  }
 ]
}