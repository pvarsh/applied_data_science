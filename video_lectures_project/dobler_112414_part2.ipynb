{
 "metadata": {
  "name": "",
  "signature": "sha256:7d5da703711071ba9d815ef5d7aaf221c43724864d0fbf75e615b215f767beef"
 },
 "nbformat": 3,
 "nbformat_minor": 0,
 "worksheets": [
  {
   "cells": [
    {
     "cell_type": "markdown",
     "metadata": {},
     "source": [
      "(always be aware of your imports and <b><u><i>preserve namespaces</i></u></b>!!!)"
     ]
    },
    {
     "cell_type": "code",
     "collapsed": false,
     "input": [
      "import os\n",
      "import sys\n",
      "import time\n",
      "import numpy as np\n",
      "import scipy.ndimage as nd\n",
      "import matplotlib.pyplot as plt"
     ],
     "language": "python",
     "metadata": {},
     "outputs": [],
     "prompt_number": 1
    },
    {
     "cell_type": "markdown",
     "metadata": {},
     "source": [
      "---\n",
      "\n",
      "## Regression and the normal equation"
     ]
    },
    {
     "cell_type": "markdown",
     "metadata": {},
     "source": [
      "### Linear fit\n",
      "\n",
      "Here are two data sets:"
     ]
    },
    {
     "cell_type": "code",
     "collapsed": false,
     "input": [
      "A = 1.2\n",
      "B = 0.34\n",
      "\n",
      "x = np.linspace(-5.0*np.pi,5.0*np.pi,100,False)\n",
      "y0 = np.cos(x)\n",
      "y1 = A*y0+B"
     ],
     "language": "python",
     "metadata": {},
     "outputs": [],
     "prompt_number": 2
    },
    {
     "cell_type": "code",
     "collapsed": false,
     "input": [
      "plt.close(0)\n",
      "fig0, ax0 = plt.subplots(num=0)\n",
      "lin0a, = ax0.plot(x,y0,'o')\n",
      "lin0b, = ax0.plot(x,y1,'o')\n",
      "fig0.canvas.draw()"
     ],
     "language": "python",
     "metadata": {},
     "outputs": [],
     "prompt_number": 3
    },
    {
     "cell_type": "markdown",
     "metadata": {},
     "source": [
      "Our task is to figure out the amplitude ($A$) and offset ($B$) parameters from the data alone.  We are trying to solve the equation,\n",
      "\n",
      "$y_1 = A \\times y_0 + B$\n",
      "\n",
      "But even though it looks like this is one equation, it is actually 100,\n",
      "\n",
      "$y_1[0] = A \\times y_0[0] + B$<br>\n",
      "$y_1[1] = A \\times y_0[1] + B$<br>\n",
      "$y_1[2] = A \\times y_0[2] + B$<br>\n",
      "$.$<br>\n",
      "$.$<br>\n",
      "$.$<br>\n",
      "$y_1[99] = A \\times y_0[99] + B$<br>\n",
      "\n",
      "which can be written as\n",
      "\n",
      "$\\left(\\begin{array}{c}\n",
      "y_1[0] \\\\\n",
      "y_1[1] \\\\\n",
      "y_1[2] \\\\\n",
      ". \\\\\n",
      ". \\\\\n",
      ". \\\\\n",
      "y_1[99]\n",
      "\\end{array}\\right)\n",
      "=\n",
      "\\left(\\begin{array}{cc}\n",
      "y_0[0] & 1 \\\\\n",
      "y_0[1] & 1 \\\\\n",
      "y_0[2] & 1 \\\\\n",
      ". & . \\\\\n",
      ". & . \\\\\n",
      ". & . \\\\\n",
      "y_0[99] & 1\n",
      "\\end{array}\\right)\n",
      "\\times\n",
      "\\left(\\begin{array}{c}\n",
      "A \\\\\n",
      "B\n",
      "\\end{array}\\right)\n",
      "$\n",
      "\n",
      "or\n",
      "\n",
      "$\\vec{y}_1 = \\mathbf{P}\\vec{a}$\n",
      "\n",
      "where $\\vec{y}_1$ is still an array (but let's call it a vector now), $\\mathbf{P}$ is a \"matrix\", and $\\vec{a}$ is also a vector of coefficients (in our case amplitude and offset).  Equations that look like the one above are called the <b>Normal Equation</b>.\n",
      "\n",
      "You might think that you can just solve for $\\vec{a}$ by doing\n",
      "\n",
      "$\\vec{a} = \\frac{\\vec{y}_1}{\\mathbf{P}}$\n",
      "\n",
      "but $1/\\mathbf{P}$ has no real meaning since $\\mathbf{P}$ is a matrix.  To find the actual solution, we need to first define the transpose,\n",
      "\n",
      "$\\mathbf{P}^T = \n",
      "\\left(\\begin{array}{ccccccc}\n",
      "y_0[0] & y_0[1] & y_0[2] & . & . & . & y_0[99] \\\\\n",
      "1 & 1 & 1 & . & . & . & 1 \\\\\n",
      "\\end{array}\\right)$\n",
      "\n",
      "we solve the normal equation by first multiplying both sides by the transpose of $\\mathbf{P}$\n",
      "\n",
      "$(\\mathbf{P}^T\\vec{y}_1) = (\\mathbf{P}^T\\mathbf{P})\\vec{a}$\n",
      "\n",
      "and then multiplying by inverse of that matrix product:\n",
      "\n",
      "$(\\mathbf{P}^T\\mathbf{P})^{-1}(\\mathbf{P}^T\\vec{y}_1) = \\vec{a}$\n",
      "\n",
      "Note that the matrix inverse is not just replacing all elements of a matrix by 1 over its value, nor is matrix multiplication just doing elementwise multiplication.  It is a bit more complicated and beyond the present scope, but you can read about them <a href=\"http://en.wikipedia.org/wiki/Matrix_multiplication#Matrix_product_.28two_matrices.29\">here</a> and <a href=\"http://en.wikipedia.org/wiki/Invertible_matrix#Inversion_of_2.C3.972_matrices\">here</a> (note this last link is for $2 \\times 2$ matrices, which is our case in this example).\n",
      "\n",
      "Fortunately, python has a linear algebra model that will do these calculations for you."
     ]
    },
    {
     "cell_type": "code",
     "collapsed": false,
     "input": [
      "PT = np.vstack([y0,np.ones(len(y0))])\n",
      "P  = PT.transpose()\n",
      "print(\"P = \\n{0}\".format(P))"
     ],
     "language": "python",
     "metadata": {},
     "outputs": [
      {
       "output_type": "stream",
       "stream": "stdout",
       "text": [
        "P = \n",
        "[[ -1.00000000e+00   1.00000000e+00]\n",
        " [ -9.51056516e-01   1.00000000e+00]\n",
        " [ -8.09016994e-01   1.00000000e+00]\n",
        " [ -5.87785252e-01   1.00000000e+00]\n",
        " [ -3.09016994e-01   1.00000000e+00]\n",
        " [  5.51091060e-16   1.00000000e+00]\n",
        " [  3.09016994e-01   1.00000000e+00]\n",
        " [  5.87785252e-01   1.00000000e+00]\n",
        " [  8.09016994e-01   1.00000000e+00]\n",
        " [  9.51056516e-01   1.00000000e+00]\n",
        " [  1.00000000e+00   1.00000000e+00]\n",
        " [  9.51056516e-01   1.00000000e+00]\n",
        " [  8.09016994e-01   1.00000000e+00]\n",
        " [  5.87785252e-01   1.00000000e+00]\n",
        " [  3.09016994e-01   1.00000000e+00]\n",
        " [ -4.28626380e-16   1.00000000e+00]\n",
        " [ -3.09016994e-01   1.00000000e+00]\n",
        " [ -5.87785252e-01   1.00000000e+00]\n",
        " [ -8.09016994e-01   1.00000000e+00]\n",
        " [ -9.51056516e-01   1.00000000e+00]\n",
        " [ -1.00000000e+00   1.00000000e+00]\n",
        " [ -9.51056516e-01   1.00000000e+00]\n",
        " [ -8.09016994e-01   1.00000000e+00]\n",
        " [ -5.87785252e-01   1.00000000e+00]\n",
        " [ -3.09016994e-01   1.00000000e+00]\n",
        " [  3.06161700e-16   1.00000000e+00]\n",
        " [  3.09016994e-01   1.00000000e+00]\n",
        " [  5.87785252e-01   1.00000000e+00]\n",
        " [  8.09016994e-01   1.00000000e+00]\n",
        " [  9.51056516e-01   1.00000000e+00]\n",
        " [  1.00000000e+00   1.00000000e+00]\n",
        " [  9.51056516e-01   1.00000000e+00]\n",
        " [  8.09016994e-01   1.00000000e+00]\n",
        " [  5.87785252e-01   1.00000000e+00]\n",
        " [  3.09016994e-01   1.00000000e+00]\n",
        " [ -1.83697020e-16   1.00000000e+00]\n",
        " [ -3.09016994e-01   1.00000000e+00]\n",
        " [ -5.87785252e-01   1.00000000e+00]\n",
        " [ -8.09016994e-01   1.00000000e+00]\n",
        " [ -9.51056516e-01   1.00000000e+00]\n",
        " [ -1.00000000e+00   1.00000000e+00]\n",
        " [ -9.51056516e-01   1.00000000e+00]\n",
        " [ -8.09016994e-01   1.00000000e+00]\n",
        " [ -5.87785252e-01   1.00000000e+00]\n",
        " [ -3.09016994e-01   1.00000000e+00]\n",
        " [  6.12323400e-17   1.00000000e+00]\n",
        " [  3.09016994e-01   1.00000000e+00]\n",
        " [  5.87785252e-01   1.00000000e+00]\n",
        " [  8.09016994e-01   1.00000000e+00]\n",
        " [  9.51056516e-01   1.00000000e+00]\n",
        " [  1.00000000e+00   1.00000000e+00]\n",
        " [  9.51056516e-01   1.00000000e+00]\n",
        " [  8.09016994e-01   1.00000000e+00]\n",
        " [  5.87785252e-01   1.00000000e+00]\n",
        " [  3.09016994e-01   1.00000000e+00]\n",
        " [  1.83758918e-15   1.00000000e+00]\n",
        " [ -3.09016994e-01   1.00000000e+00]\n",
        " [ -5.87785252e-01   1.00000000e+00]\n",
        " [ -8.09016994e-01   1.00000000e+00]\n",
        " [ -9.51056516e-01   1.00000000e+00]\n",
        " [ -1.00000000e+00   1.00000000e+00]\n",
        " [ -9.51056516e-01   1.00000000e+00]\n",
        " [ -8.09016994e-01   1.00000000e+00]\n",
        " [ -5.87785252e-01   1.00000000e+00]\n",
        " [ -3.09016994e-01   1.00000000e+00]\n",
        " [  1.59265982e-15   1.00000000e+00]\n",
        " [  3.09016994e-01   1.00000000e+00]\n",
        " [  5.87785252e-01   1.00000000e+00]\n",
        " [  8.09016994e-01   1.00000000e+00]\n",
        " [  9.51056516e-01   1.00000000e+00]\n",
        " [  1.00000000e+00   1.00000000e+00]\n",
        " [  9.51056516e-01   1.00000000e+00]\n",
        " [  8.09016994e-01   1.00000000e+00]\n",
        " [  5.87785252e-01   1.00000000e+00]\n",
        " [  3.09016994e-01   1.00000000e+00]\n",
        " [  2.08251854e-15   1.00000000e+00]\n",
        " [ -3.09016994e-01   1.00000000e+00]\n",
        " [ -5.87785252e-01   1.00000000e+00]\n",
        " [ -8.09016994e-01   1.00000000e+00]\n",
        " [ -9.51056516e-01   1.00000000e+00]\n",
        " [ -1.00000000e+00   1.00000000e+00]\n",
        " [ -9.51056516e-01   1.00000000e+00]\n",
        " [ -8.09016994e-01   1.00000000e+00]\n",
        " [ -5.87785252e-01   1.00000000e+00]\n",
        " [ -3.09016994e-01   1.00000000e+00]\n",
        " [  1.34773046e-15   1.00000000e+00]\n",
        " [  3.09016994e-01   1.00000000e+00]\n",
        " [  5.87785252e-01   1.00000000e+00]\n",
        " [  8.09016994e-01   1.00000000e+00]\n",
        " [  9.51056516e-01   1.00000000e+00]\n",
        " [  1.00000000e+00   1.00000000e+00]\n",
        " [  9.51056516e-01   1.00000000e+00]\n",
        " [  8.09016994e-01   1.00000000e+00]\n",
        " [  5.87785252e-01   1.00000000e+00]\n",
        " [  3.09016994e-01   1.00000000e+00]\n",
        " [  2.32744790e-15   1.00000000e+00]\n",
        " [ -3.09016994e-01   1.00000000e+00]\n",
        " [ -5.87785252e-01   1.00000000e+00]\n",
        " [ -8.09016994e-01   1.00000000e+00]\n",
        " [ -9.51056516e-01   1.00000000e+00]]\n"
       ]
      }
     ],
     "prompt_number": 4
    },
    {
     "cell_type": "code",
     "collapsed": false,
     "input": [
      "PTPinv = np.linalg.inv(np.dot(PT,P))\n",
      "PTy1 = np.dot(PT,y1)\n",
      "\n",
      "print(\"PTPinv = \\n{0}\\nPTy1 = {1}\".format(PTPinv,PTy1))"
     ],
     "language": "python",
     "metadata": {},
     "outputs": [
      {
       "output_type": "stream",
       "stream": "stdout",
       "text": [
        "PTPinv = \n",
        "[[  2.00000000e-02  -7.77156117e-19]\n",
        " [ -7.77156117e-19   1.00000000e-02]]\n",
        "PTy1 = [ 60.  34.]\n"
       ]
      }
     ],
     "prompt_number": 5
    },
    {
     "cell_type": "markdown",
     "metadata": {},
     "source": [
      "And so finally:"
     ]
    },
    {
     "cell_type": "code",
     "collapsed": false,
     "input": [
      "avec = np.dot(PTPinv,PTy1)\n",
      "print(\"avec = {0}\\ninput:\\n  A={1}, B={2}\".format(avec,A,B))"
     ],
     "language": "python",
     "metadata": {},
     "outputs": [
      {
       "output_type": "stream",
       "stream": "stdout",
       "text": [
        "avec = [ 1.2   0.34]\n",
        "input:\n",
        "  A=1.2, B=0.34\n"
       ]
      }
     ],
     "prompt_number": 6
    },
    {
     "cell_type": "markdown",
     "metadata": {},
     "source": [
      "It turns out that the solution to the normal equation is equivalent to the classic \"least squares minimization\" solution."
     ]
    },
    {
     "cell_type": "code",
     "collapsed": false,
     "input": [
      "plt.close(0)"
     ],
     "language": "python",
     "metadata": {},
     "outputs": [],
     "prompt_number": 8
    },
    {
     "cell_type": "markdown",
     "metadata": {},
     "source": [
      "### Multivariate regression"
     ]
    },
    {
     "cell_type": "markdown",
     "metadata": {},
     "source": [
      "Before we start applying this technique to images, let's look at an example that isn't so trivial.  First, let's add some noise and regress several \"template\" functions:"
     ]
    },
    {
     "cell_type": "code",
     "collapsed": false,
     "input": [
      "xx = np.linspace(0,10,100,False)\n",
      "\n",
      "func1 = np.exp(-xx**2/(2.0*4.0**2))\n",
      "func2 = np.cos(xx)\n",
      "func3 = np.sqrt(xx/20.)\n",
      "\n",
      "noise = np.random.randn(len(xx))\n",
      "\n",
      "yy = -5*func1 + 3*func2 + 7*func3 + 2.0*noise\n",
      "\n",
      "plt.close(1)\n",
      "fig1, ax1 = plt.subplots(num=1)\n",
      "lin1a, = ax1.plot(xx,yy,'o')\n",
      "fig1.canvas.draw()"
     ],
     "language": "python",
     "metadata": {},
     "outputs": [],
     "prompt_number": 19
    },
    {
     "cell_type": "code",
     "collapsed": false,
     "input": [
      "PT = np.vstack([func1,func2,func3])\n",
      "P  = PT.transpose()\n",
      "PTPinv = np.linalg.inv(np.dot(PT,P))\n",
      "PTyy = np.dot(PT,yy)\n",
      "avec = np.dot(PTPinv,PTyy)\n",
      "\n",
      "print(\"avec = {0}\".format(avec))\n",
      "\n",
      "lin1b, = ax1.plot(xx,np.dot(P,avec),'-',color='dodgerblue')\n",
      "fig1.canvas.draw()"
     ],
     "language": "python",
     "metadata": {},
     "outputs": [
      {
       "output_type": "stream",
       "stream": "stdout",
       "text": [
        "avec = [-4.46928379  3.08002523  6.44393566]\n"
       ]
      }
     ],
     "prompt_number": 20
    },
    {
     "cell_type": "markdown",
     "metadata": {},
     "source": [
      "But now, what if we try the **completely** wrong model?"
     ]
    },
    {
     "cell_type": "code",
     "collapsed": false,
     "input": [
      "PT = np.vstack([xx**4,xx**3,xx**2,xx,np.ones(len(xx))])\n",
      "P  = PT.transpose()\n",
      "PTPinv = np.linalg.inv(np.dot(PT,P))\n",
      "PTyy = np.dot(PT,yy)\n",
      "avec = np.dot(PTPinv,PTyy)\n",
      "\n",
      "print(\"avec = {0}\".format(avec))\n",
      "\n",
      "lin1c, = ax1.plot(xx,np.dot(P,avec),'-',color='black')\n",
      "lin1b.set_visible(False)\n",
      "fig1.canvas.draw()"
     ],
     "language": "python",
     "metadata": {},
     "outputs": [
      {
       "output_type": "stream",
       "stream": "stdout",
       "text": [
        "avec = [ 0.00772704 -0.24834848  2.32318048 -6.3538885   1.58725835]\n"
       ]
      }
     ],
     "prompt_number": 21
    },
    {
     "cell_type": "markdown",
     "metadata": {},
     "source": [
      "Pretty good for the wrong model!  So regressions (and models in general) can be powerful, but in order to evaluate a fit, you really have to know something about your errors."
     ]
    },
    {
     "cell_type": "code",
     "collapsed": false,
     "input": [
      "[plt.close(i) for i in range(2)]"
     ],
     "language": "python",
     "metadata": {},
     "outputs": [
      {
       "metadata": {},
       "output_type": "pyout",
       "prompt_number": 22,
       "text": [
        "[None, None]"
       ]
      }
     ],
     "prompt_number": 22
    },
    {
     "cell_type": "markdown",
     "metadata": {},
     "source": [
      "---\n",
      "\n",
      "## Correlation and handwritten digits"
     ]
    },
    {
     "cell_type": "markdown",
     "metadata": {},
     "source": [
      "*This will be only the **most basic** technique of recognizing handwritten characters.  There are much more effective ways to solve this problem, but it is a good illustration of regressions and correlations...*"
     ]
    },
    {
     "cell_type": "markdown",
     "metadata": {},
     "source": [
      "First let's load the handwritten digits file:"
     ]
    },
    {
     "cell_type": "code",
     "collapsed": false,
     "input": [
      "img = nd.imread('images/digits.png')\n",
      "nrow, ncol = img.shape[0:2]\n",
      "xs = 10.\n",
      "ys = xs*float(nrow)/float(ncol)\n",
      "\n",
      "plt.close(0)\n",
      "fig0, ax0 = plt.subplots(num=0,figsize=[xs,ys])\n",
      "fig0.subplots_adjust(0,0,1,1)\n",
      "ax0.axis('off')\n",
      "im0 = ax0.imshow(img)\n",
      "fig0.canvas.draw()"
     ],
     "language": "python",
     "metadata": {},
     "outputs": [],
     "prompt_number": 24
    },
    {
     "cell_type": "markdown",
     "metadata": {},
     "source": [
      "We'd like to isolate the numbers from this image.  To do that, we use some reshaping and transposing trickery..."
     ]
    },
    {
     "cell_type": "code",
     "collapsed": false,
     "input": [
      "nums = img.reshape(50,20,100,20).transpose(0,2,1,3).reshape(5000,20,20)"
     ],
     "language": "python",
     "metadata": {},
     "outputs": [],
     "prompt_number": 25
    },
    {
     "cell_type": "markdown",
     "metadata": {},
     "source": [
      "and we have each number isolated:"
     ]
    },
    {
     "cell_type": "code",
     "collapsed": false,
     "input": [
      "plt.close(1)\n",
      "fig1, ax1 = plt.subplots(num=1,figsize=[xs/1.5,xs/1.5])\n",
      "fig1.subplots_adjust(0,0,1,1)\n",
      "ax1.axis('off')\n",
      "im1 = ax1.imshow(nums[0])\n",
      "fig1.canvas.draw()"
     ],
     "language": "python",
     "metadata": {},
     "outputs": [],
     "prompt_number": 28
    },
    {
     "cell_type": "code",
     "collapsed": false,
     "input": [
      "t0 = time.time()\n",
      "dt = 0.0\n",
      "while dt<20.:\n",
      "    ii = int(floor(len(nums)*np.random.rand()))\n",
      "    im1.set_data(nums[ii])\n",
      "    fig1.canvas.draw()\n",
      "    time.sleep(0.5)\n",
      "    dt = time.time()-t0"
     ],
     "language": "python",
     "metadata": {},
     "outputs": [],
     "prompt_number": 29
    },
    {
     "cell_type": "markdown",
     "metadata": {},
     "source": [
      "We can look at the average for a given digit:"
     ]
    },
    {
     "cell_type": "code",
     "collapsed": false,
     "input": [
      "nums_avg = np.array([nums[i*500:(i+1)*500].mean(0) for i in range(10)])\n",
      "\n",
      "for ii in range(10):\n",
      "    im1.set_data(nums_avg[ii])\n",
      "    fig1.canvas.draw()\n",
      "    time.sleep(3.0)"
     ],
     "language": "python",
     "metadata": {},
     "outputs": [],
     "prompt_number": 30
    },
    {
     "cell_type": "markdown",
     "metadata": {},
     "source": [
      "Let's use these averages as \"templates\" for a regression against an individual sample:"
     ]
    },
    {
     "cell_type": "code",
     "collapsed": false,
     "input": [
      "index = 3514\n",
      "samp = nums[index]\n",
      "\n",
      "PT = nums_avg.reshape(10,400)\n",
      "P  = PT.transpose()\n",
      "PTPinv = np.linalg.inv(np.dot(PT,P))\n",
      "PTyy = np.dot(PT,samp.flatten())\n",
      "avec = np.dot(PTPinv,PTyy)\n",
      "\n",
      "print(\"avec = {0}\\n\".format(avec.round(2)))\n",
      "print(\"Therefore my guess is that this is an \" + \n",
      "      \"image of the number {0}\".format(avec.argmax()))"
     ],
     "language": "python",
     "metadata": {},
     "outputs": [
      {
       "output_type": "stream",
       "stream": "stdout",
       "text": [
        "avec = [ 0.03  0.7  -0.09 -0.24  0.66  0.24 -0.27  0.62  0.22 -0.64]\n",
        "\n",
        "Therefore my guess is that this is an image of the number 1\n"
       ]
      }
     ],
     "prompt_number": 31
    },
    {
     "cell_type": "code",
     "collapsed": false,
     "input": [
      "indices = range(0,500)\n",
      "avecs = []\n",
      "\n",
      "for i in indices:\n",
      "    samp = nums[i]\n",
      "    PT = nums_avg.reshape(10,400)\n",
      "    P  = PT.transpose()\n",
      "    PTPinv = np.linalg.inv(np.dot(PT,P))\n",
      "    PTyy = np.dot(PT,samp.flatten())\n",
      "    avec = np.dot(PTPinv,PTyy)\n",
      "    avecs.append(avec)"
     ],
     "language": "python",
     "metadata": {},
     "outputs": [],
     "prompt_number": 89
    },
    {
     "cell_type": "code",
     "collapsed": false,
     "input": [
      "avecs = np.array(avecs)\n",
      "\n",
      "fig10, ax10 = plt.subplots(num = 10, nrows = 10, figsize = (8, 12))\n",
      "for i in range(10):\n",
      "    ax10[i].set_xlim(-2,2)\n",
      "    ax10[i].hist(avecs[:,i], bins = 20, normed = True)\n",
      "fig10.subplots_adjust(hspace=0)\n",
      "fig10.axes.set_ticklabels([])\n",
      "plt.show()"
     ],
     "language": "python",
     "metadata": {},
     "outputs": [
      {
       "ename": "AttributeError",
       "evalue": "'list' object has no attribute 'set_ticklabels'",
       "output_type": "pyerr",
       "traceback": [
        "\u001b[0;31m---------------------------------------------------------------------------\u001b[0m\n\u001b[0;31mAttributeError\u001b[0m                            Traceback (most recent call last)",
        "\u001b[0;32m<ipython-input-95-5e9b5f805f06>\u001b[0m in \u001b[0;36m<module>\u001b[0;34m()\u001b[0m\n\u001b[1;32m      6\u001b[0m     \u001b[0max10\u001b[0m\u001b[0;34m[\u001b[0m\u001b[0mi\u001b[0m\u001b[0;34m]\u001b[0m\u001b[0;34m.\u001b[0m\u001b[0mhist\u001b[0m\u001b[0;34m(\u001b[0m\u001b[0mavecs\u001b[0m\u001b[0;34m[\u001b[0m\u001b[0;34m:\u001b[0m\u001b[0;34m,\u001b[0m\u001b[0mi\u001b[0m\u001b[0;34m]\u001b[0m\u001b[0;34m,\u001b[0m \u001b[0mbins\u001b[0m \u001b[0;34m=\u001b[0m \u001b[0;36m20\u001b[0m\u001b[0;34m,\u001b[0m \u001b[0mnormed\u001b[0m \u001b[0;34m=\u001b[0m \u001b[0mTrue\u001b[0m\u001b[0;34m)\u001b[0m\u001b[0;34m\u001b[0m\u001b[0m\n\u001b[1;32m      7\u001b[0m \u001b[0mfig10\u001b[0m\u001b[0;34m.\u001b[0m\u001b[0msubplots_adjust\u001b[0m\u001b[0;34m(\u001b[0m\u001b[0mhspace\u001b[0m\u001b[0;34m=\u001b[0m\u001b[0;36m0\u001b[0m\u001b[0;34m)\u001b[0m\u001b[0;34m\u001b[0m\u001b[0m\n\u001b[0;32m----> 8\u001b[0;31m \u001b[0mfig10\u001b[0m\u001b[0;34m.\u001b[0m\u001b[0maxes\u001b[0m\u001b[0;34m.\u001b[0m\u001b[0mset_ticklabels\u001b[0m\u001b[0;34m(\u001b[0m\u001b[0;34m[\u001b[0m\u001b[0;34m]\u001b[0m\u001b[0;34m)\u001b[0m\u001b[0;34m\u001b[0m\u001b[0m\n\u001b[0m\u001b[1;32m      9\u001b[0m \u001b[0mplt\u001b[0m\u001b[0;34m.\u001b[0m\u001b[0mshow\u001b[0m\u001b[0;34m(\u001b[0m\u001b[0;34m)\u001b[0m\u001b[0;34m\u001b[0m\u001b[0m\n",
        "\u001b[0;31mAttributeError\u001b[0m: 'list' object has no attribute 'set_ticklabels'"
       ]
      }
     ],
     "prompt_number": 95
    },
    {
     "cell_type": "code",
     "collapsed": false,
     "input": [],
     "language": "python",
     "metadata": {},
     "outputs": [
      {
       "metadata": {},
       "output_type": "pyout",
       "prompt_number": 86,
       "text": [
        "array([[ 1.2791273 ,  0.33248525, -0.22700203, ..., -0.09648337,\n",
        "        -0.15979841,  0.29175234],\n",
        "       [ 1.32645717,  0.75744652, -0.1781875 , ...,  0.05235788,\n",
        "        -0.5824243 , -0.19339487],\n",
        "       [ 0.28094984, -0.08651979, -0.31210793, ...,  0.43226666,\n",
        "         0.73266845, -0.43830887],\n",
        "       ..., \n",
        "       [ 1.4060868 ,  0.49176549, -0.13266331, ..., -0.00360955,\n",
        "        -0.91235261,  0.16282775],\n",
        "       [ 1.06183494,  0.8322933 ,  0.29528868, ...,  0.42255701,\n",
        "        -0.98492326, -1.38815363],\n",
        "       [ 1.43550754,  0.71603065, -0.58144851, ...,  0.17227487,\n",
        "        -0.63884505,  0.08564009]])"
       ]
      }
     ],
     "prompt_number": 86
    },
    {
     "cell_type": "code",
     "collapsed": false,
     "input": [
      "samp = nums[np.random.randint(4999)]\n",
      "im1.set_data(samp)\n",
      "try:\n",
      "    lab\n",
      "except:\n",
      "    lab = ax1.text(0,0,'Guess: ',va='top',fontsize=20,color='w')\n",
      "lab.set_text('Guess: {0}'.format(avec.argmax()))\n",
      "fig1.canvas.draw()"
     ],
     "language": "python",
     "metadata": {},
     "outputs": [],
     "prompt_number": 47
    },
    {
     "cell_type": "markdown",
     "metadata": {},
     "source": [
      "---"
     ]
    },
    {
     "cell_type": "code",
     "collapsed": false,
     "input": [
      "\n",
      "\n",
      "samp = nums[np.random.randint(4999)]\n",
      "\n",
      "PT = nums_avg.reshape(10,400)\n",
      "P  = PT.transpose()\n",
      "PTPinv = np.linalg.inv(np.dot(PT,P))\n",
      "PTyy = np.dot(PT,samp.flatten())\n",
      "avec = np.dot(PTPinv,PTyy)\n",
      "\n",
      "im1.set_data(samp)\n",
      "try:\n",
      "    lab\n",
      "except:\n",
      "    lab = ax1.text(0,0,'Guess: ',va='top',fontsize=20,color='w')\n",
      "lab.set_text('Guess: {0}'.format(avec.argmax()))\n",
      "fig1.canvas.draw()"
     ],
     "language": "python",
     "metadata": {},
     "outputs": [],
     "prompt_number": 68
    },
    {
     "cell_type": "code",
     "collapsed": false,
     "input": [],
     "language": "python",
     "metadata": {},
     "outputs": [],
     "prompt_number": 48
    },
    {
     "cell_type": "code",
     "collapsed": false,
     "input": [],
     "language": "python",
     "metadata": {},
     "outputs": []
    }
   ],
   "metadata": {}
  }
 ]
}