{
 "metadata": {
  "name": "",
  "signature": "sha256:d6e70aa3e26edc93b525979acbb3c8b08a2fd06c0c21d10ae0de7e0cb8f55321"
 },
 "nbformat": 3,
 "nbformat_minor": 0,
 "worksheets": [
  {
   "cells": [
    {
     "cell_type": "code",
     "collapsed": false,
     "input": [
      "import numpy as np\n",
      "import scipy.ndimage as nd\n",
      "import os\n",
      "import glob\n",
      "import matplotlib.pyplot as plt\n",
      "import time"
     ],
     "language": "python",
     "metadata": {},
     "outputs": [],
     "prompt_number": 1
    },
    {
     "cell_type": "heading",
     "level": 6,
     "metadata": {},
     "source": [
      "Functions"
     ]
    },
    {
     "cell_type": "code",
     "collapsed": false,
     "input": [
      "def showAllDigits(digits, figNum):\n",
      "    fig0, ax0 = plt.subplots(num = figNum, figsize = (16, 8))\n",
      "    ax0.imshow(digits)\n",
      "    ax0.axis('off')\n",
      "    fig0.subplots_adjust(0,0,1,1)\n",
      "    fig0.canvas.draw()\n",
      "    fig0.show()\n"
     ],
     "language": "python",
     "metadata": {},
     "outputs": [],
     "prompt_number": 2
    },
    {
     "cell_type": "heading",
     "level": 6,
     "metadata": {},
     "source": [
      "Read image"
     ]
    },
    {
     "cell_type": "code",
     "collapsed": false,
     "input": [
      "path = 'images'\n",
      "glob.glob(os.path.join(path, \"*.png\"))\n",
      "fileIn = os.path.join(path, 'digits.png')\n",
      "img = nd.imread(fileIn)\n",
      "#showAllDigits(digitsImg, 0) # crashes python"
     ],
     "language": "python",
     "metadata": {},
     "outputs": [],
     "prompt_number": 3
    },
    {
     "cell_type": "heading",
     "level": 6,
     "metadata": {},
     "source": [
      "Prepare arrays"
     ]
    },
    {
     "cell_type": "code",
     "collapsed": false,
     "input": [
      "### Reshaping the table of digits into numpy array\n",
      "digits = img.reshape(50, 20, 100, 20).transpose(0, 2, 1, 3).reshape(5000, 20, 20)\n",
      "\n",
      "### Computing average images for each digit 0, 1, ..., 9\n",
      "nums_avg = [np.average(digits[(i*500):(i+1)*500, :, :], 0) for i in range(10)]\n",
      "#arrays = [nums_avg[i] for i in range(nums_avg.shape[0])]\n",
      "nums_avg_with_ones = np.dstack(nums_avg + [np.ones([20,20])]).transpose((2,0,1))\n",
      "nums_avg = np.dstack(nums_avg).transpose((2,0,1))\n"
     ],
     "language": "python",
     "metadata": {},
     "outputs": [
      {
       "output_type": "stream",
       "stream": "stdout",
       "text": [
        "(10, 20, 20)\n",
        "(11, 20, 20)\n"
       ]
      }
     ],
     "prompt_number": 24
    },
    {
     "cell_type": "code",
     "collapsed": false,
     "input": [
      "nums_avg_with_ones.shape"
     ],
     "language": "python",
     "metadata": {},
     "outputs": [
      {
       "metadata": {},
       "output_type": "pyout",
       "prompt_number": 5,
       "text": [
        "(11, 20, 20)"
       ]
      }
     ],
     "prompt_number": 5
    },
    {
     "cell_type": "heading",
     "level": 6,
     "metadata": {},
     "source": [
      "Regression against an individual digit"
     ]
    },
    {
     "cell_type": "code",
     "collapsed": false,
     "input": [
      "index = 3514\n",
      "y = digits[index, :, :].reshape(400,1)\n",
      "X = nums_avg_with_ones.reshape(400, 11)\n",
      "XT = X.transpose()\n",
      "XTX = np.dot(XT, X)\n",
      "XTy = np.dot(XT, y)\n",
      "XTXinv = np.linalg.inv(XTX)\n",
      "beta = np.dot(XTXinv, XTy)"
     ],
     "language": "python",
     "metadata": {},
     "outputs": [],
     "prompt_number": 6
    },
    {
     "cell_type": "code",
     "collapsed": false,
     "input": [
      "def regress_intercept_old(index):\n",
      "    y = digits[index, :, :].reshape(400,1).flatten()\n",
      "    X = nums_avg_with_ones.reshape(400, 11)\n",
      "    XT = X.transpose()\n",
      "    XTX = np.dot(XT, X)\n",
      "    XTy = np.dot(XT, y)\n",
      "    XTXinv = np.linalg.inv(XTX)\n",
      "    beta = np.dot(XTXinv, XTy)\n",
      "    return beta[0:10]\n",
      "\n",
      "def regress_intercept(index):\n",
      "    y = digits[index, :, :].reshape(400,1).flatten()\n",
      "    XT = nums_avg_with_ones.reshape(11, 400)\n",
      "    X = XT.transpose()\n",
      "    XTX = np.dot(XT, X)\n",
      "    #print \"RI: XT.shape:\", XT.shape, \"y.shape:\", y.shape\n",
      "    XTy = np.dot(XT, y)\n",
      "    XTXinv = np.linalg.inv(XTX)\n",
      "    beta = np.dot(XTXinv, XTy)\n",
      "    return beta[0:10]\n",
      "\n",
      "def regress_old(index):\n",
      "    y = digits[index, :, :].reshape(400,1).flatten()\n",
      "    #print \"regress y.shape\", y.shape\n",
      "    X = nums_avg.reshape(400, 10)\n",
      "    XT = X.transpose()\n",
      "    XTX = np.dot(XT, X)\n",
      "    XTy = np.dot(XT, y)\n",
      "    XTXinv = np.linalg.inv(XTX)\n",
      "    beta = np.dot(XTXinv, XTy)\n",
      "    return beta\n",
      "\n",
      "def regress(index):\n",
      "    y = digits[index, :, :].reshape(400,1).flatten()\n",
      "    #print \"regress y.shape\", y.shape\n",
      "    XT = nums_avg.reshape(10, 400)\n",
      "    X = XT.transpose()\n",
      "    XTX = np.dot(XT, X)\n",
      "    #print \"R : XT.shape:\", XT.shape, \"y.shape:\", y.shape\n",
      "    XTy = np.dot(XT, y)\n",
      "    XTXinv = np.linalg.inv(XTX)\n",
      "    beta = np.dot(XTXinv, XTy)\n",
      "    return beta\n",
      "\n",
      "def dobler(index):\n",
      "    samp = digits[index,:,:].flatten()\n",
      "    #print \"dobler samp.shape\", samp.shape\n",
      "    PT = nums_avg.reshape(10,400)\n",
      "    P  = PT.transpose()\n",
      "    PTPinv = np.linalg.inv(np.dot(PT,P))\n",
      "    PTyy = np.dot(PT,samp.flatten())\n",
      "    avec = np.dot(PTPinv,PTyy)\n",
      "    return avec\n",
      "def dobler1(index):\n",
      "    samp = digits[index,:,:].flatten()\n",
      "    #print \"dobler samp.shape\", samp.shape\n",
      "    P = nums_avg.reshape(400,10)\n",
      "    PT  = P.transpose()\n",
      "    PTPinv = np.linalg.inv(np.dot(PT,P))\n",
      "    PTyy = np.dot(PT,samp.flatten())\n",
      "    avec = np.dot(PTPinv,PTyy)\n",
      "    return avec"
     ],
     "language": "python",
     "metadata": {},
     "outputs": [],
     "prompt_number": 82
    },
    {
     "cell_type": "code",
     "collapsed": false,
     "input": [
      "np.random.seed(12345)\n",
      "sample = np.random.randint(0, 5000, 8)\n",
      "reg_int = []\n",
      "reg = []\n",
      "dobler_out = []\n",
      "dobler1_out = []\n",
      "for index in sample:\n",
      "    reg.append(np.argmax(regress(index)))\n",
      "    reg_int.append(np.argmax(regress_intercept(index)))\n",
      "    dobler_out.append(np.argmax(dobler(index)))\n",
      "    dobler1_out.append(np.argmax(dobler1(index)))\n",
      "    \n",
      "print 'Numbers:     ', list(sample/500)\n",
      "print 'Dobler:      ', dobler_out\n",
      "print 'Dobler1:     ', dobler1_out\n",
      "print 'No intercept:', reg\n",
      "print 'Intercept:   ', reg_int"
     ],
     "language": "python",
     "metadata": {},
     "outputs": [
      {
       "output_type": "stream",
       "stream": "stdout",
       "text": [
        "Numbers:      [9, 7, 4, 6, 6, 8, 8, 6]\n",
        "Dobler:       [9, 1, 4, 6, 5, 8, 8, 6]\n",
        "Dobler1:      [5, 5, 5, 3, 7, 3, 1, 5]\n",
        "No intercept: [9, 1, 4, 6, 5, 8, 8, 6]\n",
        "Intercept:    [9, 1, 4, 6, 5, 8, 8, 6]\n"
       ]
      }
     ],
     "prompt_number": 92
    },
    {
     "cell_type": "code",
     "collapsed": false,
     "input": [
      "plt.close(2)\n",
      "fig2, ax2 = plt.subplots(figsize = (2,2), num = 2)\n",
      "fig2.subplots_adjust(0,0,1,1)\n",
      "digit_plot = ax2.imshow(digits[index,:,:])\n",
      "plt.grid('off')\n",
      "\n",
      "for index in sample:\n",
      "    time.sleep(1)\n",
      "    digit_plot.set_data(digits[index,:,:])\n",
      "    fig2.canvas.draw()\n",
      "plt.close(2)"
     ],
     "language": "python",
     "metadata": {},
     "outputs": [],
     "prompt_number": 46
    },
    {
     "cell_type": "heading",
     "level": 6,
     "metadata": {},
     "source": [
      "Confusion matrix"
     ]
    },
    {
     "cell_type": "code",
     "collapsed": false,
     "input": [
      "confusion_int = np.zeros((10, 10), np.int32)\n",
      "for i in range(5000):\n",
      "    digit = i // 500\n",
      "    prediction = argmax(regress_intercept(i))\n",
      "    confusion[digit][prediction] += 1"
     ],
     "language": "python",
     "metadata": {},
     "outputs": [],
     "prompt_number": 87
    },
    {
     "cell_type": "code",
     "collapsed": false,
     "input": [
      "confusion_int"
     ],
     "language": "python",
     "metadata": {},
     "outputs": [
      {
       "metadata": {},
       "output_type": "pyout",
       "prompt_number": 86,
       "text": [
        "array([[360,   0,   1,   7,   7,  66,  25,   3,  19,  12],\n",
        "       [  0, 469,   1,   1,   1,   9,   8,   0,   8,   3],\n",
        "       [  0,  23, 326,  35,  21,   6,  17,  23,  28,  21],\n",
        "       [  1,   7,  21, 363,   2,  23,   8,   9,  31,  35],\n",
        "       [  0,  14,   8,   6, 381,  17,  13,   2,   5,  54],\n",
        "       [  5,   3,   1,  91,  15, 307,  13,   0,  22,  43],\n",
        "       [  3,  11,   2,   0,  30,  39, 407,   3,   2,   3],\n",
        "       [  3,  19,  10,   2,  24,   5,   1, 378,   2,  56],\n",
        "       [  1,  19,   5,  43,  10,  25,   7,   2, 352,  36],\n",
        "       [  6,   9,   4,  14,  23,  20,   0,  10,  11, 403]], dtype=int32)"
       ]
      }
     ],
     "prompt_number": 86
    },
    {
     "cell_type": "code",
     "collapsed": false,
     "input": [
      "confusion = np.zeros((10, 10), np.int32)\n",
      "for i in range(5000):\n",
      "    digit = i // 500\n",
      "    prediction = argmax(regress(i))\n",
      "    confusion[digit][prediction] += 1"
     ],
     "language": "python",
     "metadata": {},
     "outputs": [],
     "prompt_number": 90
    },
    {
     "cell_type": "code",
     "collapsed": false,
     "input": [
      "confusion"
     ],
     "language": "python",
     "metadata": {},
     "outputs": [
      {
       "metadata": {},
       "output_type": "pyout",
       "prompt_number": 91,
       "text": [
        "array([[357,   0,   0,   7,   8,  66,  27,   3,  20,  12],\n",
        "       [  0, 468,   1,   1,   1,  10,   8,   0,   8,   3],\n",
        "       [  0,  23, 327,  32,  21,   8,  15,  23,  30,  21],\n",
        "       [  1,   7,  21, 366,   2,  22,   8,   9,  29,  35],\n",
        "       [  0,  14,   8,   6, 381,  18,  12,   2,   4,  55],\n",
        "       [  5,   3,   1,  92,  15, 308,  13,   0,  22,  41],\n",
        "       [  3,  11,   2,   0,  30,  39, 407,   3,   2,   3],\n",
        "       [  3,  19,  10,   2,  24,   5,   1, 376,   2,  58],\n",
        "       [  1,  19,   5,  44,  11,  25,   7,   2, 351,  35],\n",
        "       [  7,   8,   4,  13,  24,  20,   0,  11,  11, 402]], dtype=int32)"
       ]
      }
     ],
     "prompt_number": 91
    }
   ],
   "metadata": {}
  }
 ]
}