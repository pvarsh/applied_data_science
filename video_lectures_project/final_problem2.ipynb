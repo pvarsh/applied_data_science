{
 "metadata": {
  "name": "",
  "signature": "sha256:74cea67dcbf2879c38bb3323460978099b865070b2af90eec12dae93a29ed834"
 },
 "nbformat": 3,
 "nbformat_minor": 0,
 "worksheets": [
  {
   "cells": [
    {
     "cell_type": "code",
     "collapsed": false,
     "input": [
      "import os\n",
      "import sys\n",
      "import numpy as np\n",
      "import matplotlib.pyplot as plt\n",
      "import scipy.ndimage as nd\n",
      "from scipy.ndimage.filters import median_filter as mf"
     ],
     "language": "python",
     "metadata": {},
     "outputs": [],
     "prompt_number": 1
    },
    {
     "cell_type": "code",
     "collapsed": false,
     "input": [
      "### \n",
      "\n",
      "infile = \"images/ml.jpg\"\n",
      "# dpath, fname = sys.argv[1:3]\n",
      "# infile = os.path.join(dpath, fname)\n",
      "img = nd.imread(infile)"
     ],
     "language": "python",
     "metadata": {},
     "outputs": [],
     "prompt_number": 2
    },
    {
     "cell_type": "code",
     "collapsed": false,
     "input": [
      "### Plot image\n",
      "\n",
      "# fig1, ax1 = plt.subplots(num = 1)\n",
      "# fig1.subplots_adjust(0,0,1,1)\n",
      "# fig1.canvas.set_window_title('Mona Lisa')\n",
      "# ax1.imshow(img)\n",
      "# ax1.axis('off')\n",
      "# fig1.canvas.draw()\n",
      "# plt.show()\n",
      "\n",
      "### Plot histograms\n",
      "fig2, ax2 = plt.subplots(num = 2, nrows = 3, ncols = 1)\n",
      "fig2.subplots_adjust(0,0,1,1)\n",
      "\n",
      "for i in range(3):\n",
      "    ax2[i].set_xlim((0,255))\n",
      "    \n",
      "ax2[0].hist(img[:,:,0].flatten(), bins = 256, facecolor = 'red', lw = 0)\n",
      "ax2[1].hist(img[:,:,1].flatten(), bins = 256, facecolor = 'green', lw = 0)\n",
      "ax2[2].hist(img[:,:,2].flatten(), bins = 256, facecolor = 'blue', lw = 0)\n",
      "\n",
      "\n",
      "#np.log10(np.abs(1.0*imgs - mimg).max(-1).flatten()+1.0), bins=255)\n",
      "\n",
      "ax2[0].axis('off')\n",
      "fig2.canvas.draw()\n",
      "plt.show()"
     ],
     "language": "python",
     "metadata": {},
     "outputs": [],
     "prompt_number": 13
    },
    {
     "cell_type": "code",
     "collapsed": false,
     "input": [],
     "language": "python",
     "metadata": {},
     "outputs": [],
     "prompt_number": 7
    },
    {
     "cell_type": "code",
     "collapsed": false,
     "input": [
      "img.mean(1).shape"
     ],
     "language": "python",
     "metadata": {},
     "outputs": [
      {
       "metadata": {},
       "output_type": "pyout",
       "prompt_number": 12,
       "text": [
        "(954, 3)"
       ]
      }
     ],
     "prompt_number": 12
    },
    {
     "cell_type": "code",
     "collapsed": false,
     "input": [
      "?ax2[0].hist"
     ],
     "language": "python",
     "metadata": {},
     "outputs": [],
     "prompt_number": 9
    },
    {
     "cell_type": "code",
     "collapsed": false,
     "input": [],
     "language": "python",
     "metadata": {},
     "outputs": []
    }
   ],
   "metadata": {}
  }
 ]
}