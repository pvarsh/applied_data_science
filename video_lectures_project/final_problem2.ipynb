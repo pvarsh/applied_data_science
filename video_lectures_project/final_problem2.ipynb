{
 "metadata": {
  "name": "",
  "signature": "sha256:ed3de42606672e41f39f63bd54d320c2cb739767d23d5508b940d8c1e3d8abc5"
 },
 "nbformat": 3,
 "nbformat_minor": 0,
 "worksheets": [
  {
   "cells": [
    {
     "cell_type": "code",
     "collapsed": false,
     "input": [
      "import os\n",
      "import sys\n",
      "import numpy as np\n",
      "import matplotlib.pyplot as plt\n",
      "import scipy.ndimage as nd\n",
      "from scipy.ndimage.filters import median_filter as mf"
     ],
     "language": "python",
     "metadata": {},
     "outputs": [],
     "prompt_number": 1
    },
    {
     "cell_type": "code",
     "collapsed": false,
     "input": [
      "### \n",
      "\n",
      "infile = \"images/ml.jpg\"\n",
      "# dpath, fname = sys.argv[1:3]\n",
      "# infile = os.path.join(dpath, fname)\n",
      "img = nd.imread(infile)"
     ],
     "language": "python",
     "metadata": {},
     "outputs": [],
     "prompt_number": 2
    },
    {
     "cell_type": "code",
     "collapsed": false,
     "input": [
      "### Plot image\n",
      "\n",
      "fig1, ax1 = plt.subplots(num = 1)\n",
      "fig1.subplots_adjust(0,0,1,1)\n",
      "fig1.canvas.set_window_title('Mona Lisa')\n",
      "ax1.imshow(img)\n",
      "ax1.axis('off')\n",
      "fig1.canvas.draw()\n",
      "plt.show()\n",
      "\n",
      "### Plot histograms\n",
      "fig2, ax2 = plt.subplots(num = 2, nrows = 3, ncols = 1)\n",
      "fig2.subplots_adjust(0,0,1,1)\n",
      "ax2[0].imshow(255 - img)\n",
      "ax2[0].axis('off')\n",
      "fig2.canvas.draw()\n",
      "plt.show()"
     ],
     "language": "python",
     "metadata": {},
     "outputs": [],
     "prompt_number": 7
    },
    {
     "cell_type": "code",
     "collapsed": false,
     "input": [],
     "language": "python",
     "metadata": {},
     "outputs": []
    }
   ],
   "metadata": {}
  }
 ]
}