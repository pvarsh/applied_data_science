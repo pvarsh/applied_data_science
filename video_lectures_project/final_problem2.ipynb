{
 "metadata": {
  "name": "",
  "signature": "sha256:60195d84727c71173654cce184b00999aab1ab2edf7091fc8e684e7db8b04d34"
 },
 "nbformat": 3,
 "nbformat_minor": 0,
 "worksheets": [
  {
   "cells": [
    {
     "cell_type": "code",
     "collapsed": false,
     "input": [
      "import os\n",
      "import sys\n",
      "import numpy as np\n",
      "import matplotlib.pyplot as plt\n",
      "import scipy.ndimage as nd\n",
      "from scipy.ndimage.filters import median_filter as mf"
     ],
     "language": "python",
     "metadata": {},
     "outputs": [],
     "prompt_number": 1
    },
    {
     "cell_type": "heading",
     "level": 6,
     "metadata": {},
     "source": [
      "Functions"
     ]
    },
    {
     "cell_type": "code",
     "collapsed": false,
     "input": [
      "def initializeRectangle(ax):\n",
      "    \"\"\" Initiealizes four empty lines and returns them in a list\n",
      "        to be used to display bounding rectangle \"\"\"\n",
      "    return [ax.plot([],[],color = 'white')[0] for i in range(4)]\n",
      "\n",
      "def setLineData(lines, upperLeft, lowerRight):\n",
      "    \"\"\" Takes a list of four lines\n",
      "        and upperLeft and lowerRight points for a bounding rectangle\n",
      "        sets data for lines to display bounding rectangle\n",
      "    \"\"\"\n",
      "    #line1\n",
      "    x1 = [upperLeft[0], lowerRight[0]]\n",
      "    y1 = [upperLeft[1], upperLeft[1]]\n",
      "    lines[0].set_data(x1, y1)\n",
      "    #line2\n",
      "    x2 = [lowerRight[0], lowerRight[0]]\n",
      "    y2 = [upperLeft[1], lowerRight[1]]\n",
      "    lines[1].set_data(x2, y2)\n",
      "    #line3\n",
      "    x3 = [lowerRight[0], upperLeft[0]]\n",
      "    y3 = [lowerRight[1], lowerRight[1]]\n",
      "    lines[2].set_data(x3, y3)\n",
      "    #line4\n",
      "    x4 = [upperLeft[0], upperLeft[0]]\n",
      "    y4 = [lowerRight[1], upperLeft[1]]\n",
      "    lines[3].set_data(x4, y4)"
     ],
     "language": "python",
     "metadata": {},
     "outputs": [],
     "prompt_number": 2
    },
    {
     "cell_type": "code",
     "collapsed": false,
     "input": [
      "infile = \"images/ml.jpg\"\n",
      "# dpath, fname = sys.argv[1:3]\n",
      "# infile = os.path.join(dpath, fname)\n",
      "img = nd.imread(infile)"
     ],
     "language": "python",
     "metadata": {},
     "outputs": [],
     "prompt_number": 3
    },
    {
     "cell_type": "code",
     "collapsed": false,
     "input": [
      "### Plot image\n",
      "nrow, ncol = img.shape[:2]\n",
      "ysize = 10.\n",
      "xsize = ysize * float(ncol)/float(nrow)\n",
      "\n",
      "fig1, ax1 = plt.subplots(num = 1, figsize = [xsize, ysize])\n",
      "#windowLine, = ax1.plot([], [], color = 'white')\n",
      "lines = initializeRectangle(ax1)\n",
      "#rect = Rectangle((-1, -1), 0, 0, facecolor = 'none')\n",
      "#fig1Rect = ax1.add_patch(rect)\n",
      "#rectPoints = [[10, 10], [40, 40], [10, 40], [40, 10]]\n",
      "#rectPatch = plt.Polygon(rectPoints, facecolor = 'none')\n",
      "#ax1.add_patch(rectPatch)\n",
      "fig1.subplots_adjust(0, 0, 1, 1)\n",
      "fig1.canvas.set_window_title('Mona Lisa')\n",
      "ax1.imshow(img)\n",
      "ax1.axis('off')\n",
      "fig1.canvas.draw()\n",
      "\n",
      "def histograms(img, fig, ax):\n",
      "    #fig.subplots_adjust(0,0,1,1)\n",
      "    #ax[0].axis('off')\n",
      "    colors = ['red', 'green', 'blue']\n",
      "    for i in range(3):\n",
      "        ax[i].cla()\n",
      "        ax[i].set_xlim((0,255))\n",
      "        ax[i].hist(img[:,:,i].flatten(), bins = 256, facecolor = colors[i], lw = 0, normed = True)\n",
      "    fig.canvas.draw()\n",
      "    \n",
      "### Plot histograms\n",
      "fig2, ax2 = plt.subplots(num = 2, nrows = 3, ncols = 1)\n",
      "histograms(img, fig2, ax2)\n",
      "\n"
     ],
     "language": "python",
     "metadata": {},
     "outputs": [],
     "prompt_number": 4
    },
    {
     "cell_type": "code",
     "collapsed": false,
     "input": [
      "rflag = True\n",
      "while rflag:\n",
      "    try:\n",
      "        upperLeft, lowerRight = [(int(round(i)), int(round(j))) for i, j in fig1.ginput(2, show_clicks = True)]\n",
      "        x = [upperLeft[0], lowerRight[0]]\n",
      "        y = [upperLeft[1], lowerRight[1]]\n",
      "        setLineData(lines, upperLeft, lowerRight)\n",
      "        histograms(img[upperLeft[1]:lowerRight[1], upperLeft[0]:lowerRight[0], :], fig2, ax2)\n",
      "        fig1.canvas.draw()\n",
      "    except:\n",
      "        rflag = False"
     ],
     "language": "python",
     "metadata": {},
     "outputs": [],
     "prompt_number": 64
    },
    {
     "cell_type": "code",
     "collapsed": false,
     "input": [
      "selectBands = []\n",
      "tolerance = 5\n",
      "\n",
      "rflag = True\n",
      "while rflag:\n",
      "    if len(selectBands) > 0:\n",
      "        ### set existing bands to invisible (if any exist)\n",
      "        ### this may be very inefficient if the invisible bands remain somewhere in figure or axis object and take up resources\n",
      "        ### but it gets things done for the scope of the assignment\n",
      "        [band.set_visible(False) for band in selectBands] # this may be inefficient since it doesn't remove old rectangles\n",
      "    \n",
      "    rgbPick = [(int(round(i))) for i, j in fig2.ginput(3, show_clicks = True)]\n",
      "    if len(rgbPick) != 3: #break the loop if user pressed Escape\n",
      "        break\n",
      "        \n",
      "    # create verical bands around selected values\n",
      "    selectBands = [ax2[i].axvspan(rgbPick[i]-tolerance, rgbPick[i]+tolerance, facecolor = 'black', alpha = 0.4)\\\n",
      "                   for i in range(len(rgbPick))]\n",
      "    fig2.canvas.draw()\n",
      "    \n",
      "    # create (or update) mask\n",
      "    mask = np.ones(img.shape, dtype=np.float64)\n",
      "    for color, value in enumerate(rgbPick):\n",
      "        minValue = max(0, value-tolerance)\n",
      "        maxValue = min(255, value+tolerance)\n",
      "        mask[(img[:,:,color] < minValue) | (img[:,:,color] > maxValue)] = .75\n",
      "    ax1.imshow((img*mask).clip(0,255).astype(np.uint8))\n",
      "    fig1.canvas.draw()\n",
      "        \n",
      "    \n",
      "    \n"
     ],
     "language": "python",
     "metadata": {},
     "outputs": [],
     "prompt_number": 13
    },
    {
     "cell_type": "code",
     "collapsed": false,
     "input": [
      "# -- 3. mask the whole image so it is all black\n",
      "nrow, ncol = img.shape[:2]\n",
      "# rind = np.arange(nrow*ncol).reshape(nrow,ncol) / ncol\n",
      "# cind = np.arange(nrow*ncol).reshape(nrow,ncol) % ncol\n",
      "mask = np.ones(img.shape, dtype=np.float64)\n",
      "\n",
      "\n"
     ],
     "language": "python",
     "metadata": {},
     "outputs": [],
     "prompt_number": 66
    },
    {
     "cell_type": "code",
     "collapsed": false,
     "input": [
      "fig3, ax3 = plt.subplots(num = 3, figsize = [xsize, ysize])\n",
      "ax3.cla()\n",
      "fig3.subplots_adjust(0, 0, 1, 1)\n",
      "ax3.imshow((img*mask).clip(0,255).astype(np.uint8))\n",
      "ax3.axis('off')\n",
      "fig3.canvas.draw()"
     ],
     "language": "python",
     "metadata": {},
     "outputs": [],
     "prompt_number": 67
    },
    {
     "cell_type": "code",
     "collapsed": false,
     "input": [
      "fig4, ax4 = plt.subplots(num = 4, figsize = [xsize, ysize])\n",
      "ax4.cla()\n",
      "fig4.subplots_adjust(0, 0, 1, 1)\n",
      "ax4.imshow(img)\n",
      "ax4.axis('off')\n",
      "fig4.canvas.draw()"
     ],
     "language": "python",
     "metadata": {},
     "outputs": [],
     "prompt_number": 11
    },
    {
     "cell_type": "code",
     "collapsed": false,
     "input": [
      "print rgbPick"
     ],
     "language": "python",
     "metadata": {},
     "outputs": [
      {
       "output_type": "stream",
       "stream": "stdout",
       "text": [
        "[]\n"
       ]
      }
     ],
     "prompt_number": 69
    },
    {
     "cell_type": "code",
     "collapsed": false,
     "input": [],
     "language": "python",
     "metadata": {},
     "outputs": []
    }
   ],
   "metadata": {}
  }
 ]
}