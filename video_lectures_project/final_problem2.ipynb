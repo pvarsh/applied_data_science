{
 "metadata": {
  "name": "",
  "signature": "sha256:2697237c7e7233859cac44fcac049fc9aa0cb71760921b147e057ee7c0b0a7ca"
 },
 "nbformat": 3,
 "nbformat_minor": 0,
 "worksheets": [
  {
   "cells": [
    {
     "cell_type": "code",
     "collapsed": false,
     "input": [
      "import os\n",
      "import sys\n",
      "import numpy as np\n",
      "import matplotlib.pyplot as plt\n",
      "import scipy.ndimage as nd\n",
      "from scipy.ndimage.filters import median_filter as mf"
     ],
     "language": "python",
     "metadata": {},
     "outputs": [],
     "prompt_number": 12
    },
    {
     "cell_type": "code",
     "collapsed": false,
     "input": [
      "### \n",
      "\n",
      "infile = \"images/ml.jpg\"\n",
      "# dpath, fname = sys.argv[1:3]\n",
      "# infile = os.path.join(dpath, fname)\n",
      "img = nd.imread(infile)"
     ],
     "language": "python",
     "metadata": {},
     "outputs": [],
     "prompt_number": 13
    },
    {
     "cell_type": "code",
     "collapsed": false,
     "input": [
      "### Plot image\n",
      "nrow, ncol = img.shape[:2]\n",
      "ysize = 10.\n",
      "xsize = ysize * float(ncol)/float(nrow)\n",
      "\n",
      "fig1, ax1 = plt.subplots(num = 1, figsize = [xsize, ysize])\n",
      "windowLine, = ax1.plot([], [], color = 'white')\n",
      "fig1.subplots_adjust(0, 0, 1, 1)\n",
      "fig1.canvas.set_window_title('Mona Lisa')\n",
      "ax1.imshow(img)\n",
      "ax1.axis('off')\n",
      "fig1.canvas.draw()\n",
      "\n",
      "def histograms(img, fig, ax):\n",
      "    #fig.subplots_adjust(0,0,1,1)\n",
      "    #ax[0].axis('off')\n",
      "    colors = ['red', 'green', 'blue']\n",
      "    for i in range(3):\n",
      "        ax[i].cla()\n",
      "        ax[i].set_xlim((0,255))\n",
      "        ax[i].hist(img[:,:,i].flatten(), bins = 256, facecolor = colors[i], lw = 0, normed = True)\n",
      "    fig.canvas.draw()\n",
      "    \n",
      "### Plot histograms\n",
      "fig2, ax2 = plt.subplots(num = 2, nrows = 3, ncols = 1)\n",
      "histograms(img, fig2, ax2)\n",
      "\n"
     ],
     "language": "python",
     "metadata": {},
     "outputs": [],
     "prompt_number": 27
    },
    {
     "cell_type": "code",
     "collapsed": false,
     "input": [
      "rflag = True\n",
      "while rflag:\n",
      "    try:\n",
      "        upperLeft, lowerRight = [(int(round(i)), int(round(j))) for i, j in fig1.ginput(2, show_clicks = True)]\n",
      "        x = [upperLeft[0], lowerRight[0]]\n",
      "        y = [upperLeft[1], lowerRight[1]]\n",
      "        windowLine.set_data(x, y)\n",
      "        histograms(img[upperLeft[1]:lowerRight[1], upperLeft[0]:lowerRight[0], :], fig2, ax2)\n",
      "        fig1.canvas.draw()\n",
      "    except:\n",
      "        rflag = False"
     ],
     "language": "python",
     "metadata": {},
     "outputs": [],
     "prompt_number": 28
    },
    {
     "cell_type": "code",
     "collapsed": false,
     "input": [],
     "language": "python",
     "metadata": {},
     "outputs": []
    }
   ],
   "metadata": {}
  }
 ]
}