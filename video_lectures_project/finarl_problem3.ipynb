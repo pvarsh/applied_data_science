{
 "metadata": {
  "name": "",
  "signature": "sha256:7aa0f7c7061dab7c1fc8d7805f01c768d076f32d1a4891beeab07cdc38ed2c8a"
 },
 "nbformat": 3,
 "nbformat_minor": 0,
 "worksheets": [
  {
   "cells": [
    {
     "cell_type": "code",
     "collapsed": false,
     "input": [
      "import os\n",
      "import sys\n",
      "import time\n",
      "import numpy as np\n",
      "import scipy.ndimage as nd\n",
      "import matplotlib.pyplot as plt"
     ],
     "language": "python",
     "metadata": {},
     "outputs": [],
     "prompt_number": 1
    },
    {
     "cell_type": "heading",
     "level": 4,
     "metadata": {},
     "source": [
      "Load all digits in single image"
     ]
    },
    {
     "cell_type": "code",
     "collapsed": false,
     "input": [
      "img = nd.imread('images/digits.png')\n",
      "nrow, ncol = img.shape[0:2]"
     ],
     "language": "python",
     "metadata": {},
     "outputs": [],
     "prompt_number": 2
    },
    {
     "cell_type": "heading",
     "level": 4,
     "metadata": {},
     "source": [
      "Reshape and compute averages of each digit"
     ]
    },
    {
     "cell_type": "code",
     "collapsed": false,
     "input": [
      "nums = img.reshape(50,20,100,20).transpose(0,2,1,3).reshape(5000,20,20)\n",
      "nums_avg = np.array([nums[i*500:(i+1)*500].mean(0) for i in range(10)])"
     ],
     "language": "python",
     "metadata": {},
     "outputs": [],
     "prompt_number": 3
    },
    {
     "cell_type": "heading",
     "level": 6,
     "metadata": {},
     "source": [
      "Regressing all numbers on averages"
     ]
    },
    {
     "cell_type": "code",
     "collapsed": false,
     "input": [
      "PT = nums_avg.reshape(10,400)\n",
      "P  = PT.transpose()\n",
      "PTPinv = np.linalg.inv(np.dot(PT,P))\n",
      "\n",
      "PTyys = [[np.dot(PT, nums[im].flatten()) for im in range(i*500, (i+1)*500)] for i in range(10)]\n",
      "avecs = [[np.dot(PTPinv, PTy) for PTy in PTyys[i]] for i in range(10)]\n",
      "avecsAll = np.array(avecs)\n",
      "print avecsAll.shape"
     ],
     "language": "python",
     "metadata": {},
     "outputs": [
      {
       "output_type": "stream",
       "stream": "stdout",
       "text": [
        "(10, 500, 10)\n"
       ]
      }
     ],
     "prompt_number": 4
    },
    {
     "cell_type": "heading",
     "level": 6,
     "metadata": {},
     "source": [
      "Plotting histograms"
     ]
    },
    {
     "cell_type": "code",
     "collapsed": false,
     "input": [
      "fig, ax = subplots(num = 0, figsize = (24,16), nrows = 10, ncols = 10, sharex = True)\n",
      "fig.clf()\n",
      "fig, ax = subplots(num = 0, figsize = (24,16), nrows = 10, ncols = 10, sharex = True)\n",
      "for i in range(10):\n",
      "    for j in range(10):\n",
      "        ax[j][i].cla()\n",
      "        ax[j][i].set_xlim(-2,2)\n",
      "        ax[j][i].hist(avecsAll[i, : , j], bins = 10, normed = True)\n",
      "#         if i != 0:\n",
      "#             ax[j][i].set_yticklabels([])\n",
      "#         else:\n",
      "#             ax[j][i].set_yticks([0, .5, 1, 1.5, 2, 2.5])\n",
      "#             ax[j][i].set_yticklabels([0, .5, 1, 1.5, 2, 2.5], fontsize = 8)\n",
      "        if j != 9:\n",
      "            ax[j][i].set_xticklabels([])\n",
      "        else:\n",
      "            ax[j][i].set_xticks([-1.8, 0, 1.8])\n",
      "            ax[j][i].set_xticklabels([-1.8,0,1.8], fontsize = 8)\n",
      "        ax[j][i].tick_params(axis='y', which='major', labelsize=8)\n",
      "fig.subplots_adjust(hspace=0)\n",
      "fig.canvas.draw()"
     ],
     "language": "python",
     "metadata": {},
     "outputs": [],
     "prompt_number": 131
    },
    {
     "cell_type": "heading",
     "level": 3,
     "metadata": {},
     "source": [
      "Part 2. Error reports"
     ]
    },
    {
     "cell_type": "code",
     "collapsed": false,
     "input": [
      "bins = np.arange(11)-0.5\n",
      "hists = [np.array(np.histogram(argmax(avecsAll[i,:,:], axis = 1), bins = bins)[0]) for i in range(10)]\n",
      "successRate = [hists[i][i]/500. for i in range(10)]\n",
      "errorRate = [1 - s for s in successRate]\n",
      "commonError = [np.argpartition(a = hists[i], kth = -2)[-2:-1][0] for i in range(10)]"
     ],
     "language": "python",
     "metadata": {},
     "outputs": [],
     "prompt_number": 5
    },
    {
     "cell_type": "code",
     "collapsed": false,
     "input": [
      "for i in range(10):\n",
      "    print(\"{0}% of {1}s were incorrectly identified,\".format(int(round(errorRate[i]*100,0)), i) +\\\n",
      "          \"the most common guess for those failures was {0}\".format(commonError[i]))"
     ],
     "language": "python",
     "metadata": {},
     "outputs": [
      {
       "output_type": "stream",
       "stream": "stdout",
       "text": [
        "29% of 0s were incorrectly identified,the most common guess for those failures was 5\n",
        "6% of 1s were incorrectly identified,the most common guess for those failures was 5\n",
        "35% of 2s were incorrectly identified,the most common guess for those failures was 3\n",
        "27% of 3s were incorrectly identified,the most common guess for those failures was 9\n",
        "24% of 4s were incorrectly identified,the most common guess for those failures was 9\n",
        "38% of 5s were incorrectly identified,the most common guess for those failures was 3\n",
        "19% of 6s were incorrectly identified,the most common guess for those failures was 5\n",
        "25% of 7s were incorrectly identified,the most common guess for those failures was 9\n",
        "30% of 8s were incorrectly identified,the most common guess for those failures was 3\n",
        "20% of 9s were incorrectly identified,the most common guess for those failures was 4\n"
       ]
      }
     ],
     "prompt_number": 6
    },
    {
     "cell_type": "heading",
     "level": 3,
     "metadata": {},
     "source": [
      "Part 3. Animation"
     ]
    },
    {
     "cell_type": "heading",
     "level": 6,
     "metadata": {},
     "source": [
      "Misclassified 1s"
     ]
    },
    {
     "cell_type": "code",
     "collapsed": false,
     "input": [
      "errors = []\n",
      "classifiedAs = []\n",
      "\n",
      "for i, bad in enumerate(list(argmax(avecsAll[1], axis = 1) != 1)):\n",
      "    #print truth, i, argmax(avecsAll[1], axis = 1)[i]\n",
      "    if bad:\n",
      "        errors.append(i)\n",
      "        classifiedAs.append(argmax(avecsAll[1], axis = 1)[i])\n",
      "classedAs = argmax(avecsAll[1], axis = 1)[argmax(avecsAll[1], axis = 1) != 1]\n",
      "\n",
      "fig1, ax1 = plt.subplots(num=1,figsize=[4,4])\n",
      "fig1.subplots_adjust(0,0,1,1)\n",
      "ax1.axis('off')\n",
      "im1 = ax1.imshow(nums[0])\n",
      "t1 = ax1.text(2, 2, \"\", fontsize=12, color = 'white')\n",
      "\n",
      "fig1.canvas.draw()\n",
      "\n",
      "for i in range(len(errors)):\n",
      "    im1.set_data(nums[500+errors[i]])\n",
      "    t1.set_visible(False)\n",
      "    t1 = ax1.text(2, 2, classifiedAs[i], fontsize=12, color = 'white')\n",
      "    fig1.canvas.draw()\n",
      "    time.sleep(1)"
     ],
     "language": "python",
     "metadata": {},
     "outputs": [],
     "prompt_number": 7
    },
    {
     "cell_type": "heading",
     "level": 6,
     "metadata": {},
     "source": [
      "Misclassified random 30-second animation"
     ]
    },
    {
     "cell_type": "code",
     "collapsed": false,
     "input": [
      "badPredictions = np.array([(argmax(avecsAll[i], axis = 1) != i) for i in range(10)]).flatten()\n",
      "classifications = np.array([argmax(avecsAll[i], axis = 1).flatten() for i in range(10)]).flatten()\n",
      "index = np.arange(5000)\n",
      "whereBad = index[badPredictions]"
     ],
     "language": "python",
     "metadata": {},
     "outputs": [],
     "prompt_number": 41
    },
    {
     "cell_type": "code",
     "collapsed": false,
     "input": [
      "np.random.shuffle(whereBad)\n",
      "fig2, ax2 = plt.subplots(num = 1, figsize = [4,4])\n",
      "fig2.subplots_adjust(0,0,1,1)\n",
      "ax2.axis('off')\n",
      "im2 = ax2.imshow(nums[whereBad[0]])\n",
      "t2 = ax2.text(2,2, str(classifications[whereBad[0]]), fontsize = 12, color = 'white')\n",
      "fig1.canvas.draw()\n",
      "\n",
      "t0 = time.time()\n",
      "dt = 0\n",
      "i = 1\n",
      "while dt < 15:\n",
      "    im2.set_data(nums[whereBad[i]])\n",
      "    t2.set_visible(False)\n",
      "    t2 = ax2.text(2,2,classifications[whereBad[i]], fontsize = 12, color = 'white')\n",
      "    time.sleep(.8)\n",
      "    dt = time.time() - t0\n",
      "    i += 1\n",
      "    fig2.canvas.draw()"
     ],
     "language": "python",
     "metadata": {},
     "outputs": [],
     "prompt_number": 68
    },
    {
     "cell_type": "heading",
     "level": 3,
     "metadata": {},
     "source": [
      "Part 4. Regression with intercept"
     ]
    },
    {
     "cell_type": "code",
     "collapsed": false,
     "input": [
      "PT = nums_avg.reshape(10,400)\n",
      "PT = np.column_stack((PT, np.ones(10)))\n",
      "\n",
      "print \"PT.shape\", PT.shape\n",
      "P  = PT.transpose()\n",
      "print \"P.shape\", P.shape\n",
      "PTPinv = np.linalg.inv(np.dot(PT,P))\n",
      "print \"PTPinv.shape\", PTPinv.shape\n",
      "print nums[10].flatten().shape\n",
      "PTyys = [[np.dot(PT, np.insert(nums[im].flatten(), 400, 1)) for im in range(i*500, (i+1)*500)] for i in range(10)]\n",
      "avecs = [[np.dot(PTPinv, PTy) for PTy in PTyys[i]] for i in range(10)]\n",
      "avecsAll = np.array(avecs)\n",
      "print avecsAll.shape"
     ],
     "language": "python",
     "metadata": {},
     "outputs": [
      {
       "output_type": "stream",
       "stream": "stdout",
       "text": [
        "PT.shape (10, 401)\n",
        "P.shape (401, 10)\n",
        "PTPinv.shape (10, 10)\n",
        "(400,)\n",
        "(10, 500, 10)"
       ]
      },
      {
       "output_type": "stream",
       "stream": "stdout",
       "text": [
        "\n"
       ]
      }
     ],
     "prompt_number": 26
    },
    {
     "cell_type": "code",
     "collapsed": false,
     "input": [
      "aa = np.array([1,2,3,4,5])\n",
      "print np.insert(aa, 5, 6)"
     ],
     "language": "python",
     "metadata": {},
     "outputs": [
      {
       "output_type": "stream",
       "stream": "stdout",
       "text": [
        "[1 2 3 4 5 6]\n"
       ]
      }
     ],
     "prompt_number": 25
    },
    {
     "cell_type": "code",
     "collapsed": false,
     "input": [
      "bins = np.arange(11)-0.5\n",
      "hists = [np.array(np.histogram(argmax(avecsAll[i,:,:], axis = 1), bins = bins)[0]) for i in range(10)]\n",
      "successRate = [hists[i][i]/500. for i in range(10)]\n",
      "errorRate = [1 - s for s in successRate]\n",
      "commonError = [np.argpartition(a = hists[i], kth = -2)[-2:-1][0] for i in range(10)]"
     ],
     "language": "python",
     "metadata": {},
     "outputs": [],
     "prompt_number": 27
    },
    {
     "cell_type": "code",
     "collapsed": false,
     "input": [
      "for i in range(10):\n",
      "    print(\"{0}% of {1}s were incorrectly identified,\".format(int(round(errorRate[i]*100,0)), i) +\\\n",
      "          \"the most common guess for those failures was {0}\".format(commonError[i]))"
     ],
     "language": "python",
     "metadata": {},
     "outputs": [
      {
       "output_type": "stream",
       "stream": "stdout",
       "text": [
        "29% of 0s were incorrectly identified,the most common guess for those failures was 5\n",
        "6% of 1s were incorrectly identified,the most common guess for those failures was 5\n",
        "35% of 2s were incorrectly identified,the most common guess for those failures was 3\n",
        "27% of 3s were incorrectly identified,the most common guess for those failures was 9\n",
        "24% of 4s were incorrectly identified,the most common guess for those failures was 9\n",
        "38% of 5s were incorrectly identified,the most common guess for those failures was 3\n",
        "19% of 6s were incorrectly identified,the most common guess for those failures was 5\n",
        "25% of 7s were incorrectly identified,the most common guess for those failures was 9\n",
        "30% of 8s were incorrectly identified,the most common guess for those failures was 3\n",
        "20% of 9s were incorrectly identified,the most common guess for those failures was 4\n"
       ]
      }
     ],
     "prompt_number": 28
    }
   ],
   "metadata": {}
  }
 ]
}