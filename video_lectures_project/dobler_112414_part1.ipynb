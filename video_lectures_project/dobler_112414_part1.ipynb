{
 "metadata": {
  "name": "",
  "signature": "sha256:73f2f5ce6e0d2a07795f16f467adbcefaa304810eed89f0953961ed41bd2f316"
 },
 "nbformat": 3,
 "nbformat_minor": 0,
 "worksheets": [
  {
   "cells": [
    {
     "cell_type": "markdown",
     "metadata": {},
     "source": [
      "(always be aware of your imports and <b><u><i>preserve namespaces</i></u></b>!!!)"
     ]
    },
    {
     "cell_type": "code",
     "collapsed": false,
     "input": [
      "import os\n",
      "import sys\n",
      "import time\n",
      "import numpy as np\n",
      "import scipy.ndimage as nd\n",
      "import matplotlib.pyplot as plt"
     ],
     "language": "python",
     "metadata": {},
     "outputs": []
    },
    {
     "cell_type": "markdown",
     "metadata": {},
     "source": [
      "---\n",
      "\n",
      "## Filtering (re-explained...)"
     ]
    },
    {
     "cell_type": "markdown",
     "metadata": {},
     "source": [
      "Imagine I have an array of data values, let's use temperature as an example:"
     ]
    },
    {
     "cell_type": "code",
     "collapsed": false,
     "input": [
      "day = np.arange(20.)\n",
      "T = np.array([38.6, 34.8, 36.3, 31.9, 34.2, 48.4, 46.4, \n",
      "              50.3, 51.6, 35.5, 51.3, 41.3, 38.9, 54.1, \n",
      "              40.5, 50.9, 43.5, 54.4, 44.5, 42.6])"
     ],
     "language": "python",
     "metadata": {},
     "outputs": []
    },
    {
     "cell_type": "code",
     "collapsed": false,
     "input": [
      "plt.close(1)\n",
      "fig, ax = plt.subplots(num=1,figsize=[7,5])\n",
      "pntsa, = ax.plot(day,T,'o',color='dodgerblue',ms=10)\n",
      "ax.set_ylabel('temperature',fontsize=20)\n",
      "ax.set_xlabel('day',fontsize=20)\n",
      "fig.canvas.draw()"
     ],
     "language": "python",
     "metadata": {},
     "outputs": []
    },
    {
     "cell_type": "markdown",
     "metadata": {},
     "source": [
      "If we have a top hat filter of width 2, the we replace $T[i]$ with the mean of $T[i-2:i+2]$.  For example, $T[5]=48.4$ which replace by mean of $T[3:7]=[31.9, 34.2, 48.4, 46.4]$ which is $40.2$."
     ]
    },
    {
     "cell_type": "code",
     "collapsed": false,
     "input": [
      "rng = ax.axvspan(day[5-2],day[5+2],facecolor='lime',alpha=0.1)\n",
      "ax.plot(day[5],np.mean(T[5-2:5+2]),'o',color='darkorange',ms=10)\n",
      "fig.canvas.draw()"
     ],
     "language": "python",
     "metadata": {},
     "outputs": []
    },
    {
     "cell_type": "markdown",
     "metadata": {},
     "source": [
      "Similarly, $T[6]$ is replaced by the mean of $T[4:8] = [34.2, 48.4, 46.4, 50.3]$ which is $44.8$."
     ]
    },
    {
     "cell_type": "code",
     "collapsed": false,
     "input": [
      "spn = rng.get_xy()\n",
      "spn[:,0] = [day[6-2],day[6-2],day[6+2],day[6+2],day[6-2]]\n",
      "rng.set_xy(spn)\n",
      "ax.plot(day[6],np.mean(T[6-2:6+2]),'o',color='darkorange',ms=10)\n",
      "fig.canvas.draw()"
     ],
     "language": "python",
     "metadata": {},
     "outputs": []
    },
    {
     "cell_type": "code",
     "collapsed": false,
     "input": [
      "pntsa.set_alpha(0.25)\n",
      "\n",
      "for ii in range(2,len(day)-2):\n",
      "    spn[:,0] = [day[ii-2],day[ii-2],day[ii+2],day[ii+2],day[ii-2]]\n",
      "    rng.set_xy(spn)\n",
      "    ax.plot(day[ii],np.mean(T[ii-2:ii+2]),'o',color='darkorange',ms=10)\n",
      "    fig.canvas.draw()\n",
      "    time.sleep(1)"
     ],
     "language": "python",
     "metadata": {},
     "outputs": []
    },
    {
     "cell_type": "markdown",
     "metadata": {},
     "source": [
      "And if we double the width of the filter the noise is reduced further:"
     ]
    },
    {
     "cell_type": "code",
     "collapsed": false,
     "input": [
      "for ii in range(4,len(day)-4):\n",
      "    spn[:,0] = [day[ii-4],day[ii-4],day[ii+4],day[ii+4],day[ii-4]]\n",
      "    rng.set_xy(spn)\n",
      "    ax.plot(day[ii],np.mean(T[ii-4:ii+4]),'o',color='darkred',ms=10)\n",
      "    fig.canvas.draw()\n",
      "    time.sleep(1)"
     ],
     "language": "python",
     "metadata": {},
     "outputs": []
    },
    {
     "cell_type": "markdown",
     "metadata": {},
     "source": [
      "The Gaussian filter is exactly the same, except the \"weights\" for the averaging are now non-uniform but instead follow a Gaussian\n",
      "\n",
      "$f_{\\rm Gaussian} = \\frac{1}{\\sqrt{2\\pi\\sigma^2}}e^{-\\frac{x^2}{2\\sigma^2}}$\n",
      "\n",
      "centered on the point in question."
     ]
    },
    {
     "cell_type": "markdown",
     "metadata": {},
     "source": [
      "Recall: SciPy has several fast canned filtering routines.  For example,"
     ]
    },
    {
     "cell_type": "code",
     "collapsed": false,
     "input": [
      "gf = nd.filters.gaussian_filter"
     ],
     "language": "python",
     "metadata": {},
     "outputs": []
    },
    {
     "cell_type": "markdown",
     "metadata": {},
     "source": [
      "Also recall: This particular filter also works in 2d <i>and</i> allows you to specify the width of the filter for each axis:"
     ]
    },
    {
     "cell_type": "code",
     "collapsed": false,
     "input": [
      "img_ml_L = nd.imread('images/ml.jpg').mean(2)\n",
      "nrow, ncol = img_ml_L.shape[:2]\n",
      "xsize = 10.\n",
      "ysize = xsize*float(nrow)/float(ncol)\n",
      "\n",
      "plt.close(5)\n",
      "fig5, ax5 = plt.subplots(1,3,num=5,figsize=[xsize,ysize/3.])\n",
      "[i.axis('off') for i in ax5]\n",
      "fig5.subplots_adjust(0,0,1,1,0,0)\n",
      "im5a = ax5[0].imshow(img_ml_L, cmap='cubehelix')\n",
      "im5b = ax5[1].imshow(gf(1.0*img_ml_L,5))\n",
      "im5c = ax5[2].imshow(gf(1.0*img_ml_L,[2,20]))\n",
      "im5c.set_cmap('gist_heat')\n",
      "fig5.canvas.draw()"
     ],
     "language": "python",
     "metadata": {},
     "outputs": []
    },
    {
     "cell_type": "code",
     "collapsed": false,
     "input": [
      "[plt.close(i) for i in range(6)]"
     ],
     "language": "python",
     "metadata": {},
     "outputs": []
    },
    {
     "cell_type": "markdown",
     "metadata": {},
     "source": [
      "### Sharpening in grayscale\n",
      "\n",
      "1. Load the Mona Lisa image and convert to grayscale\n",
      "2. Smooth with a circular Gaussian of width 2\n",
      "3. Subtract the result of 2. from 1.\n",
      "4. Add half the result of 3. to 1. and display\n",
      "5. Add twice the result of 3. to 1. and display"
     ]
    },
    {
     "cell_type": "code",
     "collapsed": false,
     "input": [
      "imgsm_ml_L = gf(img_ml_L,2)\n",
      "\n",
      "img_hpf = img_ml_L - imgsm_ml_L\n",
      "\n",
      "fig6, ax6 = plt.subplots(num=6,figsize=[xsize/2.,ysize/2.])\n",
      "fig6.subplots_adjust(0,0,1,1); ax6.axis('off')\n",
      "im6 = ax6.imshow(img_ml_L)\n",
      "fig6.canvas.draw()"
     ],
     "language": "python",
     "metadata": {},
     "outputs": []
    },
    {
     "cell_type": "code",
     "collapsed": false,
     "input": [
      "t0 = time.time()\n",
      "cnt = 0\n",
      "dt = 0.0\n",
      "while dt<20:\n",
      "    im6.set_data(img_ml_L if cnt%2==0 else img_ml_L+2.0*img_hpf)\n",
      "    fig6.canvas.draw()\n",
      "    time.sleep(1)\n",
      "    cnt += 1\n",
      "    dt = time.time() - t0"
     ],
     "language": "python",
     "metadata": {},
     "outputs": []
    },
    {
     "cell_type": "markdown",
     "metadata": {},
     "source": [
      "We can do this in color as well:"
     ]
    },
    {
     "cell_type": "code",
     "collapsed": false,
     "input": [
      "imgc_ml = nd.imread('images/ml.jpg')\n",
      "imgc_hpf = 1.0*imgc_ml - gf(1.0*imgc_ml,(2,2,2))"
     ],
     "language": "python",
     "metadata": {},
     "outputs": []
    },
    {
     "cell_type": "code",
     "collapsed": false,
     "input": [
      "t0 = time.time()\n",
      "cnt = 0\n",
      "dt = 0.0\n",
      "while dt<20:\n",
      "    im6.set_data(imgc_ml if cnt%2==0 else (1.0*imgc_ml+0.5*imgc_hpf).clip(0,255).astype(np.uint8))\n",
      "    fig6.canvas.draw()\n",
      "    time.sleep(1)\n",
      "    cnt += 1\n",
      "    dt = time.time() - t0"
     ],
     "language": "python",
     "metadata": {},
     "outputs": []
    },
    {
     "cell_type": "markdown",
     "metadata": {},
     "source": [
      "<i>Aside on <b>median filtering</b></i>:\n",
      "\n",
      "Median filtering replaces a given data point with the median of the measurements within some window.  This process preserves edges (unlike gaussian filtering)."
     ]
    },
    {
     "cell_type": "code",
     "collapsed": false,
     "input": [
      "xx = np.linspace(-100.,100.,200.)\n",
      "yy = 1.0*(xx>20.)\n",
      "\n",
      "np.random.seed(103)\n",
      "noise = np.random.randn(xx.size)*0.1\n",
      "\n",
      "mf = nd.filters.median_filter\n",
      "\n",
      "plt.close(7)\n",
      "fig7, ax7 = plt.subplots(num=7)\n",
      "lin7a, = ax7.plot(xx,yy+noise)\n",
      "lin7b, = ax7.plot(xx,gf(yy+noise,10))\n",
      "lin7c, = ax7.plot(xx,mf(yy+noise,10))\n",
      "fig7.canvas.draw()"
     ],
     "language": "python",
     "metadata": {},
     "outputs": []
    },
    {
     "cell_type": "markdown",
     "metadata": {},
     "source": [
      "Or in 2D:"
     ]
    },
    {
     "cell_type": "code",
     "collapsed": false,
     "input": [
      "plt.close(8)\n",
      "fig8, ax8 = plt.subplots(1,3,num=8,figsize=[xsize,ysize/3.])\n",
      "fig8.subplots_adjust(0,0,1,1,0,0)\n",
      "[i.axis('off') for i in ax8]\n",
      "\n",
      "ax8[0].imshow(imgc_ml)\n",
      "ax8[1].imshow(gf(1.0*imgc_ml,[5,5,0]).clip(0,255).astype(np.uint8))\n",
      "ax8[2].imshow(mf(1.0*imgc_ml,[5,5,1]).clip(0,255).astype(np.uint8))\n",
      "fig8.canvas.draw()"
     ],
     "language": "python",
     "metadata": {},
     "outputs": []
    }
   ],
   "metadata": {}
  }
 ]
}