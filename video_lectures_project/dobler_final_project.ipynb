{
 "metadata": {
  "name": "",
  "signature": "sha256:d844a1a4e2d6ad75e4e743f180e7baf0a86c20e5e385b28065f94aade5544598"
 },
 "nbformat": 3,
 "nbformat_minor": 0,
 "worksheets": [
  {
   "cells": [
    {
     "cell_type": "markdown",
     "metadata": {},
     "source": [
      "# IMAGE PROCESSING FINAL PROJECT\n",
      "\n",
      "### Due December 15, 2014\n",
      "\n",
      "You may discuss and work with whomever you like, but each person should submit their own code.\n",
      "\n",
      "---"
     ]
    },
    {
     "cell_type": "markdown",
     "metadata": {},
     "source": [
      "## Indexing and manipulating images"
     ]
    },
    {
     "cell_type": "markdown",
     "metadata": {},
     "source": [
      "Consider the following operations:"
     ]
    },
    {
     "cell_type": "code",
     "collapsed": false,
     "input": [
      "import numpy as np"
     ],
     "language": "python",
     "metadata": {},
     "outputs": [],
     "prompt_number": 2
    },
    {
     "cell_type": "code",
     "collapsed": false,
     "input": [
      "xarr = np.arange(50)\n",
      "print(\"xarr = {0}\\n\".format(xarr))\n",
      "print(\"xarr[::3] = {0}\\n\".format(xarr[::3]))\n",
      "print(\"xarr[::-1] = {0}\\n\".format(xarr[::-1]))\n",
      "print(\"xarr[4:31:5] = {0}\\n\".format(xarr[4:31:5]))"
     ],
     "language": "python",
     "metadata": {},
     "outputs": [
      {
       "output_type": "stream",
       "stream": "stdout",
       "text": [
        "xarr = [ 0  1  2  3  4  5  6  7  8  9 10 11 12 13 14 15 16 17 18 19 20 21 22 23 24\n",
        " 25 26 27 28 29 30 31 32 33 34 35 36 37 38 39 40 41 42 43 44 45 46 47 48 49]\n",
        "\n",
        "xarr[::3] = [ 0  3  6  9 12 15 18 21 24 27 30 33 36 39 42 45 48]\n",
        "\n",
        "xarr[::-1] = [49 48 47 46 45 44 43 42 41 40 39 38 37 36 35 34 33 32 31 30 29 28 27 26 25\n",
        " 24 23 22 21 20 19 18 17 16 15 14 13 12 11 10  9  8  7  6  5  4  3  2  1  0]\n",
        "\n",
        "xarr[4:31:5] = [ 4  9 14 19 24 29]\n",
        "\n"
       ]
      }
     ],
     "prompt_number": 3
    },
    {
     "cell_type": "markdown",
     "metadata": {},
     "source": [
      "Your task for this problem is to write a python code called image_manipulation.py which can be executed by typing \n",
      "\n",
      "    python image_manipulation.py\n",
      "    \n",
      "in the main ads14 directory.\n",
      "\n",
      "This code should first import,\n",
      "\n",
      "    import os\n",
      "    import sys\n",
      "    import numpy as np\n",
      "    import matplotlib.pyplot as plt\n",
      "    import scipy.ndimage as nd\n",
      "    from scipy.ndimage.filters import median_filter as mf\n",
      "\n",
      "and then:\n",
      "\n",
      "1.) Perform the following operations in **one line of code** (points will be deducted for each extra line of code used, and using semicolons does not count)\n",
      "\n",
      "- read in the Mona Lisa image\n",
      "- select every other pixel\n",
      "- invert the color values so that red is blue and blue is red\n",
      "- convert to a negative of the image\n",
      "- convert to floating point and smooth by a median filter of width 8 in row, 2 in column, and 1 in color\n",
      "- clip to [0,255]\n",
      "- convert back to numpy unsigned 8-bit integers\n",
      "\n",
      "2.) Display the result of 1.) in a matplotlib window in which the image completely fills the window, the axis is turned off, and *the figure window title* (**not the axis title!**) is set to \"modified Mona Lisa\" (nb, we haven't done that last one in class, but as a hint, there is a method for it in a matplotlib figure.canvas object)"
     ]
    },
    {
     "cell_type": "markdown",
     "metadata": {},
     "source": [
      "---"
     ]
    },
    {
     "cell_type": "markdown",
     "metadata": {},
     "source": [
      "## Image exploration widget(s)"
     ]
    },
    {
     "cell_type": "markdown",
     "metadata": {},
     "source": [
      "Write a python code called image_exploration_part1.py to be exceuted in the main ads14 directory as \n",
      "\n",
      "    python image_exploration_part1.py images mona_lisa.jpg\n",
      "\n",
      "where the first argument is the location of the image and the second is the name of the image (this will be graded by testing it on images which **aren't** the Mona Lisa image, so do not hard code the path or file name!  If you get stuck, command line arguments like images and mona_lisa.jpg above are accessed via sys.argv).\n",
      "\n",
      "The code should do the following:\n",
      "\n",
      "1. display the image in a figure (again, taking up the full window frame and setting the title of the window to be the filename)\n",
      "\n",
      "2. in a separate window display three panels, in the first panel plot the histogram of the red channel using red bars with range [0,255] and 256 bins, in the second panel, plot the histogram of the green channel using green bars range [0,255] and 256 bins, and in the third panel plot the histogram of the blue channel using blue bars with range [0,255] and 256 bins.\n",
      "\n",
      "3. in an infinite loop, use the ginput() function to select the upper left and lower right corners of a region of the image\n",
      "\n",
      "4. update the histograms for each color channel to only display the values within the region selected in 3\n",
      "\n",
      "5. double clicking (i.e., clicking the same pixel twice) should reset the histograms to be for those of the full image\n",
      "\n",
      "<br>\n",
      "\n",
      "Now, write a python code called image_exploration_part2.py to be exceuted in the main ads14 directory as \n",
      "\n",
      "    python image_exploration_part2.py images mona_lisa.jpg\n",
      "\n",
      "where, again, the first argument is the location of the image and the second is the name of the image.\n",
      "\n",
      "This code should do the following:\n",
      "\n",
      "1. step 1 above\n",
      "\n",
      "2. step 2 above\n",
      "\n",
      "3. in an infitinte loop, use the ginput() function to select three values from the histogram panels (one from each histogram)\n",
      "\n",
      "4. draw highlighted regions around the selected values (see the \"Filtering re-explained\" in the ipython notebook dobler_112414_part1.ipynb for drawing semi-transparent rectangles which span the full y-axis) in each histogram.  The highlighting should be centered on the selected value and have a width of 10\n",
      "\n",
      "5. darken (by 75%) all pixels in the image which fall outside of +/- 5 from the selected values in 3.\n",
      "\n",
      "6. the user should be able to repeat step 3 (which triggers 4 and 5) as many times as s/he wishes\n",
      "\n",
      "<br>\n",
      "\n",
      "Bonus points will be given if you can combine parts 1 and 2 into a single code.  Note though, if you try this, simply using ginput() for both won't work..."
     ]
    },
    {
     "cell_type": "markdown",
     "metadata": {},
     "source": [
      "---"
     ]
    },
    {
     "cell_type": "markdown",
     "metadata": {},
     "source": [
      "## Hand written digit recognition accuracy"
     ]
    },
    {
     "cell_type": "markdown",
     "metadata": {},
     "source": [
      "In class, I remarked that our hand written digit recognition method was not particularly good, but also had a hard time finding a case where it failed.  Let's find out how good it is.\n",
      "\n",
      "Write a code called regression_accuracy.py to be run in the ads14 directory so that it can be executed as\n",
      "\n",
      "    python regression_accuracy.py\n",
      "    \n",
      "The code should perform the regression that we did in class (where an image of a digit was regressed against the mean images of the 10 digits and the \"choice\" is made by selecting the highest regression coefficent) for **all** the images in the data set.  The outputs should be\n",
      "\n",
      "1. Ten plots, each with ten panels, showing the distribution of regression coefficients for that digit.  I.e., the plot for 3's should have ten panels showing the distribution of regression coefficients of known 3's against the 0's template, the 1's template, etc.<br><br>\n",
      "\n",
      "2. A text output listing the percentage of failures and the most common guess for those failures.  I.e. something like:\n",
      "\n",
      "    25% of 1's were incorrectly identified, the most common guess for those failures was 7<br>\n",
      "    27% of 2's were incorrectly identified, the most common guess for those failures was 4<br>\n",
      "    etc.<br><br>\n",
      "\n",
      "3. A thirty second animation showing some of the failures and their guesses (with a 1 second delay between frames) <br><br>\n",
      "\n",
      "4. The suggestion was made in class to include a uniform template as well to handle zero point offsets (as we did with the linear regression case).  Repeat step 2 including this uniform template with an output like,\n",
      "\n",
      "    Removing zero point offset:<br>\n",
      "    19% of 1's were incorrectly identified, the most common guess for those failures was 4<br>\n",
      "    16% of 2's were incorrectly identified, the most common guess for those failures was 9<br>\n",
      "    etc.<br><br>\n",
      "    \n",
      "**Bonus points:**<br>\n",
      "It was also pointed out in class that these are regression coefficients and not correlation coefficients which should be between -1 and 1.  To find the correlation coefficients, each image and template must have its mean subtracted and then be normalized by its standard deviation.  Write a code called correlation_accuracy.py to be run in the ads14 directory so that it can be executed as\n",
      "\n",
      "    python correlation_accuracy.py\n",
      "    \n",
      "which repeats steps 1-3 above but using correlation coefficients instead of regression coefficients."
     ]
    },
    {
     "cell_type": "markdown",
     "metadata": {},
     "source": [
      "---"
     ]
    }
   ],
   "metadata": {}
  }
 ]
}