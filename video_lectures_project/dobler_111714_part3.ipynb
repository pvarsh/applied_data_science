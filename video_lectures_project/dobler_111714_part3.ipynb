{
 "metadata": {
  "name": "",
  "signature": "sha256:b4cade5957ea278457203652201459c6beccf96c508d3243baf0e807f3de8b2a"
 },
 "nbformat": 3,
 "nbformat_minor": 0,
 "worksheets": [
  {
   "cells": [
    {
     "cell_type": "markdown",
     "metadata": {},
     "source": [
      "(always be aware of your imports and <b><u><i>preserve namespaces</i></u></b>!!!)"
     ]
    },
    {
     "cell_type": "code",
     "collapsed": false,
     "input": [
      "import os\n",
      "import sys\n",
      "import time\n",
      "import numpy as np\n",
      "import scipy.ndimage as nd\n",
      "import matplotlib.pyplot as plt"
     ],
     "language": "python",
     "metadata": {},
     "outputs": [],
     "prompt_number": 1
    },
    {
     "cell_type": "markdown",
     "metadata": {},
     "source": [
      "---\n",
      "\n",
      "## Filtering\n",
      "\n",
      "Filtering is one of the most important techniques in data analysis with many, many applications including image and time series analysis.  First let's start with 1D.  In the continuous (non-discrete) case, a \"filter\" $f$ is applied to a function $g$ as\n",
      "\n",
      "$g^{\\prime}(x) = \\int_{-\\infty}^{\\infty} ~ f(x-x_0) ~ g(x_0) ~ dx_0$,\n",
      "\n",
      "where $g^{\\prime}$ is the filtered version of $g$.  The discrete case is a bit easier to understand:\n",
      "\n",
      "$g^{\\prime}_{i} = \\sum_{j=i-w}^{i+w} ~ f_j ~ g_j$.\n",
      "\n",
      "By definition, the filter should be constructed so that\n",
      "\n",
      "$\\sum_{j=-w}^{w} f_j = 1$\n",
      "\n",
      "The most important filters are the <b>top-hat</b> and <b>Gaussian</b> (the <b>median</b> filter is also widely used but works slightly differently than the above definition)."
     ]
    },
    {
     "cell_type": "markdown",
     "metadata": {},
     "source": [
      "### Top-hat filter\n",
      "\n",
      "The top-hat filter looks like this:"
     ]
    },
    {
     "cell_type": "code",
     "collapsed": false,
     "input": [
      "xxf, dx = np.linspace(-10.,10.,1000,retstep=True)\n",
      "\n",
      "width = 2\n",
      "tf = 1.0*(xxf>-width)*(xxf<width)\n",
      "tf /= tf.sum()\n",
      "\n",
      "fig0, ax0 = plt.subplots(num=0)\n",
      "lin0, = ax0.plot(xxf,tf,'k')\n",
      "ax0.text(-10,0.01,'Top-hat filter',va='bottom',ha='left',fontsize=20)\n",
      "ax0.set_ylim(-0.005,0.01)\n",
      "fig0.canvas.draw()"
     ],
     "language": "python",
     "metadata": {},
     "outputs": [],
     "prompt_number": 2
    },
    {
     "cell_type": "markdown",
     "metadata": {},
     "source": [
      "it replaces the value at $i$ with the mean of values from $i-w$ to $i+w$ where $w$ is the width of the filter (here $w=2$).\n",
      "\n",
      "Let's make some noisy data and see how it works:"
     ]
    },
    {
     "cell_type": "code",
     "collapsed": false,
     "input": [
      "xx = np.linspace(-100.,100.,200./dx)\n",
      "\n",
      "seed, sigma = 314, 0.1\n",
      "np.random.seed(seed)\n",
      "noise = sigma*np.random.randn(len(xx))\n",
      "\n",
      "yy = np.cos(1e-1*xx) + noise\n",
      "\n",
      "plt.close(1)\n",
      "fig1, ax1 = plt.subplots(num=1)\n",
      "lin1a, = ax1.plot(xx,yy,'darkred')\n",
      "ax1.set_ylim(-1.5,1.5)\n",
      "fig1.canvas.draw()"
     ],
     "language": "python",
     "metadata": {},
     "outputs": [],
     "prompt_number": 3
    },
    {
     "cell_type": "code",
     "collapsed": false,
     "input": [
      "yysm = np.zeros(len(yy))\n",
      "fsize = len(tf)\n",
      "\n",
      "for ii in range(fsize/2,len(yysm)-fsize/2):\n",
      "    yysm[ii] = (yy[ii-fsize/2:ii+fsize/2]*tf).sum()\n",
      "    \n",
      "lin1b, = ax1.plot(xx,yysm,'dodgerblue')\n",
      "fig1.canvas.draw()"
     ],
     "language": "python",
     "metadata": {},
     "outputs": [],
     "prompt_number": 4
    },
    {
     "cell_type": "code",
     "collapsed": false,
     "input": [
      "plt.close(0); plt.close(1)"
     ],
     "language": "python",
     "metadata": {},
     "outputs": [],
     "prompt_number": 5
    },
    {
     "cell_type": "markdown",
     "metadata": {},
     "source": [
      "### Gaussian filter\n",
      "\n",
      "The Gaussian filter is precisely as it sounds, it is a filter shaped like a Gaussian with standard deviation $\\sigma$,\n",
      "\n",
      "$f_{\\rm Gaussian} = \\frac{1}{\\sqrt{2\\pi\\sigma^2}}e^{-\\frac{x^2}{2\\sigma^2}}$\n",
      "\n",
      "again,"
     ]
    },
    {
     "cell_type": "code",
     "collapsed": false,
     "input": [
      "xxf, dx = np.linspace(-10.,10.,1000,retstep=True)\n",
      "\n",
      "sigma = 2\n",
      "gf = np.exp(-xxf**2/np.sqrt(2.0*sigma**2))\n",
      "gf /= gf.sum()\n",
      "\n",
      "plt.close(2)\n",
      "fig2, ax2 = plt.subplots(num=2)\n",
      "lin2, = ax2.plot(xxf,gf,'k')\n",
      "ax2.text(-10,0.01,'Gaussian filter',va='bottom',ha='left',fontsize=20)\n",
      "ax2.set_ylim(-0.005,0.01)\n",
      "fig2.canvas.draw()"
     ],
     "language": "python",
     "metadata": {},
     "outputs": [],
     "prompt_number": 6
    },
    {
     "cell_type": "markdown",
     "metadata": {},
     "source": [
      "It is easiest to see it's effects on a step function:"
     ]
    },
    {
     "cell_type": "code",
     "collapsed": false,
     "input": [
      "xx = np.linspace(-100.,100.,200./dx)\n",
      "yy = 1.0*(xx>20.)\n",
      "\n",
      "plt.close(3)\n",
      "fig3, ax3 = plt.subplots(num=3)\n",
      "lin3a, = ax3.plot(xx,yy,'darkred')\n",
      "ax3.set_ylim(-0.1,1.5)\n",
      "fig3.canvas.draw()"
     ],
     "language": "python",
     "metadata": {},
     "outputs": [],
     "prompt_number": 7
    },
    {
     "cell_type": "code",
     "collapsed": false,
     "input": [
      "yysm = np.zeros(len(yy))\n",
      "fsize = len(gf)\n",
      "\n",
      "for ii in range(fsize/2,len(yysm)-fsize/2):\n",
      "    yysm[ii] = (yy[ii-fsize/2:ii+fsize/2]*gf).sum()\n",
      "    \n",
      "lin3b, = ax3.plot(xx,yysm,'dodgerblue')\n",
      "fig3.canvas.draw()"
     ],
     "language": "python",
     "metadata": {},
     "outputs": [],
     "prompt_number": 8
    },
    {
     "cell_type": "markdown",
     "metadata": {},
     "source": [
      "SciPy has several fast canned filtering routines.  For example,"
     ]
    },
    {
     "cell_type": "code",
     "collapsed": false,
     "input": [
      "gf = nd.filters.gaussian_filter"
     ],
     "language": "python",
     "metadata": {},
     "outputs": [],
     "prompt_number": 9
    },
    {
     "cell_type": "code",
     "collapsed": false,
     "input": [
      "plt.close(4)\n",
      "fig4, ax4 = plt.subplots(num=4)\n",
      "lin4a, = ax4.plot(xx,yy)\n",
      "lin4b, = ax4.plot(xx,gf(yy,200)) # width of the filter is in sample units\n",
      "lin4c, = ax4.plot(xx,gf(yy,1000))\n",
      "fig4.canvas.draw()"
     ],
     "language": "python",
     "metadata": {},
     "outputs": [],
     "prompt_number": 10
    },
    {
     "cell_type": "markdown",
     "metadata": {},
     "source": [
      "This particular filter also works in 2d <i>and</i> allows you to specify the width of the filter for each axis:"
     ]
    },
    {
     "cell_type": "code",
     "collapsed": false,
     "input": [
      "img_ml_L = nd.imread('images/ml.jpg').mean(2)\n",
      "nrow, ncol = img_ml_L.shape[:2]\n",
      "xsize = 10.\n",
      "ysize = xsize*float(nrow)/float(ncol)\n",
      "\n",
      "plt.close(5)\n",
      "fig5, ax5 = plt.subplots(1,3,num=5,figsize=[xsize,ysize/3.])\n",
      "[i.axis('off') for i in ax5]\n",
      "fig5.subplots_adjust(0,0,1,1,0,0)\n",
      "im5a = ax5[0].imshow(img_ml_L)\n",
      "im5b = ax5[1].imshow(gf(1.0*img_ml_L,5))\n",
      "im5c = ax5[2].imshow(gf(1.0*img_ml_L,[2,20]))\n",
      "fig5.canvas.draw()"
     ],
     "language": "python",
     "metadata": {},
     "outputs": [],
     "prompt_number": 11
    },
    {
     "cell_type": "code",
     "collapsed": false,
     "input": [
      "[plt.close(i) for i in range(5)]"
     ],
     "language": "python",
     "metadata": {},
     "outputs": [
      {
       "metadata": {},
       "output_type": "pyout",
       "prompt_number": 13,
       "text": [
        "[None, None, None, None, None]"
       ]
      }
     ],
     "prompt_number": 13
    },
    {
     "cell_type": "markdown",
     "metadata": {},
     "source": [
      "### Edge detection revisited\n",
      "\n",
      "Gaussian smoothing to eliminate noise when finding edges.  Recall how we tried to find edges before:"
     ]
    },
    {
     "cell_type": "code",
     "collapsed": false,
     "input": [
      "edges_simp = np.abs(img_ml_L[5:,5:]-img_ml_L[:-5,5:]) + \\\n",
      "    np.abs(img_ml_L[5:,5:]-img_ml_L[5:,:-5])\n",
      "\n",
      "im5b.set_data(edges_simp>60)\n",
      "im5b.set_clim(0,1)\n",
      "im5c.set_data(np.zeros(img_ml_L.shape))\n",
      "fig5.canvas.draw()"
     ],
     "language": "python",
     "metadata": {},
     "outputs": [],
     "prompt_number": 14
    },
    {
     "cell_type": "markdown",
     "metadata": {},
     "source": [
      "If we eliminate some noise with smoothing, our edges become a bit clearer:"
     ]
    },
    {
     "cell_type": "code",
     "collapsed": false,
     "input": [
      "imgsm_ml_L = gf(img_ml_L,2)\n",
      "\n",
      "gauss_der = np.abs(imgsm_ml_L[1:,1:]-imgsm_ml_L[:-1,1:]) + \\\n",
      "    np.abs(imgsm_ml_L[1:,1:]-imgsm_ml_L[1:,:-1])\n",
      "\n",
      "im5c.set_data(gauss_der)\n",
      "im5c.set_clim(0,10)\n",
      "fig5.canvas.draw()"
     ],
     "language": "python",
     "metadata": {},
     "outputs": [],
     "prompt_number": 15
    },
    {
     "cell_type": "code",
     "collapsed": false,
     "input": [
      "im5c.set_data(gauss_der>5)\n",
      "im5c.set_clim(0,1)\n",
      "fig5.canvas.draw()"
     ],
     "language": "python",
     "metadata": {},
     "outputs": [],
     "prompt_number": 16
    },
    {
     "cell_type": "code",
     "collapsed": false,
     "input": [
      "[plt.close(i) for i in range(6)]"
     ],
     "language": "python",
     "metadata": {},
     "outputs": [
      {
       "metadata": {},
       "output_type": "pyout",
       "prompt_number": 17,
       "text": [
        "[None, None, None, None, None, None]"
       ]
      }
     ],
     "prompt_number": 17
    }
   ],
   "metadata": {}
  }
 ]
}