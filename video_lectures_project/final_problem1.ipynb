{
 "metadata": {
  "name": "",
  "signature": "sha256:b915cbb5670874654660f467eb6fdf71cd372e1da7c5ea6f05265b30f136f8f6"
 },
 "nbformat": 3,
 "nbformat_minor": 0,
 "worksheets": [
  {
   "cells": [
    {
     "cell_type": "markdown",
     "metadata": {},
     "source": [
      "### Final project for image analysis module"
     ]
    },
    {
     "cell_type": "code",
     "collapsed": false,
     "input": [
      "import os\n",
      "import sys\n",
      "import numpy as np\n",
      "import matplotlib.pyplot as plt\n",
      "import scipy.ndimage as nd\n",
      "from scipy.ndimage.filters import median_filter as mf"
     ],
     "language": "python",
     "metadata": {},
     "outputs": [],
     "prompt_number": 1
    },
    {
     "cell_type": "heading",
     "level": 6,
     "metadata": {},
     "source": [
      "Problem 1"
     ]
    },
    {
     "cell_type": "code",
     "collapsed": false,
     "input": [
      "img = mf((255 - nd.imread('images/ml.jpg')[::1,::2,::-1]).astype(float), (8, 2, 1)).clip(0,255).astype(np.uint8)\n",
      "### Explanation:\n",
      "### 1. nd.imread reaturns a 3D array\n",
      "### 2. Then subsetting [::2, ::1, ::-1] inverses colors and skips every other column\n",
      "### 3. 255 - ... converts to negative\n",
      "### 4. .astype(float)\n",
      "### 5. mf() applies median filter\n",
      "### 6. .clip() clips\n",
      "### 7. .astype(np.uint8) converts to uint\n",
      "\n",
      "nrow, ncol = img.shape[:2]\n",
      "\n",
      "ysize = 10.\n",
      "xsize = ysize * float(ncol)/float(nrow)\n",
      "\n",
      "fig1, ax1 = plt.subplots(num = 1, figsize = [xsize, ysize])\n",
      "fig1.canvas.set_window_title('modiefied Mona Lisa')\n",
      "fig1.subplots_adjust(0, 0, 1, 1)\n",
      "ax1.axis('off')\n",
      "im1 = ax1.imshow(img)\n",
      "fig1.canvas.draw()\n",
      "plt.show()\n"
     ],
     "language": "python",
     "metadata": {},
     "outputs": [],
     "prompt_number": 37
    }
   ],
   "metadata": {}
  }
 ]
}