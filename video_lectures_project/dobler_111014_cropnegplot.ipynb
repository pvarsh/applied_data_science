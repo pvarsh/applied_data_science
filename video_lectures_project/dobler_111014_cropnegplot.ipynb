{
 "metadata": {
  "name": "",
  "signature": "sha256:be76bb7c5050d49d7df9394a662daf7fbe54334707a9d338f66c1f44c96d5471"
 },
 "nbformat": 3,
 "nbformat_minor": 0,
 "worksheets": [
  {
   "cells": [
    {
     "cell_type": "markdown",
     "metadata": {},
     "source": [
      "(always be aware of your imports and <b><u><i>preserve namespaces</i></u></b>!!!)"
     ]
    },
    {
     "cell_type": "code",
     "collapsed": false,
     "input": [
      "import os\n",
      "import sys\n",
      "import time\n",
      "import numpy as np\n",
      "import scipy.ndimage as nd\n",
      "import matplotlib.pyplot as plt"
     ],
     "language": "python",
     "metadata": {},
     "outputs": [],
     "prompt_number": 1
    },
    {
     "cell_type": "markdown",
     "metadata": {},
     "source": [
      "### Cropping, negative, and overplotting"
     ]
    },
    {
     "cell_type": "markdown",
     "metadata": {},
     "source": [
      "1. Find a jpg from the internet and download it\n",
      "2. Load it into python using scipy.ndimage\n",
      "3. Display the full image\n",
      "4. Display only the upper left corner\n",
      "5. Display only the lower right corner\n",
      "6. Display only the central half of the image\n",
      "7. Diplay a negative of the full image\n",
      "8. Reset the right half of the image as the negative of itself\n",
      "9. Plot a step function with a transition at ncol/2 and height nrow\n",
      "10. Overshow the result of step 8"
     ]
    },
    {
     "cell_type": "code",
     "collapsed": false,
     "input": [
      "# -- 2. Load it into python using scipy.ndimage\n",
      "img = nd.imread('images/Person-tree.jpg')"
     ],
     "language": "python",
     "metadata": {},
     "outputs": [],
     "prompt_number": 2
    },
    {
     "cell_type": "code",
     "collapsed": false,
     "input": [
      "# -- 3. Display the full image\n",
      "nrow, ncol = img.shape[:2]\n",
      "xsize = 10.\n",
      "ysize = xsize*float(nrow)/float(ncol)\n",
      "\n",
      "fig0, ax0 = plt.subplots(num=0, figsize=[xsize,ysize])\n",
      "fig0.subplots_adjust(0,0,1,1)\n",
      "ax0.axis('off')\n",
      "im0 = ax0.imshow(img)\n",
      "fig0.canvas.draw()"
     ],
     "language": "python",
     "metadata": {},
     "outputs": [],
     "prompt_number": 3
    },
    {
     "cell_type": "code",
     "collapsed": false,
     "input": [
      "# -- 4. Display only the upper left corner\n",
      "fig1, ax1 = plt.subplots(num=1, figsize=[xsize,ysize])\n",
      "fig1.subplots_adjust(0,0,1,1)\n",
      "ax1.axis('off')\n",
      "im1 = ax1.imshow(img[:nrow/2,:ncol/2])\n",
      "fig1.canvas.draw()"
     ],
     "language": "python",
     "metadata": {},
     "outputs": [],
     "prompt_number": 4
    },
    {
     "cell_type": "code",
     "collapsed": false,
     "input": [
      "# -- 5. Display only the lower right corner\n",
      "fig2, ax2 = plt.subplots(num=2, figsize=[xsize,ysize])\n",
      "fig2.subplots_adjust(0,0,1,1)\n",
      "ax2.axis('off')\n",
      "im2 = ax2.imshow(img[nrow/2:,ncol/2:])\n",
      "fig2.canvas.draw()"
     ],
     "language": "python",
     "metadata": {},
     "outputs": [],
     "prompt_number": 5
    },
    {
     "cell_type": "code",
     "collapsed": false,
     "input": [
      "# -- 6. Display only the central half\n",
      "fig3, ax3 = plt.subplots(num=3, figsize=[xsize,ysize])\n",
      "fig3.subplots_adjust(0,0,1,1)\n",
      "ax3.axis('off')\n",
      "im3 = ax3.imshow(img[nrow/4:3*nrow/4,ncol/4:3*ncol/4])\n",
      "fig3.canvas.draw()"
     ],
     "language": "python",
     "metadata": {},
     "outputs": [],
     "prompt_number": 6
    },
    {
     "cell_type": "code",
     "collapsed": false,
     "input": [
      "# -- 7. Display the negative of the full image\n",
      "fig4, ax4 = plt.subplots(num=4, figsize=[xsize,ysize])\n",
      "fig4.subplots_adjust(0,0,1,1)\n",
      "ax4.axis('off')\n",
      "im4 = ax4.imshow(255-img)\n",
      "fig4.canvas.draw()"
     ],
     "language": "python",
     "metadata": {},
     "outputs": [],
     "prompt_number": 7
    },
    {
     "cell_type": "code",
     "collapsed": false,
     "input": [
      "# -- 8. Display the negative of the full image\n",
      "img[:,ncol/2:] = 255-img[:,ncol/2:]\n",
      "\n",
      "fig5, ax5 = plt.subplots(num=5, figsize=[xsize,ysize])\n",
      "fig5.subplots_adjust(0,0,1,1)\n",
      "ax5.axis('off')\n",
      "im5 = ax5.imshow(img)\n",
      "fig5.canvas.draw()"
     ],
     "language": "python",
     "metadata": {},
     "outputs": [],
     "prompt_number": 8
    },
    {
     "cell_type": "code",
     "collapsed": false,
     "input": [
      "# -- 9. Plot a step function with a transition at ncol/2 and height nrow\n",
      "xx = np.arange(ncol)\n",
      "yy = nrow*(xx>ncol/2)\n",
      "\n",
      "fig6, ax6 = plt.subplots(num=6, figsize=[xsize,ysize])\n",
      "ax6.plot(xx,yy,color='red',lw=4)\n",
      "fig6.canvas.draw()"
     ],
     "language": "python",
     "metadata": {},
     "outputs": [],
     "prompt_number": 9
    },
    {
     "cell_type": "code",
     "collapsed": false,
     "input": [
      "# -- 10. Overshow the result of step 8\n",
      "im6 = ax6.imshow(img)\n",
      "fig6.canvas.draw()"
     ],
     "language": "python",
     "metadata": {},
     "outputs": [],
     "prompt_number": 10
    }
   ],
   "metadata": {}
  }
 ]
}