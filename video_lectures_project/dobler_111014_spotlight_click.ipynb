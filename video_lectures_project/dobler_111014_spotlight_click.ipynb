{
 "metadata": {
  "name": "",
  "signature": "sha256:7abc563dcbde5e982f0cf9b76b415d260144d621119af9dfd8d573d1fbbd5d0f"
 },
 "nbformat": 3,
 "nbformat_minor": 0,
 "worksheets": [
  {
   "cells": [
    {
     "cell_type": "markdown",
     "metadata": {},
     "source": [
      "# Spotlight widget\n",
      "\n",
      "<sup><sub>concept: <a href=\"http://cosmo.nyu.edu/~fb55/\">Federica Bianco<a></sub></sup>"
     ]
    },
    {
     "cell_type": "code",
     "collapsed": false,
     "input": [
      "import os\n",
      "import numpy as np\n",
      "import scipy.ndimage as nd\n",
      "import matplotlib.pyplot as plt\n",
      "\n",
      "# -- 1. read in an image with scipy.ndimage\n",
      "dpath = 'images'\n",
      "fname = 'tig_sm.jpg'\n",
      "infile = os.path.join(dpath,fname)\n",
      "img_ml = nd.imread(infile)\n",
      "\n",
      "\n",
      "# -- 2. display it using matplotlib\n",
      "ysize = 10.\n",
      "xsize = ysize*float(img_ml.shape[1])/float(img_ml.shape[0])\n",
      "\n",
      "fig_sp, ax_sp = plt.subplots(num=314,figsize=[xsize,ysize])\n",
      "fig_sp.subplots_adjust(0,0,1,1)\n",
      "ax_sp.axis('off')\n",
      "im_sp = ax_sp.imshow(img_ml)\n",
      "fig_sp.canvas.draw()\n",
      "\n",
      "\n",
      "# -- 3. mask the whole image so it is all black\n",
      "nrow, ncol = img_ml.shape[:2]\n",
      "rind = np.arange(nrow*ncol).reshape(nrow,ncol) / ncol\n",
      "cind = np.arange(nrow*ncol).reshape(nrow,ncol) % ncol\n",
      "mask = np.zeros(img_ml.shape,dtype=np.uint8)\n",
      "\n",
      "im_sp.set_data(img_ml*mask)\n",
      "fig_sp.canvas.draw()\n",
      "\n",
      "\n",
      "# -- grab a point off of the image using ginput\n",
      "cpos, rpos = [int(round(i)) for i in fig_sp.ginput()[0]]\n",
      "\n",
      "\n",
      "# -- 5. set the mask pixels within some aperature to 1\n",
      "rad = 100\n",
      "dist = np.sqrt((rind-rpos)**2+(cind-cpos)**2)\n",
      "mask[dist<=rad] = [1,1,1]\n",
      "\n",
      "\n",
      "# -- 6. redisplay the masked image\n",
      "im_sp.set_data(img_ml*mask)\n",
      "fig_sp.canvas.draw()\n",
      "\n",
      "\n",
      "# -- 7. put steps 4-6 in a loop\n",
      "rflag = True\n",
      "while rflag:\n",
      "    try:\n",
      "        cpos, rpos = [int(round(i)) for i in fig_sp.ginput()[0]]\n",
      "        dist = np.sqrt((rind-rpos)**2+(cind-cpos)**2)\n",
      "        mask[dist<=rad] = [1,1,1]\n",
      "        im_sp.set_data(img_ml*mask)\n",
      "        fig_sp.canvas.draw()\n",
      "    except:\n",
      "        rflag = False"
     ],
     "language": "python",
     "metadata": {},
     "outputs": [],
     "prompt_number": 1
    },
    {
     "cell_type": "markdown",
     "metadata": {},
     "source": [
      "#### Excercise: watch the video below and have the radius of the spotlight be controlled by the number keys.\n",
      "\n",
      "http://vimeo.com/63260224"
     ]
    }
   ],
   "metadata": {}
  }
 ]
}