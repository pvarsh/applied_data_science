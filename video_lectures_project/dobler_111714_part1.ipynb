{
 "metadata": {
  "name": "",
  "signature": "sha256:26b9719c615c4527a5f36a2b9051193355359621a0d39c3b1c77a3cd08aed737"
 },
 "nbformat": 3,
 "nbformat_minor": 0,
 "worksheets": [
  {
   "cells": [
    {
     "cell_type": "markdown",
     "metadata": {},
     "source": [
      "(always be aware of your imports and <b><u><i>preserve namespaces</i></u></b>!!!)"
     ]
    },
    {
     "cell_type": "code",
     "collapsed": false,
     "input": [
      "import os\n",
      "import sys\n",
      "import time\n",
      "import numpy as np\n",
      "import scipy.ndimage as nd\n",
      "import matplotlib.pyplot as plt"
     ],
     "language": "python",
     "metadata": {},
     "outputs": [],
     "prompt_number": 1
    },
    {
     "cell_type": "markdown",
     "metadata": {},
     "source": [
      "---\n",
      "\n",
      "## Advanced (and relational) indexing: Part 1\n",
      "\n",
      "Numpy array indexing is fast and allows you to manipulate images with only a few lines of code.  As an example, we'll create the \"spotlight\" widget.\n",
      "\n",
      "First, it is often useful to create row and column index \"maps\":"
     ]
    },
    {
     "cell_type": "code",
     "collapsed": false,
     "input": [
      "dpath = 'images'\n",
      "fname = 'ml.jpg'\n",
      "infile = os.path.join(dpath,fname)\n",
      "img_ml = nd.imread(infile)\n",
      "\n",
      "nrow, ncol = img_ml.shape[:2]\n",
      "rind = np.arange(nrow*ncol).reshape(nrow,ncol) / ncol\n",
      "cind = np.arange(nrow*ncol).reshape(nrow,ncol) % ncol"
     ],
     "language": "python",
     "metadata": {},
     "outputs": [],
     "prompt_number": 2
    },
    {
     "cell_type": "code",
     "collapsed": false,
     "input": [
      "fig8, ax8 = plt.subplots(1,2)\n",
      "ax8[0].imshow(rind)\n",
      "ax8[0].grid(0)\n",
      "ax8[1].imshow(cind)\n",
      "ax8[1].grid(0)"
     ],
     "language": "python",
     "metadata": {},
     "outputs": [],
     "prompt_number": 3
    },
    {
     "cell_type": "markdown",
     "metadata": {},
     "source": [
      "which will let us index on positions in the image through \"relational\" indexing.  For example, we can create a mask for our image,"
     ]
    },
    {
     "cell_type": "code",
     "collapsed": false,
     "input": [
      "mask = np.dstack([(rind<500).astype(np.uint8) for i \n",
      "                  in range(3)])"
     ],
     "language": "python",
     "metadata": {},
     "outputs": [],
     "prompt_number": 4
    },
    {
     "cell_type": "code",
     "collapsed": false,
     "input": [
      "mask.shape"
     ],
     "language": "python",
     "metadata": {},
     "outputs": [
      {
       "metadata": {},
       "output_type": "pyout",
       "prompt_number": 5,
       "text": [
        "(954, 640, 3)"
       ]
      }
     ],
     "prompt_number": 5
    },
    {
     "cell_type": "code",
     "collapsed": false,
     "input": [
      "ysize = 10.\n",
      "xsize = ysize*float(img_ml.shape[1]) / \\\n",
      "    float(img_ml.shape[0])\n",
      "\n",
      "fig9, ax9 = plt.subplots(num=9,\n",
      "                         figsize=[xsize,ysize])\n",
      "fig9.subplots_adjust(0,0,1,1)\n",
      "ax9.axis('off')\n",
      "im9 = ax9.imshow(img_ml*mask)\n",
      "fig9.canvas.draw()"
     ],
     "language": "python",
     "metadata": {},
     "outputs": [],
     "prompt_number": 6
    },
    {
     "cell_type": "markdown",
     "metadata": {},
     "source": [
      "So, let's make a circular aperature around a point in the image:"
     ]
    },
    {
     "cell_type": "code",
     "collapsed": false,
     "input": [
      "rm, cm = 244, 302\n",
      "dist = np.sqrt((rind-rm)**2+(cind-cm)**2)\n",
      "\n",
      "im9.set_data(dist)\n",
      "im9.set_clim(0,500)\n",
      "fig9.canvas.draw()"
     ],
     "language": "python",
     "metadata": {},
     "outputs": [],
     "prompt_number": 7
    },
    {
     "cell_type": "code",
     "collapsed": false,
     "input": [
      "dist.shape"
     ],
     "language": "python",
     "metadata": {},
     "outputs": [
      {
       "metadata": {},
       "output_type": "pyout",
       "prompt_number": 8,
       "text": [
        "(954, 640)"
       ]
      }
     ],
     "prompt_number": 8
    },
    {
     "cell_type": "code",
     "collapsed": false,
     "input": [
      "mask = np.zeros(img_ml.shape,dtype=np.uint8)\n",
      "mask[dist<=100] = [1,1,1]\n",
      "\n",
      "im9.set_data(255*mask)\n",
      "fig9.canvas.draw()"
     ],
     "language": "python",
     "metadata": {},
     "outputs": [],
     "prompt_number": 9
    },
    {
     "cell_type": "code",
     "collapsed": false,
     "input": [
      "im9.set_data(img_ml*mask)\n",
      "fig9.canvas.draw()"
     ],
     "language": "python",
     "metadata": {},
     "outputs": [],
     "prompt_number": 10
    },
    {
     "cell_type": "markdown",
     "metadata": {},
     "source": [
      "#### using Matplotlib's ginput() function\n",
      "\n",
      "The ginput() function let's you click on a point and grab its location from the matplotlib window.  For example,"
     ]
    },
    {
     "cell_type": "code",
     "collapsed": false,
     "input": [
      "xpos, ypos = fig9.ginput()[0]\n",
      "\n",
      "print(\"xpos = {0}\\nypos = {1}\".format(xpos,ypos))"
     ],
     "language": "python",
     "metadata": {},
     "outputs": [
      {
       "output_type": "stream",
       "stream": "stdout",
       "text": [
        "xpos = 207.26119403\n",
        "ypos = 469.335820896\n"
       ]
      }
     ],
     "prompt_number": 15
    },
    {
     "cell_type": "code",
     "collapsed": false,
     "input": [
      "print fig9.ginput(3)"
     ],
     "language": "python",
     "metadata": {},
     "outputs": [
      {
       "output_type": "stream",
       "stream": "stdout",
       "text": [
        "[(227.5597014925373, 431.12686567164178), (575.02238805970148, 478.88805970149252), (135.6194029850746, 780.97761194029852)]\n"
       ]
      }
     ],
     "prompt_number": 14
    },
    {
     "cell_type": "code",
     "collapsed": false,
     "input": [
      "cpos, rpos = [int(round(i)) for i in \n",
      "              fig9.ginput()[0]]\n",
      "\n",
      "print(\"rpos = {0}\\ncpos = {1}\".format(rpos,cpos))"
     ],
     "language": "python",
     "metadata": {},
     "outputs": [
      {
       "output_type": "stream",
       "stream": "stdout",
       "text": [
        "rpos = 34\n",
        "cpos = 485\n"
       ]
      }
     ],
     "prompt_number": 18
    },
    {
     "cell_type": "markdown",
     "metadata": {},
     "source": [
      "### We now have all the tools we need to make the spotlight widget!!!"
     ]
    },
    {
     "cell_type": "markdown",
     "metadata": {},
     "source": [
      "1. read in an image with scipy.ndimage\n",
      "2. display it using matplotlib\n",
      "3. mask the whole image so it is all black<br>\n",
      "    a. create row and column index grid<br>\n",
      "    b. create a mask with all zeros\n",
      "4. grab a point off of the image using ginput\n",
      "5. set the mask pixels within some aperature to 1\n",
      "6. redisplay the masked image\n",
      "7. put steps 4-6 in a loop\n",
      "\n",
      "---"
     ]
    }
   ],
   "metadata": {}
  }
 ]
}