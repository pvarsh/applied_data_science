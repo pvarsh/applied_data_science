{
 "metadata": {
  "name": "",
  "signature": "sha256:b01afbee26c93a6fa0cf8e22b20d99876a103afeba4a2d148deeae2d525dbb88"
 },
 "nbformat": 3,
 "nbformat_minor": 0,
 "worksheets": [
  {
   "cells": [
    {
     "cell_type": "markdown",
     "metadata": {},
     "source": [
      "(always be aware of your imports and <b><u><i>preserve namespaces</i></u></b>!!!)"
     ]
    },
    {
     "cell_type": "code",
     "collapsed": false,
     "input": [
      "import os\n",
      "import sys\n",
      "import time\n",
      "import numpy as np\n",
      "import scipy.ndimage as nd\n",
      "import matplotlib.pyplot as plt"
     ],
     "language": "python",
     "metadata": {},
     "outputs": [],
     "prompt_number": 1
    },
    {
     "cell_type": "markdown",
     "metadata": {},
     "source": [
      "---\n",
      "\n",
      "## Advanced (and relational) indexing: Part 1\n",
      "\n",
      "Numpy array indexing is fast and allows you to manipulate images with only a few lines of code.  As an example, we'll create the \"spotlight\" widget.\n",
      "\n",
      "First, it is often useful to create row and column index \"maps\":"
     ]
    },
    {
     "cell_type": "code",
     "collapsed": false,
     "input": [
      "dpath = 'images'\n",
      "fname = 'ml.jpg'\n",
      "infile = os.path.join(dpath,fname)\n",
      "img_ml = nd.imread(infile)\n",
      "\n",
      "nrow, ncol = img_ml.shape[:2]\n",
      "rind = np.arange(nrow*ncol).reshape(nrow,ncol) / ncol\n",
      "cind = np.arange(nrow*ncol).reshape(nrow,ncol) % ncol"
     ],
     "language": "python",
     "metadata": {},
     "outputs": [],
     "prompt_number": 2
    },
    {
     "cell_type": "code",
     "collapsed": false,
     "input": [
      "fig8, ax8 = plt.subplots(1,3)\n",
      "ax8[0].imshow(rind)\n",
      "ax8[0].grid(0)\n",
      "ax8[1].imshow(cind)\n",
      "ax8[1].grid(0)\n",
      "ax8[2].imshow(rind**5*(cind**(0.5)))\n",
      "ax8[2].grid(0)"
     ],
     "language": "python",
     "metadata": {},
     "outputs": [],
     "prompt_number": 15
    },
    {
     "cell_type": "markdown",
     "metadata": {},
     "source": [
      "which will let us index on positions in the image through \"relational\" indexing.  For example, we can create a mask for our image,"
     ]
    },
    {
     "cell_type": "code",
     "collapsed": false,
     "input": [
      "mask = np.dstack([(rind<500).astype(np.uint8) for i \n",
      "                  in range(3)])"
     ],
     "language": "python",
     "metadata": {},
     "outputs": [],
     "prompt_number": 28
    },
    {
     "cell_type": "code",
     "collapsed": false,
     "input": [
      "mask.shape"
     ],
     "language": "python",
     "metadata": {},
     "outputs": [
      {
       "metadata": {},
       "output_type": "pyout",
       "prompt_number": 29,
       "text": [
        "(954, 640, 3)"
       ]
      }
     ],
     "prompt_number": 29
    },
    {
     "cell_type": "code",
     "collapsed": false,
     "input": [
      "ysize = 10.\n",
      "xsize = ysize*float(img_ml.shape[1]) / \\\n",
      "    float(img_ml.shape[0])\n",
      "\n",
      "fig9, ax9 = plt.subplots(num=9,\n",
      "                         figsize=[xsize,ysize])\n",
      "fig9.subplots_adjust(0,0,1,1)\n",
      "ax9.axis('off')\n",
      "im9 = ax9.imshow(img_ml*mask)\n",
      "fig9.canvas.draw()"
     ],
     "language": "python",
     "metadata": {},
     "outputs": [],
     "prompt_number": 87
    },
    {
     "cell_type": "markdown",
     "metadata": {},
     "source": [
      "So, let's make a circular aperature around a point in the image:"
     ]
    },
    {
     "cell_type": "code",
     "collapsed": false,
     "input": [
      "print np.max(dist)"
     ],
     "language": "python",
     "metadata": {},
     "outputs": [
      {
       "output_type": "stream",
       "stream": "stdout",
       "text": [
        "785.015923405\n"
       ]
      }
     ],
     "prompt_number": 72
    },
    {
     "cell_type": "code",
     "collapsed": false,
     "input": [
      "rm, cm = 244, 302\n",
      "dist = np.sqrt((rind-rm)**2+(cind-cm)**2)\n",
      "\n",
      "im9.set_data(dist)\n",
      "im9.set_clim(0,500)\n",
      "fig9.canvas.draw()"
     ],
     "language": "python",
     "metadata": {},
     "outputs": [],
     "prompt_number": 77
    },
    {
     "cell_type": "code",
     "collapsed": false,
     "input": [
      "dist.shape"
     ],
     "language": "python",
     "metadata": {},
     "outputs": [
      {
       "metadata": {},
       "output_type": "pyout",
       "prompt_number": 78,
       "text": [
        "(954, 640)"
       ]
      }
     ],
     "prompt_number": 78
    },
    {
     "cell_type": "code",
     "collapsed": false,
     "input": [
      "mask = np.zeros(img_ml.shape,dtype=np.uint8)\n",
      "mask[dist<=100] = [1,1,1]\n",
      "\n",
      "im9.set_data(255*dist)\n",
      "fig9.canvas.draw()"
     ],
     "language": "python",
     "metadata": {},
     "outputs": [],
     "prompt_number": 79
    },
    {
     "cell_type": "code",
     "collapsed": false,
     "input": [
      "im9.set_data(img_ml*mask)\n",
      "fig9.canvas.draw()"
     ],
     "language": "python",
     "metadata": {},
     "outputs": []
    },
    {
     "cell_type": "markdown",
     "metadata": {},
     "source": [
      "#### using Matplotlib's ginput() function\n",
      "\n",
      "The ginput() function let's you click on a point and grab its location from the matplotlib window.  For example,"
     ]
    },
    {
     "cell_type": "code",
     "collapsed": false,
     "input": [
      "xpos, ypos = fig9.ginput()[0]\n",
      "\n",
      "print(\"xpos = {0}\\nypos = {1}\".format(xpos,ypos))"
     ],
     "language": "python",
     "metadata": {},
     "outputs": [
      {
       "output_type": "stream",
       "stream": "stdout",
       "text": [
        "xpos = 138.007462687\n",
        "ypos = 238.888059701\n"
       ]
      }
     ],
     "prompt_number": 89
    },
    {
     "cell_type": "code",
     "collapsed": false,
     "input": [
      "print fig9.ginput(3)"
     ],
     "language": "python",
     "metadata": {},
     "outputs": [
      {
       "output_type": "stream",
       "stream": "stdout",
       "text": [
        "[(418.60447761194024, 194.70895522388059), (329.05223880597009, 512.32089552238813), (329.05223880597009, 401.27611940298505)]\n"
       ]
      }
     ],
     "prompt_number": 90
    },
    {
     "cell_type": "code",
     "collapsed": false,
     "input": [
      "cpos, rpos = [int(round(i)) for i in \n",
      "              fig9.ginput()[0]]\n",
      "\n",
      "print(\"rpos = {0}\\ncpos = {1}\".format(rpos,cpos))"
     ],
     "language": "python",
     "metadata": {},
     "outputs": [
      {
       "output_type": "stream",
       "stream": "stdout",
       "text": [
        "rpos = 185\n",
        "cpos = 122\n"
       ]
      }
     ],
     "prompt_number": 92
    },
    {
     "cell_type": "markdown",
     "metadata": {},
     "source": [
      "### We now have all the tools we need to make the spotlight widget!!!"
     ]
    },
    {
     "cell_type": "markdown",
     "metadata": {},
     "source": [
      "1. read in an image with scipy.ndimage\n",
      "2. display it using matplotlib\n",
      "3. mask the whole image so it is all black<br>\n",
      "    a. create row and column index grid<br>\n",
      "    b. create a mask with all zeros\n",
      "4. grab a point off of the image using ginput\n",
      "5. set the mask pixels within some aperature to 1\n",
      "6. redisplay the masked image\n",
      "7. put steps 4-6 in a loop\n",
      "\n",
      "---"
     ]
    }
   ],
   "metadata": {}
  }
 ]
}