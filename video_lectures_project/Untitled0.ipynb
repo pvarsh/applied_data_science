{
 "metadata": {
  "name": "",
  "signature": "sha256:b2a1eb3cea9b264ee0271c8a95e10143367f0315c4b40ea1e2a2421f53ff718d"
 },
 "nbformat": 3,
 "nbformat_minor": 0,
 "worksheets": [
  {
   "cells": [
    {
     "cell_type": "code",
     "collapsed": false,
     "input": [
      "import numpy as np\n",
      "import scipy.ndimage as nd\n",
      "import os\n",
      "import glob\n",
      "import matplotlib.pyplot as plt"
     ],
     "language": "python",
     "metadata": {},
     "outputs": [],
     "prompt_number": 2
    },
    {
     "cell_type": "heading",
     "level": 6,
     "metadata": {},
     "source": [
      "Functions"
     ]
    },
    {
     "cell_type": "code",
     "collapsed": false,
     "input": [
      "def showAllDigits(digits, figNum):\n",
      "    fig0, ax0 = plt.subplots(num = figNum, figsize = (16, 8))\n",
      "    ax0.imshow(digits)\n",
      "    ax0.axis('off')\n",
      "    fig0.subplots_adjust(0,0,1,1)\n",
      "    fig0.canvas.draw()\n",
      "    fig0.show()\n"
     ],
     "language": "python",
     "metadata": {},
     "outputs": [],
     "prompt_number": 3
    },
    {
     "cell_type": "heading",
     "level": 6,
     "metadata": {},
     "source": [
      "Read image"
     ]
    },
    {
     "cell_type": "code",
     "collapsed": false,
     "input": [
      "path = 'images'\n",
      "glob.glob(os.path.join(path, \"*.png\"))\n",
      "fileIn = os.path.join(path, 'digits.png')\n",
      "img = nd.imread(fileIn)\n",
      "#showAllDigits(digitsImg, 0) # crashes python"
     ],
     "language": "python",
     "metadata": {},
     "outputs": [],
     "prompt_number": 31
    },
    {
     "cell_type": "code",
     "collapsed": false,
     "input": [
      "img.shape"
     ],
     "language": "python",
     "metadata": {},
     "outputs": [
      {
       "metadata": {},
       "output_type": "pyout",
       "prompt_number": 32,
       "text": [
        "(1000, 2000)"
       ]
      }
     ],
     "prompt_number": 32
    },
    {
     "cell_type": "code",
     "collapsed": false,
     "input": [
      "digits = digitsImg.reshape(20, 20, 5000)"
     ],
     "language": "python",
     "metadata": {},
     "outputs": [],
     "prompt_number": 21
    },
    {
     "cell_type": "code",
     "collapsed": false,
     "input": [
      "fig, ax = plt.subplots()\n",
      "ax.axis('off')\n",
      "fig.subplots_adjust(0,0,1,1)\n",
      "plt.imshow(digits[:,:,2])\n",
      "plt.show()"
     ],
     "language": "python",
     "metadata": {},
     "outputs": [],
     "prompt_number": 29
    },
    {
     "cell_type": "code",
     "collapsed": false,
     "input": [
      "nums = img.reshape(50,20,100,20).transpose(0,2,1,3).reshape(5000,20,20)\n",
      "nums_avg = np.array([nums[i*500:(i+1)*500].mean(0) for i in range(10)])"
     ],
     "language": "python",
     "metadata": {},
     "outputs": [],
     "prompt_number": 33
    },
    {
     "cell_type": "code",
     "collapsed": false,
     "input": [
      "arrays = [nums_avg[i] for i in range(nums_avg.shape[0])]\n",
      "nums_avg1 = np.dstack(arrays + [np.ones([20,20])]).transpose((2,0,1))\n",
      "\n",
      "PT = nums_avg1.reshape\n",
      "\n"
     ],
     "language": "python",
     "metadata": {},
     "outputs": [
      {
       "output_type": "stream",
       "stream": "stdout",
       "text": [
        "(11, 20, 20)\n"
       ]
      }
     ],
     "prompt_number": 64
    },
    {
     "cell_type": "code",
     "collapsed": false,
     "input": [],
     "language": "python",
     "metadata": {},
     "outputs": []
    }
   ],
   "metadata": {}
  }
 ]
}